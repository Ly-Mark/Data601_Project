{
 "cells": [
  {
   "cell_type": "code",
   "execution_count": 2,
   "metadata": {
    "collapsed": true
   },
   "outputs": [
    {
     "name": "stdout",
     "output_type": "stream",
     "text": [
      "1:\"\"\n",
      "2:\"Team\"\n",
      "3:\"2020/21\"\n",
      "4:\"2020/21(*)\"\n"
     ]
    }
   ],
   "source": [
    "import numpy as np\n",
    "import pandas as pd\n",
    "import requests\n",
    "import lxml.html as lh"
   ]
  },
  {
   "cell_type": "code",
   "execution_count": 2,
   "outputs": [
    {
     "ename": "NameError",
     "evalue": "name 'requests' is not defined",
     "output_type": "error",
     "traceback": [
      "\u001B[1;31m---------------------------------------------------------------------------\u001B[0m",
      "\u001B[1;31mNameError\u001B[0m                                 Traceback (most recent call last)",
      "\u001B[1;32m~\\AppData\\Local\\Temp/ipykernel_39872/3076199102.py\u001B[0m in \u001B[0;36m<module>\u001B[1;34m\u001B[0m\n\u001B[0;32m     57\u001B[0m     \u001B[1;32mreturn\u001B[0m \u001B[0mteamSalary\u001B[0m\u001B[1;33m\u001B[0m\u001B[1;33m\u001B[0m\u001B[0m\n\u001B[0;32m     58\u001B[0m \u001B[1;33m\u001B[0m\u001B[0m\n\u001B[1;32m---> 59\u001B[1;33m \u001B[0mdf\u001B[0m \u001B[1;33m=\u001B[0m \u001B[0msalary\u001B[0m\u001B[1;33m(\u001B[0m\u001B[1;34m\"https://hoopshype.com/salaries/2020-2021/\"\u001B[0m\u001B[1;33m,\u001B[0m\u001B[1;36m2021\u001B[0m\u001B[1;33m)\u001B[0m\u001B[1;33m\u001B[0m\u001B[1;33m\u001B[0m\u001B[0m\n\u001B[0m\u001B[0;32m     60\u001B[0m \u001B[0mdf\u001B[0m\u001B[1;33m.\u001B[0m\u001B[0mto_csv\u001B[0m\u001B[1;33m(\u001B[0m\u001B[1;34mr'D:\\UofC2021\\DATA601\\Project\\Data601_Project\\salary21.csv'\u001B[0m\u001B[1;33m,\u001B[0m\u001B[0mindex\u001B[0m \u001B[1;33m=\u001B[0m \u001B[1;32mFalse\u001B[0m\u001B[1;33m)\u001B[0m\u001B[1;33m\u001B[0m\u001B[1;33m\u001B[0m\u001B[0m\n\u001B[0;32m     61\u001B[0m \u001B[1;33m\u001B[0m\u001B[0m\n",
      "\u001B[1;32m~\\AppData\\Local\\Temp/ipykernel_39872/3076199102.py\u001B[0m in \u001B[0;36msalary\u001B[1;34m(url, year)\u001B[0m\n\u001B[0;32m      3\u001B[0m     \u001B[0murl\u001B[0m\u001B[1;33m=\u001B[0m\u001B[0murl\u001B[0m\u001B[1;33m\u001B[0m\u001B[1;33m\u001B[0m\u001B[0m\n\u001B[0;32m      4\u001B[0m     \u001B[1;31m#Create a handle, page, to handle the contents of the website\u001B[0m\u001B[1;33m\u001B[0m\u001B[1;33m\u001B[0m\u001B[1;33m\u001B[0m\u001B[0m\n\u001B[1;32m----> 5\u001B[1;33m     \u001B[0mpage\u001B[0m \u001B[1;33m=\u001B[0m \u001B[0mrequests\u001B[0m\u001B[1;33m.\u001B[0m\u001B[0mget\u001B[0m\u001B[1;33m(\u001B[0m\u001B[0murl\u001B[0m\u001B[1;33m)\u001B[0m\u001B[1;33m\u001B[0m\u001B[1;33m\u001B[0m\u001B[0m\n\u001B[0m\u001B[0;32m      6\u001B[0m \u001B[1;33m\u001B[0m\u001B[0m\n\u001B[0;32m      7\u001B[0m     \u001B[1;31m#Store the contents of the website under doc\u001B[0m\u001B[1;33m\u001B[0m\u001B[1;33m\u001B[0m\u001B[1;33m\u001B[0m\u001B[0m\n",
      "\u001B[1;31mNameError\u001B[0m: name 'requests' is not defined"
     ]
    }
   ],
   "source": [
    "# webscraping function used to grab team salary data from 1990 - 2021 from https://hoopshype.com/salaries/2019-2020/\n",
    "# The data presented on this website was from the HoopsHype's salary database and the adjusted for inflation data points\n",
    "# were provided by Current US Dollars adjusted for inflation from data provided by the U.S.\n",
    "# Department of Labor Bureau of Labor Statistic\n",
    "# The function is based of the code from Syed Sadat Nazrul written for a tutorial on Web Scraping with python\n",
    "# written on Jul 25,2018 https://towardsdatascience.com/web-scraping-html-tables-with-python-c9baba21059\n",
    "def salary(url,year):\n",
    "    url=url\n",
    "    #Create a handle, page, to handle the contents of the website\n",
    "    page = requests.get(url)\n",
    "\n",
    "    #Store the contents of the website under doc\n",
    "    doc = lh.fromstring(page.content)\n",
    "\n",
    "    #Parse data that are stored between <tr>..</tr> of HTML\n",
    "    tr_elements = doc.xpath('//tr')\n",
    "\n",
    "    col = []\n",
    "    i=0\n",
    "\n",
    "    for t in tr_elements[0]:\n",
    "        i+=1\n",
    "        name=t.text_content()\n",
    "        print ('%d:\"%s\"'%(i,name))\n",
    "        col.append((name,[]))\n",
    "    for j in range(1,len(tr_elements)):\n",
    "        T=tr_elements[j]\n",
    "        if len(T)!=4:\n",
    "            break\n",
    "        i=0\n",
    "        for t in T.iterchildren():\n",
    "            data=t.text_content()\n",
    "            #check if row is empty\n",
    "            if i>0:\n",
    "                try:\n",
    "                    data=int(data)\n",
    "                except:\n",
    "                    pass\n",
    "            col[i][1].append(data)\n",
    "            i+=1\n",
    "\n",
    "    [len(c) for (title,c) in col]\n",
    "\n",
    "    dict = {title:column for (title,column)in col}\n",
    "    df=pd.DataFrame(dict)\n",
    "\n",
    "    team = df['Team'].str.strip('\\n\\t')\n",
    "    rank = df[''].str.strip('\\n\\t.')\n",
    "    salary = df.iloc[:,2].str.strip('\\n\\t$')\n",
    "    salary2 = df.iloc[:,3].str.strip('\\n\\t$')\n",
    "    year = [year]*27\n",
    "\n",
    "    teamSalary = pd.DataFrame({\n",
    "        \"rank\":rank[0:27],\n",
    "        \"team\":team[0:27],\n",
    "        \"salary\": salary[0:27],\n",
    "        \"salary(Inflation)\":salary2[0:27],\n",
    "        \"Year\":year\n",
    "    })\n",
    "    return teamSalary\n",
    "\n",
    "df = salary(\"https://hoopshype.com/salaries/2020-2021/\",2021)\n",
    "df.to_csv(r'D:\\UofC2021\\DATA601\\Project\\Data601_Project\\salary21.csv',index = False)"
   ],
   "metadata": {
    "collapsed": false,
    "pycharm": {
     "name": "#%%\n"
    }
   }
  },
  {
   "cell_type": "code",
   "execution_count": null,
   "outputs": [],
   "source": [],
   "metadata": {
    "collapsed": false,
    "pycharm": {
     "name": "#%%\n"
    }
   }
  },
  {
   "cell_type": "code",
   "execution_count": null,
   "outputs": [],
   "source": [],
   "metadata": {
    "collapsed": false,
    "pycharm": {
     "name": "#%%\n"
    }
   }
  }
 ],
 "metadata": {
  "kernelspec": {
   "name": "pycharm-e2177b6f",
   "language": "python",
   "display_name": "PyCharm (Homework)"
  },
  "language_info": {
   "codemirror_mode": {
    "name": "ipython",
    "version": 2
   },
   "file_extension": ".py",
   "mimetype": "text/x-python",
   "name": "python",
   "nbconvert_exporter": "python",
   "pygments_lexer": "ipython2",
   "version": "2.7.6"
  }
 },
 "nbformat": 4,
 "nbformat_minor": 0
}