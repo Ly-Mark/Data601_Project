{
  "nbformat": 4,
  "nbformat_minor": 0,
  "metadata": {
    "colab": {
      "provenance": [],
      "include_colab_link": true
    },
    "kernelspec": {
      "name": "python3",
      "display_name": "Python 3"
    },
    "language_info": {
      "name": "python"
    }
  },
  "cells": [
    {
      "cell_type": "markdown",
      "metadata": {
        "id": "view-in-github",
        "colab_type": "text"
      },
      "source": [
        "<a href=\"https://colab.research.google.com/github/Ly-Mark/Data601_Project/blob/main/FInal__DF_PCA.ipynb\" target=\"_parent\"><img src=\"https://colab.research.google.com/assets/colab-badge.svg\" alt=\"Open In Colab\"/></a>"
      ]
    },
    {
      "cell_type": "code",
      "execution_count": null,
      "metadata": {
        "colab": {
          "base_uri": "https://localhost:8080/"
        },
        "id": "vwhf4fvBYGGR",
        "outputId": "58d265a1-c603-46d6-b7ea-0793fc6164fa"
      },
      "outputs": [
        {
          "output_type": "stream",
          "name": "stdout",
          "text": [
            "Requirement already satisfied: icecream in /usr/local/lib/python3.7/dist-packages (2.1.2)\n",
            "Requirement already satisfied: pygments>=2.2.0 in /usr/local/lib/python3.7/dist-packages (from icecream) (2.6.1)\n",
            "Requirement already satisfied: colorama>=0.3.9 in /usr/local/lib/python3.7/dist-packages (from icecream) (0.4.4)\n",
            "Requirement already satisfied: asttokens>=2.0.1 in /usr/local/lib/python3.7/dist-packages (from icecream) (2.0.5)\n",
            "Requirement already satisfied: executing>=0.3.1 in /usr/local/lib/python3.7/dist-packages (from icecream) (0.8.3)\n",
            "Requirement already satisfied: six in /usr/local/lib/python3.7/dist-packages (from asttokens>=2.0.1->icecream) (1.15.0)\n"
          ]
        }
      ],
      "source": [
        "%pip install icecream"
      ]
    },
    {
      "cell_type": "code",
      "source": [
        "import pandas as pd\n",
        "import numpy as np\n",
        "from sklearn.linear_model import LinearRegression, LogisticRegression\n",
        "from nltk.tokenize import word_tokenize\n",
        "from nltk import pos_tag\n",
        "from icecream import ic\n",
        "from nltk.corpus import stopwords\n",
        "from nltk.stem import WordNetLemmatizer\n",
        "from sklearn.preprocessing import LabelEncoder\n",
        "from collections import defaultdict\n",
        "from nltk.corpus import wordnet as wn\n",
        "from sklearn.feature_extraction.text import TfidfVectorizer\n",
        "from sklearn.model_selection import train_test_split, cross_val_score, RepeatedKFold, GridSearchCV\n",
        "from sklearn import model_selection, naive_bayes, svm\n",
        "from sklearn.metrics import accuracy_score\n",
        "import string\n",
        "from sklearn.metrics import confusion_matrix\n",
        "import nltk\n",
        "from sklearn.decomposition import PCA\n",
        "import icecream as ic\n",
        "import scipy.spatial.distance as spd\n",
        "import scipy.cluster.hierarchy as sph\n",
        "import matplotlib.pyplot as plt\n",
        "import plotly.express as px\n",
        "import sklearn as sk\n",
        "import sklearn.cluster as skc\n",
        "from scipy.stats import multivariate_normal\n",
        "from sklearn.metrics import accuracy_score\n",
        "from sklearn.base import BaseEstimator, ClassifierMixin\n",
        "from sklearn.utils.estimator_checks import check_estimator\n",
        "from sklearn.utils.validation import check_X_y, check_array, check_is_fitted\n",
        "from sklearn.utils.multiclass import unique_labels\n",
        "from icecream import ic\n",
        "from matplotlib import pyplot as plt\n",
        "from sklearn.model_selection import train_test_split, cross_val_score, RepeatedKFold, GridSearchCV\n",
        "from sklearn.linear_model import LogisticRegression\n",
        "from sklearn.neighbors import KNeighborsClassifier\n",
        "from sklearn.svm import SVC\n",
        "from sklearn.metrics import accuracy_score\n",
        "from sklearn.preprocessing import PolynomialFeatures, StandardScaler\n",
        "from sklearn.pipeline import make_pipeline\n",
        "from tqdm.notebook import tqdm\n",
        "from sklearn.ensemble import RandomForestClassifier\n",
        "#from matplotlib.pyplot import feature_importances_\n",
        "from sklearn import pipeline\n",
        "#!pip install matplotlib-feature_importances_\n",
        "from sklearn.inspection import permutation_importance\n",
        "import seaborn as sns"
      ],
      "metadata": {
        "id": "r2n_sZqBbLYm"
      },
      "execution_count": null,
      "outputs": []
    },
    {
      "cell_type": "code",
      "source": [
        "df=pd.read_csv(\"dfaftercleaning.csv\")"
      ],
      "metadata": {
        "id": "Zqq4bvV4bVco"
      },
      "execution_count": null,
      "outputs": []
    },
    {
      "cell_type": "code",
      "source": [
        "#df_pca\n",
        "df_pcas=df[df[\"G\"]>40]\n",
        "df_pcas.columns\n",
        "df_pcas=df_pcas.reset_index()\n",
        "df_pcas.drop(['Unnamed: 0',\"index\"],  axis=1, inplace=True)"
      ],
      "metadata": {
        "id": "r3pkktm9bEne"
      },
      "execution_count": null,
      "outputs": []
    },
    {
      "cell_type": "markdown",
      "source": [
        "Here we are removing players who have played less than 40 games as we dont want them to have high stats with less number of games but getting clustered into a group with elite performers when they have most likely have got those stats by playing very less games in that season."
      ],
      "metadata": {
        "id": "L4f_5RERJkso"
      }
    },
    {
      "cell_type": "markdown",
      "source": [
        "Shooting Gaurd."
      ],
      "metadata": {
        "id": "oF8q1hblKQ02"
      }
    },
    {
      "cell_type": "code",
      "source": [
        "df_pcas=df_pcas[df_pcas['Pos']=='SG']\n",
        "df_pcas=df_pcas.reset_index()\n",
        "df_pcas.drop(\"index\",axis=1,inplace=True)"
      ],
      "metadata": {
        "id": "yD80VDwZcGor"
      },
      "execution_count": null,
      "outputs": []
    },
    {
      "cell_type": "code",
      "source": [
        "df_pca_labels=df_pcas[['PLAYER', 'Pos', 'Age', 'Tm', 'G','Year','TEAM', 'WEIGHT', 'COLLEGE', 'COUNTRY', 'DRAFT YEAR',\n",
        "       'DRAFT ROUND', 'DRAFT NUMBER','Height']]"
      ],
      "metadata": {
        "id": "NwhojIHrs7Tn"
      },
      "execution_count": null,
      "outputs": []
    },
    {
      "cell_type": "code",
      "source": [
        "df_pca = df_pcas.drop(df_pca_labels.columns,axis=1)\n",
        "df_pca.head(5)"
      ],
      "metadata": {
        "id": "Eo82_0XhZU9n",
        "colab": {
          "base_uri": "https://localhost:8080/",
          "height": 206
        },
        "outputId": "7aa2404a-da97-4106-b468-9a15fca6244f"
      },
      "execution_count": null,
      "outputs": [
        {
          "output_type": "execute_result",
          "data": {
            "text/plain": [
              "   three_pt_pct  two_pt_pct   eFG%    FT%   PF      3P/G      2P/G     ORB/G  \\\n",
              "0         0.000       0.497  0.497  0.657  205  0.000000  6.146341  3.121951   \n",
              "1         0.000       0.483  0.479  0.751  207  0.000000  5.231707  2.439024   \n",
              "2         0.143       0.474  0.471  0.728  164  0.012195  3.195122  1.048780   \n",
              "3         0.333       0.487  0.487  0.858  190  0.024390  4.268293  1.963415   \n",
              "4         0.386       0.421  0.523  0.870   87  0.804878  0.487805  0.390244   \n",
              "\n",
              "      DRB/G     AST/G     STL/G     BLK/G     TOV/G  NETRTG  TS_pct  \n",
              "0  6.146341  2.085366  1.109756  0.573171  2.024390    -5.2    52.7  \n",
              "1  4.365854  1.109756  0.500000  1.365854  1.829268     5.3    51.8  \n",
              "2  3.719512  0.987805  0.317073  0.195122  1.317073    -4.8    51.6  \n",
              "3  3.768293  1.060976  0.439024  0.865854  1.243902    -3.5    53.5  \n",
              "4  1.963415  0.695122  0.585366  0.280488  0.402439    -3.1    55.5  "
            ],
            "text/html": [
              "\n",
              "  <div id=\"df-68bb0f38-9736-4abe-8896-4d105546e2fc\">\n",
              "    <div class=\"colab-df-container\">\n",
              "      <div>\n",
              "<style scoped>\n",
              "    .dataframe tbody tr th:only-of-type {\n",
              "        vertical-align: middle;\n",
              "    }\n",
              "\n",
              "    .dataframe tbody tr th {\n",
              "        vertical-align: top;\n",
              "    }\n",
              "\n",
              "    .dataframe thead th {\n",
              "        text-align: right;\n",
              "    }\n",
              "</style>\n",
              "<table border=\"1\" class=\"dataframe\">\n",
              "  <thead>\n",
              "    <tr style=\"text-align: right;\">\n",
              "      <th></th>\n",
              "      <th>three_pt_pct</th>\n",
              "      <th>two_pt_pct</th>\n",
              "      <th>eFG%</th>\n",
              "      <th>FT%</th>\n",
              "      <th>PF</th>\n",
              "      <th>3P/G</th>\n",
              "      <th>2P/G</th>\n",
              "      <th>ORB/G</th>\n",
              "      <th>DRB/G</th>\n",
              "      <th>AST/G</th>\n",
              "      <th>STL/G</th>\n",
              "      <th>BLK/G</th>\n",
              "      <th>TOV/G</th>\n",
              "      <th>NETRTG</th>\n",
              "      <th>TS_pct</th>\n",
              "    </tr>\n",
              "  </thead>\n",
              "  <tbody>\n",
              "    <tr>\n",
              "      <th>0</th>\n",
              "      <td>0.000</td>\n",
              "      <td>0.497</td>\n",
              "      <td>0.497</td>\n",
              "      <td>0.657</td>\n",
              "      <td>205</td>\n",
              "      <td>0.000000</td>\n",
              "      <td>6.146341</td>\n",
              "      <td>3.121951</td>\n",
              "      <td>6.146341</td>\n",
              "      <td>2.085366</td>\n",
              "      <td>1.109756</td>\n",
              "      <td>0.573171</td>\n",
              "      <td>2.024390</td>\n",
              "      <td>-5.2</td>\n",
              "      <td>52.7</td>\n",
              "    </tr>\n",
              "    <tr>\n",
              "      <th>1</th>\n",
              "      <td>0.000</td>\n",
              "      <td>0.483</td>\n",
              "      <td>0.479</td>\n",
              "      <td>0.751</td>\n",
              "      <td>207</td>\n",
              "      <td>0.000000</td>\n",
              "      <td>5.231707</td>\n",
              "      <td>2.439024</td>\n",
              "      <td>4.365854</td>\n",
              "      <td>1.109756</td>\n",
              "      <td>0.500000</td>\n",
              "      <td>1.365854</td>\n",
              "      <td>1.829268</td>\n",
              "      <td>5.3</td>\n",
              "      <td>51.8</td>\n",
              "    </tr>\n",
              "    <tr>\n",
              "      <th>2</th>\n",
              "      <td>0.143</td>\n",
              "      <td>0.474</td>\n",
              "      <td>0.471</td>\n",
              "      <td>0.728</td>\n",
              "      <td>164</td>\n",
              "      <td>0.012195</td>\n",
              "      <td>3.195122</td>\n",
              "      <td>1.048780</td>\n",
              "      <td>3.719512</td>\n",
              "      <td>0.987805</td>\n",
              "      <td>0.317073</td>\n",
              "      <td>0.195122</td>\n",
              "      <td>1.317073</td>\n",
              "      <td>-4.8</td>\n",
              "      <td>51.6</td>\n",
              "    </tr>\n",
              "    <tr>\n",
              "      <th>3</th>\n",
              "      <td>0.333</td>\n",
              "      <td>0.487</td>\n",
              "      <td>0.487</td>\n",
              "      <td>0.858</td>\n",
              "      <td>190</td>\n",
              "      <td>0.024390</td>\n",
              "      <td>4.268293</td>\n",
              "      <td>1.963415</td>\n",
              "      <td>3.768293</td>\n",
              "      <td>1.060976</td>\n",
              "      <td>0.439024</td>\n",
              "      <td>0.865854</td>\n",
              "      <td>1.243902</td>\n",
              "      <td>-3.5</td>\n",
              "      <td>53.5</td>\n",
              "    </tr>\n",
              "    <tr>\n",
              "      <th>4</th>\n",
              "      <td>0.386</td>\n",
              "      <td>0.421</td>\n",
              "      <td>0.523</td>\n",
              "      <td>0.870</td>\n",
              "      <td>87</td>\n",
              "      <td>0.804878</td>\n",
              "      <td>0.487805</td>\n",
              "      <td>0.390244</td>\n",
              "      <td>1.963415</td>\n",
              "      <td>0.695122</td>\n",
              "      <td>0.585366</td>\n",
              "      <td>0.280488</td>\n",
              "      <td>0.402439</td>\n",
              "      <td>-3.1</td>\n",
              "      <td>55.5</td>\n",
              "    </tr>\n",
              "  </tbody>\n",
              "</table>\n",
              "</div>\n",
              "      <button class=\"colab-df-convert\" onclick=\"convertToInteractive('df-68bb0f38-9736-4abe-8896-4d105546e2fc')\"\n",
              "              title=\"Convert this dataframe to an interactive table.\"\n",
              "              style=\"display:none;\">\n",
              "        \n",
              "  <svg xmlns=\"http://www.w3.org/2000/svg\" height=\"24px\"viewBox=\"0 0 24 24\"\n",
              "       width=\"24px\">\n",
              "    <path d=\"M0 0h24v24H0V0z\" fill=\"none\"/>\n",
              "    <path d=\"M18.56 5.44l.94 2.06.94-2.06 2.06-.94-2.06-.94-.94-2.06-.94 2.06-2.06.94zm-11 1L8.5 8.5l.94-2.06 2.06-.94-2.06-.94L8.5 2.5l-.94 2.06-2.06.94zm10 10l.94 2.06.94-2.06 2.06-.94-2.06-.94-.94-2.06-.94 2.06-2.06.94z\"/><path d=\"M17.41 7.96l-1.37-1.37c-.4-.4-.92-.59-1.43-.59-.52 0-1.04.2-1.43.59L10.3 9.45l-7.72 7.72c-.78.78-.78 2.05 0 2.83L4 21.41c.39.39.9.59 1.41.59.51 0 1.02-.2 1.41-.59l7.78-7.78 2.81-2.81c.8-.78.8-2.07 0-2.86zM5.41 20L4 18.59l7.72-7.72 1.47 1.35L5.41 20z\"/>\n",
              "  </svg>\n",
              "      </button>\n",
              "      \n",
              "  <style>\n",
              "    .colab-df-container {\n",
              "      display:flex;\n",
              "      flex-wrap:wrap;\n",
              "      gap: 12px;\n",
              "    }\n",
              "\n",
              "    .colab-df-convert {\n",
              "      background-color: #E8F0FE;\n",
              "      border: none;\n",
              "      border-radius: 50%;\n",
              "      cursor: pointer;\n",
              "      display: none;\n",
              "      fill: #1967D2;\n",
              "      height: 32px;\n",
              "      padding: 0 0 0 0;\n",
              "      width: 32px;\n",
              "    }\n",
              "\n",
              "    .colab-df-convert:hover {\n",
              "      background-color: #E2EBFA;\n",
              "      box-shadow: 0px 1px 2px rgba(60, 64, 67, 0.3), 0px 1px 3px 1px rgba(60, 64, 67, 0.15);\n",
              "      fill: #174EA6;\n",
              "    }\n",
              "\n",
              "    [theme=dark] .colab-df-convert {\n",
              "      background-color: #3B4455;\n",
              "      fill: #D2E3FC;\n",
              "    }\n",
              "\n",
              "    [theme=dark] .colab-df-convert:hover {\n",
              "      background-color: #434B5C;\n",
              "      box-shadow: 0px 1px 3px 1px rgba(0, 0, 0, 0.15);\n",
              "      filter: drop-shadow(0px 1px 2px rgba(0, 0, 0, 0.3));\n",
              "      fill: #FFFFFF;\n",
              "    }\n",
              "  </style>\n",
              "\n",
              "      <script>\n",
              "        const buttonEl =\n",
              "          document.querySelector('#df-68bb0f38-9736-4abe-8896-4d105546e2fc button.colab-df-convert');\n",
              "        buttonEl.style.display =\n",
              "          google.colab.kernel.accessAllowed ? 'block' : 'none';\n",
              "\n",
              "        async function convertToInteractive(key) {\n",
              "          const element = document.querySelector('#df-68bb0f38-9736-4abe-8896-4d105546e2fc');\n",
              "          const dataTable =\n",
              "            await google.colab.kernel.invokeFunction('convertToInteractive',\n",
              "                                                     [key], {});\n",
              "          if (!dataTable) return;\n",
              "\n",
              "          const docLinkHtml = 'Like what you see? Visit the ' +\n",
              "            '<a target=\"_blank\" href=https://colab.research.google.com/notebooks/data_table.ipynb>data table notebook</a>'\n",
              "            + ' to learn more about interactive tables.';\n",
              "          element.innerHTML = '';\n",
              "          dataTable['output_type'] = 'display_data';\n",
              "          await google.colab.output.renderOutput(dataTable, element);\n",
              "          const docLink = document.createElement('div');\n",
              "          docLink.innerHTML = docLinkHtml;\n",
              "          element.appendChild(docLink);\n",
              "        }\n",
              "      </script>\n",
              "    </div>\n",
              "  </div>\n",
              "  "
            ]
          },
          "metadata": {},
          "execution_count": 379
        }
      ]
    },
    {
      "cell_type": "markdown",
      "source": [
        "We will scale the data next to perform pca"
      ],
      "metadata": {
        "id": "YqBHu6YQKbjT"
      }
    },
    {
      "cell_type": "code",
      "source": [
        "from sklearn.preprocessing import StandardScaler\n",
        "scale = StandardScaler()\n",
        "scaled_pca = scale.fit_transform(df_pca)\n",
        "scaled_pca= pd.DataFrame(scaled_pca)\n",
        "scaled_pca\n",
        "scaled_pca.columns = [df_pca[:0]]\n",
        "scaled_pca.head(5)"
      ],
      "metadata": {
        "colab": {
          "base_uri": "https://localhost:8080/",
          "height": 206
        },
        "id": "sNA06DmHvSit",
        "outputId": "d4b9ba22-c8ae-4a56-9b63-728a01c17ccc"
      },
      "execution_count": null,
      "outputs": [
        {
          "output_type": "execute_result",
          "data": {
            "text/plain": [
              "  three_pt_pct two_pt_pct      eFG%       FT%        PF      3P/G      2P/G  \\\n",
              "0     0.676937   0.439900  0.961067  0.540193  1.163011  1.684680  0.183114   \n",
              "1    -0.458898   0.092090 -0.545698 -0.058965  1.618573 -0.639259  2.183090   \n",
              "2     0.063947   0.526852  0.267477  0.821430  2.312761  2.300876  1.932142   \n",
              "3     0.604821   0.265995  0.363144  0.002173  1.531799  0.311443  0.685009   \n",
              "4    -0.188461   0.135566 -0.282612  0.161134  0.533903  0.117782  0.707822   \n",
              "\n",
              "      ORB/G     DRB/G     AST/G     STL/G     BLK/G     TOV/G    NETRTG  \\\n",
              "0  0.349268  0.557858  0.176093  0.267706 -0.479374  0.042475 -0.266259   \n",
              "1 -0.153699  0.801533  2.600595  2.244755  0.122330  2.603684 -0.056287   \n",
              "2  0.813545  3.122861  3.848241  2.183922  1.994297  4.433118  0.381156   \n",
              "3 -0.579287  0.083333  0.653915  0.054793 -0.278806  0.790880 -0.983666   \n",
              "4  0.658786  2.853536  0.229184  0.115626  1.192026  0.524781 -0.441236   \n",
              "\n",
              "     TS_pct  \n",
              "0  0.871265  \n",
              "1 -0.979816  \n",
              "2  1.419733  \n",
              "3  0.277091  \n",
              "4 -0.019996  "
            ],
            "text/html": [
              "\n",
              "  <div id=\"df-f823200b-414a-47ac-ad92-faed0de65f7c\">\n",
              "    <div class=\"colab-df-container\">\n",
              "      <div>\n",
              "<style scoped>\n",
              "    .dataframe tbody tr th:only-of-type {\n",
              "        vertical-align: middle;\n",
              "    }\n",
              "\n",
              "    .dataframe tbody tr th {\n",
              "        vertical-align: top;\n",
              "    }\n",
              "\n",
              "    .dataframe thead tr th {\n",
              "        text-align: left;\n",
              "    }\n",
              "</style>\n",
              "<table border=\"1\" class=\"dataframe\">\n",
              "  <thead>\n",
              "    <tr>\n",
              "      <th></th>\n",
              "      <th>three_pt_pct</th>\n",
              "      <th>two_pt_pct</th>\n",
              "      <th>eFG%</th>\n",
              "      <th>FT%</th>\n",
              "      <th>PF</th>\n",
              "      <th>3P/G</th>\n",
              "      <th>2P/G</th>\n",
              "      <th>ORB/G</th>\n",
              "      <th>DRB/G</th>\n",
              "      <th>AST/G</th>\n",
              "      <th>STL/G</th>\n",
              "      <th>BLK/G</th>\n",
              "      <th>TOV/G</th>\n",
              "      <th>NETRTG</th>\n",
              "      <th>TS_pct</th>\n",
              "    </tr>\n",
              "  </thead>\n",
              "  <tbody>\n",
              "    <tr>\n",
              "      <th>0</th>\n",
              "      <td>0.676937</td>\n",
              "      <td>0.439900</td>\n",
              "      <td>0.961067</td>\n",
              "      <td>0.540193</td>\n",
              "      <td>1.163011</td>\n",
              "      <td>1.684680</td>\n",
              "      <td>0.183114</td>\n",
              "      <td>0.349268</td>\n",
              "      <td>0.557858</td>\n",
              "      <td>0.176093</td>\n",
              "      <td>0.267706</td>\n",
              "      <td>-0.479374</td>\n",
              "      <td>0.042475</td>\n",
              "      <td>-0.266259</td>\n",
              "      <td>0.871265</td>\n",
              "    </tr>\n",
              "    <tr>\n",
              "      <th>1</th>\n",
              "      <td>-0.458898</td>\n",
              "      <td>0.092090</td>\n",
              "      <td>-0.545698</td>\n",
              "      <td>-0.058965</td>\n",
              "      <td>1.618573</td>\n",
              "      <td>-0.639259</td>\n",
              "      <td>2.183090</td>\n",
              "      <td>-0.153699</td>\n",
              "      <td>0.801533</td>\n",
              "      <td>2.600595</td>\n",
              "      <td>2.244755</td>\n",
              "      <td>0.122330</td>\n",
              "      <td>2.603684</td>\n",
              "      <td>-0.056287</td>\n",
              "      <td>-0.979816</td>\n",
              "    </tr>\n",
              "    <tr>\n",
              "      <th>2</th>\n",
              "      <td>0.063947</td>\n",
              "      <td>0.526852</td>\n",
              "      <td>0.267477</td>\n",
              "      <td>0.821430</td>\n",
              "      <td>2.312761</td>\n",
              "      <td>2.300876</td>\n",
              "      <td>1.932142</td>\n",
              "      <td>0.813545</td>\n",
              "      <td>3.122861</td>\n",
              "      <td>3.848241</td>\n",
              "      <td>2.183922</td>\n",
              "      <td>1.994297</td>\n",
              "      <td>4.433118</td>\n",
              "      <td>0.381156</td>\n",
              "      <td>1.419733</td>\n",
              "    </tr>\n",
              "    <tr>\n",
              "      <th>3</th>\n",
              "      <td>0.604821</td>\n",
              "      <td>0.265995</td>\n",
              "      <td>0.363144</td>\n",
              "      <td>0.002173</td>\n",
              "      <td>1.531799</td>\n",
              "      <td>0.311443</td>\n",
              "      <td>0.685009</td>\n",
              "      <td>-0.579287</td>\n",
              "      <td>0.083333</td>\n",
              "      <td>0.653915</td>\n",
              "      <td>0.054793</td>\n",
              "      <td>-0.278806</td>\n",
              "      <td>0.790880</td>\n",
              "      <td>-0.983666</td>\n",
              "      <td>0.277091</td>\n",
              "    </tr>\n",
              "    <tr>\n",
              "      <th>4</th>\n",
              "      <td>-0.188461</td>\n",
              "      <td>0.135566</td>\n",
              "      <td>-0.282612</td>\n",
              "      <td>0.161134</td>\n",
              "      <td>0.533903</td>\n",
              "      <td>0.117782</td>\n",
              "      <td>0.707822</td>\n",
              "      <td>0.658786</td>\n",
              "      <td>2.853536</td>\n",
              "      <td>0.229184</td>\n",
              "      <td>0.115626</td>\n",
              "      <td>1.192026</td>\n",
              "      <td>0.524781</td>\n",
              "      <td>-0.441236</td>\n",
              "      <td>-0.019996</td>\n",
              "    </tr>\n",
              "  </tbody>\n",
              "</table>\n",
              "</div>\n",
              "      <button class=\"colab-df-convert\" onclick=\"convertToInteractive('df-f823200b-414a-47ac-ad92-faed0de65f7c')\"\n",
              "              title=\"Convert this dataframe to an interactive table.\"\n",
              "              style=\"display:none;\">\n",
              "        \n",
              "  <svg xmlns=\"http://www.w3.org/2000/svg\" height=\"24px\"viewBox=\"0 0 24 24\"\n",
              "       width=\"24px\">\n",
              "    <path d=\"M0 0h24v24H0V0z\" fill=\"none\"/>\n",
              "    <path d=\"M18.56 5.44l.94 2.06.94-2.06 2.06-.94-2.06-.94-.94-2.06-.94 2.06-2.06.94zm-11 1L8.5 8.5l.94-2.06 2.06-.94-2.06-.94L8.5 2.5l-.94 2.06-2.06.94zm10 10l.94 2.06.94-2.06 2.06-.94-2.06-.94-.94-2.06-.94 2.06-2.06.94z\"/><path d=\"M17.41 7.96l-1.37-1.37c-.4-.4-.92-.59-1.43-.59-.52 0-1.04.2-1.43.59L10.3 9.45l-7.72 7.72c-.78.78-.78 2.05 0 2.83L4 21.41c.39.39.9.59 1.41.59.51 0 1.02-.2 1.41-.59l7.78-7.78 2.81-2.81c.8-.78.8-2.07 0-2.86zM5.41 20L4 18.59l7.72-7.72 1.47 1.35L5.41 20z\"/>\n",
              "  </svg>\n",
              "      </button>\n",
              "      \n",
              "  <style>\n",
              "    .colab-df-container {\n",
              "      display:flex;\n",
              "      flex-wrap:wrap;\n",
              "      gap: 12px;\n",
              "    }\n",
              "\n",
              "    .colab-df-convert {\n",
              "      background-color: #E8F0FE;\n",
              "      border: none;\n",
              "      border-radius: 50%;\n",
              "      cursor: pointer;\n",
              "      display: none;\n",
              "      fill: #1967D2;\n",
              "      height: 32px;\n",
              "      padding: 0 0 0 0;\n",
              "      width: 32px;\n",
              "    }\n",
              "\n",
              "    .colab-df-convert:hover {\n",
              "      background-color: #E2EBFA;\n",
              "      box-shadow: 0px 1px 2px rgba(60, 64, 67, 0.3), 0px 1px 3px 1px rgba(60, 64, 67, 0.15);\n",
              "      fill: #174EA6;\n",
              "    }\n",
              "\n",
              "    [theme=dark] .colab-df-convert {\n",
              "      background-color: #3B4455;\n",
              "      fill: #D2E3FC;\n",
              "    }\n",
              "\n",
              "    [theme=dark] .colab-df-convert:hover {\n",
              "      background-color: #434B5C;\n",
              "      box-shadow: 0px 1px 3px 1px rgba(0, 0, 0, 0.15);\n",
              "      filter: drop-shadow(0px 1px 2px rgba(0, 0, 0, 0.3));\n",
              "      fill: #FFFFFF;\n",
              "    }\n",
              "  </style>\n",
              "\n",
              "      <script>\n",
              "        const buttonEl =\n",
              "          document.querySelector('#df-f823200b-414a-47ac-ad92-faed0de65f7c button.colab-df-convert');\n",
              "        buttonEl.style.display =\n",
              "          google.colab.kernel.accessAllowed ? 'block' : 'none';\n",
              "\n",
              "        async function convertToInteractive(key) {\n",
              "          const element = document.querySelector('#df-f823200b-414a-47ac-ad92-faed0de65f7c');\n",
              "          const dataTable =\n",
              "            await google.colab.kernel.invokeFunction('convertToInteractive',\n",
              "                                                     [key], {});\n",
              "          if (!dataTable) return;\n",
              "\n",
              "          const docLinkHtml = 'Like what you see? Visit the ' +\n",
              "            '<a target=\"_blank\" href=https://colab.research.google.com/notebooks/data_table.ipynb>data table notebook</a>'\n",
              "            + ' to learn more about interactive tables.';\n",
              "          element.innerHTML = '';\n",
              "          dataTable['output_type'] = 'display_data';\n",
              "          await google.colab.output.renderOutput(dataTable, element);\n",
              "          const docLink = document.createElement('div');\n",
              "          docLink.innerHTML = docLinkHtml;\n",
              "          element.appendChild(docLink);\n",
              "        }\n",
              "      </script>\n",
              "    </div>\n",
              "  </div>\n",
              "  "
            ]
          },
          "metadata": {},
          "execution_count": 321
        }
      ]
    },
    {
      "cell_type": "code",
      "source": [
        "len(scaled_pca.columns)"
      ],
      "metadata": {
        "colab": {
          "base_uri": "https://localhost:8080/"
        },
        "id": "Kmm_JLzm6xdY",
        "outputId": "84e57951-c2b5-46f3-902c-1f6323bbb20d"
      },
      "execution_count": null,
      "outputs": [
        {
          "output_type": "execute_result",
          "data": {
            "text/plain": [
              "15"
            ]
          },
          "metadata": {},
          "execution_count": 323
        }
      ]
    },
    {
      "cell_type": "markdown",
      "source": [
        "We have 15 dimensions for each player."
      ],
      "metadata": {
        "id": "6UUUEqEYRzoT"
      }
    },
    {
      "cell_type": "code",
      "source": [
        "#scaled_pca_SG=scaled_pca_SG.to_numpy()\n",
        "from sklearn.decomposition import PCA\n",
        "pca = PCA(n_components = 10)\n",
        "\n",
        "principle_components = pca.fit_transform(scaled_pca)\n",
        "\n",
        "pca.explained_variance_ratio_.cumsum()\n",
        "#len(principle_components)"
      ],
      "metadata": {
        "id": "ULyAwlA6atb1",
        "colab": {
          "base_uri": "https://localhost:8080/"
        },
        "outputId": "f52733e6-1165-4a22-e495-e73ed4453eec"
      },
      "execution_count": null,
      "outputs": [
        {
          "output_type": "stream",
          "name": "stderr",
          "text": [
            "/usr/local/lib/python3.7/dist-packages/sklearn/utils/validation.py:1692: FutureWarning:\n",
            "\n",
            "Feature names only support names that are all strings. Got feature names with dtypes: ['tuple']. An error will be raised in 1.2.\n",
            "\n"
          ]
        },
        {
          "output_type": "execute_result",
          "data": {
            "text/plain": [
              "array([0.35519138, 0.53580636, 0.64134646, 0.70917009, 0.7704234 ,\n",
              "       0.81340428, 0.85113551, 0.88464051, 0.91472053, 0.93839078])"
            ]
          },
          "metadata": {},
          "execution_count": 324
        }
      ]
    },
    {
      "cell_type": "markdown",
      "source": [
        "We can see that if we take only one PCA, we are accouting for 35 percent variation, whereas if we take 10 PC's we are accounting for 93 percent of total variation."
      ],
      "metadata": {
        "id": "bPSoFuuONgBt"
      }
    },
    {
      "cell_type": "markdown",
      "source": [
        "The below code allows us to append in a list which dimensions in our original dataset contribute to a particular  prinicpal component"
      ],
      "metadata": {
        "id": "JUwD8aO-KkAO"
      }
    },
    {
      "cell_type": "code",
      "source": [
        "loading_scores_all = []\n",
        "n_pca=[0,1,2]\n",
        "#print(p)\n",
        "for p in n_pca:\n",
        "  loading_scores = pd.Series(pca.components_[p], index=scaled_pca.columns)\n",
        "  #print(loading_scores)\n",
        "  ## now sort the loading scores based on their magnitude\n",
        "  sorted_loading_scores = loading_scores.abs().sort_values(ascending=False)\n",
        "\n",
        "  # get the names of the top 10 genes\n",
        "  top_10_traits = sorted_loading_scores[0:10].index.values\n",
        "\n",
        "  loading_scores_all.append(loading_scores[top_10_traits].to_dict())\n",
        "\n",
        "pca = pd.DataFrame(principle_components)\n",
        "pca.columns = ['pc1','pc2','pc3','pc4','pc5','pc6','pc7','pc8','pc9','pc10']\n",
        "pca.dropna(inplace=True)"
      ],
      "metadata": {
        "id": "9_hurdFDayGO"
      },
      "execution_count": null,
      "outputs": []
    },
    {
      "cell_type": "markdown",
      "source": [
        "Concat the pca components with the labels which indicates which players stats they represent."
      ],
      "metadata": {
        "id": "xRXGh3YhK7_G"
      }
    },
    {
      "cell_type": "code",
      "source": [
        "df_after_pca = pd.concat([pca, df_pca_labels], axis = 1)\n",
        "#df_after_pca"
      ],
      "metadata": {
        "id": "D9b_ANl_yWGN"
      },
      "execution_count": null,
      "outputs": []
    },
    {
      "cell_type": "code",
      "source": [
        "df_after_pca[\"zeroed\"]=0\n",
        "fig = px.scatter(df_after_pca, x= df_after_pca[\"pc1\"], y= df_after_pca[\"zeroed\"] ,hover_data=['PLAYER','Year'])\n",
        "fig.show()"
      ],
      "metadata": {
        "colab": {
          "base_uri": "https://localhost:8080/",
          "height": 542
        },
        "id": "W0-iX1IQ9z_M",
        "outputId": "8c72e0dd-e7f3-4585-a48e-5c0eea88e40f"
      },
      "execution_count": null,
      "outputs": [
        {
          "output_type": "display_data",
          "data": {
            "text/html": [
              "<html>\n",
              "<head><meta charset=\"utf-8\" /></head>\n",
              "<body>\n",
              "    <div>            <script src=\"https://cdnjs.cloudflare.com/ajax/libs/mathjax/2.7.5/MathJax.js?config=TeX-AMS-MML_SVG\"></script><script type=\"text/javascript\">if (window.MathJax) {MathJax.Hub.Config({SVG: {font: \"STIX-Web\"}});}</script>                <script type=\"text/javascript\">window.PlotlyConfig = {MathJaxConfig: 'local'};</script>\n",
              "        <script src=\"https://cdn.plot.ly/plotly-2.8.3.min.js\"></script>                <div id=\"88bae11b-6f90-4562-af8a-44ebaed17b28\" class=\"plotly-graph-div\" style=\"height:525px; width:100%;\"></div>            <script type=\"text/javascript\">                                    window.PLOTLYENV=window.PLOTLYENV || {};                                    if (document.getElementById(\"88bae11b-6f90-4562-af8a-44ebaed17b28\")) {                    Plotly.newPlot(                        \"88bae11b-6f90-4562-af8a-44ebaed17b28\",                        [{\"customdata\":[[\"Wesley Matthews\",2013],[\"Monta Ellis\",2013],[\"James Harden\",2016],[\"Zach LaVine\",2016],[\"Will Barton\",2016],[\"Gerald Green\",2013],[\"Randy Foye\",2012],[\"Kentavious Caldwell-Pope\",2014],[\"Will Barton\",2015],[\"Kentavious Caldwell-Pope\",2019],[\"Bradley Beal\",2019],[\"Bryn Forbes\",2019],[\"Justin Holiday\",2019],[\"Buddy Hield\",2019],[\"Zach LaVine\",2015],[\"James Harden\",2015],[\"O.J. Mayo\",2012],[\"Luke Ridnour\",2012],[\"DeMar DeRozan\",2012],[\"Monta Ellis\",2012],[\"Jamal Crawford\",2017],[\"Buddy Hield\",2017],[\"Justin Holiday\",2017],[\"Jordan Clarkson\",2017],[\"DeAndre' Bembry\",2019],[\"Jamal Murray\",2017],[\"Wesley Matthews\",2010],[\"Yogi Ferrell\",2018],[\"Shannon Brown\",2010],[\"Keith Bogans\",2010],[\"Kyle Korver\",2010],[\"James Harden\",2010],[\"Ben McLemore\",2014],[\"Pat Connaughton\",2018],[\"DeMar DeRozan\",2010],[\"Bradley Beal\",2018],[\"Ben Gordon\",2010],[\"E'Twaun Moore\",2018],[\"Courtney Lee\",2010],[\"Will Barton\",2018],[\"Monta Ellis\",2016],[\"Toney Douglas\",2010],[\"CJ McCollum\",2018],[\"Randy Foye\",2015],[\"Allen Crabbe\",2016],[\"Monta Ellis\",2015],[\"Allen Crabbe\",2015],[\"Ronnie Brewer\",2010],[\"Jordan Clarkson\",2018],[\"Giannis Antetokounmpo\",2014],[\"Derek Fisher\",2013],[\"Terrence Ross\",2013],[\"Jordan Clarkson\",2019],[\"Randy Foye\",2013],[\"Malik Beasley\",2019],[\"Evan Fournier\",2019],[\"Thabo Sefolosha\",2012],[\"Vince Carter\",2013],[\"James Harden\",2014],[\"Jrue Holiday\",2018],[\"Danny Green\",2014],[\"Cory Joseph\",2016],[\"Kyle Korver\",2016],[\"CJ McCollum\",2016],[\"Danny Green\",2019],[\"Langston Galloway\",2019],[\"Kevin Martin\",2010],[\"Jason Richardson\",2010],[\"Monta Ellis\",2010],[\"Tony Snell\",2017],[\"Cory Joseph\",2015],[\"Andre Iguodala\",2012],[\"Danny Green\",2012],[\"James Anderson\",2013],[\"Gerald Henderson\",2014],[\"Joe Johnson\",2014],[\"Jeremy Lamb\",2018],[\"Monta Ellis\",2014],[\"Jamal Crawford\",2018],[\"Kyle Korver\",2015],[\"CJ McCollum\",2017],[\"Marco Belinelli\",2018],[\"DeMar DeRozan\",2018],[\"Buddy Hield\",2018],[\"Bryn Forbes\",2018],[\"CJ McCollum\",2015],[\"Marco Belinelli\",2010],[\"Thabo Sefolosha\",2010],[\"Jordan Clarkson\",2016],[\"Khris Middleton\",2016],[\"Danny Green\",2016],[\"Rodney Hood\",2016],[\"Danny Green\",2015],[\"Jamal Crawford\",2015],[\"Khris Middleton\",2015],[\"Troy Daniels\",2018],[\"Courtney Lee\",2015],[\"Jordan Clarkson\",2015],[\"Jamal Crawford\",2016],[\"Donovan Mitchell\",2018],[\"Tyreke Evans\",2014],[\"Marco Belinelli\",2019],[\"Jeremy Lamb\",2019],[\"Marcus Smart\",2017],[\"Tim Hardaway Jr.\",2017],[\"Allen Crabbe\",2017],[\"Josh Jackson\",2019],[\"Jarrett Jack\",2012],[\"Tony Allen\",2012],[\"Jason Terry\",2012],[\"Rodney Hood\",2015],[\"Joe Johnson\",2013],[\"E'Twaun Moore\",2013],[\"DeMar DeRozan\",2013],[\"Courtney Lee\",2013],[\"DeMar DeRozan\",2016],[\"Jeremy Lin\",2016],[\"Joe Harris\",2018],[\"Jeremy Lin\",2015],[\"DeMar DeRozan\",2015],[\"Arron Afflalo\",2014],[\"Rodney McGruder\",2017],[\"James Harden\",2012],[\"Lance Stephenson\",2012],[\"Courtney Lee\",2012],[\"Wayne Ellington\",2012],[\"John Salmons\",2013],[\"Jodie Meeks\",2012],[\"Jonathon Simmons\",2017],[\"Devin Booker\",2017],[\"Alec Burks\",2013],[\"Jeremy Lamb\",2013],[\"Wayne Ellington\",2018],[\"Kevin Martin\",2012],[\"Bradley Beal\",2017],[\"DeMar DeRozan\",2019],[\"Jodie Meeks\",2018],[\"Willie Green\",2010],[\"Courtney Lee\",2017],[\"Ian Clark\",2017],[\"Nicolas Batum\",2017],[\"Donovan Mitchell\",2019],[\"Isaiah Canaan\",2016],[\"Isaiah Canaan\",2015],[\"Gerald Henderson\",2013],[\"Jodie Meeks\",2013],[\"Avery Bradley\",2014],[\"Courtney Lee\",2014],[\"Evan Fournier\",2013],[\"Devin Booker\",2016],[\"Courtney Lee\",2018],[\"Jamal Crawford\",2010],[\"Gary Harris\",2016],[\"Anthony Morrow\",2013],[\"Kentavious Caldwell-Pope\",2015],[\"Kentavious Caldwell-Pope\",2017],[\"Iman Shumpert\",2017],[\"Gary Harris\",2015],[\"Norman Powell\",2017],[\"Rodney Stuckey\",2012],[\"Wayne Ellington\",2016],[\"Kentavious Caldwell-Pope\",2016],[\"Avery Bradley\",2016],[\"Jamal Crawford\",2012],[\"Avery Bradley\",2015],[\"Joe Harris\",2019],[\"Wayne Ellington\",2015],[\"Kent Bazemore\",2014],[\"Allen Crabbe\",2018],[\"Victor Oladipo\",2018],[\"Eric Gordon\",2017],[\"Kyle Korver\",2014],[\"Malcolm Brogdon\",2017],[\"Ben Gordon\",2012],[\"E'Twaun Moore\",2012],[\"Kevin Huerter\",2019],[\"Gerald Green\",2014],[\"Jodie Meeks\",2010],[\"Alan Anderson\",2014],[\"Anthony Morrow\",2014],[\"Iman Shumpert\",2013],[\"DeMar DeRozan\",2017],[\"Austin Rivers\",2017],[\"Keith Bogans\",2012],[\"Monta Ellis\",2017],[\"Kentavious Caldwell-Pope\",2018],[\"Marco Belinelli\",2017],[\"Ian Clark\",2018],[\"Terrance Ferguson\",2019],[\"Jaylen Brown\",2019],[\"Bruce Brown\",2019],[\"Seth Curry\",2019],[\"Luke Kennard\",2018],[\"Kyle Korver\",2018],[\"Nik Stauskas\",2015],[\"Marco Belinelli\",2012],[\"Bradley Beal\",2013],[\"Wesley Matthews\",2017],[\"E'Twaun Moore\",2017],[\"Arron Afflalo\",2013],[\"Vince Carter\",2010],[\"Shaquille Harrison\",2019],[\"Damyean Dotson\",2019],[\"Gerald Green\",2019],[\"James Harden\",2013],[\"Malik Monk\",2019],[\"John Salmons\",2010],[\"MarShon Brooks\",2012],[\"Nik Stauskas\",2016],[\"Joe Johnson\",2012],[\"Brandon Rush\",2016],[\"Victor Oladipo\",2014],[\"Jared Dudley\",2014],[\"James Harden\",2018],[\"Gerald Henderson\",2016],[\"Victor Oladipo\",2016],[\"Brandon Rush\",2015],[\"Joe Johnson\",2010],[\"Victor Oladipo\",2015],[\"Gerald Henderson\",2015],[\"Willie Green\",2012],[\"Tony Allen\",2010],[\"Gerald Henderson\",2017],[\"Justin Holiday\",2018],[\"Rodney Hood\",2019],[\"O.J. Mayo\",2014],[\"Tony Allen\",2017],[\"O.J. Mayo\",2010],[\"Patrick McCaw\",2017],[\"Arron Afflalo\",2016],[\"Arron Afflalo\",2015],[\"Kyle Korver\",2013],[\"David Nwaba\",2018],[\"Jaylen Brown\",2018],[\"Kyle Korver\",2019],[\"CJ McCollum\",2019],[\"Tim Hardaway Jr.\",2014],[\"Sean Kilpatrick\",2017],[\"Jordan Crawford\",2012],[\"Andre Roberson\",2015],[\"Andre Roberson\",2016],[\"Danny Green\",2018],[\"Randy Foye\",2017],[\"Eric Gordon\",2018],[\"Arron Afflalo\",2010],[\"Jimmer Fredette\",2012],[\"Tyreke Evans\",2019],[\"Jamal Crawford\",2013],[\"Gerald Green\",2015],[\"Wesley Matthews\",2012],[\"Gerald Green\",2016],[\"Leandro Barbosa\",2015],[\"Ben McLemore\",2015],[\"Marco Belinelli\",2015],[\"Raja Bell\",2010],[\"Gerald Henderson\",2010],[\"Danny Green\",2013],[\"Kevin Martin\",2013],[\"Cory Joseph\",2013],[\"Eric Gordon\",2019],[\"Anthony Morrow\",2015],[\"Evan Fournier\",2017],[\"Danny Green\",2017],[\"Gary Neal\",2012],[\"Ben McLemore\",2016],[\"Gerald Henderson\",2012],[\"Anthony Morrow\",2016],[\"Marco Belinelli\",2016],[\"Leandro Barbosa\",2016],[\"Jimmy Butler\",2015],[\"Austin Rivers\",2015],[\"Jimmy Butler\",2016],[\"Jrue Holiday\",2019],[\"Jimmy Butler\",2013],[\"Kent Bazemore\",2013],[\"Austin Rivers\",2016],[\"Kent Bazemore\",2019],[\"Josh Hart\",2019],[\"Leandro Barbosa\",2017],[\"Patrick Beverley\",2017],[\"Stephen Jackson\",2010],[\"Kyle Korver\",2017],[\"Daniel Gibson\",2010],[\"Victor Oladipo\",2017],[\"Brandon Rush\",2010],[\"Troy Daniels\",2017],[\"Gary Harris\",2018],[\"Matthew Dellavedova\",2014],[\"Andre Roberson\",2014],[\"Rodney McGruder\",2019],[\"Ian Clark\",2015],[\"Ian Clark\",2016],[\"O.J. Mayo\",2011],[\"Wesley Matthews\",2011],[\"Andre Miller\",2011],[\"Jeremy Lamb\",2016],[\"Danny Green\",2011],[\"Jodie Meeks\",2011],[\"Marco Belinelli\",2011],[\"Ronnie Brewer\",2011],[\"Paul George\",2011],[\"Landry Fields\",2011],[\"Jeremy Lamb\",2015],[\"Leandro Barbosa\",2014],[\"Kirk Hinrich\",2014],[\"Vince Carter\",2014],[\"Tim Hardaway Jr.\",2019],[\"Tyreke Evans\",2012],[\"Kent Bazemore\",2018],[\"Jared Dudley\",2011],[\"Wayne Ellington\",2014],[\"Kyle Korver\",2011],[\"Randy Foye\",2011],[\"Jimmy Butler\",2014],[\"Alec Burks\",2012],[\"Leandro Barbosa\",2011],[\"Jordan Crawford\",2011],[\"Malcolm Brogdon\",2019],[\"Devin Booker\",2019],[\"Alec Burks\",2019],[\"Tony Allen\",2016],[\"Jamal Crawford\",2014],[\"Tony Allen\",2015],[\"Eric Gordon\",2013],[\"Nicolas Batum\",2018],[\"Jamal Crawford\",2019],[\"Brandon Paul\",2018],[\"Alec Burks\",2018],[\"Treveon Graham\",2018],[\"Randy Foye\",2010],[\"Josh Hart\",2018],[\"Malik Monk\",2018],[\"Tony Allen\",2014],[\"Bradley Beal\",2014],[\"DeMar DeRozan\",2011],[\"Tyreke Evans\",2011],[\"Jason Terry\",2011],[\"Reggie Bullock\",2019],[\"Avery Bradley\",2019],[\"Alexey Shved\",2013],[\"Luke Kennard\",2019],[\"Zach LaVine\",2019],[\"Alonzo Gee\",2011],[\"DeAndre Liggins\",2017],[\"James Harden\",2011],[\"Markel Brown\",2015],[\"Markel Brown\",2016],[\"Arron Afflalo\",2011],[\"Anthony Morrow\",2011],[\"Wayne Ellington\",2017],[\"Jeremy Lamb\",2017],[\"CJ McCollum\",2014],[\"Marco Belinelli\",2014],[\"Malik Beasley\",2018],[\"Wayne Ellington\",2010],[\"Eric Gordon\",2014],[\"Ben McLemore\",2017],[\"Vince Carter\",2011],[\"Pat Connaughton\",2019],[\"Arron Afflalo\",2017],[\"Ramon Sessions\",2012],[\"Thabo Sefolosha\",2013],[\"Mike Dunleavy\",2010],[\"Terrance Ferguson\",2018],[\"Vince Carter\",2016],[\"Ian Clark\",2019],[\"Will Barton\",2017],[\"Vince Carter\",2015],[\"Wesley Matthews\",2014],[\"Jodie Meeks\",2014],[\"DeMar DeRozan\",2014],[\"Joe Johnson\",2011],[\"Avery Bradley\",2013],[\"Rodney Hood\",2018],[\"Jimmy Butler\",2018],[\"Shannon Brown\",2011],[\"Beno Udrih\",2011],[\"E'Twaun Moore\",2016],[\"Shannon Brown\",2012],[\"Stephen Graham\",2010],[\"Ronnie Price\",2010],[\"E'Twaun Moore\",2015],[\"Rodney Hood\",2017],[\"Courtney Lee\",2011],[\"Shaun Livingston\",2011],[\"Tony Allen\",2011],[\"Monta Ellis\",2011],[\"Devin Harris\",2012],[\"DeAndre Liggins\",2018],[\"Anthony Morrow\",2010],[\"Evan Fournier\",2014],[\"Andre Miller\",2013],[\"Langston Galloway\",2018],[\"Sterling Brown\",2019],[\"Nick Calathes\",2014],[\"Will Barton\",2014],[\"Leandro Barbosa\",2010],[\"Gary Harris\",2019],[\"Patrick McCaw\",2018],[\"Tim Hardaway Jr.\",2018],[\"Antonio Blakeney\",2019],[\"Daequan Cook\",2011],[\"Sundiata Gaines\",2011],[\"Gary Harris\",2017],[\"Tyreke Evans\",2010],[\"DeShawn Stevenson\",2012],[\"Eddie House\",2010],[\"Alonzo Gee\",2010],[\"Gary Neal\",2011],[\"Eric Gordon\",2010],[\"Ben Gordon\",2014],[\"E'Twaun Moore\",2014],[\"Ben McLemore\",2018],[\"Tyler Dorsey\",2018],[\"Jonathon Simmons\",2016],[\"Kevin Martin\",2015],[\"Gerald Henderson\",2011],[\"Rodney Stuckey\",2011],[\"Tony Allen\",2013],[\"Willie Green\",2013],[\"Bradley Beal\",2016],[\"Avery Bradley\",2017],[\"Richard Hamilton\",2010],[\"Bradley Beal\",2015],[\"Sterling Brown\",2018],[\"Gary Neal\",2014],[\"Brandon Knight\",2017],[\"Iman Shumpert\",2015],[\"Devin Booker\",2018],[\"Iman Shumpert\",2016],[\"Matt Carroll\",2010],[\"Jason Richardson\",2011],[\"Justin Holiday\",2015],[\"Willie Green\",2011],[\"E'Twaun Moore\",2019],[\"Wayne Ellington\",2019],[\"Arron Afflalo\",2018],[\"Dwayne Bacon\",2018],[\"Doron Lamb\",2013],[\"Matt Carroll\",2011],[\"Royal Ivey\",2012],[\"Josh Richardson\",2017],[\"Luke Ridnour\",2011],[\"Ron Baker\",2017],[\"Brandon Knight\",2015],[\"Ben Gordon\",2011],[\"Jerryd Bayless\",2015],[\"Willie Green\",2014],[\"Sean Kilpatrick\",2018],[\"Gary Neal\",2013],[\"Josh Richardson\",2016],[\"Joe Harris\",2017],[\"O.J. Mayo\",2013],[\"Jerryd Bayless\",2016],[\"Brandon Knight\",2016],[\"Troy Daniels\",2019],[\"Wayne Ellington\",2011],[\"James Anderson\",2011],[\"Tim Hardaway Jr.\",2016],[\"James Anderson\",2016],[\"Marcus Thornton\",2011],[\"Michael Redd\",2011],[\"James Jones\",2011],[\"Hamidou Diallo\",2019],[\"Allen Crabbe\",2014],[\"Tim Hardaway Jr.\",2015],[\"Randy Foye\",2014],[\"Richard Hamilton\",2012],[\"Daequan Cook\",2012],[\"Anthony Morrow\",2017],[\"Norman Powell\",2016],[\"Jimmer Fredette\",2013],[\"Gary Forbes\",2011],[\"Furkan Korkmaz\",2019],[\"Kirk Hinrich\",2011],[\"Tyler Dorsey\",2019],[\"Brandon Roy\",2010],[\"Brandon Rush\",2017],[\"Rasual Butler\",2010],[\"Zach LaVine\",2017],[\"Troy Daniels\",2014],[\"Jeremy Lamb\",2014],[\"Avery Bradley\",2018],[\"Keyon Dooling\",2011],[\"Xavier Henry\",2011],[\"Dahntay Jones\",2010],[\"Eric Gordon\",2016],[\"Eric Gordon\",2015],[\"Iman Shumpert\",2012],[\"Wayne Ellington\",2013],[\"Orlando Johnson\",2013],[\"Damyean Dotson\",2018],[\"Jared Cunningham\",2015],[\"Troy Daniels\",2016],[\"Dwayne Bacon\",2019],[\"Allen Crabbe\",2019],[\"John Jenkins\",2015],[\"Daequan Cook\",2010],[\"Troy Daniels\",2015],[\"Alec Burks\",2017],[\"Eric Gordon\",2012],[\"Ryan Broekhoff\",2019],[\"Thabo Sefolosha\",2011],[\"Marcus Georges-Hunt\",2018],[\"Lance Stephenson\",2011],[\"Mike Miller\",2010],[\"O.J. Mayo\",2015],[\"Will Barton\",2013],[\"O.J. Mayo\",2016],[\"Anthony Morrow\",2012],[\"Archie Goodwin\",2014],[\"Gerald Green\",2018]],\"hovertemplate\":\"pc1=%{x}<br>zeroed=%{y}<br>PLAYER=%{customdata[0]}<br>Year=%{customdata[1]}<extra></extra>\",\"legendgroup\":\"\",\"marker\":{\"color\":\"#636efa\",\"symbol\":\"circle\"},\"mode\":\"markers\",\"name\":\"\",\"orientation\":\"v\",\"showlegend\":false,\"x\":[1.4027269182301354,3.9520130436839915,7.969902754393785,1.1430975633857596,2.2525414857780546,1.7511202558973866,-0.46063792253651803,0.13571458254314775,2.1933438767044846,0.030720707653984682,6.332996820539382,0.015580552320548544,1.2469597219409627,3.5557814907271323,0.8789678564836658,8.072518584411617,2.6600861095178803,1.0989721979937528,1.6221519626687602,4.412216709082364,-0.6076130453922507,-0.6673919173529811,-0.5841677081970486,1.074094149501275,1.7391673038788473,-0.2320643510042782,1.729381157945422,-0.1009242480222196,-1.0748672372932715,-2.281377445209569,-0.7588149802066257,1.3060594500885792,0.8443285663686855,-1.6868655149355307,2.200731485016155,4.152154289403799,0.05391716393058823,1.3244594739289823,-1.2889242062346504,3.5628655368818887,3.1962096080390143,0.6726650809630504,2.8498717571862846,-1.6144315294604448,0.08942773061412265,3.253442850404141,-0.1240210179375954,-0.5055053383205335,0.2302783372995322,4.501496976883548,-1.9991374585783543,0.10701125312837947,1.0380673031146797,1.7300040146509321,-0.2266626741161618,2.0318773248593027,1.793044839931772,1.4841224006494755,7.621717625593924,5.703987032787775,2.9194572974325395,-0.0971346944960493,0.832805060753647,3.234489888919373,2.12074426107509,-1.6941558466563833,1.7450008861701114,1.7394911616934645,4.793778096488711,-0.3627053157502407,0.07467196658982782,4.27273861264002,1.3145947301397125,1.1927492431383546,0.20405721324187082,1.6605095821294988,1.1741782553317015,3.115955214626606,-1.569787382005954,1.334765249286095,3.7969733468132776,-0.4900911808855203,3.3777160025936555,1.3837674289045079,-2.788622992181837,3.2421635175097276,-1.2845112896949744,0.9557111628528094,1.4800568532512923,3.435130182814186,0.9032071159527383,1.5210375981845337,1.1944746752728046,-0.526010941076793,3.6001406621667345,-2.1495944657228074,0.140222829511577,1.5933763586549676,-0.5281679360018677,4.005815874071377,4.682332381510629,-0.9815866608648142,2.1650333630576557,2.5138818620851846,0.39534222346360265,-0.01938700295935781,2.035794501400017,1.0988768383684235,2.2970403497870917,-0.4558982004099579,1.4916570566153535,0.8321043713527226,-2.1164128571566847,3.057649749394451,-0.18588461689311903,3.1124009121110854,1.2090832089420338,0.8170513126549144,1.0549946679429372,2.9783032100875557,0.022720378129529935,-0.6675892139126351,6.236689549009459,0.4304776478263249,0.008891835932086117,-2.0235004477945657,-2.0870156703585785,-1.4993394832058067,-1.193538424391306,3.062638022422767,1.2484411160421018,-1.121095017540159,-0.7694988617454179,-0.04557251313349669,3.2086784619345994,4.877306949756677,-3.022948226791996,-1.4631330333456598,0.7597961261127653,-1.796285069907147,3.4959596915185887,4.420503976724199,-1.3260891421462235,-1.1395343482939002,0.756140089716094,0.709249741355573,0.8509793275796398,-0.2845888368626814,-0.4267798971399693,0.8474893233550134,0.3292109060352526,0.15257417784239907,1.0720699600984658,-1.9858054193129169,1.5554749824798373,0.45116334363084043,-0.24385507109554128,0.3791340538730456,-0.9924741679749355,0.23464933454007503,-2.4061696495593528,1.6448192510025066,1.7505387491840643,0.011067525116862778,1.5376078258070827,1.7823674543602577,-2.2680831546437767,-1.3772201262342183,0.9985406941290675,6.334804755890879,1.3325756246449316,1.893667687573439,1.136394171392298,-0.8451837023596485,-0.6070180353936845,0.7785459428166324,-0.17241267477760214,-1.3766152320259175,-0.8716717934758872,-0.4956493905204237,0.735972259204392,3.664105966451136,0.14986216787137127,-2.97108059027086,0.5576974764121075,2.0098837926408435,-0.9901417904392639,-1.6480144513600432,-0.41329392567645534,1.6936299258437857,-1.1384358849422611,-1.5074191452290147,-1.1613338477742414,-0.14037753139999504,-1.0560151029571283,-1.4748573328852912,1.6303852665047318,0.803516076401706,-0.31758797475714484,0.8361099656757086,1.517248565955915,-0.5872000654032945,-0.32443774211949894,-0.6344745768005772,5.698726410746898,-1.360019291323863,1.59617525269005,-2.4138760882937715,-1.0722910764968074,1.0146983491492516,-2.5137207094976617,3.43242904015688,-0.16739094401598317,8.1033427244163,-1.2559631070287431,3.9070618786810467,-3.9285665673200523,2.165044212099756,3.7734263373437007,-1.32856924132555,-2.436494452415563,1.527326792524568,-1.2102275051721205,0.6486827587017949,-0.6631481941344647,0.3075366511455207,2.616296985710901,0.08900957966524929,-2.565698747240144,-0.11906317459572914,-0.050415803453388315,1.945025654359418,0.7952335711857819,2.422168150610955,-1.3774412103210931,2.8355685393937082,-1.3019921171293505,0.2738337016002713,-0.16974581473649628,0.1525825899215064,0.39748757572795307,0.9719408460555935,-2.079037528467274,1.3617007962276981,1.280048730571271,-2.987253662198226,-0.3188451792618554,1.0765316388951518,-1.438073337764768,1.4434645216446804,-1.5580264264227197,-1.5088203678515961,-0.8183379041668072,-1.6278373851190635,-0.12981972502986702,-0.46183918913710054,1.1188316099621753,0.9960292381378212,-2.0354513549497297,0.5340305611223216,-3.2439620296487175,1.5528462287126203,0.7992502589302803,-1.4733824424438882,-0.8528241882170299,1.3117993004802972,-3.441626995084517,-1.9231494018197282,-1.512997393973667,4.534547649051448,-1.432183176952755,4.37016632385074,6.470922559996425,2.652692831375077,-2.1217984467822366,-1.3011711862132729,1.6903216607515097,0.4472134998495752,-2.42950494080494,3.7366646224789335,3.379971320970974,-0.19224817072417855,0.4177273908073498,2.205610545792475,-0.6524181992004737,-2.8822031230069185,2.4899078257737512,-1.8953899567344583,-0.20860925021430837,-0.7398299494729608,-3.359295827838224,-3.1306111510829044,0.845430011909531,1.2271717803060909,2.1042697168934463,-0.010194440718314492,0.7414490633131167,-1.6813095628732337,-0.7782694404603614,-0.39857402469444736,3.2935397110801743,1.081518379350066,-0.226677631052133,-1.8445253210887698,-1.5030977613781662,-2.089105513290458,0.6341779098499158,2.4688026819811713,2.6160558313876665,1.3738077743223178,-1.3461069294277546,-0.8543365707916506,-0.5575762462804845,3.875746509897186,-1.5864875218735346,-0.6447710799968526,0.10039688110621366,2.2864255984434587,5.201982036823518,-0.8520200633223879,1.542627127534117,0.09847874242973702,1.8105529991116243,0.9236187532123035,2.1339705014542933,-1.65978384366549,-3.7030810803362373,-1.6768152608495674,-2.4633543477359683,-0.7981446172047767,0.05698638145432287,-3.416351720469284,2.5184972273277673,1.8137925776604373,0.8375881438473208,3.241463056387537,0.9127472429240694,-0.3462671577903852,0.13250141752179487,-3.7594465320214945,-0.9485117192908804,4.071076456685813,1.7002380864997637,-2.9390069433529376,2.7211199822971173,-2.1671786673202362,-2.21589525896217,0.8959378090434486,-0.9716089987673544,-1.4897005467063744,-0.2284783160142549,-2.361240881358316,-1.0561694898579916,-3.9537860030892307,-2.616871885918343,0.6264772751672971,-1.9080865012315797,0.5337802751769375,0.4996510357828521,-2.028868884982409,-0.06476163142317845,0.41814193189396087,0.7244115900043833,-2.840685137852029,-1.7723711814989942,-2.1997589568829823,1.6757891382523504,-1.979455879265987,1.7975115010016933,-1.3421065704738993,2.219455113748315,1.6812223917059974,0.8081664788654694,-0.16064250551285655,4.497321421782342,-0.8976536887373904,-1.408346048899022,-1.1292173976384177,-0.4559272162942853,-2.931806811828096,-3.0410826442035175,-1.282347192540963,-0.22492360042155415,0.11763555942705901,-1.4691303074136124,2.3885947617804795,3.415079976115456,0.19470295322595302,-4.06818806862281,-0.3119705043525853,-0.4726658246203024,-1.3004557515997288,-3.0550492869773516,-1.101836492307271,-1.7337088278829529,-1.2662749735754713,-0.34322691597625166,0.4812601422554611,-2.5612350198795237,1.5521766089102096,-3.483054287845231,-2.521425322333363,-2.621763495785689,1.5320261873589869,4.03364046814425,-3.44463457836752,-2.7076516287785624,-0.6840519863904125,-1.4154727188569578,2.81919808244674,-3.2913344397058673,-4.083235534024402,-1.0410261606988112,-2.9002064641122267,-1.6558081817437198,-2.5078357604263855,1.494047060914314,0.6076172697299137,1.5396393039694145,-2.5874795908521655,1.580156985954236,2.8950839840865905,-0.45596177552474076,1.585374057412384,-2.2802240198112966,-1.9217649358079743,-1.4285295802933355,-0.2842307015467064,3.8328019860326683,-0.2561040732946025,-3.9344469917679077,0.3482799504809995,-2.586384082453463,-2.3932628456409124,-0.09169363601891813,-0.7737316471521075,-3.9499428056617973,-3.876134296918549,-4.39607068217962,-4.1707439969218205,-3.7467616448541263,0.9918234151294008,1.3743656962076813,-2.510788065974095,3.547690521439376,0.02577759578785922,-0.124347863590766,-2.5840846455125326,-3.4495309290844607,-2.0717662741068135,-1.126334466699888,-1.1918988513678865,-0.21329838569050932,-0.0787770427080394,3.404635247770838,-2.62016752398704,-2.9218399181345607,-3.8888288509638147,-2.2571369379074304,-3.049678465443189,2.129466668885983,-3.42587664962922,-3.642273211951364,-2.95528276329992,-3.1209908644302398,-2.768795181213835,-1.3599763402184346,-1.154538707004501,-4.565814794196724,-3.6050042761175862,-2.135631344730374,-2.8738950887673465,-2.327103281448555,-2.2024200942520027,-1.0578422668832002,-2.7896109272532037,-0.28424834833223966,-2.735261408347936,-3.8764244863913206,1.5413538862754488,-3.359564254382849,-2.307979632441426,0.18625674007956214,-3.481195243129907,-3.0504944727197474,-2.825691818009306,0.4217788807630038,0.4318834317345896,-1.1604606781748954,-3.7277369243880187,-4.623816531424033,-3.269729629805538,-4.846306556920014,-3.1556327519747907,-2.330102129782901,-1.1844777399079274,-3.235104919571223,-3.308684869477479,-3.659313409497105,-2.4877228922948307,0.6505926772624141,-2.67771794734332,-0.8828557316757258,-4.939530479322554,-3.991262215380779,-0.835825647795843,-0.08712747237062615,-3.8465434535725826,-0.2824171799137475,-3.878530915949237,-2.6693929355160693,-0.3493675134709233],\"xaxis\":\"x\",\"y\":[0,0,0,0,0,0,0,0,0,0,0,0,0,0,0,0,0,0,0,0,0,0,0,0,0,0,0,0,0,0,0,0,0,0,0,0,0,0,0,0,0,0,0,0,0,0,0,0,0,0,0,0,0,0,0,0,0,0,0,0,0,0,0,0,0,0,0,0,0,0,0,0,0,0,0,0,0,0,0,0,0,0,0,0,0,0,0,0,0,0,0,0,0,0,0,0,0,0,0,0,0,0,0,0,0,0,0,0,0,0,0,0,0,0,0,0,0,0,0,0,0,0,0,0,0,0,0,0,0,0,0,0,0,0,0,0,0,0,0,0,0,0,0,0,0,0,0,0,0,0,0,0,0,0,0,0,0,0,0,0,0,0,0,0,0,0,0,0,0,0,0,0,0,0,0,0,0,0,0,0,0,0,0,0,0,0,0,0,0,0,0,0,0,0,0,0,0,0,0,0,0,0,0,0,0,0,0,0,0,0,0,0,0,0,0,0,0,0,0,0,0,0,0,0,0,0,0,0,0,0,0,0,0,0,0,0,0,0,0,0,0,0,0,0,0,0,0,0,0,0,0,0,0,0,0,0,0,0,0,0,0,0,0,0,0,0,0,0,0,0,0,0,0,0,0,0,0,0,0,0,0,0,0,0,0,0,0,0,0,0,0,0,0,0,0,0,0,0,0,0,0,0,0,0,0,0,0,0,0,0,0,0,0,0,0,0,0,0,0,0,0,0,0,0,0,0,0,0,0,0,0,0,0,0,0,0,0,0,0,0,0,0,0,0,0,0,0,0,0,0,0,0,0,0,0,0,0,0,0,0,0,0,0,0,0,0,0,0,0,0,0,0,0,0,0,0,0,0,0,0,0,0,0,0,0,0,0,0,0,0,0,0,0,0,0,0,0,0,0,0,0,0,0,0,0,0,0,0,0,0,0,0,0,0,0,0,0,0,0,0,0,0,0,0,0,0,0,0,0,0,0,0,0,0,0,0,0,0,0,0,0,0,0,0,0,0,0,0,0,0,0,0,0,0,0,0,0,0,0,0,0,0,0,0,0,0,0,0,0,0,0,0,0,0,0,0,0,0,0,0,0,0,0,0,0,0,0,0,0,0,0,0,0,0,0,0,0,0,0,0,0,0,0,0,0,0,0,0,0,0,0,0],\"yaxis\":\"y\",\"type\":\"scatter\"}],                        {\"template\":{\"data\":{\"bar\":[{\"error_x\":{\"color\":\"#2a3f5f\"},\"error_y\":{\"color\":\"#2a3f5f\"},\"marker\":{\"line\":{\"color\":\"#E5ECF6\",\"width\":0.5},\"pattern\":{\"fillmode\":\"overlay\",\"size\":10,\"solidity\":0.2}},\"type\":\"bar\"}],\"barpolar\":[{\"marker\":{\"line\":{\"color\":\"#E5ECF6\",\"width\":0.5},\"pattern\":{\"fillmode\":\"overlay\",\"size\":10,\"solidity\":0.2}},\"type\":\"barpolar\"}],\"carpet\":[{\"aaxis\":{\"endlinecolor\":\"#2a3f5f\",\"gridcolor\":\"white\",\"linecolor\":\"white\",\"minorgridcolor\":\"white\",\"startlinecolor\":\"#2a3f5f\"},\"baxis\":{\"endlinecolor\":\"#2a3f5f\",\"gridcolor\":\"white\",\"linecolor\":\"white\",\"minorgridcolor\":\"white\",\"startlinecolor\":\"#2a3f5f\"},\"type\":\"carpet\"}],\"choropleth\":[{\"colorbar\":{\"outlinewidth\":0,\"ticks\":\"\"},\"type\":\"choropleth\"}],\"contour\":[{\"colorbar\":{\"outlinewidth\":0,\"ticks\":\"\"},\"colorscale\":[[0.0,\"#0d0887\"],[0.1111111111111111,\"#46039f\"],[0.2222222222222222,\"#7201a8\"],[0.3333333333333333,\"#9c179e\"],[0.4444444444444444,\"#bd3786\"],[0.5555555555555556,\"#d8576b\"],[0.6666666666666666,\"#ed7953\"],[0.7777777777777778,\"#fb9f3a\"],[0.8888888888888888,\"#fdca26\"],[1.0,\"#f0f921\"]],\"type\":\"contour\"}],\"contourcarpet\":[{\"colorbar\":{\"outlinewidth\":0,\"ticks\":\"\"},\"type\":\"contourcarpet\"}],\"heatmap\":[{\"colorbar\":{\"outlinewidth\":0,\"ticks\":\"\"},\"colorscale\":[[0.0,\"#0d0887\"],[0.1111111111111111,\"#46039f\"],[0.2222222222222222,\"#7201a8\"],[0.3333333333333333,\"#9c179e\"],[0.4444444444444444,\"#bd3786\"],[0.5555555555555556,\"#d8576b\"],[0.6666666666666666,\"#ed7953\"],[0.7777777777777778,\"#fb9f3a\"],[0.8888888888888888,\"#fdca26\"],[1.0,\"#f0f921\"]],\"type\":\"heatmap\"}],\"heatmapgl\":[{\"colorbar\":{\"outlinewidth\":0,\"ticks\":\"\"},\"colorscale\":[[0.0,\"#0d0887\"],[0.1111111111111111,\"#46039f\"],[0.2222222222222222,\"#7201a8\"],[0.3333333333333333,\"#9c179e\"],[0.4444444444444444,\"#bd3786\"],[0.5555555555555556,\"#d8576b\"],[0.6666666666666666,\"#ed7953\"],[0.7777777777777778,\"#fb9f3a\"],[0.8888888888888888,\"#fdca26\"],[1.0,\"#f0f921\"]],\"type\":\"heatmapgl\"}],\"histogram\":[{\"marker\":{\"pattern\":{\"fillmode\":\"overlay\",\"size\":10,\"solidity\":0.2}},\"type\":\"histogram\"}],\"histogram2d\":[{\"colorbar\":{\"outlinewidth\":0,\"ticks\":\"\"},\"colorscale\":[[0.0,\"#0d0887\"],[0.1111111111111111,\"#46039f\"],[0.2222222222222222,\"#7201a8\"],[0.3333333333333333,\"#9c179e\"],[0.4444444444444444,\"#bd3786\"],[0.5555555555555556,\"#d8576b\"],[0.6666666666666666,\"#ed7953\"],[0.7777777777777778,\"#fb9f3a\"],[0.8888888888888888,\"#fdca26\"],[1.0,\"#f0f921\"]],\"type\":\"histogram2d\"}],\"histogram2dcontour\":[{\"colorbar\":{\"outlinewidth\":0,\"ticks\":\"\"},\"colorscale\":[[0.0,\"#0d0887\"],[0.1111111111111111,\"#46039f\"],[0.2222222222222222,\"#7201a8\"],[0.3333333333333333,\"#9c179e\"],[0.4444444444444444,\"#bd3786\"],[0.5555555555555556,\"#d8576b\"],[0.6666666666666666,\"#ed7953\"],[0.7777777777777778,\"#fb9f3a\"],[0.8888888888888888,\"#fdca26\"],[1.0,\"#f0f921\"]],\"type\":\"histogram2dcontour\"}],\"mesh3d\":[{\"colorbar\":{\"outlinewidth\":0,\"ticks\":\"\"},\"type\":\"mesh3d\"}],\"parcoords\":[{\"line\":{\"colorbar\":{\"outlinewidth\":0,\"ticks\":\"\"}},\"type\":\"parcoords\"}],\"pie\":[{\"automargin\":true,\"type\":\"pie\"}],\"scatter\":[{\"marker\":{\"colorbar\":{\"outlinewidth\":0,\"ticks\":\"\"}},\"type\":\"scatter\"}],\"scatter3d\":[{\"line\":{\"colorbar\":{\"outlinewidth\":0,\"ticks\":\"\"}},\"marker\":{\"colorbar\":{\"outlinewidth\":0,\"ticks\":\"\"}},\"type\":\"scatter3d\"}],\"scattercarpet\":[{\"marker\":{\"colorbar\":{\"outlinewidth\":0,\"ticks\":\"\"}},\"type\":\"scattercarpet\"}],\"scattergeo\":[{\"marker\":{\"colorbar\":{\"outlinewidth\":0,\"ticks\":\"\"}},\"type\":\"scattergeo\"}],\"scattergl\":[{\"marker\":{\"colorbar\":{\"outlinewidth\":0,\"ticks\":\"\"}},\"type\":\"scattergl\"}],\"scattermapbox\":[{\"marker\":{\"colorbar\":{\"outlinewidth\":0,\"ticks\":\"\"}},\"type\":\"scattermapbox\"}],\"scatterpolar\":[{\"marker\":{\"colorbar\":{\"outlinewidth\":0,\"ticks\":\"\"}},\"type\":\"scatterpolar\"}],\"scatterpolargl\":[{\"marker\":{\"colorbar\":{\"outlinewidth\":0,\"ticks\":\"\"}},\"type\":\"scatterpolargl\"}],\"scatterternary\":[{\"marker\":{\"colorbar\":{\"outlinewidth\":0,\"ticks\":\"\"}},\"type\":\"scatterternary\"}],\"surface\":[{\"colorbar\":{\"outlinewidth\":0,\"ticks\":\"\"},\"colorscale\":[[0.0,\"#0d0887\"],[0.1111111111111111,\"#46039f\"],[0.2222222222222222,\"#7201a8\"],[0.3333333333333333,\"#9c179e\"],[0.4444444444444444,\"#bd3786\"],[0.5555555555555556,\"#d8576b\"],[0.6666666666666666,\"#ed7953\"],[0.7777777777777778,\"#fb9f3a\"],[0.8888888888888888,\"#fdca26\"],[1.0,\"#f0f921\"]],\"type\":\"surface\"}],\"table\":[{\"cells\":{\"fill\":{\"color\":\"#EBF0F8\"},\"line\":{\"color\":\"white\"}},\"header\":{\"fill\":{\"color\":\"#C8D4E3\"},\"line\":{\"color\":\"white\"}},\"type\":\"table\"}]},\"layout\":{\"annotationdefaults\":{\"arrowcolor\":\"#2a3f5f\",\"arrowhead\":0,\"arrowwidth\":1},\"autotypenumbers\":\"strict\",\"coloraxis\":{\"colorbar\":{\"outlinewidth\":0,\"ticks\":\"\"}},\"colorscale\":{\"diverging\":[[0,\"#8e0152\"],[0.1,\"#c51b7d\"],[0.2,\"#de77ae\"],[0.3,\"#f1b6da\"],[0.4,\"#fde0ef\"],[0.5,\"#f7f7f7\"],[0.6,\"#e6f5d0\"],[0.7,\"#b8e186\"],[0.8,\"#7fbc41\"],[0.9,\"#4d9221\"],[1,\"#276419\"]],\"sequential\":[[0.0,\"#0d0887\"],[0.1111111111111111,\"#46039f\"],[0.2222222222222222,\"#7201a8\"],[0.3333333333333333,\"#9c179e\"],[0.4444444444444444,\"#bd3786\"],[0.5555555555555556,\"#d8576b\"],[0.6666666666666666,\"#ed7953\"],[0.7777777777777778,\"#fb9f3a\"],[0.8888888888888888,\"#fdca26\"],[1.0,\"#f0f921\"]],\"sequentialminus\":[[0.0,\"#0d0887\"],[0.1111111111111111,\"#46039f\"],[0.2222222222222222,\"#7201a8\"],[0.3333333333333333,\"#9c179e\"],[0.4444444444444444,\"#bd3786\"],[0.5555555555555556,\"#d8576b\"],[0.6666666666666666,\"#ed7953\"],[0.7777777777777778,\"#fb9f3a\"],[0.8888888888888888,\"#fdca26\"],[1.0,\"#f0f921\"]]},\"colorway\":[\"#636efa\",\"#EF553B\",\"#00cc96\",\"#ab63fa\",\"#FFA15A\",\"#19d3f3\",\"#FF6692\",\"#B6E880\",\"#FF97FF\",\"#FECB52\"],\"font\":{\"color\":\"#2a3f5f\"},\"geo\":{\"bgcolor\":\"white\",\"lakecolor\":\"white\",\"landcolor\":\"#E5ECF6\",\"showlakes\":true,\"showland\":true,\"subunitcolor\":\"white\"},\"hoverlabel\":{\"align\":\"left\"},\"hovermode\":\"closest\",\"mapbox\":{\"style\":\"light\"},\"paper_bgcolor\":\"white\",\"plot_bgcolor\":\"#E5ECF6\",\"polar\":{\"angularaxis\":{\"gridcolor\":\"white\",\"linecolor\":\"white\",\"ticks\":\"\"},\"bgcolor\":\"#E5ECF6\",\"radialaxis\":{\"gridcolor\":\"white\",\"linecolor\":\"white\",\"ticks\":\"\"}},\"scene\":{\"xaxis\":{\"backgroundcolor\":\"#E5ECF6\",\"gridcolor\":\"white\",\"gridwidth\":2,\"linecolor\":\"white\",\"showbackground\":true,\"ticks\":\"\",\"zerolinecolor\":\"white\"},\"yaxis\":{\"backgroundcolor\":\"#E5ECF6\",\"gridcolor\":\"white\",\"gridwidth\":2,\"linecolor\":\"white\",\"showbackground\":true,\"ticks\":\"\",\"zerolinecolor\":\"white\"},\"zaxis\":{\"backgroundcolor\":\"#E5ECF6\",\"gridcolor\":\"white\",\"gridwidth\":2,\"linecolor\":\"white\",\"showbackground\":true,\"ticks\":\"\",\"zerolinecolor\":\"white\"}},\"shapedefaults\":{\"line\":{\"color\":\"#2a3f5f\"}},\"ternary\":{\"aaxis\":{\"gridcolor\":\"white\",\"linecolor\":\"white\",\"ticks\":\"\"},\"baxis\":{\"gridcolor\":\"white\",\"linecolor\":\"white\",\"ticks\":\"\"},\"bgcolor\":\"#E5ECF6\",\"caxis\":{\"gridcolor\":\"white\",\"linecolor\":\"white\",\"ticks\":\"\"}},\"title\":{\"x\":0.05},\"xaxis\":{\"automargin\":true,\"gridcolor\":\"white\",\"linecolor\":\"white\",\"ticks\":\"\",\"title\":{\"standoff\":15},\"zerolinecolor\":\"white\",\"zerolinewidth\":2},\"yaxis\":{\"automargin\":true,\"gridcolor\":\"white\",\"linecolor\":\"white\",\"ticks\":\"\",\"title\":{\"standoff\":15},\"zerolinecolor\":\"white\",\"zerolinewidth\":2}}},\"xaxis\":{\"anchor\":\"y\",\"domain\":[0.0,1.0],\"title\":{\"text\":\"pc1\"}},\"yaxis\":{\"anchor\":\"x\",\"domain\":[0.0,1.0],\"title\":{\"text\":\"zeroed\"}},\"legend\":{\"tracegroupgap\":0},\"margin\":{\"t\":60}},                        {\"responsive\": true}                    ).then(function(){\n",
              "                            \n",
              "var gd = document.getElementById('88bae11b-6f90-4562-af8a-44ebaed17b28');\n",
              "var x = new MutationObserver(function (mutations, observer) {{\n",
              "        var display = window.getComputedStyle(gd).display;\n",
              "        if (!display || display === 'none') {{\n",
              "            console.log([gd, 'removed!']);\n",
              "            Plotly.purge(gd);\n",
              "            observer.disconnect();\n",
              "        }}\n",
              "}});\n",
              "\n",
              "// Listen for the removal of the full notebook cells\n",
              "var notebookContainer = gd.closest('#notebook-container');\n",
              "if (notebookContainer) {{\n",
              "    x.observe(notebookContainer, {childList: true});\n",
              "}}\n",
              "\n",
              "// Listen for the clearing of the current output cell\n",
              "var outputEl = gd.closest('.output');\n",
              "if (outputEl) {{\n",
              "    x.observe(outputEl, {childList: true});\n",
              "}}\n",
              "\n",
              "                        })                };                            </script>        </div>\n",
              "</body>\n",
              "</html>"
            ]
          },
          "metadata": {}
        }
      ]
    },
    {
      "cell_type": "markdown",
      "source": [
        "When reducing to one dimension a single player does stand out. James Harden's 2018, 2016 and 2014 seasons are all stand alone seperate from the other players. Generally, our one-dimensional does a fairly good job at seperating the good players from the bad players. James Harden, Bradley Beal, Demar Derozan etc. are all towards the front while towards the end there are players like Lance Stephenson and Orlando Johsnon. These are players that were never near an all-star or all-nba caliber. However, there is probably a lot of information and nuance that is being lossed in translation. Consequently, we are going to look at the shooting guards from more dimensions.\n"
      ],
      "metadata": {
        "id": "nRpgVdFX98J3"
      }
    },
    {
      "cell_type": "markdown",
      "source": [
        "Along with finding the best players we also want to find the players who are similar. So, we want to implement k-means clustering along with PCA to get the players who are similar and at the same time find the best players for that position through the graph. We also want to compare how the clustering changes as we increase the dimensions by taking more principal components each step. We want to do clustering for PC1 alone first and then consider 2, consider 3 and consider 10. As we saw above that PC1 alone accounts for only 35 percentof total variation. Whereas if we take 10 principal components we are accounting for more 90 percent of total variation\n",
        "\n",
        "So, through next step we want to find the number of clusters that need to be taken into consideration, when we run it for 1,3 and 10 components."
      ],
      "metadata": {
        "id": "gyH_0HQEKWTE"
      }
    },
    {
      "cell_type": "code",
      "source": [
        "#@title To find no of clusters with only one principal component\n",
        "\n",
        "X=pca.iloc[:,0:1] # Using the the dataset of Section 1\n",
        "K = range(1,11)  # Apply kmeans 1 to 10\n",
        "kmeans_models = [skc.KMeans(k).fit(X) for k in K]\n",
        "centroids = [m.cluster_centers_ for m in kmeans_models]\n",
        "D_k = [spd.cdist(X, cent, 'euclidean') for cent in centroids]\n",
        "cIdx = [np.argmin(D,axis=1) for D in D_k]\n",
        "dist = [np.min(D,axis=1) for D in D_k]\n",
        "avgWithinSS = [sum(d)/X.shape[0] for d in dist]\n",
        "\n",
        "# plot elbow curve\n",
        "plt.plot(K, avgWithinSS, 'b*-')\n",
        "plt.xlabel('Number of clusters');\n",
        "plt.ylabel('Average within-cluster sum of squares');\n",
        "plt.title('Elbow for K-Means clustering');"
      ],
      "metadata": {
        "colab": {
          "base_uri": "https://localhost:8080/",
          "height": 295
        },
        "id": "GMIPcnCkcG_y",
        "outputId": "9ca5c69f-f90e-4272-ba20-66c80fc82172",
        "cellView": "form"
      },
      "execution_count": null,
      "outputs": [
        {
          "output_type": "display_data",
          "data": {
            "text/plain": [
              "<Figure size 432x288 with 1 Axes>"
            ],
            "image/png": "[encoded data removed]"
          },
          "metadata": {
            "needs_background": "light"
          }
        }
      ]
    },
    {
      "cell_type": "markdown",
      "source": [
        "We are choosing the no of clusters to be based on elbow point 4."
      ],
      "metadata": {
        "id": "s5_b-nRzRKxr"
      }
    },
    {
      "cell_type": "code",
      "source": [
        "#@title To find no of clusters with only three principal components\n",
        "X=pca.iloc[:,0:3] # Using the the dataset of Section 1\n",
        "K = range(1,11)  # Apply kmeans 1 to 10\n",
        "kmeans_models = [skc.KMeans(k).fit(X) for k in K]\n",
        "centroids = [m.cluster_centers_ for m in kmeans_models]\n",
        "D_k = [spd.cdist(X, cent, 'euclidean') for cent in centroids]\n",
        "cIdx = [np.argmin(D,axis=1) for D in D_k]\n",
        "dist = [np.min(D,axis=1) for D in D_k]\n",
        "avgWithinSS = [sum(d)/X.shape[0] for d in dist]\n",
        "\n",
        "# plot elbow curve\n",
        "plt.plot(K, avgWithinSS, 'b*-')\n",
        "plt.xlabel('Number of clusters');\n",
        "plt.ylabel('Average within-cluster sum of squares');\n",
        "plt.title('K-Means clustering with 3 principal components');"
      ],
      "metadata": {
        "colab": {
          "base_uri": "https://localhost:8080/",
          "height": 295
        },
        "id": "v4KsOCw4Qz76",
        "outputId": "4be82e80-3013-49cc-8033-05e04373971f",
        "cellView": "form"
      },
      "execution_count": null,
      "outputs": [
        {
          "output_type": "display_data",
          "data": {
            "text/plain": [
              "<Figure size 432x288 with 1 Axes>"
            ],
            "image/png": "[encoded data removed]"
          },
          "metadata": {
            "needs_background": "light"
          }
        }
      ]
    },
    {
      "cell_type": "markdown",
      "source": [
        "We are choosing the no of clusters to be 5 for 3 principal components as there is no clear elbow point and average within cluster distance decreases from 4 to 5."
      ],
      "metadata": {
        "id": "DNs-XjEPRT9s"
      }
    },
    {
      "cell_type": "code",
      "source": [
        "#@title To find no of clusters with 10 principal components\n",
        "X=pca.iloc[:,0:10] # Using the the dataset of Section 1\n",
        "K = range(1,11)  # Apply kmeans 1 to 10\n",
        "kmeans_models = [skc.KMeans(k).fit(X) for k in K]\n",
        "centroids = [m.cluster_centers_ for m in kmeans_models]\n",
        "D_k = [spd.cdist(X, cent, 'euclidean') for cent in centroids]\n",
        "cIdx = [np.argmin(D,axis=1) for D in D_k]\n",
        "dist = [np.min(D,axis=1) for D in D_k]\n",
        "avgWithinSS = [sum(d)/X.shape[0] for d in dist]\n",
        "\n",
        "# plot elbow curve\n",
        "plt.plot(K, avgWithinSS, 'b*-')\n",
        "plt.xlabel('Number of clusters');\n",
        "plt.ylabel('Average within-cluster sum of squares');\n",
        "plt.title('K-Means clustering with 10 principal components');"
      ],
      "metadata": {
        "colab": {
          "base_uri": "https://localhost:8080/",
          "height": 295
        },
        "id": "a13nn55AQ1St",
        "outputId": "3e4c62ff-b026-43b8-ea06-dea09175851d",
        "cellView": "form"
      },
      "execution_count": null,
      "outputs": [
        {
          "output_type": "display_data",
          "data": {
            "text/plain": [
              "<Figure size 432x288 with 1 Axes>"
            ],
            "image/png": "[encoded data removed]"
          },
          "metadata": {
            "needs_background": "light"
          }
        }
      ]
    },
    {
      "cell_type": "markdown",
      "source": [
        "We are choosing the no of clusters to be 5 for 10 principal components as there is no clear elbow point and average within cluster distance decreases from 4 to 5."
      ],
      "metadata": {
        "id": "cD90IanZRqHs"
      }
    },
    {
      "cell_type": "markdown",
      "source": [
        "By evaluating the graph we can conclude that 4 or 5 clusters is the correct number."
      ],
      "metadata": {
        "id": "BwsCNhtkBwsZ"
      }
    },
    {
      "cell_type": "markdown",
      "source": [
        "The below code does k-means clustering on one principal component to find index which will be used to automate the clustering on all princpal components and store them in a dataframe"
      ],
      "metadata": {
        "id": "KgJwaE27LvLa"
      }
    },
    {
      "cell_type": "code",
      "source": [
        "#@title k-means clustering with one principal component to find index.\n",
        "df_pc_only=df_after_pca.iloc[:,0:1]\n",
        "#print(df_pc_only)\n",
        "#df_pc_only=clean_dataset(df_pc_only)\n",
        "kmeans_model = skc.KMeans(n_clusters=4,init='k-means++',random_state=42)\n",
        "#kmeans_model = skc.KMeans(n_clusters=5,init='k-means++',random_state=42)\n",
        "\n",
        "kmeans_model.fit(df_pc_only)\n",
        "centroids = kmeans_model.cluster_centers_\n",
        "centroids\n",
        "df_pc_only['cluster_labels_kmeans'] = kmeans_model.labels_\n",
        "df_cluster = pd.concat([df_pc_only, df_pca_labels], axis = 1)\n",
        "\n",
        "print(df_cluster[(df_cluster['PLAYER']==\"James Harden\") & (df_cluster[\"Year\"]==2018)][\"PLAYER\"])"
      ],
      "metadata": {
        "colab": {
          "base_uri": "https://localhost:8080/"
        },
        "id": "xCQZZUlxU7YT",
        "outputId": "b9ac232b-a0e5-4f1d-a8cb-2f39d0f1afca",
        "cellView": "form"
      },
      "execution_count": null,
      "outputs": [
        {
          "output_type": "stream",
          "name": "stdout",
          "text": [
            "213    James Harden\n",
            "Name: PLAYER, dtype: object\n"
          ]
        }
      ]
    },
    {
      "cell_type": "code",
      "source": [
        "index=213"
      ],
      "metadata": {
        "id": "kbV9QLTGV8j4"
      },
      "execution_count": null,
      "outputs": []
    },
    {
      "cell_type": "markdown",
      "source": [
        "index=213"
      ],
      "metadata": {
        "id": "8zSb9mamVWIV"
      }
    },
    {
      "cell_type": "markdown",
      "source": [
        "This is because we want to compare how clustering is done in comparision as we increase the dimensions and for that cluster labels should remain same, but when we implement k-means it randomly sets cluster labels. To allow us to compare how clustering is done across the dimensions. we are taking the best players index and setting it to get the cluster name constant for each iteration where we immplement clustering for one principal component and next two and so on."
      ],
      "metadata": {
        "id": "uxu11-OfVv1B"
      }
    },
    {
      "cell_type": "code",
      "source": [
        "#@title Clustering code for multiple dimensions\n",
        "\n",
        "import sklearn as sk\n",
        "import sklearn.cluster as skc\n",
        "\n",
        "labels_dict={1: [],2: [], 3: [], 10: []}\n",
        "pca_comp=[1,2,3,10]\n",
        "finder_constant=0\n",
        "n=4\n",
        "for p in pca_comp:\n",
        "  #print(n)\n",
        "  df_pc_only=df_after_pca.iloc[:,0:p]\n",
        "  kmeans_model = skc.KMeans(n_clusters=n,init='k-means++',random_state=42)\n",
        "  kmeans_model.fit(df_pc_only)\n",
        "  centroids = kmeans_model.cluster_centers_\n",
        "  labels = list(kmeans_model.labels_)\n",
        "  if p==1:\n",
        "    label_top=labels[index]\n",
        "    finder_constant=label_top\n",
        "  else:\n",
        "    label_top_1=labels[index]\n",
        "    changer= {0:0,1:1,2:2,3:3,4:4,5:5}\n",
        "    changer[label_top_1]=label_top\n",
        "    changer[label_top]=label_top_1\n",
        "    #print(changer)\n",
        "    labels= [changer[a] for a in labels]\n",
        "  labels_dict[p] = labels\n",
        "  if p==1:\n",
        "    n=n+1"
      ],
      "metadata": {
        "id": "56SqeKRClBkb",
        "cellView": "form"
      },
      "execution_count": null,
      "outputs": []
    },
    {
      "cell_type": "code",
      "source": [
        "#@title additional code for storing the cluster labels for multiple scenarios in a dataframe\n",
        "labels_components=pd.DataFrame(labels_dict)\n",
        "labels_components.columns=[\"comp_1\",\"comp_2\",\"comp_3\",\"comp_10\"]\n",
        "df_cluster = pd.concat([df_pc_only,labels_components, df_pca_labels], axis = 1)\n",
        "df_cluster[\"player-year-tm\"] = df_cluster[\"PLAYER\"] + \"-\" + df_cluster[\"Year\"].astype(str) + \"-\" + df_cluster[\"Tm\"]\n",
        "df_cluster['comp_1'] = df_cluster['comp_1'].astype(str)\n",
        "df_cluster['comp_2'] = df_cluster['comp_2'].astype(str)\n",
        "df_cluster['comp_3'] = df_cluster['comp_3'].astype(str)\n",
        "df_cluster['comp_10'] = df_cluster['comp_10'].astype(str)\n",
        "finder_constant = str(finder_constant)\n",
        "comp_1_players=df_cluster[df_cluster[\"comp_1\"]==finder_constant][[\"player-year-tm\"]][\"player-year-tm\"].tolist()\n",
        "comp_2_players=df_cluster[df_cluster[\"comp_2\"]==finder_constant][[\"player-year-tm\"]][\"player-year-tm\"].tolist()\n",
        "comp_3_players=df_cluster[df_cluster[\"comp_3\"]==finder_constant][[\"player-year-tm\"]][\"player-year-tm\"].tolist()\n",
        "comp_10_players=df_cluster[df_cluster[\"comp_10\"]==finder_constant][[\"player-year-tm\"]][\"player-year-tm\"].tolist()"
      ],
      "metadata": {
        "id": "EyyQ4Vb7364m",
        "cellView": "form"
      },
      "execution_count": null,
      "outputs": []
    },
    {
      "cell_type": "markdown",
      "source": [
        "**Comparing most productive shooting gaurd cluster with only one principal componet, 3 principal components and 10 components.**"
      ],
      "metadata": {
        "id": "Ani4ocjmaLIR"
      }
    },
    {
      "cell_type": "code",
      "source": [
        "set(comp_1_players) - set(comp_10_players)"
      ],
      "metadata": {
        "colab": {
          "base_uri": "https://localhost:8080/"
        },
        "id": "K6miCV8M4p8u",
        "outputId": "4e3f7c2d-c293-411d-bbe7-f5e216af6285"
      },
      "execution_count": null,
      "outputs": [
        {
          "output_type": "execute_result",
          "data": {
            "text/plain": [
              "{'Avery Bradley-2017-BOS',\n",
              " 'Danny Green-2014-SAS',\n",
              " 'Giannis Antetokounmpo-2014-MIL',\n",
              " 'Jimmy Butler-2014-CHI',\n",
              " 'Patrick Beverley-2017-HOU',\n",
              " 'Paul George-2011-IND'}"
            ]
          },
          "metadata": {},
          "execution_count": 346
        }
      ]
    },
    {
      "cell_type": "markdown",
      "source": [
        "clustering with only one principal component considered these players along with their respective seasons to be most productive even though when they are not."
      ],
      "metadata": {
        "id": "hYZW1Sh9FxUP"
      }
    },
    {
      "cell_type": "code",
      "source": [
        "set(comp_10_players) - set(comp_1_players)"
      ],
      "metadata": {
        "colab": {
          "base_uri": "https://localhost:8080/"
        },
        "id": "tyLphIkoDqGw",
        "outputId": "bfe861c1-9ba7-4a34-bd4d-b7f2942f6a41"
      },
      "execution_count": null,
      "outputs": [
        {
          "output_type": "execute_result",
          "data": {
            "text/plain": [
              "{'Andre Miller-2011-DEN',\n",
              " 'DeMar DeRozan-2014-TOR',\n",
              " 'Joe Johnson-2010-ATL',\n",
              " 'Kent Bazemore-2018-ATL',\n",
              " 'Nicolas Batum-2018-CHO',\n",
              " 'O.J. Mayo-2012-DAL'}"
            ]
          },
          "metadata": {},
          "execution_count": 347
        }
      ]
    },
    {
      "cell_type": "markdown",
      "source": [
        "These players with respective seasons were not included in the cluster with only one principal component."
      ],
      "metadata": {
        "id": "WmioUtoIF5sB"
      }
    },
    {
      "cell_type": "code",
      "source": [
        "set(comp_3_players) - set(comp_10_players)"
      ],
      "metadata": {
        "colab": {
          "base_uri": "https://localhost:8080/"
        },
        "id": "rkMKAm8eFuQ7",
        "outputId": "31557fe0-a592-409c-bfe6-5be8c2de180a"
      },
      "execution_count": null,
      "outputs": [
        {
          "output_type": "execute_result",
          "data": {
            "text/plain": [
              "{'Avery Bradley-2017-BOS',\n",
              " 'Jimmy Butler-2014-CHI',\n",
              " 'Marcus Smart-2017-BOS',\n",
              " 'Patrick Beverley-2017-HOU',\n",
              " 'Paul George-2011-IND',\n",
              " 'Will Barton-2016-DEN'}"
            ]
          },
          "metadata": {},
          "execution_count": 348
        }
      ]
    },
    {
      "cell_type": "markdown",
      "source": [
        "clustering with three principal component considered these players  respective seasons to be most productive even though they are not."
      ],
      "metadata": {
        "id": "d6x3G6QLXeHY"
      }
    },
    {
      "cell_type": "code",
      "source": [
        "set(comp_10_players) - set(comp_3_players)"
      ],
      "metadata": {
        "colab": {
          "base_uri": "https://localhost:8080/"
        },
        "id": "EBEb6quiGwMD",
        "outputId": "1325d1be-e595-42c8-8c21-e6d53894b869"
      },
      "execution_count": null,
      "outputs": [
        {
          "output_type": "execute_result",
          "data": {
            "text/plain": [
              "set()"
            ]
          },
          "metadata": {},
          "execution_count": 340
        }
      ]
    },
    {
      "cell_type": "markdown",
      "source": [
        "clustering with three principal components didn't miss any of the players with their best seasons which are there in the clustering with ten dimensions."
      ],
      "metadata": {
        "id": "f8GDL5s0X4o-"
      }
    },
    {
      "cell_type": "markdown",
      "source": [
        "K-means with 3 pca, it considered four players on the boundaries who are not best players in the cluster. While it missed none, as we increase the pca's the total variation increases and the k-means moves closer to the actual shape. So, even with 3 pca's we are getting decent results for shooting gaurd position beacuse of the better seperation of the most productive players from the rest in the three\n",
        "\n"
      ],
      "metadata": {
        "id": "nejMJIZFHKpJ"
      }
    },
    {
      "cell_type": "markdown",
      "source": [
        "Visualization can be modified in the below graph accordingly to see how clusters are formed with single component alone, three principal components and ten by just changing the color parameter's value df_cluster['comp_3'] with df_cluster['comp_1'] or df_cluster[comp_10]. Here we are showing the clusters formed with three as we are able to obtain good cluster with just three principal components."
      ],
      "metadata": {
        "id": "r1fzH3NuTh9Z"
      }
    },
    {
      "cell_type": "code",
      "source": [
        "\n",
        "fig = px.scatter_3d(\n",
        "    df_cluster, x= df_cluster[\"pc1\"], y=df_cluster[\"pc2\"], z=df_cluster[\"pc3\"], color=df_cluster['comp_3'],\n",
        "    title=f'k-means Clustering after dimensionality reduction',\n",
        "    hover_name=df_cluster['player-year-tm']\n",
        ")\n",
        "\n",
        "\n",
        "fig.show()"
      ],
      "metadata": {
        "colab": {
          "base_uri": "https://localhost:8080/",
          "height": 542
        },
        "id": "qCJVeQV15dGT",
        "outputId": "de2ed52c-7efe-44cd-d53b-fd2e1c65bc19"
      },
      "execution_count": null,
      "outputs": [
        {
          "output_type": "display_data",
          "data": {
            "text/html": [
              "<html>\n",
              "<head><meta charset=\"utf-8\" /></head>\n",
              "<body>\n",
              "    <div>            <script src=\"https://cdnjs.cloudflare.com/ajax/libs/mathjax/2.7.5/MathJax.js?config=TeX-AMS-MML_SVG\"></script><script type=\"text/javascript\">if (window.MathJax) {MathJax.Hub.Config({SVG: {font: \"STIX-Web\"}});}</script>                <script type=\"text/javascript\">window.PlotlyConfig = {MathJaxConfig: 'local'};</script>\n",
              "        <script src=\"https://cdn.plot.ly/plotly-2.8.3.min.js\"></script>                <div id=\"d5db0dab-315d-4eed-86dc-f78efa87353c\" class=\"plotly-graph-div\" style=\"height:525px; width:100%;\"></div>            <script type=\"text/javascript\">                                    window.PLOTLYENV=window.PLOTLYENV || {};                                    if (document.getElementById(\"d5db0dab-315d-4eed-86dc-f78efa87353c\")) {                    Plotly.newPlot(                        \"d5db0dab-315d-4eed-86dc-f78efa87353c\",                        [{\"hovertemplate\":\"<b>%{hovertext}</b><br><br>comp_3=3<br>pc1=%{x}<br>pc2=%{y}<br>pc3=%{z}<extra></extra>\",\"hovertext\":[\"Wesley Matthews-2013-POR\",\"Zach LaVine-2016-MIN\",\"Gerald Green-2013-PHO\",\"Randy Foye-2012-UTA\",\"Kentavious Caldwell-Pope-2014-DET\",\"Justin Holiday-2019-TOT\",\"Zach LaVine-2015-MIN\",\"Luke Ridnour-2012-MIN\",\"Jamal Crawford-2017-LAC\",\"Buddy Hield-2017-TOT\",\"Jordan Clarkson-2017-LAL\",\"Jamal Murray-2017-DEN\",\"Wesley Matthews-2010-POR\",\"Yogi Ferrell-2018-DAL\",\"Shannon Brown-2010-LAL\",\"James Harden-2010-OKC\",\"Ben McLemore-2014-SAC\",\"Ben Gordon-2010-DET\",\"Toney Douglas-2010-NYK\",\"Jordan Clarkson-2018-TOT\",\"Terrence Ross-2013-TOR\",\"Jordan Clarkson-2019-CLE\",\"Randy Foye-2013-DEN\",\"Evan Fournier-2019-ORL\",\"Vince Carter-2013-DAL\",\"Kevin Martin-2010-HOU\",\"Gerald Henderson-2014-CHO\",\"Joe Johnson-2014-BRK\",\"Jeremy Lamb-2018-CHO\",\"Buddy Hield-2018-SAC\",\"Jordan Clarkson-2016-LAL\",\"Rodney Hood-2016-UTA\",\"Jamal Crawford-2015-LAC\",\"Courtney Lee-2015-TOT\",\"Jordan Clarkson-2015-LAL\",\"Jamal Crawford-2016-LAC\",\"Jeremy Lamb-2019-CHO\",\"Jarrett Jack-2012-GSW\",\"Rodney Hood-2015-UTA\",\"Joe Johnson-2013-BRK\",\"Jeremy Lin-2016-CHO\",\"Jeremy Lin-2015-CHO\",\"Arron Afflalo-2014-TOT\",\"Courtney Lee-2012-BOS\",\"Courtney Lee-2017-NYK\",\"Isaiah Canaan-2016-PHI\",\"Isaiah Canaan-2015-PHI\",\"Gerald Henderson-2013-CHA\",\"Avery Bradley-2014-BOS\",\"Devin Booker-2016-PHO\",\"Courtney Lee-2018-NYK\",\"Jamal Crawford-2010-ATL\",\"Gary Harris-2016-DEN\",\"Kentavious Caldwell-Pope-2017-DET\",\"Iman Shumpert-2017-CLE\",\"Gary Harris-2015-DEN\",\"Rodney Stuckey-2012-DET\",\"Avery Bradley-2016-BOS\",\"Jamal Crawford-2012-LAC\",\"Avery Bradley-2015-BOS\",\"Malcolm Brogdon-2017-MIL\",\"Ben Gordon-2012-CHA\",\"E'Twaun Moore-2012-ORL\",\"Kevin Huerter-2019-ATL\",\"Austin Rivers-2017-LAC\",\"Kentavious Caldwell-Pope-2018-LAL\",\"Bradley Beal-2013-WAS\",\"Wesley Matthews-2017-DAL\",\"E'Twaun Moore-2017-NOP\",\"Arron Afflalo-2013-ORL\",\"Damyean Dotson-2019-NYK\",\"John Salmons-2010-MIL\",\"Joe Johnson-2012-BRK\",\"Justin Holiday-2018-CHI\",\"Rodney Hood-2019-TOT\",\"O.J. Mayo-2014-MIL\",\"O.J. Mayo-2010-MEM\",\"Arron Afflalo-2016-NYK\",\"Arron Afflalo-2015-NYK\",\"Tim Hardaway Jr.-2014-NYK\",\"Sean Kilpatrick-2017-BRK\",\"Jordan Crawford-2012-TOT\",\"Tyreke Evans-2019-IND\",\"Jamal Crawford-2013-LAC\",\"Wesley Matthews-2012-POR\",\"Ben McLemore-2015-SAC\",\"Raja Bell-2010-UTA\",\"Kevin Martin-2013-MIN\",\"Evan Fournier-2017-ORL\",\"Danny Green-2017-SAS\",\"Ben McLemore-2016-SAC\",\"Daniel Gibson-2010-CLE\",\"Victor Oladipo-2017-OKC\",\"Brandon Rush-2010-IND\",\"Rodney McGruder-2019-MIA\",\"O.J. Mayo-2011-MEM\",\"Wesley Matthews-2011-POR\",\"Marco Belinelli-2011-NOH\",\"Tim Hardaway Jr.-2019-TOT\",\"Randy Foye-2011-LAC\",\"Leandro Barbosa-2011-TOT\",\"Jordan Crawford-2011-WAS\",\"Alec Burks-2019-TOT\",\"Jamal Crawford-2014-LAC\",\"Eric Gordon-2013-NOP\",\"Randy Foye-2010-LAC\",\"Bradley Beal-2014-WAS\",\"DeMar DeRozan-2011-TOR\",\"Jason Terry-2011-DAL\",\"Avery Bradley-2019-TOT\",\"Anthony Morrow-2011-NJN\",\"Eric Gordon-2014-NOP\",\"Vince Carter-2011-DAL\",\"Ramon Sessions-2012-CHA\",\"Jodie Meeks-2014-DET\",\"Joe Johnson-2011-ATL\",\"Avery Bradley-2013-BOS\",\"Rodney Hood-2018-TOT\",\"Shannon Brown-2011-PHO\",\"Rodney Hood-2017-UTA\",\"Courtney Lee-2011-HOU\",\"Evan Fournier-2014-ORL\",\"Leandro Barbosa-2010-TOR\",\"Gary Harris-2019-DEN\",\"Tim Hardaway Jr.-2018-NYK\",\"Rodney Stuckey-2011-DET\",\"Bradley Beal-2016-WAS\",\"Richard Hamilton-2010-DET\",\"Bradley Beal-2015-WAS\",\"Luke Ridnour-2011-MIN\",\"Ben Gordon-2011-DET\",\"Jerryd Bayless-2015-MIL\",\"O.J. Mayo-2013-MIL\",\"Jerryd Bayless-2016-MIL\",\"Randy Foye-2014-DEN\",\"Kirk Hinrich-2011-ATL\",\"Brandon Roy-2010-POR\",\"Zach LaVine-2017-MIN\",\"Avery Bradley-2018-TOT\",\"Eric Gordon-2016-NOP\",\"Eric Gordon-2015-NOP\",\"Allen Crabbe-2019-BRK\",\"Eric Gordon-2012-NOH\",\"O.J. Mayo-2015-MIL\",\"O.J. Mayo-2016-MIL\"],\"legendgroup\":\"3\",\"marker\":{\"color\":\"#636efa\",\"symbol\":\"circle\"},\"mode\":\"markers\",\"name\":\"3\",\"scene\":\"scene\",\"showlegend\":true,\"x\":[1.4027269182301354,1.1430975633857596,1.7511202558973866,-0.46063792253651803,0.13571458254314775,1.2469597219409627,0.8789678564836658,1.0989721979937528,-0.6076130453922507,-0.6673919173529811,1.074094149501275,-0.2320643510042782,1.729381157945422,-0.1009242480222196,-1.0748672372932715,1.3060594500885792,0.8443285663686855,0.05391716393058823,0.6726650809630504,0.2302783372995322,0.10701125312837947,1.0380673031146797,1.7300040146509321,2.0318773248593027,1.4841224006494755,1.7450008861701114,0.20405721324187082,1.6605095821294988,1.1741782553317015,1.3837674289045079,1.4800568532512923,1.5210375981845337,-0.526010941076793,0.140222829511577,1.5933763586549676,-0.5281679360018677,2.1650333630576557,1.0988768383684235,1.4916570566153535,0.8321043713527226,1.2090832089420338,1.0549946679429372,0.022720378129529935,0.008891835932086117,0.7597961261127653,-1.3260891421462235,-1.1395343482939002,0.756140089716094,0.8509793275796398,0.8474893233550134,0.3292109060352526,0.15257417784239907,1.0720699600984658,0.45116334363084043,-0.24385507109554128,0.3791340538730456,0.23464933454007503,1.7505387491840643,0.011067525116862778,1.5376078258070827,1.136394171392298,-0.8451837023596485,-0.6070180353936845,0.7785459428166324,0.14986216787137127,2.0098837926408435,1.6303852665047318,0.803516076401706,-0.31758797475714484,0.8361099656757086,-0.32443774211949894,1.59617525269005,1.0146983491492516,0.6486827587017949,-0.6631481941344647,0.3075366511455207,0.08900957966524929,-0.11906317459572914,-0.050415803453388315,-1.3019921171293505,0.2738337016002713,-0.16974581473649628,-0.3188451792618554,1.0765316388951518,1.4434645216446804,-0.8183379041668072,-0.12981972502986702,0.9960292381378212,1.5528462287126203,0.7992502589302803,-0.8528241882170299,0.4177273908073498,2.205610545792475,-0.6524181992004737,-0.7398299494729608,0.845430011909531,1.2271717803060909,-0.7782694404603614,0.6341779098499158,-0.5575762462804845,-0.6447710799968526,0.10039688110621366,-0.8520200633223879,0.09847874242973702,0.9236187532123035,-0.7981446172047767,1.8137925776604373,0.8375881438473208,0.9127472429240694,0.13250141752179487,-0.9716089987673544,0.6264772751672971,0.5337802751769375,-0.06476163142317845,-1.3421065704738993,1.6812223917059974,0.8081664788654694,-0.16064250551285655,-0.8976536887373904,-0.22492360042155415,0.11763555942705901,-0.4726658246203024,-0.34322691597625166,0.4812601422554611,1.5521766089102096,0.6076172697299137,1.580156985954236,-0.45596177552474076,1.585374057412384,1.3743656962076813,0.02577759578785922,-0.124347863590766,-0.21329838569050932,-0.0787770427080394,-1.3599763402184346,-1.0578422668832002,-0.28424834833223966,1.5413538862754488,0.18625674007956214,0.4217788807630038,0.4318834317345896,-1.1844777399079274,0.6505926772624141,-0.08712747237062615,-0.2824171799137475],\"y\":[1.8539873714640709,0.4731335678629712,1.0388647426155802,1.1784950794293028,-0.9320412405849335,-0.17256101517922678,-0.06296246943760737,-0.7897902310709298,-0.016379913470868316,1.1638969107094754,-0.6720823654501733,-0.0584390757489457,1.7387312653765359,0.8986945651333389,-0.07026534250285851,0.7591300976381582,0.1606321006604595,0.5303496853841548,0.564055427119784,0.09780672914377274,0.8607334067482474,-0.1853072163286245,1.1015991994809597,0.33501310262153067,0.7429391184212583,0.9170060248938081,-1.3297055444592056,0.036180453344714696,0.5835403881999363,1.674596099720131,-1.3733729661757963,0.7416252644863809,-0.023357146919727702,0.8020868890122989,-1.151874181356594,-0.03849323566105573,0.07320673966723876,-0.047557243806144706,0.6452356248451296,1.2903257838277917,-0.9982778851947499,-1.2154762612700043,0.46368770367720036,0.4694860224991782,1.0682987521166614,0.060634464909614036,0.37108657584163757,-1.7687134603624808,-0.47015538795121753,-0.49959324361133706,1.3964837314114282,0.5794213256206359,0.7395196148303792,-0.31793356540673695,0.3077614257526259,-0.9995448948520428,-1.6722521570407785,0.5019145219700593,0.5392990646232003,0.05241224197079622,0.7172907882967711,0.31019802816055964,-1.5927165441086417,0.31264397862785837,0.5133634665468668,0.8563293236159313,-0.442644408584516,0.4885776252029731,0.2883033861541766,0.786451438251419,0.09349946168486083,-0.517585566769765,0.5633112155346705,-0.3565072048056469,0.3109870450092876,-0.5297926996085828,-0.4971353571196317,0.4293446238116745,0.5427641194219713,0.17116104537085386,-0.03928457025519635,-1.3499828606664348,-1.6561136437685786,1.0036917997665293,1.4275369121881802,0.042762625702011066,0.628787399804289,1.3344262488174095,0.27702170576082624,0.9055690033280673,-0.09299637138615134,1.3679037141265598,0.15271276981159812,0.3964204140815886,-0.7169643959892301,-0.754624618973104,0.7957495117327023,0.7571757929976288,-0.17598702380500728,0.3734422379617523,-0.33319982984297064,-2.725612663475897,-0.8696009138748585,0.31795804523669363,-0.12276715265333868,-0.9506107171490352,-0.4483220608133934,-2.8316360810259757,1.2107361789465982,-0.5860724638160071,1.0262958548305348,0.948764643252321,-0.3082622771694112,-1.8722342646649561,0.6830581073003267,0.5058804227377306,-0.9476243243841802,1.1913021917930697,-0.3969607104645855,0.5405594096667405,0.5841960637363847,0.4224769110252602,0.2384208251357039,-0.2801774667567312,0.04205089424267799,-1.5336976793182133,0.3825353065795694,-0.7536526309480431,0.288117067763335,-0.5121025570681152,0.7610469004977344,1.1915937400787022,0.38665131521818485,1.45471325666645,0.46920742592520326,-0.30776357914679303,-0.9547292673643946,1.8771962779020086,-0.9498978886434902,1.664595793744184,1.59739146122342,0.32806132337612104,-0.859579066926717,-1.2150603237082185,-1.7319998370201384],\"z\":[-0.3266408140555611,-0.9226739314770642,-0.056786963779352204,-1.3990873551746574,0.21004000071507362,-0.8169345389148295,-1.3522176523890332,-0.47349242110516765,-1.6389743503234748,-0.8519356591614291,-0.6632837077086114,-0.5446849818182372,-0.22968358774161546,-0.21116652555622017,-0.5913312896785288,0.7000466356901065,-0.23578764737286223,-1.088989149085462,-0.33570779640796733,-0.2034062309533226,-0.18114137788643617,-0.17589581579945193,-0.9345484684761357,-0.4665583156825942,-0.0807889605080445,-1.8838183390940784,-0.7219458413961777,-0.4462596221470249,0.37465452768463736,-0.7514335452092161,-0.6136766493830548,-0.7215074342071992,-1.7456006922171852,0.5122391924641299,-0.41563650823135123,-1.7317066455481545,0.40965886565057746,-2.1473613411194914,-0.7098314181640095,-0.22567880108029745,-0.2817013507131442,-0.686848119791092,-1.1806580397171813,0.3744742732174269,0.11378297686680901,-2.5940966178260196,-2.1804044367971254,-0.6729244028825037,-0.29768362664109466,-1.493141301296771,-0.920544998944304,-1.0485344213708443,0.8824886163902119,-0.8675721867410995,0.6699828662428682,0.2936492694623366,-0.7869981913791249,0.6266517091575666,-1.5145688578979715,0.30839132282885323,-0.49367931317664265,-1.9532491471007987,-0.5208086420294682,0.36045805370092066,0.12303065742517084,0.44510608259028067,-1.2346769578776153,-1.4215997731997845,0.7255250432472372,-1.6916241082344337,-0.2501920947661339,-1.0427334203827725,-0.798899338063428,-1.2715215581730377,-0.818235116299976,-1.3658478956429765,-0.30755300487621445,-0.8690022390784089,-0.7154495165238502,-1.3132013996776546,-1.3274741496026279,-1.4251679317154302,-0.6551753557007208,-1.2207903610591209,-0.18450133375708092,0.5728853693016743,-0.08426626962549798,-0.8855947970417827,-0.8446690607284816,0.681522995181769,0.6231777093501041,-0.929575624362595,0.40936657714708397,0.2783527591543868,0.7444514444747554,-0.575543301040848,-0.23242397734071193,-0.5469381915474222,-1.903128256615067,-1.526542393443911,-0.983348619666417,-1.6853029262571937,-0.9179514943977012,-1.3559503853376793,-1.0802737179577366,-1.9291846311091252,-0.5262232082889128,-0.9491099153381446,-1.4373564617325902,-0.8334993317606603,-1.3599021976042875,-2.3490638602039042,-0.14819619691677147,-1.6254738344804591,-1.3802671712671761,-0.7030740685009957,-0.45454353019349936,-0.8986353627398683,0.014374228203567194,-0.4887665004141201,-0.11075662217404986,0.05885102712113268,-0.01617804936979425,0.530299022548675,-0.30674871211810106,-1.047869097419415,-0.2915748033856054,-1.8762744692321647,-0.11323501540444439,-1.313866782025122,-1.6827634251560948,-0.9780942119167839,-1.3956357866515179,-1.1799817813057285,-1.6594839645178956,-0.5779029119994505,-0.7986961002562585,-0.7078291285915849,-1.3083138551954856,-1.526841759541179,-1.36852765023275,-0.9149784665694285,-1.9247798638059181,-1.07347102091321,-1.1960402579470726],\"type\":\"scatter3d\"},{\"hovertemplate\":\"<b>%{hovertext}</b><br><br>comp_3=2<br>pc1=%{x}<br>pc2=%{y}<br>pc3=%{z}<extra></extra>\",\"hovertext\":[\"Monta Ellis-2013-DAL\",\"James Harden-2016-HOU\",\"Will Barton-2016-DEN\",\"Bradley Beal-2019-WAS\",\"Buddy Hield-2019-SAC\",\"James Harden-2015-HOU\",\"O.J. Mayo-2012-DAL\",\"Monta Ellis-2012-MIL\",\"Bradley Beal-2018-WAS\",\"Will Barton-2018-DEN\",\"Monta Ellis-2016-IND\",\"CJ McCollum-2018-POR\",\"Monta Ellis-2015-IND\",\"James Harden-2014-HOU\",\"Jrue Holiday-2018-NOP\",\"CJ McCollum-2016-POR\",\"Monta Ellis-2010-GSW\",\"Andre Iguodala-2012-DEN\",\"Monta Ellis-2014-DAL\",\"CJ McCollum-2017-POR\",\"DeMar DeRozan-2018-TOR\",\"CJ McCollum-2015-POR\",\"Khris Middleton-2016-MIL\",\"Khris Middleton-2015-MIL\",\"Donovan Mitchell-2018-UTA\",\"Tyreke Evans-2014-NOP\",\"Marcus Smart-2017-BOS\",\"DeMar DeRozan-2013-TOR\",\"DeMar DeRozan-2016-TOR\",\"DeMar DeRozan-2015-TOR\",\"James Harden-2012-HOU\",\"Devin Booker-2017-PHO\",\"Bradley Beal-2017-WAS\",\"DeMar DeRozan-2019-SAS\",\"Nicolas Batum-2017-CHO\",\"Donovan Mitchell-2019-UTA\",\"Victor Oladipo-2018-IND\",\"DeMar DeRozan-2017-TOR\",\"James Harden-2013-HOU\",\"Victor Oladipo-2014-ORL\",\"James Harden-2018-HOU\",\"Victor Oladipo-2016-ORL\",\"Joe Johnson-2010-ATL\",\"Victor Oladipo-2015-ORL\",\"CJ McCollum-2019-POR\",\"Jimmy Butler-2015-CHI\",\"Jimmy Butler-2016-CHI\",\"Jrue Holiday-2019-NOP\",\"Patrick Beverley-2017-HOU\",\"Stephen Jackson-2010-CHA\",\"Andre Miller-2011-DEN\",\"Paul George-2011-IND\",\"Kent Bazemore-2018-ATL\",\"Jimmy Butler-2014-CHI\",\"Devin Booker-2019-PHO\",\"Nicolas Batum-2018-CHO\",\"Tyreke Evans-2011-SAC\",\"Zach LaVine-2019-CHI\",\"DeMar DeRozan-2014-TOR\",\"Jimmy Butler-2018-MIN\",\"Monta Ellis-2011-TOT\",\"Tyreke Evans-2010-SAC\",\"Eric Gordon-2010-LAC\",\"Avery Bradley-2017-BOS\",\"Devin Booker-2018-PHO\",\"Brandon Knight-2015-PHO\",\"Brandon Knight-2016-PHO\"],\"legendgroup\":\"2\",\"marker\":{\"color\":\"#EF553B\",\"symbol\":\"circle\"},\"mode\":\"markers\",\"name\":\"2\",\"scene\":\"scene\",\"showlegend\":true,\"x\":[3.9520130436839915,7.969902754393785,2.2525414857780546,6.332996820539382,3.5557814907271323,8.072518584411617,2.6600861095178803,4.412216709082364,4.152154289403799,3.5628655368818887,3.1962096080390143,2.8498717571862846,3.253442850404141,7.621717625593924,5.703987032787775,3.234489888919373,4.793778096488711,4.27273861264002,3.115955214626606,3.7969733468132776,3.3777160025936555,3.2421635175097276,3.435130182814186,3.6001406621667345,4.005815874071377,4.682332381510629,2.5138818620851846,3.057649749394451,3.1124009121110854,2.9783032100875557,6.236689549009459,3.062638022422767,3.2086784619345994,4.877306949756677,3.4959596915185887,4.420503976724199,6.334804755890879,3.664105966451136,5.698726410746898,3.43242904015688,8.1033427244163,3.9070618786810467,2.165044212099756,3.7734263373437007,2.8355685393937082,4.534547649051448,4.37016632385074,6.470922559996425,3.7366646224789335,3.379971320970974,2.1042697168934463,3.2935397110801743,2.6160558313876665,3.875746509897186,5.201982036823518,2.1339705014542933,3.241463056387537,4.071076456685813,2.219455113748315,4.497321421782342,3.415079976115456,4.03364046814425,2.81919808244674,2.8950839840865905,3.8328019860326683,3.547690521439376,3.404635247770838],\"y\":[-2.2065819206538477,0.3026064008989827,-0.6708980985322236,0.381557145029988,2.610948807284945,0.4879493666530547,0.33775271815718744,-2.959174423772953,0.6583032899109731,0.5811962377034968,-1.9925985376908208,0.546526986174947,-1.884907416468404,0.5330773376699678,-0.053789315942498625,0.9157026005817444,-1.4665832873600795,-1.9413384949978658,-2.0082557343047114,1.855853585222239,-0.9490653494147648,0.8881005262997845,0.46674652690756474,0.7322561731993913,0.12593021883428668,-2.9928886257223772,-2.8976617072944575,-2.2462680463891074,-1.5674153534226483,-1.9311778456908706,0.9512655287681226,-0.6983547279484146,2.6738861749516944,-3.576603500689704,-0.9226482778708089,-0.15041650867940304,0.39559962411221705,-2.273810989743897,0.8584541129906588,-1.7982871847768296,1.807891509960272,-0.9904251258449339,-1.0545593144701668,-1.2234582930371944,1.0981734642402623,-1.3604000974008172,-1.6958618130114012,-0.9703561945972544,0.04759479287766082,-1.2241265025312393,-2.835077037999564,-0.20645418062555324,-0.17295289362055663,-1.1756332373661686,0.04043044885164535,-0.9324246054185452,-4.092100695655176,0.17260259709616266,-2.7715945630697103,-0.3737559345288502,-2.0609001066046035,-3.410125862681033,-0.09916293709689271,0.42132854266687964,0.4493771302379375,-0.5360079685390889,-0.8386826706609172],\"z\":[-1.447927122660667,-1.7325853523735335,0.23287483479738255,0.4587363378152007,-0.07928812791068995,-1.5286093285395357,-1.1966876077693644,-1.3305758067644136,-0.28644572427451287,0.8400511722423863,-0.44864570939552234,-0.8730578516904994,-0.3418632241543421,-0.8902358357992376,1.1599699050125265,-1.4262732956917685,-1.8512272262415648,2.376492773517483,-0.47947535485140536,-0.692281001370045,-0.38340438125580145,-1.3439525503750012,-1.4587277920743806,-1.078107551011239,-0.29262731028972594,-0.17740871836675998,-0.5232045725576877,-1.1117894174160414,-0.8872501056349206,-0.9571780107635012,-0.8295918418403061,-2.074524599483776,0.10627208260205062,-0.17145207930928502,-1.3753867477533834,-0.830923813526499,0.7280036314824867,-0.4930644534107998,-0.9773512934924133,-1.2886388442450252,-1.3145927761205505,0.09183839303759221,-0.3784623305685702,-0.18728320941205995,0.3696311448600471,0.87206242613985,0.6076826557352367,0.7379171543355503,1.5405346373862536,-0.9920290239006142,-0.6398257765802069,0.8902078864348192,-0.6892421105298108,1.6342599065335726,-2.2798380806016865,-0.4849135328620364,0.10308499639263428,-1.3359219137513576,-1.1907664056577039,1.0332511000176046,-1.945704696308287,-1.3377465601350786,-1.142759814017978,1.3234700841327447,-3.0146968813168127,-1.9347335562798378,-2.1474507413861894],\"type\":\"scatter3d\"},{\"hovertemplate\":\"<b>%{hovertext}</b><br><br>comp_3=0<br>pc1=%{x}<br>pc2=%{y}<br>pc3=%{z}<extra></extra>\",\"hovertext\":[\"Will Barton-2015-DEN\",\"DeMar DeRozan-2012-TOR\",\"DeAndre' Bembry-2019-ATL\",\"DeMar DeRozan-2010-TOR\",\"Ronnie Brewer-2010-CHI\",\"Giannis Antetokounmpo-2014-MIL\",\"Cory Joseph-2016-TOR\",\"Cory Joseph-2015-TOR\",\"James Anderson-2013-PHI\",\"Thabo Sefolosha-2010-OKC\",\"Danny Green-2016-SAS\",\"Danny Green-2015-SAS\",\"Josh Jackson-2019-PHO\",\"Tony Allen-2012-MEM\",\"Rodney McGruder-2017-MIA\",\"Lance Stephenson-2012-IND\",\"Alec Burks-2013-UTA\",\"Kentavious Caldwell-Pope-2015-DET\",\"Kentavious Caldwell-Pope-2016-DET\",\"Iman Shumpert-2013-NYK\",\"Monta Ellis-2017-IND\",\"Jaylen Brown-2019-BOS\",\"Bruce Brown-2019-DET\",\"Vince Carter-2010-TOT\",\"Shaquille Harrison-2019-CHI\",\"Tony Allen-2010-MEM\",\"Tony Allen-2017-MEM\",\"David Nwaba-2018-CHI\",\"Jaylen Brown-2018-BOS\",\"Andre Roberson-2015-OKC\",\"Andre Roberson-2016-OKC\",\"Danny Green-2018-SAS\",\"Gerald Henderson-2010-CHA\",\"Gerald Henderson-2012-CHA\",\"Jimmy Butler-2013-CHI\",\"Kent Bazemore-2019-ATL\",\"Josh Hart-2019-LAL\",\"Andre Roberson-2014-OKC\",\"Jeremy Lamb-2016-CHO\",\"Ronnie Brewer-2011-CHI\",\"Landry Fields-2011-NYK\",\"Jeremy Lamb-2015-CHO\",\"Tyreke Evans-2012-SAC\",\"Jared Dudley-2011-PHO\",\"Tony Allen-2016-MEM\",\"Tony Allen-2015-MEM\",\"Tony Allen-2014-MEM\",\"Alonzo Gee-2011-CLE\",\"Jeremy Lamb-2017-CHO\",\"Pat Connaughton-2019-MIL\",\"Thabo Sefolosha-2013-OKC\",\"Will Barton-2017-DEN\",\"Shannon Brown-2012-PHO\",\"Tony Allen-2011-MEM\",\"Alonzo Gee-2010-TOT\",\"Gerald Henderson-2011-CHA\",\"Tony Allen-2013-MEM\",\"Iman Shumpert-2015-CLE\",\"Iman Shumpert-2016-CLE\",\"Jason Richardson-2011-ORL\",\"Josh Richardson-2017-MIA\",\"Marcus Thornton-2011-SAC\"],\"legendgroup\":\"0\",\"marker\":{\"color\":\"#00cc96\",\"symbol\":\"circle\"},\"mode\":\"markers\",\"name\":\"0\",\"scene\":\"scene\",\"showlegend\":true,\"x\":[2.1933438767044846,1.6221519626687602,1.7391673038788473,2.200731485016155,-0.5055053383205335,4.501496976883548,-0.0971346944960493,0.07467196658982782,1.1927492431383546,0.9557111628528094,0.9032071159527383,1.1944746752728046,2.035794501400017,2.2970403497870917,-0.6675892139126351,0.4304776478263249,1.2484411160421018,1.5554749824798373,1.6448192510025066,0.735972259204392,0.5576974764121075,1.6936299258437857,-1.1384358849422611,1.517248565955915,-0.5872000654032945,1.527326792524568,2.616296985710901,0.7952335711857819,2.422168150610955,0.1525825899215064,0.39748757572795307,0.9719408460555935,-0.46183918913710054,1.3117993004802972,2.652692831375077,1.6903216607515097,0.4472134998495752,-0.20860925021430837,-0.010194440718314492,-0.39857402469444736,1.081518379350066,-0.226677631052133,2.4688026819811713,1.3738077743223178,1.542627127534117,1.8105529991116243,2.5184972273277673,1.7002380864997637,-0.2284783160142549,0.4996510357828521,0.41814193189396087,1.6757891382523504,-0.4559272162942853,2.3885947617804795,-0.6840519863904125,1.494047060914314,1.5396393039694145,-0.2842307015467064,-0.2561040732946025,0.3482799504809995,0.9918234151294008,2.129466668885983],\"y\":[-0.8879882801176073,-2.398398544732358,-2.232580463608146,-3.8954518401365066,-2.4336553408924684,-3.7824115700536742,-1.7536694745744923,-1.284653063492656,0.2363308684330671,-1.2110852502970684,-0.7283852179040231,0.12917038933270455,-2.784212646867966,-4.262166462546861,-1.2674583375506485,-2.0902038754674814,-1.1725534379971456,-1.1812916113188516,-0.9651330329010409,-1.627845014963986,-1.428987342538287,-0.15311700071555578,-2.6831567739169886,0.26275071845915027,-2.808295507058926,-2.631185589750625,-3.8450737973765885,-1.5325383078558603,0.758248640794523,-0.3623849035455262,0.22295400713919772,-0.4948264523646465,-3.478409915274896,-2.252341847658667,-2.1458671251057457,-1.6745162715984487,-0.24068105369451634,-1.7840441368718736,-0.3930393249671891,-2.917076693578492,-1.7542089964278313,-0.6904043815801993,-1.5421097947632683,0.8026370913983382,-2.524543708427306,-2.0220110205884603,-2.0432789516854513,-2.454232332747666,-0.2700374455978403,1.295417417600613,0.16942789064325986,-0.25585274661320007,-2.163766854346794,-2.0765919995323348,-0.7030252632549748,-3.2372308901951463,-2.944078479487312,-1.8332905532172334,-1.8767274186162002,-0.17174607786908466,-1.4175354540590244,-0.4610920736631436],\"z\":[0.2934081575487783,-0.6188493614710698,1.78908464124547,0.7939541778962039,2.4889797935781774,2.886598381173545,0.5683165010313143,0.6531171994359471,2.1660711763095684,3.088322436154374,1.8309055263399017,1.8736987592352548,0.5405637686081619,3.075300263387954,2.37423293315268,1.2129666676254995,0.37771157224156265,0.4883144194227255,0.5772892566170156,0.6023150792734929,0.16731955931426615,2.4750644171175584,1.1604997842292422,1.1448415882992928,1.058986909285044,2.888488326814042,3.8728162216376054,2.510322455000045,2.282910693714956,5.210381252660235,5.465890285611711,1.215582549766503,1.0683274040596458,-0.5115617624667739,1.466305169524777,0.34155562642547127,2.1015444387497184,5.307951341704474,2.419636574536752,2.708069502828987,2.8617878556612526,1.8378455882296638,0.507787538752789,2.5483765868614054,2.533684006990736,3.036155275892516,3.80672918172154,0.48575064967242354,1.2350183246088773,4.128634217201917,2.1534235354244977,0.683830017320055,0.21178383158621158,2.428730976814786,1.7361958411587282,0.9022598512337351,3.6053719199192464,0.5068883614534052,0.7152342733984679,1.4467046993898387,0.447775088655783,0.4387508222174603],\"type\":\"scatter3d\"},{\"hovertemplate\":\"<b>%{hovertext}</b><br><br>comp_3=4<br>pc1=%{x}<br>pc2=%{y}<br>pc3=%{z}<extra></extra>\",\"hovertext\":[\"Kentavious Caldwell-Pope-2019-LAL\",\"Bryn Forbes-2019-SAS\",\"Justin Holiday-2017-NYK\",\"Keith Bogans-2010-CHI\",\"Kyle Korver-2010-CHI\",\"Pat Connaughton-2018-POR\",\"E'Twaun Moore-2018-NOP\",\"Allen Crabbe-2016-POR\",\"Allen Crabbe-2015-POR\",\"Malik Beasley-2019-DEN\",\"Thabo Sefolosha-2012-OKC\",\"Danny Green-2014-SAS\",\"Kyle Korver-2016-ATL\",\"Danny Green-2019-TOR\",\"Jason Richardson-2010-TOT\",\"Tony Snell-2017-MIL\",\"Danny Green-2012-SAS\",\"Kyle Korver-2015-ATL\",\"Marco Belinelli-2018-TOT\",\"Marco Belinelli-2010-NOH\",\"Troy Daniels-2018-PHO\",\"Marco Belinelli-2019-SAS\",\"Tim Hardaway Jr.-2017-ATL\",\"Allen Crabbe-2017-POR\",\"Jason Terry-2012-BOS\",\"Courtney Lee-2013-TOT\",\"Joe Harris-2018-BRK\",\"Jodie Meeks-2012-LAL\",\"Wayne Ellington-2018-MIA\",\"Kevin Martin-2012-OKC\",\"Ian Clark-2017-GSW\",\"Jodie Meeks-2013-LAL\",\"Courtney Lee-2014-MEM\",\"Evan Fournier-2013-DEN\",\"Anthony Morrow-2013-NOP\",\"Norman Powell-2017-TOR\",\"Joe Harris-2019-BRK\",\"Allen Crabbe-2018-BRK\",\"Eric Gordon-2017-HOU\",\"Kyle Korver-2014-ATL\",\"Gerald Green-2014-PHO\",\"Jodie Meeks-2010-PHI\",\"Alan Anderson-2014-BRK\",\"Anthony Morrow-2014-OKC\",\"Marco Belinelli-2017-CHO\",\"Terrance Ferguson-2019-OKC\",\"Seth Curry-2019-POR\",\"Luke Kennard-2018-DET\",\"Kyle Korver-2018-CLE\",\"Gerald Green-2019-HOU\",\"Brandon Rush-2016-GSW\",\"Jared Dudley-2014-MIL\",\"Willie Green-2012-LAC\",\"Kyle Korver-2013-ATL\",\"Kyle Korver-2019-TOT\",\"Eric Gordon-2018-HOU\",\"Arron Afflalo-2010-DEN\",\"Leandro Barbosa-2015-GSW\",\"Danny Green-2013-SAS\",\"Eric Gordon-2019-HOU\",\"Anthony Morrow-2015-OKC\",\"Leandro Barbosa-2016-GSW\",\"Kyle Korver-2017-TOT\",\"Gary Harris-2018-DEN\",\"Danny Green-2011-SAS\",\"Jodie Meeks-2011-PHI\",\"Leandro Barbosa-2014-GSW\",\"Kyle Korver-2011-CHI\",\"Malcolm Brogdon-2019-MIL\",\"Josh Hart-2018-LAL\",\"Reggie Bullock-2019-TOT\",\"Luke Kennard-2019-DET\",\"James Harden-2011-OKC\",\"Arron Afflalo-2011-DEN\",\"Wayne Ellington-2017-MIA\",\"Marco Belinelli-2014-SAS\",\"Mike Dunleavy-2010-IND\",\"Terrance Ferguson-2018-OKC\",\"Wesley Matthews-2014-POR\",\"E'Twaun Moore-2016-CHI\",\"E'Twaun Moore-2015-CHI\",\"Shaun Livingston-2011-MIL\",\"Devin Harris-2012-ATL\",\"Anthony Morrow-2010-NJN\",\"Andre Miller-2013-TOT\",\"Sterling Brown-2019-MIL\",\"Daequan Cook-2011-OKC\",\"Gary Harris-2017-DEN\",\"Gary Neal-2011-SAS\",\"Jonathon Simmons-2016-SAS\",\"Willie Green-2011-ATL\",\"E'Twaun Moore-2019-NOP\",\"Wayne Ellington-2019-TOT\",\"Josh Richardson-2016-MIA\",\"Joe Harris-2017-BRK\",\"Troy Daniels-2019-PHO\",\"Tim Hardaway Jr.-2016-ATL\",\"Jimmer Fredette-2013-TOT\",\"Troy Daniels-2014-TOT\",\"Troy Daniels-2016-CHO\",\"Dwayne Bacon-2019-CHO\",\"Daequan Cook-2010-OKC\",\"Troy Daniels-2015-CHO\",\"Ryan Broekhoff-2019-DAL\",\"Thabo Sefolosha-2011-OKC\",\"Mike Miller-2010-MIA\",\"Gerald Green-2018-HOU\"],\"legendgroup\":\"4\",\"marker\":{\"color\":\"#ab63fa\",\"symbol\":\"circle\"},\"mode\":\"markers\",\"name\":\"4\",\"scene\":\"scene\",\"showlegend\":true,\"x\":[0.030720707653984682,0.015580552320548544,-0.5841677081970486,-2.281377445209569,-0.7588149802066257,-1.6868655149355307,1.3244594739289823,0.08942773061412265,-0.1240210179375954,-0.2266626741161618,1.793044839931772,2.9194572974325395,0.832805060753647,2.12074426107509,1.7394911616934645,-0.3627053157502407,1.3145947301397125,1.334765249286095,-0.4900911808855203,-1.2845112896949744,-2.1495944657228074,-0.9815866608648142,0.39534222346360265,-0.01938700295935781,-0.4558982004099579,-0.18588461689311903,0.8170513126549144,-1.4993394832058067,-0.7694988617454179,-0.04557251313349669,-1.796285069907147,0.709249741355573,-0.2845888368626814,-0.4267798971399693,-1.9858054193129169,-0.9924741679749355,1.7823674543602577,0.9985406941290675,1.3325756246449316,1.893667687573439,-0.17241267477760214,-1.3766152320259175,-0.8716717934758872,-0.4956493905204237,-0.9901417904392639,-0.41329392567645534,-1.5074191452290147,-1.1613338477742414,-0.14037753139999504,-0.6344745768005772,-2.5137207094976617,-0.16739094401598317,-2.436494452415563,1.945025654359418,-1.3774412103210931,1.3617007962276981,1.280048730571271,-1.5088203678515961,1.1188316099621753,0.5340305611223216,-3.2439620296487175,-1.512997393973667,-0.19224817072417855,2.4899078257737512,0.7414490633131167,-1.6813095628732337,-1.8445253210887698,-0.8543365707916506,2.2864255984434587,0.05698638145432287,-0.3462671577903852,-0.9485117192908804,2.7211199822971173,0.8959378090434486,-1.4897005467063744,-1.0561694898579916,0.7244115900043833,-2.840685137852029,1.7975115010016933,-1.1292173976384177,-1.282347192540963,-1.4691303074136124,0.19470295322595302,-0.3119705043525853,-1.3004557515997288,-1.101836492307271,-2.521425322333363,1.5320261873589869,-1.4154727188569578,-1.6558081817437198,-2.3932628456409124,-0.09169363601891813,-0.7737316471521075,-1.126334466699888,-1.1918988513678865,-2.62016752398704,-2.2571369379074304,-2.8738950887673465,-3.359564254382849,-3.1556327519747907,-2.330102129782901,-3.308684869477479,-3.659313409497105,-2.67771794734332,-0.8828557316757258,-0.835825647795843,-0.3493675134709233],\"y\":[1.4310320487913577,3.1180593009163626,0.861206413135408,1.2105513806939252,2.997497849740375,0.9613612868577026,2.284957362686023,1.8918594183247737,1.378521611381122,3.3569229337027813,2.6856539367309122,2.453557695307093,2.6195268388866944,4.382611582579672,1.4832972534686515,3.1615035388107153,2.8922267697891564,3.8719240127398504,2.115956782600619,1.735609126786454,2.6695084076937956,1.767497639335593,1.3915115484245242,2.9987496510080467,1.2751918854641415,1.0791803724420073,3.759922651487505,1.1380027398431731,3.3979130648246727,2.26744159221204,1.7382821017582233,1.8576587291264541,1.3490520195174762,1.0501045422629849,1.5223206024764029,0.2132158068997574,4.361996269707256,1.7960407540416572,2.117973589253568,5.834718306015954,1.1872195754566581,1.5970270977730845,0.6116959851548723,3.0264513419805,1.2689802047992707,1.8364714771476511,3.2018799863323775,1.6644401104899949,5.232234732072878,2.0996730739037806,1.2419151416910517,1.1560900740802207,1.8675497456213206,4.78447990833865,2.748407892779934,2.6808706542125225,2.576193658929971,0.6629228690514806,2.3909602281968216,2.0674739150600745,1.9458777025476692,0.6052815180787594,4.588930121447637,2.3042156979012516,1.8305769100745213,1.9158760745445624,0.7820587193446408,2.8336293546022784,2.9273970312327746,1.874312789997499,2.0091121428899843,1.9371560654693296,2.5627128580838505,1.7581732619883261,2.7089592723665388,1.7988501969513684,1.5031831000457194,1.4605461562984652,2.4936664356751703,1.014244797413342,0.6054622069076246,1.5154533636135339,0.7224585653288497,2.4478911813860083,0.9315791856766563,1.1063148483946201,1.2922174912574405,2.548596893206748,1.6906764159284544,1.4748146822337753,1.733066659817785,1.6859873872442328,2.5314612427853684,1.5557931658619109,1.1360692415697793,1.6003898590196948,1.6212085211753182,2.4784912354178936,2.55829986154122,3.650237439839651,1.923834759032958,2.102497138762145,2.4070150795480494,3.8126464534432194,1.2629287066321777,0.4304839810457558,2.4853779554120328],\"z\":[0.5461347637769239,-0.7460119191019116,0.8520126449368717,1.4589946119991886,-0.06239003900770562,0.9634247091743352,1.826959885130886,0.29591245420825607,0.07836770920741401,1.1598539300629007,2.7572568384698943,1.6243986027299158,0.686451455931158,2.1067830153986122,1.0653372459006956,1.1628522503479921,1.0813978946943703,1.1249334724871092,-0.6117694224912813,-0.30314784650092785,-1.6296639959990755,-0.9663844445339562,0.752586303447847,0.10717450868751521,-0.5828583468244638,0.5648072361035673,1.649779874412839,-0.4067883764187727,-0.1290572887997673,-0.8158258172637489,1.5547592206385477,-0.25874442288920163,-0.403916962280989,0.31121669724501533,-0.4110520448261636,0.9437434748762079,0.6040416329243675,-0.2747654842993737,-0.40372534121257103,0.1492476287754735,-0.2425421589930115,-0.7070087144502382,0.8173178928178123,0.3916823762506786,-0.7002797482457426,2.168284230111361,0.21493284650466118,-0.17153047520572298,1.169397070175479,1.3191672687076275,1.48358177669568,2.1666331439520055,0.8314977806672631,-0.2817394030042627,0.00483731111876203,0.6555796770048435,1.4078392631075844,0.5965034318046719,1.5292195489988631,0.1449991364620442,0.5526749465996388,0.6692352304730789,-0.404423206845764,0.5805199239040022,1.5892783255162448,-0.38561160677778256,1.0488496421968887,0.09007749390750142,0.9146270774836581,2.4574127308896094,-0.4968885201858132,-0.23433748614699007,0.7773754160743104,0.5536100159985943,0.09841656613894043,0.026806615013286506,1.0766565392399032,1.4716483900185542,1.0947372820119514,1.4205270361395779,1.329986204374052,-0.30128173058473584,0.846426793803829,-0.5379225852218498,-0.2614388352944154,2.1692283204002085,1.5659615929664878,1.4027026972641379,-0.6222363820156407,1.5828219031325896,-0.1165668821525623,0.6736399540690485,0.6397770697176596,1.4305381951251301,0.29746002267539157,0.21493191214995283,0.7002957159758304,-1.0224471650672873,0.04820686852448515,1.6736162850265563,0.6980917213501967,0.6804119052096333,1.211847024474618,2.3381238164609,0.1537216417922835,1.212855123802507,0.6349573890745673],\"type\":\"scatter3d\"},{\"hovertemplate\":\"<b>%{hovertext}</b><br><br>comp_3=1<br>pc1=%{x}<br>pc2=%{y}<br>pc3=%{z}<extra></extra>\",\"hovertext\":[\"Courtney Lee-2010-HOU\",\"Randy Foye-2015-TOT\",\"Derek Fisher-2013-OKC\",\"Langston Galloway-2019-DET\",\"Jamal Crawford-2018-MIN\",\"Bryn Forbes-2018-SAS\",\"E'Twaun Moore-2013-ORL\",\"Wayne Ellington-2012-TOT\",\"John Salmons-2013-TOT\",\"Jonathon Simmons-2017-SAS\",\"Jeremy Lamb-2013-OKC\",\"Jodie Meeks-2018-WAS\",\"Willie Green-2010-NOH\",\"Wayne Ellington-2016-BRK\",\"Wayne Ellington-2015-BRK\",\"Kent Bazemore-2014-ATL\",\"Keith Bogans-2012-BRK\",\"Ian Clark-2018-NOP\",\"Nik Stauskas-2015-PHI\",\"Marco Belinelli-2012-CHI\",\"Malik Monk-2019-CHO\",\"MarShon Brooks-2012-BRK\",\"Nik Stauskas-2016-PHI\",\"Gerald Henderson-2016-POR\",\"Brandon Rush-2015-GSW\",\"Gerald Henderson-2015-POR\",\"Gerald Henderson-2017-PHI\",\"Patrick McCaw-2017-GSW\",\"Randy Foye-2017-BRK\",\"Jimmer Fredette-2012-SAC\",\"Gerald Green-2015-MIA\",\"Gerald Green-2016-MIA\",\"Marco Belinelli-2015-SAC\",\"Cory Joseph-2013-SAS\",\"Gary Neal-2012-SAS\",\"Anthony Morrow-2016-OKC\",\"Marco Belinelli-2016-SAC\",\"Austin Rivers-2015-LAC\",\"Kent Bazemore-2013-TOT\",\"Austin Rivers-2016-LAC\",\"Leandro Barbosa-2017-PHO\",\"Troy Daniels-2017-MEM\",\"Matthew Dellavedova-2014-CLE\",\"Ian Clark-2015-GSW\",\"Ian Clark-2016-GSW\",\"Kirk Hinrich-2014-CHI\",\"Vince Carter-2014-MEM\",\"Wayne Ellington-2014-LAL\",\"Alec Burks-2012-UTA\",\"Jamal Crawford-2019-PHO\",\"Brandon Paul-2018-SAS\",\"Alec Burks-2018-UTA\",\"Treveon Graham-2018-CHO\",\"Malik Monk-2018-CHO\",\"Alexey Shved-2013-MIN\",\"DeAndre Liggins-2017-TOT\",\"Markel Brown-2015-BRK\",\"Markel Brown-2016-BRK\",\"CJ McCollum-2014-POR\",\"Malik Beasley-2018-DEN\",\"Wayne Ellington-2010-MIN\",\"Ben McLemore-2017-SAC\",\"Arron Afflalo-2017-SAC\",\"Vince Carter-2016-MEM\",\"Ian Clark-2019-NOP\",\"Vince Carter-2015-MEM\",\"Beno Udrih-2011-MIL\",\"Stephen Graham-2010-NJN\",\"Ronnie Price-2010-UTA\",\"DeAndre Liggins-2018-TOT\",\"Langston Galloway-2018-DET\",\"Nick Calathes-2014-MEM\",\"Will Barton-2014-TOT\",\"Patrick McCaw-2018-GSW\",\"Antonio Blakeney-2019-CHI\",\"Sundiata Gaines-2011-NJN\",\"DeShawn Stevenson-2012-ATL\",\"Eddie House-2010-MIA\",\"Ben Gordon-2014-ORL\",\"E'Twaun Moore-2014-CHI\",\"Ben McLemore-2018-MEM\",\"Tyler Dorsey-2018-ATL\",\"Kevin Martin-2015-TOT\",\"Willie Green-2013-LAC\",\"Sterling Brown-2018-MIL\",\"Gary Neal-2014-TOT\",\"Brandon Knight-2017-PHO\",\"Matt Carroll-2010-CHA\",\"Justin Holiday-2015-TOT\",\"Arron Afflalo-2018-ORL\",\"Dwayne Bacon-2018-CHO\",\"Doron Lamb-2013-ORL\",\"Matt Carroll-2011-CHA\",\"Royal Ivey-2012-PHI\",\"Ron Baker-2017-NYK\",\"Willie Green-2014-ORL\",\"Sean Kilpatrick-2018-TOT\",\"Gary Neal-2013-TOT\",\"Wayne Ellington-2011-MIN\",\"James Anderson-2011-SAS\",\"James Anderson-2016-SAC\",\"Michael Redd-2011-PHO\",\"James Jones-2011-MIA\",\"Hamidou Diallo-2019-OKC\",\"Allen Crabbe-2014-POR\",\"Tim Hardaway Jr.-2015-ATL\",\"Richard Hamilton-2012-CHI\",\"Daequan Cook-2012-TOT\",\"Anthony Morrow-2017-TOT\",\"Norman Powell-2016-TOR\",\"Gary Forbes-2011-TOR\",\"Furkan Korkmaz-2019-PHI\",\"Tyler Dorsey-2019-TOT\",\"Brandon Rush-2017-MIN\",\"Rasual Butler-2010-TOT\",\"Jeremy Lamb-2014-OKC\",\"Keyon Dooling-2011-BOS\",\"Xavier Henry-2011-NOH\",\"Dahntay Jones-2010-IND\",\"Iman Shumpert-2012-NYK\",\"Wayne Ellington-2013-DAL\",\"Orlando Johnson-2013-TOT\",\"Damyean Dotson-2018-NYK\",\"Jared Cunningham-2015-TOT\",\"John Jenkins-2015-TOT\",\"Alec Burks-2017-UTA\",\"Marcus Georges-Hunt-2018-MIN\",\"Lance Stephenson-2011-IND\",\"Will Barton-2013-POR\",\"Anthony Morrow-2012-TOT\",\"Archie Goodwin-2014-PHO\"],\"legendgroup\":\"1\",\"marker\":{\"color\":\"#FFA15A\",\"symbol\":\"circle\"},\"mode\":\"markers\",\"name\":\"1\",\"scene\":\"scene\",\"showlegend\":true,\"x\":[-1.2889242062346504,-1.6144315294604448,-1.9991374585783543,-1.6941558466563833,-1.569787382005954,-2.788622992181837,-2.1164128571566847,-2.0235004477945657,-2.0870156703585785,-1.193538424391306,-1.121095017540159,-3.022948226791996,-1.4631330333456598,-2.4061696495593528,-2.2680831546437767,-1.3772201262342183,-2.97108059027086,-1.6480144513600432,-1.0560151029571283,-1.4748573328852912,-1.360019291323863,-2.4138760882937715,-1.0722910764968074,-1.2559631070287431,-3.9285665673200523,-1.32856924132555,-1.2102275051721205,-2.565698747240144,-2.079037528467274,-2.987253662198226,-1.438073337764768,-1.5580264264227197,-1.6278373851190635,-2.0354513549497297,-1.4733824424438882,-3.441626995084517,-1.9231494018197282,-1.432183176952755,-2.1217984467822366,-1.3011711862132729,-2.42950494080494,-2.8822031230069185,-1.8953899567344583,-3.359295827838224,-3.1306111510829044,-1.5030977613781662,-2.089105513290458,-1.3461069294277546,-1.5864875218735346,-1.65978384366549,-3.7030810803362373,-1.6768152608495674,-2.4633543477359683,-3.416351720469284,-3.7594465320214945,-2.9390069433529376,-2.1671786673202362,-2.21589525896217,-2.361240881358316,-3.9537860030892307,-2.616871885918343,-1.9080865012315797,-2.028868884982409,-1.7723711814989942,-2.1997589568829823,-1.979455879265987,-1.408346048899022,-2.931806811828096,-3.0410826442035175,-4.06818806862281,-3.0550492869773516,-1.7337088278829529,-1.2662749735754713,-2.5612350198795237,-3.483054287845231,-2.621763495785689,-3.44463457836752,-2.7076516287785624,-3.2913344397058673,-4.083235534024402,-1.0410261606988112,-2.9002064641122267,-2.5078357604263855,-2.5874795908521655,-2.2802240198112966,-1.9217649358079743,-1.4285295802933355,-3.9344469917679077,-2.586384082453463,-3.9499428056617973,-3.876134296918549,-4.39607068217962,-4.1707439969218205,-3.7467616448541263,-2.510788065974095,-2.5840846455125326,-3.4495309290844607,-2.0717662741068135,-2.9218399181345607,-3.8888288509638147,-3.049678465443189,-3.42587664962922,-3.642273211951364,-2.95528276329992,-3.1209908644302398,-2.768795181213835,-1.154538707004501,-4.565814794196724,-3.6050042761175862,-2.135631344730374,-2.327103281448555,-2.2024200942520027,-2.7896109272532037,-2.735261408347936,-3.8764244863913206,-2.307979632441426,-3.481195243129907,-3.0504944727197474,-2.825691818009306,-1.1604606781748954,-3.7277369243880187,-4.623816531424033,-3.269729629805538,-4.846306556920014,-3.235104919571223,-2.4877228922948307,-4.939530479322554,-3.991262215380779,-3.8465434535725826,-3.878530915949237,-2.6693929355160693],\"y\":[-0.03619768175956589,-1.6739709100555726,0.3837953012409664,0.8040953998158072,0.04002597425570927,0.6356937455899999,-1.0078003980926225,0.764058091238166,-1.0549616705944682,-1.3954830848467161,-0.7107285158523026,0.4267504037842136,-0.24633882206287355,-0.4224287837191836,-0.18649261253433258,-1.10336575349908,-0.3968669798671602,0.25073683812791236,-0.673606094762266,-0.527921613297167,0.07974110972040473,-1.7644099941585951,-0.6001299526725373,-0.42862356313241223,-2.134980394107508,-0.5875289585639907,-0.5986470862314875,0.4202972633382506,-0.7379285399335566,0.266927057688057,-0.513320516673327,-0.8592768169995265,-0.20639890442834244,-0.4609863577168026,0.7120961276162959,1.4016466493429796,-0.8692343924501248,-0.9051131357333573,-1.3627061894577006,-0.5382147386806525,-0.13121901472960257,1.0930985880404547,-0.23819409117656054,-0.06598884070741723,0.5259324139354622,-1.4095828926514984,-1.414387785804127,0.28502738334359506,-1.313897122011559,-0.7935547662089489,-1.2969267998017906,-0.4701534330924808,0.5644064927148883,-0.952056780707947,-3.030494456486128,-1.7817017983153953,-1.8670188615444945,-1.780378031538455,0.26311821645562805,-0.5351479038503101,-0.42977593581910317,0.380438240852059,1.3237918484090527,-0.4106871512103705,-0.11902667017350502,-1.0245597393446257,-1.3464319855699682,-1.8955261386170832,-2.760281705607212,-2.6276400172649668,0.029342061925939803,-2.989146533266412,-2.084692899508944,-2.261333030741682,-1.00176931946736,-2.784555958331903,-1.319468370377174,0.883740371910727,-0.3686371579725933,-0.8376037431340746,-0.4770672959459414,-0.8011422656906708,-0.7428326586820795,-0.16351249783364363,-0.46025791200934923,-1.4767315143549018,-1.8149853432255258,-0.9318773769681983,-1.0734467952573348,0.1460395952511995,-2.956706306842608,-0.38701793527697304,-3.592118722062119,0.31214372288625447,-2.909545355911063,-0.8733930358816496,-0.7408481549611216,0.5545846692245567,-1.246648323867372,-1.7192604486766083,-2.1554508881014667,-1.0026041043839233,2.077380652291799,-3.2485097142944577,-0.1449957511322958,0.6336388030504602,-1.454192177098538,-2.2974476449860477,-0.09602369712025288,0.7421403444923793,-0.9832759122188972,0.349191356958365,-0.7940569688262221,-0.5122971818715913,-1.6040777365930916,0.5658608022473739,-0.16293683127120567,-2.6159282972737326,-0.08943949127572463,-0.4359331804315139,1.8550177888876687,-3.3717353156967844,0.1295984949845043,-2.8247865236906793,0.8454723024490447,-1.3112290036714047,-1.2855255749695673,-5.347893824275192,-2.3019927374944094,0.6130104354485483,-2.625568123060928],\"z\":[-0.130694330863415,-1.179287382431545,-0.42732014004582464,-0.11474747783628593,-1.4433561322913022,0.46216200206676705,-0.14260551123707266,-1.0121630929127272,-1.3308062200653674,0.741097174754763,-0.41863772396113097,-0.7395862903531237,-0.01588189013848171,-1.5949419050741656,-1.2986646906322283,1.1739442548286276,1.2506531827833316,0.831660856591754,-0.31947748795773284,-1.8316938706344337,-1.043445549780518,0.6892378867007835,-0.5182344532544341,0.5366378084854144,-9.265443115402733e-05,0.4372262392667536,-0.45653731183667706,1.2030520324361784,-1.6826650281435946,-1.7375060012989543,0.04202768550477229,0.012738385685868487,-1.1428294876237484,0.75971803087511,-0.9446027639634645,0.46259040156731385,-1.520450085825659,0.6707153394581996,1.1086867595586734,0.720421816592644,-0.8007847893166586,-1.526857495774481,-1.6893293980153392,-0.01293026750394595,0.15229985614403083,-0.39675646591944214,-0.6453476842196447,-0.7942589642415917,0.21466295293374277,-2.115940825773295,2.842552413894961,-0.5930616005237986,0.9087639736321159,-2.2901721768004824,-1.323429971281259,0.6735944097279053,-0.04078495392013216,-0.4200997378238349,0.3631032886708512,1.0099435426780936,-1.184619370785437,-0.15488740379385307,-1.2695946075300932,-0.2104794651192811,-1.0626488455721745,-0.23415959280830467,-0.1535894425899373,-0.38290124260770897,-0.71447213916805,1.2292293113859674,-0.4162182764262395,1.3482339112707962,0.48567423663216214,0.5673770173158497,-0.3206407512305987,-0.21806879540879906,0.8466689403835204,-1.6724702506855655,-0.504107405798393,1.469829347734432,-0.22046400956496623,-0.9378179619654057,-2.4743997235263193,-0.5632409814442115,-0.11955059995941666,-2.2336283909259853,-2.220435627228191,0.008186012642879196,0.17023472895624706,-1.0968408886434147,-0.9232016942844429,-1.441823179238684,-1.2174168472125928,1.5668433646609925,0.20889213553798616,-0.9184723778788074,-1.733639537198651,-1.690022727369894,-0.44372136807393814,-0.3170315323150091,0.2962278311093373,-0.4195757248900045,-0.9068959606765463,2.4446404254072096,0.9176324146114743,-0.21417216320282303,-1.048533029906254,-1.1378298331453356,-0.492536722725028,0.16131485190990252,0.10353913553664548,0.6151945721264495,1.2534714272188003,-0.12434268628570705,-0.88086716752112,-0.05437477675567026,0.2684952759609051,0.06177917323506584,0.25394017583734363,-0.14069260768231148,-0.4944947898930715,-0.37807066685965407,1.5403615469662084,-0.6759730277981821,0.23475977973083142,-0.1637119808826828,1.7379017789250824,1.843271521144084,-0.6270771891980045,-0.5332277028255686,-0.27000769197428276],\"type\":\"scatter3d\"}],                        {\"template\":{\"data\":{\"bar\":[{\"error_x\":{\"color\":\"#2a3f5f\"},\"error_y\":{\"color\":\"#2a3f5f\"},\"marker\":{\"line\":{\"color\":\"#E5ECF6\",\"width\":0.5},\"pattern\":{\"fillmode\":\"overlay\",\"size\":10,\"solidity\":0.2}},\"type\":\"bar\"}],\"barpolar\":[{\"marker\":{\"line\":{\"color\":\"#E5ECF6\",\"width\":0.5},\"pattern\":{\"fillmode\":\"overlay\",\"size\":10,\"solidity\":0.2}},\"type\":\"barpolar\"}],\"carpet\":[{\"aaxis\":{\"endlinecolor\":\"#2a3f5f\",\"gridcolor\":\"white\",\"linecolor\":\"white\",\"minorgridcolor\":\"white\",\"startlinecolor\":\"#2a3f5f\"},\"baxis\":{\"endlinecolor\":\"#2a3f5f\",\"gridcolor\":\"white\",\"linecolor\":\"white\",\"minorgridcolor\":\"white\",\"startlinecolor\":\"#2a3f5f\"},\"type\":\"carpet\"}],\"choropleth\":[{\"colorbar\":{\"outlinewidth\":0,\"ticks\":\"\"},\"type\":\"choropleth\"}],\"contour\":[{\"colorbar\":{\"outlinewidth\":0,\"ticks\":\"\"},\"colorscale\":[[0.0,\"#0d0887\"],[0.1111111111111111,\"#46039f\"],[0.2222222222222222,\"#7201a8\"],[0.3333333333333333,\"#9c179e\"],[0.4444444444444444,\"#bd3786\"],[0.5555555555555556,\"#d8576b\"],[0.6666666666666666,\"#ed7953\"],[0.7777777777777778,\"#fb9f3a\"],[0.8888888888888888,\"#fdca26\"],[1.0,\"#f0f921\"]],\"type\":\"contour\"}],\"contourcarpet\":[{\"colorbar\":{\"outlinewidth\":0,\"ticks\":\"\"},\"type\":\"contourcarpet\"}],\"heatmap\":[{\"colorbar\":{\"outlinewidth\":0,\"ticks\":\"\"},\"colorscale\":[[0.0,\"#0d0887\"],[0.1111111111111111,\"#46039f\"],[0.2222222222222222,\"#7201a8\"],[0.3333333333333333,\"#9c179e\"],[0.4444444444444444,\"#bd3786\"],[0.5555555555555556,\"#d8576b\"],[0.6666666666666666,\"#ed7953\"],[0.7777777777777778,\"#fb9f3a\"],[0.8888888888888888,\"#fdca26\"],[1.0,\"#f0f921\"]],\"type\":\"heatmap\"}],\"heatmapgl\":[{\"colorbar\":{\"outlinewidth\":0,\"ticks\":\"\"},\"colorscale\":[[0.0,\"#0d0887\"],[0.1111111111111111,\"#46039f\"],[0.2222222222222222,\"#7201a8\"],[0.3333333333333333,\"#9c179e\"],[0.4444444444444444,\"#bd3786\"],[0.5555555555555556,\"#d8576b\"],[0.6666666666666666,\"#ed7953\"],[0.7777777777777778,\"#fb9f3a\"],[0.8888888888888888,\"#fdca26\"],[1.0,\"#f0f921\"]],\"type\":\"heatmapgl\"}],\"histogram\":[{\"marker\":{\"pattern\":{\"fillmode\":\"overlay\",\"size\":10,\"solidity\":0.2}},\"type\":\"histogram\"}],\"histogram2d\":[{\"colorbar\":{\"outlinewidth\":0,\"ticks\":\"\"},\"colorscale\":[[0.0,\"#0d0887\"],[0.1111111111111111,\"#46039f\"],[0.2222222222222222,\"#7201a8\"],[0.3333333333333333,\"#9c179e\"],[0.4444444444444444,\"#bd3786\"],[0.5555555555555556,\"#d8576b\"],[0.6666666666666666,\"#ed7953\"],[0.7777777777777778,\"#fb9f3a\"],[0.8888888888888888,\"#fdca26\"],[1.0,\"#f0f921\"]],\"type\":\"histogram2d\"}],\"histogram2dcontour\":[{\"colorbar\":{\"outlinewidth\":0,\"ticks\":\"\"},\"colorscale\":[[0.0,\"#0d0887\"],[0.1111111111111111,\"#46039f\"],[0.2222222222222222,\"#7201a8\"],[0.3333333333333333,\"#9c179e\"],[0.4444444444444444,\"#bd3786\"],[0.5555555555555556,\"#d8576b\"],[0.6666666666666666,\"#ed7953\"],[0.7777777777777778,\"#fb9f3a\"],[0.8888888888888888,\"#fdca26\"],[1.0,\"#f0f921\"]],\"type\":\"histogram2dcontour\"}],\"mesh3d\":[{\"colorbar\":{\"outlinewidth\":0,\"ticks\":\"\"},\"type\":\"mesh3d\"}],\"parcoords\":[{\"line\":{\"colorbar\":{\"outlinewidth\":0,\"ticks\":\"\"}},\"type\":\"parcoords\"}],\"pie\":[{\"automargin\":true,\"type\":\"pie\"}],\"scatter\":[{\"marker\":{\"colorbar\":{\"outlinewidth\":0,\"ticks\":\"\"}},\"type\":\"scatter\"}],\"scatter3d\":[{\"line\":{\"colorbar\":{\"outlinewidth\":0,\"ticks\":\"\"}},\"marker\":{\"colorbar\":{\"outlinewidth\":0,\"ticks\":\"\"}},\"type\":\"scatter3d\"}],\"scattercarpet\":[{\"marker\":{\"colorbar\":{\"outlinewidth\":0,\"ticks\":\"\"}},\"type\":\"scattercarpet\"}],\"scattergeo\":[{\"marker\":{\"colorbar\":{\"outlinewidth\":0,\"ticks\":\"\"}},\"type\":\"scattergeo\"}],\"scattergl\":[{\"marker\":{\"colorbar\":{\"outlinewidth\":0,\"ticks\":\"\"}},\"type\":\"scattergl\"}],\"scattermapbox\":[{\"marker\":{\"colorbar\":{\"outlinewidth\":0,\"ticks\":\"\"}},\"type\":\"scattermapbox\"}],\"scatterpolar\":[{\"marker\":{\"colorbar\":{\"outlinewidth\":0,\"ticks\":\"\"}},\"type\":\"scatterpolar\"}],\"scatterpolargl\":[{\"marker\":{\"colorbar\":{\"outlinewidth\":0,\"ticks\":\"\"}},\"type\":\"scatterpolargl\"}],\"scatterternary\":[{\"marker\":{\"colorbar\":{\"outlinewidth\":0,\"ticks\":\"\"}},\"type\":\"scatterternary\"}],\"surface\":[{\"colorbar\":{\"outlinewidth\":0,\"ticks\":\"\"},\"colorscale\":[[0.0,\"#0d0887\"],[0.1111111111111111,\"#46039f\"],[0.2222222222222222,\"#7201a8\"],[0.3333333333333333,\"#9c179e\"],[0.4444444444444444,\"#bd3786\"],[0.5555555555555556,\"#d8576b\"],[0.6666666666666666,\"#ed7953\"],[0.7777777777777778,\"#fb9f3a\"],[0.8888888888888888,\"#fdca26\"],[1.0,\"#f0f921\"]],\"type\":\"surface\"}],\"table\":[{\"cells\":{\"fill\":{\"color\":\"#EBF0F8\"},\"line\":{\"color\":\"white\"}},\"header\":{\"fill\":{\"color\":\"#C8D4E3\"},\"line\":{\"color\":\"white\"}},\"type\":\"table\"}]},\"layout\":{\"annotationdefaults\":{\"arrowcolor\":\"#2a3f5f\",\"arrowhead\":0,\"arrowwidth\":1},\"autotypenumbers\":\"strict\",\"coloraxis\":{\"colorbar\":{\"outlinewidth\":0,\"ticks\":\"\"}},\"colorscale\":{\"diverging\":[[0,\"#8e0152\"],[0.1,\"#c51b7d\"],[0.2,\"#de77ae\"],[0.3,\"#f1b6da\"],[0.4,\"#fde0ef\"],[0.5,\"#f7f7f7\"],[0.6,\"#e6f5d0\"],[0.7,\"#b8e186\"],[0.8,\"#7fbc41\"],[0.9,\"#4d9221\"],[1,\"#276419\"]],\"sequential\":[[0.0,\"#0d0887\"],[0.1111111111111111,\"#46039f\"],[0.2222222222222222,\"#7201a8\"],[0.3333333333333333,\"#9c179e\"],[0.4444444444444444,\"#bd3786\"],[0.5555555555555556,\"#d8576b\"],[0.6666666666666666,\"#ed7953\"],[0.7777777777777778,\"#fb9f3a\"],[0.8888888888888888,\"#fdca26\"],[1.0,\"#f0f921\"]],\"sequentialminus\":[[0.0,\"#0d0887\"],[0.1111111111111111,\"#46039f\"],[0.2222222222222222,\"#7201a8\"],[0.3333333333333333,\"#9c179e\"],[0.4444444444444444,\"#bd3786\"],[0.5555555555555556,\"#d8576b\"],[0.6666666666666666,\"#ed7953\"],[0.7777777777777778,\"#fb9f3a\"],[0.8888888888888888,\"#fdca26\"],[1.0,\"#f0f921\"]]},\"colorway\":[\"#636efa\",\"#EF553B\",\"#00cc96\",\"#ab63fa\",\"#FFA15A\",\"#19d3f3\",\"#FF6692\",\"#B6E880\",\"#FF97FF\",\"#FECB52\"],\"font\":{\"color\":\"#2a3f5f\"},\"geo\":{\"bgcolor\":\"white\",\"lakecolor\":\"white\",\"landcolor\":\"#E5ECF6\",\"showlakes\":true,\"showland\":true,\"subunitcolor\":\"white\"},\"hoverlabel\":{\"align\":\"left\"},\"hovermode\":\"closest\",\"mapbox\":{\"style\":\"light\"},\"paper_bgcolor\":\"white\",\"plot_bgcolor\":\"#E5ECF6\",\"polar\":{\"angularaxis\":{\"gridcolor\":\"white\",\"linecolor\":\"white\",\"ticks\":\"\"},\"bgcolor\":\"#E5ECF6\",\"radialaxis\":{\"gridcolor\":\"white\",\"linecolor\":\"white\",\"ticks\":\"\"}},\"scene\":{\"xaxis\":{\"backgroundcolor\":\"#E5ECF6\",\"gridcolor\":\"white\",\"gridwidth\":2,\"linecolor\":\"white\",\"showbackground\":true,\"ticks\":\"\",\"zerolinecolor\":\"white\"},\"yaxis\":{\"backgroundcolor\":\"#E5ECF6\",\"gridcolor\":\"white\",\"gridwidth\":2,\"linecolor\":\"white\",\"showbackground\":true,\"ticks\":\"\",\"zerolinecolor\":\"white\"},\"zaxis\":{\"backgroundcolor\":\"#E5ECF6\",\"gridcolor\":\"white\",\"gridwidth\":2,\"linecolor\":\"white\",\"showbackground\":true,\"ticks\":\"\",\"zerolinecolor\":\"white\"}},\"shapedefaults\":{\"line\":{\"color\":\"#2a3f5f\"}},\"ternary\":{\"aaxis\":{\"gridcolor\":\"white\",\"linecolor\":\"white\",\"ticks\":\"\"},\"baxis\":{\"gridcolor\":\"white\",\"linecolor\":\"white\",\"ticks\":\"\"},\"bgcolor\":\"#E5ECF6\",\"caxis\":{\"gridcolor\":\"white\",\"linecolor\":\"white\",\"ticks\":\"\"}},\"title\":{\"x\":0.05},\"xaxis\":{\"automargin\":true,\"gridcolor\":\"white\",\"linecolor\":\"white\",\"ticks\":\"\",\"title\":{\"standoff\":15},\"zerolinecolor\":\"white\",\"zerolinewidth\":2},\"yaxis\":{\"automargin\":true,\"gridcolor\":\"white\",\"linecolor\":\"white\",\"ticks\":\"\",\"title\":{\"standoff\":15},\"zerolinecolor\":\"white\",\"zerolinewidth\":2}}},\"scene\":{\"domain\":{\"x\":[0.0,1.0],\"y\":[0.0,1.0]},\"xaxis\":{\"title\":{\"text\":\"pc1\"}},\"yaxis\":{\"title\":{\"text\":\"pc2\"}},\"zaxis\":{\"title\":{\"text\":\"pc3\"}}},\"legend\":{\"title\":{\"text\":\"comp_3\"},\"tracegroupgap\":0},\"title\":{\"text\":\"k-means Clustering after dimensionality reduction\"}},                        {\"responsive\": true}                    ).then(function(){\n",
              "                            \n",
              "var gd = document.getElementById('d5db0dab-315d-4eed-86dc-f78efa87353c');\n",
              "var x = new MutationObserver(function (mutations, observer) {{\n",
              "        var display = window.getComputedStyle(gd).display;\n",
              "        if (!display || display === 'none') {{\n",
              "            console.log([gd, 'removed!']);\n",
              "            Plotly.purge(gd);\n",
              "            observer.disconnect();\n",
              "        }}\n",
              "}});\n",
              "\n",
              "// Listen for the removal of the full notebook cells\n",
              "var notebookContainer = gd.closest('#notebook-container');\n",
              "if (notebookContainer) {{\n",
              "    x.observe(notebookContainer, {childList: true});\n",
              "}}\n",
              "\n",
              "// Listen for the clearing of the current output cell\n",
              "var outputEl = gd.closest('.output');\n",
              "if (outputEl) {{\n",
              "    x.observe(outputEl, {childList: true});\n",
              "}}\n",
              "\n",
              "                        })                };                            </script>        </div>\n",
              "</body>\n",
              "</html>"
            ]
          },
          "metadata": {}
        }
      ]
    },
    {
      "cell_type": "markdown",
      "source": [
        "In the graph above there are five clusters graphed along the 3 principal component analysis (PCA). Just by looking  at the names of the players, it is evident that the red colored players along the right side of the graph represent the most productive or acclaimed players. Players such as James Harden, Jimmy Butler and Jrue Holiday are all former all-stars and are represented in red. When juxtaposed with Lance Stephenson and other players in the far left orange cluster there is clearly a drop in quality.\n",
        "\n",
        "Continuing, the light green cluster contains high-level defenders at the shooting guard position that are not scoring threats. This includes NBA players such as Andre Roberson (a notoriously bad offensive player but overall fantastic defensive player), Tony Allen and Robert Convigton. On the opposite end, the purple cluster contains efficient shooters that cannot scale their shooting with higher volume. Kyle Korver and Joe Harris are the highlights of this cluster. Finally, the blue cluster seems to be a combination of the defenders from the green cluster and the shooters from the purple.   \n",
        "\n",
        "While James Harden seems to be the clear favorite, it is essential to understand what the three PCAs represent to pick the most productive player for that position.  "
      ],
      "metadata": {
        "id": "WIdYg5rI-cI4"
      }
    },
    {
      "cell_type": "code",
      "source": [
        "\n",
        "for a in n_pca:\n",
        "  print(f'pc{a+1}')\n",
        "  print(pd.Series(loading_scores_all[a]))\n",
        "  print()\n",
        "  print()\n",
        ""
      ],
      "metadata": {
        "id": "2yB0E7OrIeMn",
        "colab": {
          "base_uri": "https://localhost:8080/"
        },
        "outputId": "3aca38e6-7d14-431d-885f-f164dca028fd"
      },
      "execution_count": null,
      "outputs": [
        {
          "output_type": "stream",
          "name": "stdout",
          "text": [
            "pc1\n",
            "TOV/G     0.368940\n",
            "DRB/G     0.362278\n",
            "AST/G     0.354445\n",
            "STL/G     0.354182\n",
            "2P/G      0.351335\n",
            "PF        0.329567\n",
            "ORB/G     0.269538\n",
            "BLK/G     0.264837\n",
            "3P/G      0.201633\n",
            "TS_pct    0.144576\n",
            "dtype: float64\n",
            "\n",
            "\n",
            "pc2\n",
            "eFG%            0.512879\n",
            "three_pt_pct    0.472119\n",
            "TS_pct          0.394679\n",
            "3P/G            0.389518\n",
            "FT%             0.240540\n",
            "ORB/G          -0.178923\n",
            "two_pt_pct      0.172598\n",
            "NETRTG          0.170344\n",
            "2P/G           -0.138349\n",
            "STL/G          -0.126602\n",
            "dtype: float64\n",
            "\n",
            "\n",
            "pc3\n",
            "FT%          -0.475532\n",
            "two_pt_pct    0.455735\n",
            "ORB/G         0.334515\n",
            "TOV/G        -0.274543\n",
            "NETRTG        0.268412\n",
            "eFG%          0.252658\n",
            "AST/G        -0.251772\n",
            "BLK/G         0.251650\n",
            "3P/G         -0.237112\n",
            "2P/G         -0.163930\n",
            "dtype: float64\n",
            "\n",
            "\n"
          ]
        }
      ]
    },
    {
      "cell_type": "markdown",
      "source": [
        "The higher the players are in PC1 the better they perform in AST/G, 2P/G, BLK/G and 3P/G. This group primarily represents total volume statistics. There are no metrics  regarding shooting percentages or efficiency.\n",
        "\n",
        "The higher players are in PC2 the more efficient the player. This is represented by stats such as true-shooting percentage, two-point percentage, three-point percentage etc.  \n",
        "\n",
        "Finally, the higher players are in PC3 the worst they are in shooting volume (negative values for 3P/G and 2P/G) and ball-handling volvume (AST/G).\n",
        "\n"
      ],
      "metadata": {
        "id": "8O-uJdQTAiUq"
      }
    },
    {
      "cell_type": "markdown",
      "source": [
        "Overall, James Harden's 2018 season is our choice for most productive shooting guard season in our dataset. Below we will detail his PCA values:\n",
        "\n",
        "\n",
        "*   PC1: 8.1\n",
        "*   PC2: 1.8\n",
        "*   PC3: 1.3\n",
        "\n",
        "\n",
        "His PC1 value of 8.1 is the highest of any player on list. It highlights his ability to run an offense on high volvume. Furthermore, his PC2 was the highest of those four seasons of his clustered to the right. Indicating that his volume and efficiency peaked at the same time which is very rare. Usually, productivity comes at the cost of efficiency.     "
      ],
      "metadata": {
        "id": "mCcoVykiHx0V"
      }
    },
    {
      "cell_type": "markdown",
      "source": [
        "Position- Center"
      ],
      "metadata": {
        "id": "Beu47kVseZ4c"
      }
    },
    {
      "cell_type": "markdown",
      "source": [
        "We repeated the same above process with every other position. So, we are hiding all the code cells for this position to just show the results of how many principal components we selected to do clustering on.\n"
      ],
      "metadata": {
        "id": "Oe0uqjCmb-QF"
      }
    },
    {
      "cell_type": "code",
      "source": [
        "#@title Code for Position Center\n",
        "df=pd.read_csv(\"dfaftercleaning.csv\")\n",
        "\n",
        "df_pcas=df[df[\"G\"]>40]\n",
        "df_pcas.columns\n",
        "df_pcas=df_pcas.reset_index()\n",
        "df_pcas.drop(['Unnamed: 0',\"index\"],  axis=1, inplace=True)\n",
        "df_pcas=df_pcas[df_pcas['Pos']=='C']\n",
        "df_pcas=df_pcas.reset_index()\n",
        "df_pcas.drop(\"index\",axis=1,inplace=True)\n",
        "df_pca_labels=df_pcas[['PLAYER', 'Pos', 'Age', 'Tm', 'G','Year','TEAM', 'WEIGHT', 'COLLEGE', 'COUNTRY', 'DRAFT YEAR',\n",
        "       'DRAFT ROUND', 'DRAFT NUMBER','Height']]\n",
        "df_pca = df_pcas.drop(df_pca_labels.columns,axis=1)\n",
        "df_pca\n",
        "from sklearn.preprocessing import StandardScaler\n",
        "scale = StandardScaler()\n",
        "scaled_pca = scale.fit_transform(df_pca)\n",
        "scaled_pca= pd.DataFrame(scaled_pca)\n",
        "scaled_pca\n",
        "scaled_pca.columns = [df_pca[:0]]\n",
        "scaled_pca.head(5)\n",
        "len(scaled_pca.columns)\n",
        "#We have 15 dimensions for each player.\n",
        "#scaled_pca_SG=scaled_pca_SG.to_numpy()\n",
        "from sklearn.decomposition import PCA\n",
        "pca = PCA(n_components = 10)\n",
        "\n",
        "principle_components = pca.fit_transform(scaled_pca)\n",
        "\n",
        "pca.explained_variance_ratio_.cumsum()\n",
        "#len(principle_components)\n",
        "loading_scores_all = []\n",
        "n_pca=[0,1,2]\n",
        "#print(p)\n",
        "for p in n_pca:\n",
        "  loading_scores = pd.Series(pca.components_[p], index=scaled_pca.columns)\n",
        "  #print(loading_scores)\n",
        "  ## now sort the loading scores based on their magnitude\n",
        "  sorted_loading_scores = loading_scores.abs().sort_values(ascending=False)\n",
        "\n",
        "  # get the names of the top 10 genes\n",
        "  top_10_traits = sorted_loading_scores[0:10].index.values\n",
        "\n",
        "  loading_scores_all.append(loading_scores[top_10_traits].to_dict())\n",
        "\n",
        "pca = pd.DataFrame(principle_components)\n",
        "pca.columns = ['pc1','pc2','pc3','pc4','pc5','pc6','pc7','pc8','pc9','pc10']\n",
        "pca.dropna(inplace=True)\n",
        "pca\n",
        "df_after_pca = pd.concat([pca, df_pca_labels], axis = 1)\n",
        "#df_after_pca\n",
        "df_after_pca[\"zeroed\"]=0\n",
        "fig = px.scatter(df_after_pca, x= df_after_pca[\"pc1\"], y= df_after_pca[\"zeroed\"] ,hover_data=['PLAYER','Year'])\n",
        "fig.show()\n",
        "\n",
        "df_pc_only=df_after_pca.iloc[:,0:1]\n",
        "#print(df_pc_only)\n",
        "#df_pc_only=clean_dataset(df_pc_only)\n",
        "kmeans_model = skc.KMeans(n_clusters=4,init='k-means++',random_state=42)\n",
        "#kmeans_model = skc.KMeans(n_clusters=5,init='k-means++',random_state=42)\n",
        "\n",
        "kmeans_model.fit(df_pc_only)\n",
        "centroids = kmeans_model.cluster_centers_\n",
        "centroids\n",
        "df_pc_only['cluster_labels_kmeans'] = kmeans_model.labels_\n",
        "df_cluster = pd.concat([df_pc_only, df_pca_labels], axis = 1)\n",
        "\n",
        "print(df_cluster[(df_cluster['PLAYER']==\"DeMarcus Cousins\") & (df_cluster[\"Year\"]==2018)][\"PLAYER\"])\n",
        "\n",
        "\n",
        "index=314\n",
        "#we are taking the a player's index who is farthest on pca1 and setting it to get the cluster name constant for each iteration where we take only one principal component and next two and son on.\n",
        "index=314\n",
        "import sklearn as sk\n",
        "import sklearn.cluster as skc\n",
        "\n",
        "labels_dict={1: [],2: [], 3: [], 10: []}\n",
        "pca_comp=[1,2,3,10]\n",
        "finder_constant=0\n",
        "n=4\n",
        "for p in pca_comp:\n",
        "  #print(n)\n",
        "  df_pc_only=df_after_pca.iloc[:,0:p]\n",
        "  kmeans_model = skc.KMeans(n_clusters=n,init='k-means++',random_state=42)\n",
        "  kmeans_model.fit(df_pc_only)\n",
        "  centroids = kmeans_model.cluster_centers_\n",
        "  labels = list(kmeans_model.labels_)\n",
        "  if p==1:\n",
        "    label_top=labels[index]\n",
        "    finder_constant=label_top\n",
        "  else:\n",
        "    label_top_1=labels[index]\n",
        "    changer= {0:0,1:1,2:2,3:3,4:4,5:5}\n",
        "    changer[label_top_1]=label_top\n",
        "    changer[label_top]=label_top_1\n",
        "    #print(changer)\n",
        "    labels= [changer[a] for a in labels]\n",
        "    #print(p)\n",
        "    #print(labels)\n",
        "  labels_dict[p] = labels\n",
        "  if p==1:\n",
        "    n=n+1\n",
        "labels_components=pd.DataFrame(labels_dict)\n",
        "labels_components.columns=[\"comp_1\",\"comp_2\",\"comp_3\",\"comp_10\"]\n",
        "df_cluster = pd.concat([df_pc_only,labels_components, df_pca_labels], axis = 1)\n",
        "df_cluster[\"player-year-tm\"] = df_cluster[\"PLAYER\"] + \"-\" + df_cluster[\"Year\"].astype(str) + \"-\" + df_cluster[\"Tm\"]\n",
        "df_cluster['comp_1'] = df_cluster['comp_1'].astype(str)\n",
        "df_cluster['comp_2'] = df_cluster['comp_2'].astype(str)\n",
        "df_cluster['comp_3'] = df_cluster['comp_3'].astype(str)\n",
        "df_cluster['comp_10'] = df_cluster['comp_10'].astype(str)\n",
        "finder_constant = str(finder_constant)\n",
        "\n",
        "comp_1_players=df_cluster[df_cluster[\"comp_1\"]==finder_constant][[\"player-year-tm\"]][\"player-year-tm\"].tolist()\n",
        "comp_2_players=df_cluster[df_cluster[\"comp_2\"]==finder_constant][[\"player-year-tm\"]][\"player-year-tm\"].tolist()\n",
        "comp_3_players=df_cluster[df_cluster[\"comp_3\"]==finder_constant][[\"player-year-tm\"]][\"player-year-tm\"].tolist()\n",
        "comp_10_players=df_cluster[df_cluster[\"comp_10\"]==finder_constant][[\"player-year-tm\"]][\"player-year-tm\"].tolist()"
      ],
      "metadata": {
        "id": "YJ779zqleedl",
        "colab": {
          "base_uri": "https://localhost:8080/",
          "height": 649
        },
        "outputId": "df4e293b-1402-4373-ee6c-352e9ce80100"
      },
      "execution_count": null,
      "outputs": [
        {
          "output_type": "stream",
          "name": "stderr",
          "text": [
            "/usr/local/lib/python3.7/dist-packages/sklearn/utils/validation.py:1692: FutureWarning:\n",
            "\n",
            "Feature names only support names that are all strings. Got feature names with dtypes: ['tuple']. An error will be raised in 1.2.\n",
            "\n"
          ]
        },
        {
          "output_type": "display_data",
          "data": {
            "text/html": [
              "<html>\n",
              "<head><meta charset=\"utf-8\" /></head>\n",
              "<body>\n",
              "    <div>            <script src=\"https://cdnjs.cloudflare.com/ajax/libs/mathjax/2.7.5/MathJax.js?config=TeX-AMS-MML_SVG\"></script><script type=\"text/javascript\">if (window.MathJax) {MathJax.Hub.Config({SVG: {font: \"STIX-Web\"}});}</script>                <script type=\"text/javascript\">window.PlotlyConfig = {MathJaxConfig: 'local'};</script>\n",
              "        <script src=\"https://cdn.plot.ly/plotly-2.8.3.min.js\"></script>                <div id=\"b0c9acd5-1576-4eeb-9b69-f96afd2ff5f6\" class=\"plotly-graph-div\" style=\"height:525px; width:100%;\"></div>            <script type=\"text/javascript\">                                    window.PLOTLYENV=window.PLOTLYENV || {};                                    if (document.getElementById(\"b0c9acd5-1576-4eeb-9b69-f96afd2ff5f6\")) {                    Plotly.newPlot(                        \"b0c9acd5-1576-4eeb-9b69-f96afd2ff5f6\",                        [{\"customdata\":[[\"Gorgui Dieng\",2015],[\"Bismack Biyombo\",2016],[\"Mason Plumlee\",2016],[\"Robin Lopez\",2016],[\"Robin Lopez\",2013],[\"Mason Plumlee\",2014],[\"Andre Drummond\",2014],[\"Marcin Gortat\",2014],[\"Rudy Gobert\",2014],[\"Timofey Mozgov\",2013],[\"Enes Freedom\",2016],[\"Bam Adebayo\",2019],[\"Montrezl Harrell\",2019],[\"Enes Freedom\",2015],[\"Al Horford\",2016],[\"Bismack Biyombo\",2015],[\"Gorgui Dieng\",2016],[\"Al Horford\",2015],[\"Mason Plumlee\",2015],[\"Robin Lopez\",2015],[\"Andray Blatche\",2012],[\"Brook Lopez\",2010],[\"Marreese Speights\",2017],[\"Marcin Gortat\",2017],[\"Pau Gasol\",2010],[\"Spencer Hawes\",2012],[\"Bismack Biyombo\",2018],[\"DeAndre Jordan\",2014],[\"Roy Hibbert\",2010],[\"Roy Hibbert\",2016],[\"Robin Lopez\",2017],[\"DeAndre Jordan\",2017],[\"Rudy Gobert\",2017],[\"Roy Hibbert\",2015],[\"Mason Plumlee\",2017],[\"Andre Drummond\",2017],[\"Aron Baynes\",2018],[\"Aron Baynes\",2016],[\"Dwight Howard\",2018],[\"Andre Drummond\",2016],[\"Andre Drummond\",2015],[\"Greg Monroe\",2017],[\"Frank Kaminsky\",2016],[\"Aron Baynes\",2015],[\"LaMarcus Aldridge\",2019],[\"Andre Drummond\",2013],[\"Marcin Gortat\",2013],[\"Marc Gasol\",2010],[\"Willie Cauley-Stein\",2019],[\"Ed Davis\",2019],[\"Brook Lopez\",2019],[\"Timofey Mozgov\",2014],[\"Marc Gasol\",2014],[\"Nick Collison\",2012],[\"Greg Monroe\",2012],[\"Roy Hibbert\",2013],[\"Spencer Hawes\",2010],[\"Kosta Koufos\",2012],[\"Samuel Dalembert\",2013],[\"Enes Freedom\",2013],[\"Steven Adams\",2019],[\"Kevon Looney\",2019],[\"Jarrett Allen\",2019],[\"Spencer Hawes\",2013],[\"DeAndre Jordan\",2010],[\"Marcin Gortat\",2010],[\"Samuel Dalembert\",2010],[\"Joakim Noah\",2013],[\"Marc Gasol\",2012],[\"Ian Mahinmi\",2012],[\"Steven Adams\",2017],[\"JaVale McGee\",2010],[\"Greg Monroe\",2016],[\"Andre Drummond\",2019],[\"Greg Monroe\",2015],[\"Gorgui Dieng\",2018],[\"Marreese Speights\",2012],[\"Kyle O'Quinn\",2017],[\"JaVale McGee\",2012],[\"Roy Hibbert\",2012],[\"Marc Gasol\",2019],[\"Lavoy Allen\",2012],[\"Glen Davis\",2010],[\"Alex Len\",2016],[\"Alex Len\",2015],[\"Andre Drummond\",2018],[\"Ed Davis\",2018],[\"Al Jefferson\",2012],[\"Kendrick Perkins\",2012],[\"Dwight Howard\",2010],[\"Pau Gasol\",2018],[\"Dirk Nowitzki\",2018],[\"Dwight Powell\",2017],[\"Derrick Favors\",2018],[\"JaVale McGee\",2017],[\"Kyle O'Quinn\",2018],[\"Clint Capela\",2015],[\"Ian Mahinmi\",2018],[\"Alex Len\",2017],[\"Johan Petro\",2010],[\"Al Horford\",2010],[\"Zach Collins\",2019],[\"Ian Mahinmi\",2013],[\"Clint Capela\",2016],[\"DeAndre Jordan\",2016],[\"Alex Len\",2019],[\"DeAndre Jordan\",2015],[\"Timofey Mozgov\",2016],[\"Zaza Pachulia\",2016],[\"Montrezl Harrell\",2018],[\"John Henson\",2018],[\"Steven Adams\",2018],[\"Roy Hibbert\",2014],[\"Jason Smith\",2016],[\"Timofey Mozgov\",2015],[\"Gorgui Dieng\",2019],[\"Dwight Howard\",2012],[\"Al Horford\",2014],[\"Jason Smith\",2015],[\"Derrick Favors\",2019],[\"Zaza Pachulia\",2015],[\"Nazr Mohammed\",2010],[\"Enes Freedom\",2014],[\"Willie Cauley-Stein\",2017],[\"Anthony Davis\",2017],[\"Frank Kaminsky\",2017],[\"LaMarcus Aldridge\",2018],[\"DeMarcus Cousins\",2012],[\"Marcin Gortat\",2015],[\"Kelly Olynyk\",2017],[\"Brook Lopez\",2017],[\"JaVale McGee\",2019],[\"Marcin Gortat\",2016],[\"Chuck Hayes\",2010],[\"Marc Gasol\",2017],[\"Brook Lopez\",2012],[\"Chuck Hayes\",2012],[\"Jason Smith\",2017],[\"Serge Ibaka\",2019],[\"Al Horford\",2012],[\"Brook Lopez\",2018],[\"Channing Frye\",2017],[\"Dwight Howard\",2017],[\"Amir Johnson\",2018],[\"Clint Capela\",2018],[\"Thon Maker\",2018],[\"Robin Lopez\",2019],[\"Marc Gasol\",2018],[\"Willie Cauley-Stein\",2018],[\"Jordan Hill\",2015],[\"Salah Mejri\",2017],[\"Elton Brand\",2013],[\"Brook Lopez\",2015],[\"Al Jefferson\",2013],[\"Jordan Hill\",2016],[\"Gorgui Dieng\",2014],[\"Brook Lopez\",2016],[\"Zaza Pachulia\",2014],[\"Pau Gasol\",2016],[\"Jarrett Allen\",2018],[\"DeMarcus Cousins\",2017],[\"Elton Brand\",2012],[\"Marreese Speights\",2016],[\"Pau Gasol\",2015],[\"Brook Lopez\",2014],[\"Chris Andersen\",2013],[\"Marreese Speights\",2015],[\"Thomas Bryant\",2019],[\"Brendan Haywood\",2010],[\"Jordan Hill\",2010],[\"Zydrunas Ilgauskas\",2010],[\"Emeka Okafor\",2010],[\"Enes Freedom\",2017],[\"Al Horford\",2018],[\"Larry Sanders\",2012],[\"Deandre Ayton\",2019],[\"Dwight Howard\",2016],[\"Kosta Koufos\",2017],[\"DeMarcus Cousins\",2013],[\"Dwight Howard\",2015],[\"Dwight Howard\",2013],[\"Enes Freedom\",2018],[\"Willie Reed\",2017],[\"Andrew Bogut\",2016],[\"Steven Adams\",2014],[\"Mike Muscala\",2017],[\"Andrew Bogut\",2015],[\"Enes Freedom\",2012],[\"Greg Smith\",2012],[\"Zaza Pachulia\",2017],[\"Jordan Hill\",2014],[\"Aron Baynes\",2014],[\"Kelly Olynyk\",2015],[\"Zaza Pachulia\",2018],[\"Alex Len\",2018],[\"Kelly Olynyk\",2016],[\"Kyle O'Quinn\",2013],[\"Bam Adebayo\",2018],[\"Alex Len\",2014],[\"Al Horford\",2019],[\"Jordan Bell\",2019],[\"Kendrick Perkins\",2014],[\"Al Horford\",2017],[\"Nerlens Noel\",2015],[\"Nerlens Noel\",2016],[\"Larry Nance Jr.\",2019],[\"Enes Freedom\",2019],[\"Tarik Black\",2017],[\"Joakim Noah\",2014],[\"Al Jefferson\",2017],[\"Greg Monroe\",2011],[\"Tyson Chandler\",2015],[\"Larry Nance Jr.\",2018],[\"Kevon Looney\",2018],[\"Zach Collins\",2018],[\"DeAndre Jordan\",2011],[\"Tyson Chandler\",2016],[\"Willie Cauley-Stein\",2016],[\"Joakim Noah\",2012],[\"Marcin Gortat\",2011],[\"Andrea Bargnani\",2010],[\"Chris Kaman\",2012],[\"Byron Mullens\",2011],[\"Samuel Dalembert\",2011],[\"Roy Hibbert\",2011],[\"JaVale McGee\",2018],[\"Andrew Bogut\",2010],[\"DeMarcus Cousins\",2015],[\"Al Jefferson\",2014],[\"DeMarcus Cousins\",2016],[\"Marc Gasol\",2011],[\"DeMarcus Cousins\",2011],[\"Joakim Noah\",2011],[\"Kelly Olynyk\",2014],[\"Joel Embiid\",2019],[\"Dewayne Dedmon\",2019],[\"Thon Maker\",2019],[\"Pau Gasol\",2017],[\"Robin Lopez\",2018],[\"Justin Hamilton\",2017],[\"Joel Embiid\",2018],[\"Nazr Mohammed\",2011],[\"Nazr Mohammed\",2012],[\"Tyson Chandler\",2011],[\"Kendrick Perkins\",2013],[\"Dewayne Dedmon\",2018],[\"Al Jefferson\",2011],[\"Meyers Leonard\",2019],[\"Anthony Davis\",2016],[\"Ekpe Udoh\",2011],[\"Marcin Gortat\",2012],[\"Anthony Davis\",2015],[\"Brendan Haywood\",2012],[\"Ian Mahinmi\",2011],[\"Salah Mejri\",2018],[\"Chuck Hayes\",2013],[\"Mike Muscala\",2016],[\"Elton Brand\",2011],[\"Mike Muscala\",2015],[\"Brad Miller\",2010],[\"Andrew Bynum\",2011],[\"Chris Andersen\",2014],[\"Pau Gasol\",2013],[\"Kevin Love\",2018],[\"Marcus Camby\",2011],[\"Joffrey Lauvergne\",2016],[\"Robin Lopez\",2014],[\"DeMarcus Cousins\",2014],[\"Marcus Camby\",2010],[\"Johan Petro\",2011],[\"Marc Gasol\",2013],[\"Dewayne Dedmon\",2014],[\"Joffrey Lauvergne\",2015],[\"John Henson\",2017],[\"Montrezl Harrell\",2017],[\"John Henson\",2015],[\"John Henson\",2016],[\"Jordan Bell\",2018],[\"Thon Maker\",2017],[\"Richaun Holmes\",2017],[\"Lucas Nogueira\",2017],[\"Drew Gooden\",2011],[\"Jeff Foster\",2010],[\"Ian Mahinmi\",2010],[\"Anthony Davis\",2019],[\"Meyers Leonard\",2014],[\"Tyson Chandler\",2019],[\"Tyson Chandler\",2013],[\"Joffrey Lauvergne\",2018],[\"Timofey Mozgov\",2017],[\"Dwight Howard\",2011],[\"Chuck Hayes\",2011],[\"Zaza Pachulia\",2013],[\"Jahlil Okafor\",2016],[\"Hilton Armstrong\",2010],[\"Mike Muscala\",2018],[\"Channing Frye\",2018],[\"Kyrylo Fesenko\",2010],[\"Kevon Looney\",2017],[\"Zaza Pachulia\",2012],[\"Marc Gasol\",2015],[\"Marc Gasol\",2016],[\"Joel Freeland\",2013],[\"Nerlens Noel\",2017],[\"Aron Baynes\",2019],[\"Amir Johnson\",2019],[\"Erick Dampier\",2010],[\"Tarik Black\",2018],[\"Jason Smith\",2012],[\"Khem Birch\",2019],[\"Kosta Koufos\",2010],[\"Jason Collins\",2010],[\"Lucas Nogueira\",2018],[\"Joakim Noah\",2010],[\"DeMarcus Cousins\",2018],[\"Richaun Holmes\",2018],[\"Samuel Dalembert\",2012],[\"Mo Bamba\",2019],[\"Frank Kaminsky\",2019],[\"Henry Sims\",2013],[\"Andrea Bargnani\",2015],[\"Joakim Noah\",2017],[\"Andrea Bargnani\",2016],[\"Chris Andersen\",2010],[\"Byron Mullens\",2013],[\"Wendell Carter Jr.\",2019],[\"Greg Monroe\",2019],[\"Andrea Bargnani\",2013],[\"Chris Andersen\",2012],[\"Dan Gadzuric\",2010],[\"Timofey Mozgov\",2012],[\"Justin Hamilton\",2014],[\"Dwight Howard\",2014]],\"hovertemplate\":\"pc1=%{x}<br>zeroed=%{y}<br>PLAYER=%{customdata[0]}<br>Year=%{customdata[1]}<extra></extra>\",\"legendgroup\":\"\",\"marker\":{\"color\":\"#636efa\",\"symbol\":\"circle\"},\"mode\":\"markers\",\"name\":\"\",\"orientation\":\"v\",\"showlegend\":false,\"x\":[0.9095915884718062,-0.2607888171479034,1.4315336123383848,0.3852840356945376,0.5214921166986977,0.1621492946737147,3.513891323470647,0.9278886353160385,1.4326380700275334,-0.4265714794721993,-0.20042914339029924,0.6906536222775028,1.9787731976515677,-0.3710320952723874,1.1934714004736737,-0.343234753255447,1.0879516465067067,1.2321345452516854,1.337250380101916,0.49381504618237826,-0.6350751208223842,1.400933581932422,-1.78155815503836,1.1737439846343383,2.61385983420405,0.535192578932937,-1.5124704101899509,4.052780127041667,1.5333856811983704,-1.183325234776205,-0.4422117821212081,3.0873240259234858,3.69776176929378,-0.9120529700518748,1.539014023549433,3.4704034354291573,-1.390791329637278,-2.0471842820944555,3.1538181480340834,4.1067464355844425,4.064354078883333,0.7525389071865317,-2.42344689780799,-1.792186413025929,1.9326093566255103,3.6687086442152292,1.1560021478947204,1.8617643063208942,1.352073948006573,-0.1872812548411742,-0.11709352855590274,0.2534627595843737,2.181545811596,-1.0136096135657253,2.8207792001508185,1.0140046606343485,-0.8811090885225342,0.27196586667344197,-0.4144068511220746,0.4161138311764579,2.8719901689136846,-0.3317574478613994,0.7685164362088711,1.1200003749774776,0.7510775487774125,-0.06565244816359818,0.44469658375028315,3.948110572233555,2.629312428377006,-1.5063375435821693,1.487915040328691,1.0822621658153415,1.2982492313072376,5.336580137022423,1.3066171796569168,-2.088057372046344,-1.7833318429358311,-0.8244750759345172,-0.5928127683302169,2.3275039026795956,1.756261918738279,-1.7189639556527414,-0.46955299745364076,-0.10570700179753081,0.110237926277205,5.240895099812533,-0.753290895106774,1.6472561389004559,-0.43577369105011876,5.999894735148229,-0.293686754749241,-1.6379294852161133,-2.080257014876631,0.44671364625902377,-1.8265052205316141,-0.04685543808493207,-0.24576231721150718,-1.0984214118841054,-0.3292141521524579,-2.5210768790427918,2.0369764287206342,-1.7012702868143272,-2.041368445731617,-0.04574080673956348,3.246941751957533,-0.6791119805294962,3.3090913296773152,-1.7129769572488383,0.3302907684723279,-1.0004843917184936,0.4464123885258285,2.6372218665105263,0.07727597213143042,-2.157738803741001,-1.6095850023939011,-2.074145738417132,4.724938184693745,1.1108775848960726,-2.3777310351268377,0.7047784933164191,0.38609901524686085,-1.2847710980919795,0.45247294647049885,-1.4251537267766259,3.965014843287148,-1.6131349218338031,1.590443644485847,3.244354907825668,1.6308023171786,-0.7472346533068347,1.0754750851409052,1.319629488463456,1.5750522976482182,0.8176564432421687,1.6274172476732884,0.9387747057784721,-2.89577133169952,-2.1607489810603875,1.004927900515,2.773945133460758,-0.6483554381329412,-2.3766154327565423,3.004885499982542,-1.2046421799847342,2.4703137722804676,-2.6300341592115584,-1.34845035394317,1.6190954966672197,0.7633110161411109,-1.105991849970748,-1.9013409902746583,-1.0752637751119367,2.414634351785577,2.3185201371075306,-0.8440358762623484,1.3167897536342368,2.4341511177417807,0.1281276915013673,2.5136098876241415,-0.905078021583873,4.886117077521471,-0.5294862496207532,-2.785675669996684,2.602715246064937,1.2271907823434087,-0.8778403478466829,-2.618893043946852,-0.8167526860536249,-1.6178450572388035,-2.156657806079694,-1.9399385191442535,1.4279535550163018,-0.06983713758260598,0.9708526223822807,2.0814926275543115,2.126318764997797,3.153002394790496,-1.2290095277944464,4.7823886782382905,3.280939648243998,4.05806802968521,1.3751221700480853,-2.106239619819438,0.8502661451434551,0.46472735910675744,-2.395352195395761,0.8077109697054118,-2.0685960215887995,-1.766736698776404,-0.2980358928450678,-0.0816941005808435,-2.193563979887229,-1.273272533313124,-1.554028472055768,-0.5614709926550224,-1.2653137902606078,-0.928706915403094,-1.4062294498316323,-0.6666768423020407,1.1515546587639278,-3.042096844466952,-1.9436106299282803,1.1240110123716398,2.216951093773541,2.267094625129705,1.33040383223756,0.7978268902242566,-1.6266549914813886,1.8259947804523962,-2.590110123209696,2.3903198720592997,0.11539868995412018,0.266331216060888,-2.183497453676246,-2.928973364822596,0.7237692218108522,-0.29521357847632984,-1.0153677233990905,3.7926597892291944,1.3420206705797522,0.07094738816850493,-0.9976132636950734,-2.1318024127884247,-0.36024222135034906,1.5288820049540341,-2.5812021707451893,3.0752418115233398,4.871653399792101,0.6681994660046529,4.8642143850272905,2.251288600399609,3.3882374832410163,1.3690083330325589,-0.15156257523967298,4.698594773291867,0.5535750956484141,-2.9847595014189054,-0.1928166730561722,-0.9305929430510674,-2.5982122668699112,3.8602334333971835,-3.2971072989687906,-3.518282583776766,1.9866906223412368,-1.4555498326992058,-0.1260023467426308,1.5278288784008511,-2.7124172823015233,2.8617222172217156,-1.1420357940104229,0.7057062807789606,3.08130524331039,-2.226561268370626,-1.3063134528899865,-1.7699055155948225,-3.381757619542951,-3.7578574155503035,0.7986452664233393,-3.5783473779494477,-2.413576216687712,2.5024335335893473,-1.6945858071341944,1.7673258834042294,-0.07463399356525877,-0.042758867335095554,-2.422005242066482,-0.32174601264556835,5.6585288983031665,0.331440101822423,-3.243268401370691,1.4795353682164774,-2.0756531189380754,-2.7435838568839115,-1.1280078040844739,-1.3020508137316442,-1.0210423712293966,-1.096439088787908,-1.3076409209246962,-3.8137121681019317,-0.7918943017586052,-0.4790579662460208,-0.06462659213116903,-1.9576172018459337,-3.4977767714071204,4.484208778682705,-3.1964196625692303,-1.9854182791030088,0.7807340121231875,-3.693024140137602,-1.7623746665491973,5.307975460770136,-2.0956877326079035,-0.5600509174250007,0.5149245625046263,-3.905424081440669,-2.4568941047717274,-3.3693244126050144,-3.6881963156666715,-3.7569521749265706,-1.0621154597862705,1.5002557316839022,1.390613559792875,-3.290088171224371,-0.11894068662281991,-2.1128889943379345,-2.9657225135284073,-2.5028988201475846,-2.59103559836331,-2.103979019997968,-2.5110421586466454,-3.9524647783862674,-4.363633691480958,-2.9797893823037205,1.9526674702420799,5.965467921159014,-2.0581097713513534,-1.5144155329053077,-2.004376312692714,-2.833150025166937,-1.1119815774991717,-4.245005425060181,-0.11229087759106789,-4.228139596288897,-1.5809955015320605,-4.056772556449103,-0.1756553190846646,-3.1240202854271537,-1.3083643046500104,-2.304885457815882,-2.962905434839126,-3.8009919300129487,-2.806397957613943,2.2057836408630704],\"xaxis\":\"x\",\"y\":[0,0,0,0,0,0,0,0,0,0,0,0,0,0,0,0,0,0,0,0,0,0,0,0,0,0,0,0,0,0,0,0,0,0,0,0,0,0,0,0,0,0,0,0,0,0,0,0,0,0,0,0,0,0,0,0,0,0,0,0,0,0,0,0,0,0,0,0,0,0,0,0,0,0,0,0,0,0,0,0,0,0,0,0,0,0,0,0,0,0,0,0,0,0,0,0,0,0,0,0,0,0,0,0,0,0,0,0,0,0,0,0,0,0,0,0,0,0,0,0,0,0,0,0,0,0,0,0,0,0,0,0,0,0,0,0,0,0,0,0,0,0,0,0,0,0,0,0,0,0,0,0,0,0,0,0,0,0,0,0,0,0,0,0,0,0,0,0,0,0,0,0,0,0,0,0,0,0,0,0,0,0,0,0,0,0,0,0,0,0,0,0,0,0,0,0,0,0,0,0,0,0,0,0,0,0,0,0,0,0,0,0,0,0,0,0,0,0,0,0,0,0,0,0,0,0,0,0,0,0,0,0,0,0,0,0,0,0,0,0,0,0,0,0,0,0,0,0,0,0,0,0,0,0,0,0,0,0,0,0,0,0,0,0,0,0,0,0,0,0,0,0,0,0,0,0,0,0,0,0,0,0,0,0,0,0,0,0,0,0,0,0,0,0,0,0,0,0,0,0,0,0,0,0,0,0,0,0,0,0,0,0,0,0,0,0,0,0,0,0,0,0,0,0,0,0,0,0,0,0,0,0,0],\"yaxis\":\"y\",\"type\":\"scatter\"}],                        {\"template\":{\"data\":{\"bar\":[{\"error_x\":{\"color\":\"#2a3f5f\"},\"error_y\":{\"color\":\"#2a3f5f\"},\"marker\":{\"line\":{\"color\":\"#E5ECF6\",\"width\":0.5},\"pattern\":{\"fillmode\":\"overlay\",\"size\":10,\"solidity\":0.2}},\"type\":\"bar\"}],\"barpolar\":[{\"marker\":{\"line\":{\"color\":\"#E5ECF6\",\"width\":0.5},\"pattern\":{\"fillmode\":\"overlay\",\"size\":10,\"solidity\":0.2}},\"type\":\"barpolar\"}],\"carpet\":[{\"aaxis\":{\"endlinecolor\":\"#2a3f5f\",\"gridcolor\":\"white\",\"linecolor\":\"white\",\"minorgridcolor\":\"white\",\"startlinecolor\":\"#2a3f5f\"},\"baxis\":{\"endlinecolor\":\"#2a3f5f\",\"gridcolor\":\"white\",\"linecolor\":\"white\",\"minorgridcolor\":\"white\",\"startlinecolor\":\"#2a3f5f\"},\"type\":\"carpet\"}],\"choropleth\":[{\"colorbar\":{\"outlinewidth\":0,\"ticks\":\"\"},\"type\":\"choropleth\"}],\"contour\":[{\"colorbar\":{\"outlinewidth\":0,\"ticks\":\"\"},\"colorscale\":[[0.0,\"#0d0887\"],[0.1111111111111111,\"#46039f\"],[0.2222222222222222,\"#7201a8\"],[0.3333333333333333,\"#9c179e\"],[0.4444444444444444,\"#bd3786\"],[0.5555555555555556,\"#d8576b\"],[0.6666666666666666,\"#ed7953\"],[0.7777777777777778,\"#fb9f3a\"],[0.8888888888888888,\"#fdca26\"],[1.0,\"#f0f921\"]],\"type\":\"contour\"}],\"contourcarpet\":[{\"colorbar\":{\"outlinewidth\":0,\"ticks\":\"\"},\"type\":\"contourcarpet\"}],\"heatmap\":[{\"colorbar\":{\"outlinewidth\":0,\"ticks\":\"\"},\"colorscale\":[[0.0,\"#0d0887\"],[0.1111111111111111,\"#46039f\"],[0.2222222222222222,\"#7201a8\"],[0.3333333333333333,\"#9c179e\"],[0.4444444444444444,\"#bd3786\"],[0.5555555555555556,\"#d8576b\"],[0.6666666666666666,\"#ed7953\"],[0.7777777777777778,\"#fb9f3a\"],[0.8888888888888888,\"#fdca26\"],[1.0,\"#f0f921\"]],\"type\":\"heatmap\"}],\"heatmapgl\":[{\"colorbar\":{\"outlinewidth\":0,\"ticks\":\"\"},\"colorscale\":[[0.0,\"#0d0887\"],[0.1111111111111111,\"#46039f\"],[0.2222222222222222,\"#7201a8\"],[0.3333333333333333,\"#9c179e\"],[0.4444444444444444,\"#bd3786\"],[0.5555555555555556,\"#d8576b\"],[0.6666666666666666,\"#ed7953\"],[0.7777777777777778,\"#fb9f3a\"],[0.8888888888888888,\"#fdca26\"],[1.0,\"#f0f921\"]],\"type\":\"heatmapgl\"}],\"histogram\":[{\"marker\":{\"pattern\":{\"fillmode\":\"overlay\",\"size\":10,\"solidity\":0.2}},\"type\":\"histogram\"}],\"histogram2d\":[{\"colorbar\":{\"outlinewidth\":0,\"ticks\":\"\"},\"colorscale\":[[0.0,\"#0d0887\"],[0.1111111111111111,\"#46039f\"],[0.2222222222222222,\"#7201a8\"],[0.3333333333333333,\"#9c179e\"],[0.4444444444444444,\"#bd3786\"],[0.5555555555555556,\"#d8576b\"],[0.6666666666666666,\"#ed7953\"],[0.7777777777777778,\"#fb9f3a\"],[0.8888888888888888,\"#fdca26\"],[1.0,\"#f0f921\"]],\"type\":\"histogram2d\"}],\"histogram2dcontour\":[{\"colorbar\":{\"outlinewidth\":0,\"ticks\":\"\"},\"colorscale\":[[0.0,\"#0d0887\"],[0.1111111111111111,\"#46039f\"],[0.2222222222222222,\"#7201a8\"],[0.3333333333333333,\"#9c179e\"],[0.4444444444444444,\"#bd3786\"],[0.5555555555555556,\"#d8576b\"],[0.6666666666666666,\"#ed7953\"],[0.7777777777777778,\"#fb9f3a\"],[0.8888888888888888,\"#fdca26\"],[1.0,\"#f0f921\"]],\"type\":\"histogram2dcontour\"}],\"mesh3d\":[{\"colorbar\":{\"outlinewidth\":0,\"ticks\":\"\"},\"type\":\"mesh3d\"}],\"parcoords\":[{\"line\":{\"colorbar\":{\"outlinewidth\":0,\"ticks\":\"\"}},\"type\":\"parcoords\"}],\"pie\":[{\"automargin\":true,\"type\":\"pie\"}],\"scatter\":[{\"marker\":{\"colorbar\":{\"outlinewidth\":0,\"ticks\":\"\"}},\"type\":\"scatter\"}],\"scatter3d\":[{\"line\":{\"colorbar\":{\"outlinewidth\":0,\"ticks\":\"\"}},\"marker\":{\"colorbar\":{\"outlinewidth\":0,\"ticks\":\"\"}},\"type\":\"scatter3d\"}],\"scattercarpet\":[{\"marker\":{\"colorbar\":{\"outlinewidth\":0,\"ticks\":\"\"}},\"type\":\"scattercarpet\"}],\"scattergeo\":[{\"marker\":{\"colorbar\":{\"outlinewidth\":0,\"ticks\":\"\"}},\"type\":\"scattergeo\"}],\"scattergl\":[{\"marker\":{\"colorbar\":{\"outlinewidth\":0,\"ticks\":\"\"}},\"type\":\"scattergl\"}],\"scattermapbox\":[{\"marker\":{\"colorbar\":{\"outlinewidth\":0,\"ticks\":\"\"}},\"type\":\"scattermapbox\"}],\"scatterpolar\":[{\"marker\":{\"colorbar\":{\"outlinewidth\":0,\"ticks\":\"\"}},\"type\":\"scatterpolar\"}],\"scatterpolargl\":[{\"marker\":{\"colorbar\":{\"outlinewidth\":0,\"ticks\":\"\"}},\"type\":\"scatterpolargl\"}],\"scatterternary\":[{\"marker\":{\"colorbar\":{\"outlinewidth\":0,\"ticks\":\"\"}},\"type\":\"scatterternary\"}],\"surface\":[{\"colorbar\":{\"outlinewidth\":0,\"ticks\":\"\"},\"colorscale\":[[0.0,\"#0d0887\"],[0.1111111111111111,\"#46039f\"],[0.2222222222222222,\"#7201a8\"],[0.3333333333333333,\"#9c179e\"],[0.4444444444444444,\"#bd3786\"],[0.5555555555555556,\"#d8576b\"],[0.6666666666666666,\"#ed7953\"],[0.7777777777777778,\"#fb9f3a\"],[0.8888888888888888,\"#fdca26\"],[1.0,\"#f0f921\"]],\"type\":\"surface\"}],\"table\":[{\"cells\":{\"fill\":{\"color\":\"#EBF0F8\"},\"line\":{\"color\":\"white\"}},\"header\":{\"fill\":{\"color\":\"#C8D4E3\"},\"line\":{\"color\":\"white\"}},\"type\":\"table\"}]},\"layout\":{\"annotationdefaults\":{\"arrowcolor\":\"#2a3f5f\",\"arrowhead\":0,\"arrowwidth\":1},\"autotypenumbers\":\"strict\",\"coloraxis\":{\"colorbar\":{\"outlinewidth\":0,\"ticks\":\"\"}},\"colorscale\":{\"diverging\":[[0,\"#8e0152\"],[0.1,\"#c51b7d\"],[0.2,\"#de77ae\"],[0.3,\"#f1b6da\"],[0.4,\"#fde0ef\"],[0.5,\"#f7f7f7\"],[0.6,\"#e6f5d0\"],[0.7,\"#b8e186\"],[0.8,\"#7fbc41\"],[0.9,\"#4d9221\"],[1,\"#276419\"]],\"sequential\":[[0.0,\"#0d0887\"],[0.1111111111111111,\"#46039f\"],[0.2222222222222222,\"#7201a8\"],[0.3333333333333333,\"#9c179e\"],[0.4444444444444444,\"#bd3786\"],[0.5555555555555556,\"#d8576b\"],[0.6666666666666666,\"#ed7953\"],[0.7777777777777778,\"#fb9f3a\"],[0.8888888888888888,\"#fdca26\"],[1.0,\"#f0f921\"]],\"sequentialminus\":[[0.0,\"#0d0887\"],[0.1111111111111111,\"#46039f\"],[0.2222222222222222,\"#7201a8\"],[0.3333333333333333,\"#9c179e\"],[0.4444444444444444,\"#bd3786\"],[0.5555555555555556,\"#d8576b\"],[0.6666666666666666,\"#ed7953\"],[0.7777777777777778,\"#fb9f3a\"],[0.8888888888888888,\"#fdca26\"],[1.0,\"#f0f921\"]]},\"colorway\":[\"#636efa\",\"#EF553B\",\"#00cc96\",\"#ab63fa\",\"#FFA15A\",\"#19d3f3\",\"#FF6692\",\"#B6E880\",\"#FF97FF\",\"#FECB52\"],\"font\":{\"color\":\"#2a3f5f\"},\"geo\":{\"bgcolor\":\"white\",\"lakecolor\":\"white\",\"landcolor\":\"#E5ECF6\",\"showlakes\":true,\"showland\":true,\"subunitcolor\":\"white\"},\"hoverlabel\":{\"align\":\"left\"},\"hovermode\":\"closest\",\"mapbox\":{\"style\":\"light\"},\"paper_bgcolor\":\"white\",\"plot_bgcolor\":\"#E5ECF6\",\"polar\":{\"angularaxis\":{\"gridcolor\":\"white\",\"linecolor\":\"white\",\"ticks\":\"\"},\"bgcolor\":\"#E5ECF6\",\"radialaxis\":{\"gridcolor\":\"white\",\"linecolor\":\"white\",\"ticks\":\"\"}},\"scene\":{\"xaxis\":{\"backgroundcolor\":\"#E5ECF6\",\"gridcolor\":\"white\",\"gridwidth\":2,\"linecolor\":\"white\",\"showbackground\":true,\"ticks\":\"\",\"zerolinecolor\":\"white\"},\"yaxis\":{\"backgroundcolor\":\"#E5ECF6\",\"gridcolor\":\"white\",\"gridwidth\":2,\"linecolor\":\"white\",\"showbackground\":true,\"ticks\":\"\",\"zerolinecolor\":\"white\"},\"zaxis\":{\"backgroundcolor\":\"#E5ECF6\",\"gridcolor\":\"white\",\"gridwidth\":2,\"linecolor\":\"white\",\"showbackground\":true,\"ticks\":\"\",\"zerolinecolor\":\"white\"}},\"shapedefaults\":{\"line\":{\"color\":\"#2a3f5f\"}},\"ternary\":{\"aaxis\":{\"gridcolor\":\"white\",\"linecolor\":\"white\",\"ticks\":\"\"},\"baxis\":{\"gridcolor\":\"white\",\"linecolor\":\"white\",\"ticks\":\"\"},\"bgcolor\":\"#E5ECF6\",\"caxis\":{\"gridcolor\":\"white\",\"linecolor\":\"white\",\"ticks\":\"\"}},\"title\":{\"x\":0.05},\"xaxis\":{\"automargin\":true,\"gridcolor\":\"white\",\"linecolor\":\"white\",\"ticks\":\"\",\"title\":{\"standoff\":15},\"zerolinecolor\":\"white\",\"zerolinewidth\":2},\"yaxis\":{\"automargin\":true,\"gridcolor\":\"white\",\"linecolor\":\"white\",\"ticks\":\"\",\"title\":{\"standoff\":15},\"zerolinecolor\":\"white\",\"zerolinewidth\":2}}},\"xaxis\":{\"anchor\":\"y\",\"domain\":[0.0,1.0],\"title\":{\"text\":\"pc1\"}},\"yaxis\":{\"anchor\":\"x\",\"domain\":[0.0,1.0],\"title\":{\"text\":\"zeroed\"}},\"legend\":{\"tracegroupgap\":0},\"margin\":{\"t\":60}},                        {\"responsive\": true}                    ).then(function(){\n",
              "                            \n",
              "var gd = document.getElementById('b0c9acd5-1576-4eeb-9b69-f96afd2ff5f6');\n",
              "var x = new MutationObserver(function (mutations, observer) {{\n",
              "        var display = window.getComputedStyle(gd).display;\n",
              "        if (!display || display === 'none') {{\n",
              "            console.log([gd, 'removed!']);\n",
              "            Plotly.purge(gd);\n",
              "            observer.disconnect();\n",
              "        }}\n",
              "}});\n",
              "\n",
              "// Listen for the removal of the full notebook cells\n",
              "var notebookContainer = gd.closest('#notebook-container');\n",
              "if (notebookContainer) {{\n",
              "    x.observe(notebookContainer, {childList: true});\n",
              "}}\n",
              "\n",
              "// Listen for the clearing of the current output cell\n",
              "var outputEl = gd.closest('.output');\n",
              "if (outputEl) {{\n",
              "    x.observe(outputEl, {childList: true});\n",
              "}}\n",
              "\n",
              "                        })                };                            </script>        </div>\n",
              "</body>\n",
              "</html>"
            ]
          },
          "metadata": {}
        },
        {
          "output_type": "stream",
          "name": "stdout",
          "text": [
            "314    DeMarcus Cousins\n",
            "Name: PLAYER, dtype: object\n"
          ]
        }
      ]
    },
    {
      "cell_type": "markdown",
      "source": [
        "Looking at centers from one-dimension our best player was Dwight Howard. However, he was not nearly as prohibitively greater than other centers as James Harden was for SGs. In fact Demarcus Cousins in 2018 was only .04 less. Once again, our one-dimension reduction is fairly good at seperating the good from the bad players. Some of the other highlights of the top tier players with a high PC1 value are Joel Embiid, Andre Drummond and Anthony Davis."
      ],
      "metadata": {
        "id": "Vyu8i7FDXXI2"
      }
    },
    {
      "cell_type": "markdown",
      "source": [
        "**Comparing most productive Center cluster with only one principal componet, 3 principal components and 10 components.**\n"
      ],
      "metadata": {
        "id": "KP7ifdiPXmRc"
      }
    },
    {
      "cell_type": "code",
      "source": [
        "len(set(comp_10_players) - set(comp_1_players))"
      ],
      "metadata": {
        "colab": {
          "base_uri": "https://localhost:8080/"
        },
        "outputId": "5d656118-963e-4f42-e114-5afc09116cca",
        "id": "jqSDZcPgeeun"
      },
      "execution_count": null,
      "outputs": [
        {
          "output_type": "execute_result",
          "data": {
            "text/plain": [
              "65"
            ]
          },
          "metadata": {},
          "execution_count": 354
        }
      ]
    },
    {
      "cell_type": "code",
      "source": [
        "len(set(comp_1_players)-set(comp_10_players))"
      ],
      "metadata": {
        "colab": {
          "base_uri": "https://localhost:8080/"
        },
        "id": "80UuKO_3tkUJ",
        "outputId": "ec60877c-2933-49f9-de56-d4064d15e4ef"
      },
      "execution_count": null,
      "outputs": [
        {
          "output_type": "execute_result",
          "data": {
            "text/plain": [
              "23"
            ]
          },
          "metadata": {},
          "execution_count": 355
        }
      ]
    },
    {
      "cell_type": "markdown",
      "source": [
        "Clustering on Principal component one is not  good as there are lot of missing players from it when compared to the ones formed with ten players."
      ],
      "metadata": {
        "id": "ME18bM6Su3h5"
      }
    },
    {
      "cell_type": "code",
      "source": [
        "set(comp_3_players) - set(comp_10_players)"
      ],
      "metadata": {
        "colab": {
          "base_uri": "https://localhost:8080/"
        },
        "outputId": "15e79607-d74b-4e4b-a591-36c5209e7751",
        "id": "sANzhA2Veeun"
      },
      "execution_count": null,
      "outputs": [
        {
          "output_type": "execute_result",
          "data": {
            "text/plain": [
              "{'Dewayne Dedmon-2019-ATL', 'Kevin Love-2018-CLE', 'Pau Gasol-2017-SAS'}"
            ]
          },
          "metadata": {},
          "execution_count": 145
        }
      ]
    },
    {
      "cell_type": "code",
      "source": [
        "len(set(comp_10_players) - set(comp_3_players))"
      ],
      "metadata": {
        "colab": {
          "base_uri": "https://localhost:8080/"
        },
        "id": "V8QjFDMellnj",
        "outputId": "0023cb04-57b2-4281-bf06-28690e7358ee"
      },
      "execution_count": null,
      "outputs": [
        {
          "output_type": "execute_result",
          "data": {
            "text/plain": [
              "34"
            ]
          },
          "metadata": {},
          "execution_count": 146
        }
      ]
    },
    {
      "cell_type": "markdown",
      "source": [
        "Clustering with 3 principal components when compared with that of ten, we are missing 34 player's seasons which can be considered to be most productive. So choosing 3 pricipal components may not be good ideas as we are not getting clear separation of clusters with 3 alone for centers. So we will produce visualizations for clusterning done on ten principal components to be mapped to 3 dimensions using the below code."
      ],
      "metadata": {
        "id": "E8edFK15val3"
      }
    },
    {
      "cell_type": "code",
      "source": [
        "\n",
        "\n",
        "fig = px.scatter_3d(\n",
        "    df_cluster, x= df_cluster[\"pc1\"], y=df_cluster[\"pc2\"], z=df_cluster[\"pc3\"], color=df_cluster['comp_10'],\n",
        "    title=f'k-means Clustering after dimensionality reduction',\n",
        "    hover_name=df_cluster['player-year-tm']\n",
        ")\n",
        "\n",
        "\n",
        "fig.show()"
      ],
      "metadata": {
        "colab": {
          "base_uri": "https://localhost:8080/",
          "height": 542
        },
        "outputId": "67c4db0a-f989-4bb0-e6de-a3f3f2f01005",
        "id": "2XhHqlYEeeuo"
      },
      "execution_count": null,
      "outputs": [
        {
          "output_type": "display_data",
          "data": {
            "text/html": [
              "<html>\n",
              "<head><meta charset=\"utf-8\" /></head>\n",
              "<body>\n",
              "    <div>            <script src=\"https://cdnjs.cloudflare.com/ajax/libs/mathjax/2.7.5/MathJax.js?config=TeX-AMS-MML_SVG\"></script><script type=\"text/javascript\">if (window.MathJax) {MathJax.Hub.Config({SVG: {font: \"STIX-Web\"}});}</script>                <script type=\"text/javascript\">window.PlotlyConfig = {MathJaxConfig: 'local'};</script>\n",
              "        <script src=\"https://cdn.plot.ly/plotly-2.8.3.min.js\"></script>                <div id=\"c0cd2e0b-1009-46c9-995e-c43ae9ace206\" class=\"plotly-graph-div\" style=\"height:525px; width:100%;\"></div>            <script type=\"text/javascript\">                                    window.PLOTLYENV=window.PLOTLYENV || {};                                    if (document.getElementById(\"c0cd2e0b-1009-46c9-995e-c43ae9ace206\")) {                    Plotly.newPlot(                        \"c0cd2e0b-1009-46c9-995e-c43ae9ace206\",                        [{\"hovertemplate\":\"<b>%{hovertext}</b><br><br>comp_10=2<br>pc1=%{x}<br>pc2=%{y}<br>pc3=%{z}<extra></extra>\",\"hovertext\":[\"Gorgui Dieng-2015-MIN\",\"Mason Plumlee-2016-POR\",\"Al Horford-2016-ATL\",\"Gorgui Dieng-2016-MIN\",\"Al Horford-2015-ATL\",\"Mason Plumlee-2015-POR\",\"Brook Lopez-2010-NJN\",\"Pau Gasol-2010-LAL\",\"Spencer Hawes-2012-PHI\",\"Roy Hibbert-2010-IND\",\"Mason Plumlee-2017-TOT\",\"Greg Monroe-2017-MIL\",\"LaMarcus Aldridge-2019-SAS\",\"Marcin Gortat-2013-WAS\",\"Marc Gasol-2010-MEM\",\"Willie Cauley-Stein-2019-SAC\",\"Marc Gasol-2014-MEM\",\"Greg Monroe-2012-DET\",\"Roy Hibbert-2013-IND\",\"Spencer Hawes-2013-TOT\",\"Joakim Noah-2013-CHI\",\"Marc Gasol-2012-MEM\",\"Greg Monroe-2016-MIL\",\"Greg Monroe-2015-MIL\",\"Roy Hibbert-2012-IND\",\"Marc Gasol-2019-TOT\",\"Al Jefferson-2012-UTA\",\"Pau Gasol-2018-SAS\",\"Al Horford-2010-ATL\",\"Al Horford-2014-ATL\",\"Enes Freedom-2014-TOT\",\"Anthony Davis-2017-NOP\",\"LaMarcus Aldridge-2018-SAS\",\"DeMarcus Cousins-2012-SAC\",\"Brook Lopez-2017-BRK\",\"Chuck Hayes-2010-HOU\",\"Marc Gasol-2017-MEM\",\"Brook Lopez-2012-BRK\",\"Serge Ibaka-2019-TOR\",\"Al Horford-2012-ATL\",\"Marc Gasol-2018-MEM\",\"Willie Cauley-Stein-2018-SAC\",\"Brook Lopez-2015-BRK\",\"Al Jefferson-2013-CHA\",\"Gorgui Dieng-2014-MIN\",\"Brook Lopez-2016-BRK\",\"Pau Gasol-2016-CHI\",\"DeMarcus Cousins-2017-TOT\",\"Pau Gasol-2015-CHI\",\"Brook Lopez-2014-BRK\",\"Al Horford-2018-BOS\",\"DeMarcus Cousins-2013-SAC\",\"Al Horford-2019-BOS\",\"Al Horford-2017-BOS\",\"Nerlens Noel-2015-PHI\",\"Nerlens Noel-2016-PHI\",\"Larry Nance Jr.-2019-CLE\",\"Enes Freedom-2019-TOT\",\"Joakim Noah-2014-CHI\",\"Greg Monroe-2011-DET\",\"Joakim Noah-2012-CHI\",\"Andrea Bargnani-2010-TOR\",\"Roy Hibbert-2011-IND\",\"DeMarcus Cousins-2015-SAC\",\"Al Jefferson-2014-CHO\",\"DeMarcus Cousins-2016-SAC\",\"Marc Gasol-2011-MEM\",\"DeMarcus Cousins-2011-SAC\",\"Joakim Noah-2011-CHI\",\"Joel Embiid-2019-PHI\",\"Joel Embiid-2018-PHI\",\"Al Jefferson-2011-UTA\",\"Anthony Davis-2016-NOP\",\"Marcin Gortat-2012-PHO\",\"Anthony Davis-2015-NOP\",\"Elton Brand-2011-PHI\",\"Pau Gasol-2013-LAL\",\"DeMarcus Cousins-2014-SAC\",\"Marc Gasol-2013-MEM\",\"Drew Gooden-2011-MIL\",\"Anthony Davis-2019-NOP\",\"Jahlil Okafor-2016-PHI\",\"Marc Gasol-2015-MEM\",\"Marc Gasol-2016-MEM\",\"Joakim Noah-2010-CHI\",\"DeMarcus Cousins-2018-NOP\"],\"legendgroup\":\"2\",\"marker\":{\"color\":\"#636efa\",\"symbol\":\"circle\"},\"mode\":\"markers\",\"name\":\"2\",\"scene\":\"scene\",\"showlegend\":true,\"x\":[0.9095915884718062,1.4315336123383848,1.1934714004736737,1.0879516465067067,1.2321345452516854,1.337250380101916,1.400933581932422,2.61385983420405,0.535192578932937,1.5333856811983704,1.539014023549433,0.7525389071865317,1.9326093566255103,1.1560021478947204,1.8617643063208942,1.352073948006573,2.181545811596,2.8207792001508185,1.0140046606343485,1.1200003749774776,3.948110572233555,2.629312428377006,1.2982492313072376,1.3066171796569168,2.3275039026795956,1.756261918738279,1.6472561389004559,-0.293686754749241,2.0369764287206342,1.1108775848960726,0.45247294647049885,3.965014843287148,1.590443644485847,3.244354907825668,1.0754750851409052,0.8176564432421687,1.6274172476732884,0.9387747057784721,1.004927900515,2.773945133460758,1.6190954966672197,0.7633110161411109,2.414634351785577,2.3185201371075306,1.3167897536342368,2.4341511177417807,2.5136098876241415,4.886117077521471,2.602715246064937,1.2271907823434087,0.9708526223822807,4.7823886782382905,1.1515546587639278,1.1240110123716398,2.216951093773541,2.267094625129705,1.33040383223756,0.7978268902242566,1.8259947804523962,2.3903198720592997,3.7926597892291944,0.07094738816850493,1.5288820049540341,4.871653399792101,0.6681994660046529,4.8642143850272905,2.251288600399609,3.3882374832410163,1.3690083330325589,4.698594773291867,3.8602334333971835,1.5278288784008511,2.8617222172217156,0.7057062807789606,3.08130524331039,0.7986452664233393,1.7673258834042294,5.6585288983031665,1.4795353682164774,-0.06462659213116903,4.484208778682705,0.5149245625046263,1.5002557316839022,1.390613559792875,1.9526674702420799,5.965467921159014],\"y\":[-0.7014555792598903,-0.29755484981449853,-0.7788297978247517,-0.25351947007324127,-0.7200284139235539,-0.4356178848372466,-1.2488581384636002,-0.4810983701766026,-1.662875027621382,-1.55984724459421,-0.08582515177227956,-0.24283529257108818,-0.738081217248929,-0.7031680926432021,-0.22610713302553775,0.2710347735695554,-1.9989963071891286,-1.803921029849562,-1.8984606278668201,-2.4903500061595083,-2.2034905804491096,-1.6049020492933013,-0.5615442861442554,-0.6084608659451637,-1.2804382037013589,-2.446196718260318,-1.3027380679856468,-1.7361226140001158,-0.18053654375945752,-0.37141993315065813,-1.0209355267488849,-1.166158163719181,-0.670273286660306,-2.635770891902267,-1.5434804213082263,-0.5341633350099831,-2.956140395685783,-0.6181019829016026,0.5281729347956015,-0.24692781174889733,-3.678158296695462,-1.2354103003940196,-1.0355785696569677,-1.2957767611874833,-0.94279136779361,-0.9821209707294368,-2.410744731103399,-3.3444093472351746,-2.153686870075923,0.19401132746303007,-1.5265086784661026,-2.0806625653029553,-0.06338024013029848,-1.9259912377682116,-1.4086573357334915,-1.0780416328706024,-0.5561028957983769,0.10417534533491685,-1.8886227049630169,-0.6632076654408924,-1.2968707366196752,-2.549301058065407,-0.8321347051192861,-2.953835094103172,-1.2978146185125508,-3.000196825542233,-1.1893362844557314,-2.4787595024514353,-0.08739037726584704,-1.5612273345262568,-1.4379569633310876,-1.454463812573596,-1.4419675374490832,0.29525446650181,-0.9022327126540599,-0.517447104158926,-2.038515438193911,-2.7742503090125425,-1.7574657680751995,-3.0555631652407595,-0.9621757297426923,-1.2274849593211787,-2.7374105858034112,-3.073457611069228,-0.2894921409339042,-2.9972745811028463],\"z\":[0.41033329545850217,-0.8680356640294629,2.455528140401038,0.7073393092850976,2.49049454313519,-0.9492110590593877,-1.0160091419030017,0.7637392843786571,0.190110830698666,-1.2905578577457557,-0.5773659322895907,-0.00945956461953515,0.49683619901714365,1.1057328510066085,0.7471543058815858,0.26260015056179625,0.363227505657451,-0.6297639729882116,-1.1203049511263423,2.2652739332944427,-0.6164468797383783,0.04015039872715686,-0.4921146559332511,-0.5303572548230675,-1.5629312985450152,2.5270038026050687,-0.2657468895432661,1.1857299152196905,1.668926258746446,1.3896120604834337,-0.4306344433219036,1.2437275183671013,0.7884162897762763,-0.9574799972687558,2.957215422167975,-1.0868872062867936,3.223485010157849,-1.2052627947559644,1.3111727166954135,1.1208719674861125,2.558882978590573,-0.49811391288696083,-0.36199624021418436,-0.3170425333322313,-0.640578918705566,-0.3260843407588822,0.9691306321651053,2.9856844457256386,1.143068834660805,-0.4590466716717233,3.522227238261945,-1.0312842491168928,3.517603970640036,3.1414929013274753,-0.45244022647695126,-0.21172764438580316,1.1951007969453749,0.35821205807415324,-1.2660394391716134,-0.6261822122662866,-0.6006175168026191,1.8739433932890468,-1.5453611894085666,1.4219080722012931,-0.064628688565563,1.3882607874437856,-0.071621541726802,-2.0689287887866863,-0.6978152968822261,2.609615441747498,2.1565556315707677,-0.17737568075856353,0.9280604059724564,-0.6328664540895274,1.2847021324268897,-0.9385076811041194,0.30513089899702533,0.0021190235268727566,0.5859337017473271,0.19240495264748603,2.243057591230157,-0.7919668958919728,1.7766562751586128,1.5474650207665959,-0.8309898118370725,4.354986142613039],\"type\":\"scatter3d\"},{\"hovertemplate\":\"<b>%{hovertext}</b><br><br>comp_10=1<br>pc1=%{x}<br>pc2=%{y}<br>pc3=%{z}<extra></extra>\",\"hovertext\":[\"Bismack Biyombo-2016-TOR\",\"Robin Lopez-2016-NYK\",\"Robin Lopez-2013-POR\",\"Mason Plumlee-2014-BRK\",\"Marcin Gortat-2014-WAS\",\"Enes Freedom-2016-OKC\",\"Bam Adebayo-2019-MIA\",\"Enes Freedom-2015-OKC\",\"Bismack Biyombo-2015-TOR\",\"Robin Lopez-2015-NYK\",\"Aron Baynes-2015-DET\",\"Ed Davis-2019-BRK\",\"Timofey Mozgov-2014-TOT\",\"Nick Collison-2012-OKC\",\"Kosta Koufos-2012-DEN\",\"Samuel Dalembert-2013-DAL\",\"Kevon Looney-2019-GSW\",\"Jarrett Allen-2019-BRK\",\"Marcin Gortat-2010-TOT\",\"Ed Davis-2018-POR\",\"Derrick Favors-2018-UTA\",\"JaVale McGee-2017-GSW\",\"Kyle O'Quinn-2018-NYK\",\"Ian Mahinmi-2018-WAS\",\"Clint Capela-2016-HOU\",\"Timofey Mozgov-2016-CLE\",\"Montrezl Harrell-2018-LAC\",\"John Henson-2018-MIL\",\"Timofey Mozgov-2015-CLE\",\"Derrick Favors-2019-UTA\",\"Amir Johnson-2018-PHI\",\"Robin Lopez-2019-CHI\",\"Salah Mejri-2017-DAL\",\"Jarrett Allen-2018-BRK\",\"Chris Andersen-2013-MIA\",\"Thomas Bryant-2019-WAS\",\"Brendan Haywood-2010-DAL\",\"Enes Freedom-2017-OKC\",\"Kosta Koufos-2017-SAC\",\"Willie Reed-2017-MIA\",\"Andrew Bogut-2016-GSW\",\"Steven Adams-2014-OKC\",\"Andrew Bogut-2015-GSW\",\"Greg Smith-2012-HOU\",\"Zaza Pachulia-2017-GSW\",\"Zaza Pachulia-2018-GSW\",\"Alex Len-2018-PHO\",\"Tyson Chandler-2015-PHO\",\"Larry Nance Jr.-2018-TOT\",\"Kevon Looney-2018-GSW\",\"Tyson Chandler-2016-PHO\",\"Willie Cauley-Stein-2016-SAC\",\"JaVale McGee-2018-GSW\",\"Ian Mahinmi-2011-DAL\",\"Salah Mejri-2018-DAL\",\"Chris Andersen-2014-MIA\",\"Robin Lopez-2014-POR\",\"Montrezl Harrell-2017-HOU\",\"John Henson-2015-MIL\",\"John Henson-2016-MIL\",\"Jordan Bell-2018-GSW\",\"Richaun Holmes-2017-PHI\",\"Lucas Nogueira-2017-TOR\",\"Ian Mahinmi-2010-DAL\",\"Tyson Chandler-2019-TOT\",\"Tyson Chandler-2013-NYK\",\"Nerlens Noel-2017-TOT\",\"Erick Dampier-2010-MIA\",\"Tarik Black-2018-HOU\",\"Khem Birch-2019-ORL\",\"Lucas Nogueira-2018-TOR\",\"Richaun Holmes-2018-PHI\",\"Henry Sims-2013-TOT\",\"Chris Andersen-2010-DEN\"],\"legendgroup\":\"1\",\"marker\":{\"color\":\"#EF553B\",\"symbol\":\"circle\"},\"mode\":\"markers\",\"name\":\"1\",\"scene\":\"scene\",\"showlegend\":true,\"x\":[-0.2607888171479034,0.3852840356945376,0.5214921166986977,0.1621492946737147,0.9278886353160385,-0.20042914339029924,0.6906536222775028,-0.3710320952723874,-0.343234753255447,0.49381504618237826,-1.792186413025929,-0.1872812548411742,0.2534627595843737,-1.0136096135657253,0.27196586667344197,-0.4144068511220746,-0.3317574478613994,0.7685164362088711,-0.06565244816359818,-0.753290895106774,0.44671364625902377,-1.8265052205316141,-0.04685543808493207,-1.0984214118841054,-0.04574080673956348,-1.7129769572488383,-1.0004843917184936,0.4464123885258285,-1.6095850023939011,0.7047784933164191,-1.2046421799847342,-1.34845035394317,-1.9013409902746583,-0.905078021583873,-0.8778403478466829,-0.8167526860536249,-1.6178450572388035,-0.06983713758260598,-1.2290095277944464,-2.106239619819438,0.8502661451434551,0.46472735910675744,0.8077109697054118,-1.766736698776404,-0.2980358928450678,-1.554028472055768,-0.5614709926550224,0.11539868995412018,0.266331216060888,-2.183497453676246,-0.29521357847632984,-1.0153677233990905,-2.5812021707451893,-1.3063134528899865,-1.7699055155948225,-1.6945858071341944,-0.32174601264556835,-1.3020508137316442,-1.0210423712293966,-1.096439088787908,-1.3076409209246962,-0.7918943017586052,-0.4790579662460208,-3.4977767714071204,-1.9854182791030088,0.7807340121231875,-0.11894068662281991,-2.5028988201475846,-2.59103559836331,-2.5110421586466454,-2.9797893823037205,-2.0581097713513534,-1.1119815774991717,-1.5809955015320605],\"y\":[1.4327399199183728,0.31329120260202603,0.7758246079009092,2.1686303640621114,1.0324523375187569,1.248694519528542,0.9523257342473364,0.6530977529046504,1.2491424887016198,0.5049967860062539,0.5661529846649307,2.843548901802284,0.7782734600281366,1.9132472211045277,2.4281747712358386,0.9284374592448894,3.047181306353575,1.9323612668671282,0.7283809238496836,1.9964747810772379,1.3359029089935333,4.382679981473376,1.1859666479274986,1.1453674378419525,2.2374649834620413,1.2641911107898398,2.7967021095470024,1.480540292672654,1.451565193919406,2.238021979259319,0.8726946957173342,1.0237049337008228,3.3029389919647847,1.580208218038998,3.286407540942293,2.6669373270412313,2.4968998570713334,0.5959108933210924,0.783076982775444,1.7073471918272365,2.417221302364144,1.0537257778587745,2.0667877180720104,2.7907847518427373,0.5453341257556343,1.037861140534108,0.9039549070187312,2.541340076031917,1.4519079771512733,2.0722715213191516,1.3841660337857453,1.375968950360204,2.8094130966823823,1.8427450703869561,3.5594916839425674,2.4834023298442034,0.9603281582680164,3.4000760172193454,1.3642190000182728,1.2405326494264133,2.7274452446788455,1.1146483525540816,4.056267685037579,1.7363097439428778,2.6999240112625498,2.5693653321064533,1.6235000074166797,2.683714466123401,2.4297758307273094,2.47318447028343,3.925520834088512,1.475313120923764,0.6776560826956155,2.8185761055743095],\"z\":[-1.2127519463028609,-0.7170834145230158,-1.0155671988409916,-0.6645083063316508,-0.3841590202557422,1.090301587977601,0.799338708838463,0.6778349341611962,-1.33202337155853,-0.5984643486603548,-0.324825259910911,-0.32471579443493004,-0.07008944092557626,0.6516382416494715,-1.0696178622033714,-0.9251659156209938,0.40592550354261564,0.49024859280107536,0.08234618912911575,-0.45016033018764645,0.3580586476736315,0.4995382612216496,1.0797194127037908,-0.5075009437395873,-1.6740521410734264,0.08725785865523852,0.9057754586636175,-0.3097569001255976,0.20390544714824974,0.7990047345806266,0.2547203646654174,0.5837596302012547,0.8973549949732702,0.9981531440103341,1.0643663940512254,2.578312031294594,-1.4148161335796416,0.22045413397935615,-0.9724611302988878,-0.3186140438401663,2.1194752271782034,-1.7347069709933856,1.8615395386797624,-0.06690928896221453,0.21880097289258738,0.7938863745332444,0.20049241187161695,0.15197627645539596,0.16449048228135998,0.1004561584791162,-0.6285212620411337,-0.6344089563941872,0.877913294309072,-0.38622380215471497,0.3493783426618033,1.410175469054517,-0.4349805229594922,1.2415912342204172,-0.6577237148865839,-0.7328381091434832,1.2145669739401184,1.3738777730217575,1.708909376893241,0.47956570888062383,0.06716046526011765,0.07544577558172445,0.18828372995587192,0.035088583917887196,-0.49232379229337864,0.5621372030340742,2.2436359367476584,0.5472714567713636,0.030099979924436932,0.2742798182324044],\"type\":\"scatter3d\"},{\"hovertemplate\":\"<b>%{hovertext}</b><br><br>comp_10=0<br>pc1=%{x}<br>pc2=%{y}<br>pc3=%{z}<extra></extra>\",\"hovertext\":[\"Andre Drummond-2014-DET\",\"Rudy Gobert-2014-UTA\",\"Montrezl Harrell-2019-LAC\",\"Marcin Gortat-2017-WAS\",\"DeAndre Jordan-2014-LAC\",\"DeAndre Jordan-2017-LAC\",\"Rudy Gobert-2017-UTA\",\"Andre Drummond-2017-DET\",\"Dwight Howard-2018-CHO\",\"Andre Drummond-2016-DET\",\"Andre Drummond-2015-DET\",\"Andre Drummond-2013-DET\",\"Steven Adams-2019-OKC\",\"DeAndre Jordan-2010-LAC\",\"Steven Adams-2017-OKC\",\"JaVale McGee-2010-WAS\",\"Andre Drummond-2019-DET\",\"Andre Drummond-2018-DET\",\"Dwight Howard-2010-ORL\",\"DeAndre Jordan-2016-LAC\",\"DeAndre Jordan-2015-LAC\",\"Steven Adams-2018-OKC\",\"Dwight Howard-2012-LAL\",\"Marcin Gortat-2015-WAS\",\"JaVale McGee-2019-LAL\",\"Marcin Gortat-2016-WAS\",\"Dwight Howard-2017-ATL\",\"Clint Capela-2018-HOU\",\"Emeka Okafor-2010-NOH\",\"Larry Sanders-2012-MIL\",\"Deandre Ayton-2019-PHO\",\"Dwight Howard-2016-HOU\",\"Dwight Howard-2015-HOU\",\"Dwight Howard-2013-HOU\",\"Enes Freedom-2018-NYK\",\"DeAndre Jordan-2011-LAC\",\"Marcin Gortat-2011-PHO\",\"Andrew Bogut-2010-MIL\",\"Tyson Chandler-2011-NYK\",\"Andrew Bynum-2011-LAL\",\"Dwight Howard-2011-ORL\",\"Dwight Howard-2014-HOU\"],\"legendgroup\":\"0\",\"marker\":{\"color\":\"#00cc96\",\"symbol\":\"circle\"},\"mode\":\"markers\",\"name\":\"0\",\"scene\":\"scene\",\"showlegend\":true,\"x\":[3.513891323470647,1.4326380700275334,1.9787731976515677,1.1737439846343383,4.052780127041667,3.0873240259234858,3.69776176929378,3.4704034354291573,3.1538181480340834,4.1067464355844425,4.064354078883333,3.6687086442152292,2.8719901689136846,0.7510775487774125,1.487915040328691,1.0822621658153415,5.336580137022423,5.240895099812533,5.999894735148229,3.246941751957533,3.3090913296773152,2.6372218665105263,4.724938184693745,1.6308023171786,1.319629488463456,1.5750522976482182,3.004885499982542,2.4703137722804676,1.4279535550163018,2.0814926275543115,2.126318764997797,3.153002394790496,3.280939648243998,4.05806802968521,1.3751221700480853,0.7237692218108522,1.3420206705797522,3.0752418115233398,1.9866906223412368,2.5024335335893473,5.307975460770136,2.2057836408630704],\"y\":[1.2770341250912012,1.4346453749142238,1.937008951173352,1.41893842617465,5.039777944856011,5.0950747330175945,3.897662756265172,0.1345666317861871,0.7745722290590183,0.26136111307631577,0.21021044502543496,2.9325568649690794,2.066019914855345,3.58970003100212,1.3618415931508239,0.8781098513763151,0.4292366787992973,-0.20828444642600702,1.8430532386579062,4.767692948475437,4.924931479136322,2.9744582984771526,1.2577342894973778,1.0579444105596694,2.5831285778223463,0.9831992091667298,2.6082241384766287,3.6756908774909127,1.3639424663617836,-0.1138699256647456,0.795499309260919,2.3859769109101947,2.5739933798308687,1.0263744162855712,1.1589214012358993,3.522508401440426,1.064584252590974,0.1155564671141045,4.136132617882907,0.8662790632667859,1.437249609154088,1.4340988470550746],\"z\":[-3.0742978358136255,-1.1270459177456142,0.5531785516328185,-0.4973823493798562,-0.39036619428340136,0.21538078902254826,0.11396227117528267,-2.0661723809120502,-0.8639747308045357,-2.376167713758749,-2.404274187662798,-2.2665675491129478,-1.267914502910889,-1.0935555042511207,-0.8938007542650733,-1.9017626638368212,-1.640869630226582,-1.5226938123282128,-0.5087395690913943,-0.26061689064563215,-0.15623787236274214,-0.8420062699495796,-1.051058543702247,-0.40770770354512237,-0.12736057538043938,-0.4504134470938071,-0.5854943375376916,-0.021926197122916925,-1.6162236427605887,-2.1625317397924344,-0.20205139377074186,-0.7630715640080863,-0.6524044923607479,-0.16355044675646543,0.1128172727566952,-0.7428634732978544,-0.6456880980041176,-1.9993886675345873,0.7649026568888313,0.3415452600882414,-0.5552669960573701,0.7596539642092544],\"type\":\"scatter3d\"},{\"hovertemplate\":\"<b>%{hovertext}</b><br><br>comp_10=4<br>pc1=%{x}<br>pc2=%{y}<br>pc3=%{z}<extra></extra>\",\"hovertext\":[\"Timofey Mozgov-2013-DEN\",\"Andray Blatche-2012-BRK\",\"Bismack Biyombo-2018-ORL\",\"Roy Hibbert-2016-LAL\",\"Robin Lopez-2017-CHI\",\"Roy Hibbert-2015-LAL\",\"Aron Baynes-2018-BOS\",\"Aron Baynes-2016-DET\",\"Spencer Hawes-2010-PHI\",\"Enes Freedom-2013-UTA\",\"Samuel Dalembert-2010-SAC\",\"Ian Mahinmi-2012-IND\",\"Marreese Speights-2012-TOT\",\"Kyle O'Quinn-2017-NYK\",\"Lavoy Allen-2012-PHI\",\"Glen Davis-2010-BOS\",\"Alex Len-2016-PHO\",\"Alex Len-2015-PHO\",\"Kendrick Perkins-2012-OKC\",\"Clint Capela-2015-HOU\",\"Alex Len-2017-PHO\",\"Johan Petro-2010-NJN\",\"Ian Mahinmi-2013-IND\",\"Zaza Pachulia-2016-DAL\",\"Roy Hibbert-2014-IND\",\"Jason Smith-2016-ORL\",\"Jason Smith-2015-ORL\",\"Zaza Pachulia-2015-DAL\",\"Nazr Mohammed-2010-TOT\",\"Willie Cauley-Stein-2017-SAC\",\"Chuck Hayes-2012-SAC\",\"Thon Maker-2018-MIL\",\"Jordan Hill-2015-IND\",\"Elton Brand-2013-ATL\",\"Jordan Hill-2016-IND\",\"Zaza Pachulia-2014-MIL\",\"Elton Brand-2012-DAL\",\"Jordan Hill-2010-HOU\",\"Zydrunas Ilgauskas-2010-MIA\",\"Jordan Hill-2014-LAL\",\"Kyle O'Quinn-2013-ORL\",\"Bam Adebayo-2018-MIA\",\"Alex Len-2014-PHO\",\"Jordan Bell-2019-GSW\",\"Kendrick Perkins-2014-TOT\",\"Al Jefferson-2017-IND\",\"Zach Collins-2018-POR\",\"Chris Kaman-2012-DAL\",\"Byron Mullens-2011-CHA\",\"Samuel Dalembert-2011-HOU\",\"Nazr Mohammed-2011-OKC\",\"Nazr Mohammed-2012-CHI\",\"Kendrick Perkins-2013-OKC\",\"Ekpe Udoh-2011-TOT\",\"Brendan Haywood-2012-CHA\",\"Chuck Hayes-2013-TOT\",\"Marcus Camby-2011-TOT\",\"Marcus Camby-2010-POR\",\"Dewayne Dedmon-2014-ORL\",\"John Henson-2017-MIL\",\"Jeff Foster-2010-IND\",\"Joffrey Lauvergne-2018-SAS\",\"Timofey Mozgov-2017-LAL\",\"Chuck Hayes-2011-SAC\",\"Zaza Pachulia-2013-MIL\",\"Hilton Armstrong-2010-TOT\",\"Kyrylo Fesenko-2010-UTA\",\"Zaza Pachulia-2012-ATL\",\"Joel Freeland-2013-POR\",\"Jason Smith-2012-NOH\",\"Kosta Koufos-2010-TOT\",\"Joakim Noah-2017-NYK\",\"Wendell Carter Jr.-2019-CHI\",\"Greg Monroe-2019-TOT\",\"Dan Gadzuric-2010-TOT\",\"Timofey Mozgov-2012-DEN\"],\"legendgroup\":\"4\",\"marker\":{\"color\":\"#ab63fa\",\"symbol\":\"circle\"},\"mode\":\"markers\",\"name\":\"4\",\"scene\":\"scene\",\"showlegend\":true,\"x\":[-0.4265714794721993,-0.6350751208223842,-1.5124704101899509,-1.183325234776205,-0.4422117821212081,-0.9120529700518748,-1.390791329637278,-2.0471842820944555,-0.8811090885225342,0.4161138311764579,0.44469658375028315,-1.5063375435821693,-1.7833318429358311,-0.8244750759345172,-1.7189639556527414,-0.46955299745364076,-0.10570700179753081,0.110237926277205,-0.43577369105011876,-0.24576231721150718,-0.3292141521524579,-2.5210768790427918,-2.041368445731617,0.3302907684723279,0.07727597213143042,-2.157738803741001,-2.3777310351268377,0.38609901524686085,-1.2847710980919795,-1.4251537267766259,-2.89577133169952,-2.6300341592115584,-1.105991849970748,-1.0752637751119367,-0.8440358762623484,0.1281276915013673,-0.5294862496207532,-2.156657806079694,-1.9399385191442535,-0.0816941005808435,-0.928706915403094,-1.4062294498316323,-0.6666768423020407,-3.042096844466952,-1.9436106299282803,-2.590110123209696,-2.928973364822596,-0.9976132636950734,-2.1318024127884247,-0.36024222135034906,-3.2971072989687906,-3.518282583776766,-1.4555498326992058,-1.1420357940104229,-2.226561268370626,-3.381757619542951,-0.042758867335095554,0.331440101822423,-2.0756531189380754,-1.1280078040844739,-1.9576172018459337,-3.693024140137602,-1.7623746665491973,-2.0956877326079035,-0.5600509174250007,-3.905424081440669,-3.6881963156666715,-1.0621154597862705,-3.290088171224371,-2.103979019997968,-3.9524647783862674,-0.11229087759106789,-0.1756553190846646,-3.1240202854271537,-2.962905434839126,-3.8009919300129487],\"y\":[-0.22802513610795644,-1.7024417971526533,-0.0035489726240730667,-2.228328472440581,-0.4971425542528519,-1.7776378706355545,-1.0308380427580168,-0.14529446724655437,-1.144349719780882,-0.22070454181373464,-0.6786064006207921,-0.3317585976474029,-1.9269341874773145,-0.16670774919009182,-1.2542044187474108,-2.160385571798011,-2.66198987191273,-1.9957944547166115,-1.0017975836540904,1.2007357390659061,-0.6679937111491968,-0.5781110400796565,-0.6545557491490753,-1.2473295186773734,-1.588835440093705,-1.194884875659345,-1.6594071881288412,-1.3575738067035177,0.7747486459698311,4.49110816642069e-05,-1.982653345337113,-1.6288767794360561,-1.0779971427585093,0.1321008979688747,-0.4254484867729109,-2.439503508960141,-0.7093207287040403,-0.34625456030934454,-0.264434979247689,-1.5379448468249448,-0.46490523781847337,-0.023032326869599818,-0.9538529389546545,-0.012706188984012589,-1.1683709344863942,-0.7669522474390483,-1.7876244164604942,-1.1718173890537666,-3.603201045402716,-0.6109368143160084,-0.23677021599635886,-2.5875172175843044,-1.0763522524902247,-1.7885431632462647,-0.6983545868794854,-2.1482384430209,-1.7793935777814724,-2.071196546662243,1.001695737537913,0.03176613825109387,-0.3633010909003202,0.07153183261987422,-0.512557091176797,-1.3047496944953232,-2.5944696117293167,-1.4205988092464283,0.03599702167832492,-0.8817629377813226,-1.5203112603974849,-0.8561489273287973,-1.2394670138680364,-0.5798243956913648,-1.334646877736178,-0.6646889925301088,-1.1423537142313778,-0.006181500424449284],\"z\":[-0.6583699225080677,-1.454180504277022,-1.2695702867509413,-1.9215462358512843,-1.5123905070832209,-1.6469305180299416,-0.8024125796343933,-0.8040146077766764,-1.2953152262489116,-1.0444303002143478,-1.5221944867417907,-1.5716903774267268,-1.022530124778485,-0.39817960273634795,-1.7125253305160735,-1.227991458909465,-1.8630308578003032,-1.4082981664274286,-1.6040099896812556,-2.4175830010848887,-0.9818708149743339,-1.7323291715061189,-2.01200007826566,-1.2108966629922975,-1.3845150313598797,-0.15116915096625216,-0.44993398876171015,-1.310292346696752,-1.232101673341782,-0.6347175890624858,-1.922139989466613,-0.4506688254409414,-1.351457428455895,-1.1552706695295831,-0.9193420856796994,-1.2028107102430394,-1.344971759684315,-1.3257838797548243,-1.0417817887625749,-0.5561324839419403,-1.0545559669238422,-0.4690477169934483,-1.2376008538752261,-0.8109809557483725,-2.2300945474240317,-0.7381481862464352,-0.24433796008952366,-0.9016873471448961,-1.430955087642902,-1.3131094600107909,-1.509490722587512,-2.015636998412921,-1.818516342428327,-1.7619607984813979,-2.5115004667212903,-1.371021642465516,-1.8619693345574857,-2.2970794929967755,-1.6610777014919702,-0.8956768257164829,-2.1672018169421037,-0.6944053275944205,-0.6423455773506768,-1.0440307625754883,-0.8121172073429817,-1.3324945959734205,-1.8530668997610233,-0.8034169352733354,-1.8472563543228222,-0.5329647853788209,-2.0827637666332137,-2.3176543299832115,-0.19279838377816635,-0.8431441357809408,-3.0295265395896056,-0.5021632252049323],\"type\":\"scatter3d\"},{\"hovertemplate\":\"<b>%{hovertext}</b><br><br>comp_10=3<br>pc1=%{x}<br>pc2=%{y}<br>pc3=%{z}<extra></extra>\",\"hovertext\":[\"Marreese Speights-2017-LAC\",\"Frank Kaminsky-2016-CHO\",\"Brook Lopez-2019-MIL\",\"Gorgui Dieng-2018-MIN\",\"JaVale McGee-2012-DEN\",\"Dirk Nowitzki-2018-DAL\",\"Dwight Powell-2017-DAL\",\"Zach Collins-2019-POR\",\"Alex Len-2019-ATL\",\"Gorgui Dieng-2019-MIN\",\"Frank Kaminsky-2017-CHO\",\"Kelly Olynyk-2017-BOS\",\"Jason Smith-2017-WAS\",\"Brook Lopez-2018-LAL\",\"Channing Frye-2017-CLE\",\"Marreese Speights-2016-GSW\",\"Marreese Speights-2015-GSW\",\"Mike Muscala-2017-ATL\",\"Enes Freedom-2012-UTA\",\"Aron Baynes-2014-SAS\",\"Kelly Olynyk-2015-BOS\",\"Kelly Olynyk-2016-BOS\",\"Tarik Black-2017-LAL\",\"Kelly Olynyk-2014-BOS\",\"Dewayne Dedmon-2019-ATL\",\"Thon Maker-2019-TOT\",\"Pau Gasol-2017-SAS\",\"Robin Lopez-2018-CHI\",\"Justin Hamilton-2017-BRK\",\"Dewayne Dedmon-2018-ATL\",\"Meyers Leonard-2019-POR\",\"Mike Muscala-2016-ATL\",\"Mike Muscala-2015-ATL\",\"Brad Miller-2010-HOU\",\"Kevin Love-2018-CLE\",\"Joffrey Lauvergne-2016-DEN\",\"Johan Petro-2011-NJN\",\"Joffrey Lauvergne-2015-DEN\",\"Thon Maker-2017-MIL\",\"Meyers Leonard-2014-POR\",\"Mike Muscala-2018-ATL\",\"Channing Frye-2018-TOT\",\"Kevon Looney-2017-GSW\",\"Aron Baynes-2019-BOS\",\"Amir Johnson-2019-PHI\",\"Jason Collins-2010-ATL\",\"Samuel Dalembert-2012-MIL\",\"Mo Bamba-2019-ORL\",\"Frank Kaminsky-2019-CHO\",\"Andrea Bargnani-2015-BRK\",\"Andrea Bargnani-2016-BRK\",\"Byron Mullens-2013-TOT\",\"Andrea Bargnani-2013-NYK\",\"Chris Andersen-2012-MIA\",\"Justin Hamilton-2014-TOT\"],\"legendgroup\":\"3\",\"marker\":{\"color\":\"#FFA15A\",\"symbol\":\"circle\"},\"mode\":\"markers\",\"name\":\"3\",\"scene\":\"scene\",\"showlegend\":true,\"x\":[-1.78155815503836,-2.42344689780799,-0.11709352855590274,-2.088057372046344,-0.5928127683302169,-1.6379294852161133,-2.080257014876631,-1.7012702868143272,-0.6791119805294962,-2.074145738417132,-1.6131349218338031,-0.7472346533068347,-2.1607489810603875,-0.6483554381329412,-2.3766154327565423,-2.785675669996684,-2.618893043946852,-2.395352195395761,-2.0685960215887995,-2.193563979887229,-1.273272533313124,-1.2653137902606078,-1.6266549914813886,-0.15156257523967298,0.5535750956484141,-2.9847595014189054,-0.1928166730561722,-0.9305929430510674,-2.5982122668699112,-0.1260023467426308,-2.7124172823015233,-3.7578574155503035,-3.5783473779494477,-2.413576216687712,-0.07463399356525877,-2.422005242066482,-3.243268401370691,-2.7435838568839115,-3.8137121681019317,-3.1964196625692303,-2.4568941047717274,-3.3693244126050144,-3.7569521749265706,-2.1128889943379345,-2.9657225135284073,-4.363633691480958,-1.5144155329053077,-2.004376312692714,-2.833150025166937,-4.245005425060181,-4.228139596288897,-4.056772556449103,-1.3083643046500104,-2.304885457815882,-2.806397957613943],\"y\":[-0.6613944249918841,-1.8900469299969083,0.41191159696392793,-0.8755781323668053,0.5829401831327247,-1.544638822349861,0.42799221603650467,-0.187325781698639,0.1262804121669647,-0.43745499325859427,-2.697685152642073,0.5349393441409903,0.8469815600955752,-0.7101771574559621,0.024763454583512128,-2.1306788515888555,-1.6462412456654256,0.18913605444673748,-0.771988738816048,-0.10431481192528287,-1.0714794951572304,-1.0431835626326116,-0.3062984480222265,-0.7871233432179671,-0.14633447301482538,-0.5121326272131311,-0.6392542288843795,-0.6200383989639604,-0.15249527583702716,0.3462328100649708,1.8097528771138789,0.3769443003716954,0.8458955251405417,-1.734517448534428,-1.460263030947978,-0.4996678957615052,-3.4979439074994083,-1.5802571166706747,0.10672132438166369,-0.5597655459834758,-0.35138153769748753,1.4947795966950996,0.5942614171692973,-0.2740420810360198,0.18478466537643107,-2.772232700001926,0.044797759817293205,-0.08236524154868309,-0.05394672399270158,-1.888700194251805,-1.9870498035822317,-0.6900516604521223,-2.1898652594919525,1.3481515373696673,-0.9070988900977465],\"z\":[2.1460036060184593,0.761263326480586,4.387654323750777,0.2065871504568423,0.7211507147966945,3.5408675887187413,0.7600600455881353,0.7481937044389965,1.059468578331922,0.9395285078960909,1.9233592544707294,2.3176103350177866,1.3871884093088587,2.169060364520211,3.765264837709808,0.2911959997029389,0.6192915462611077,1.984903280291634,1.4802299678130313,0.12294292061088256,2.117141290445712,2.136775580214871,0.05386013955079074,1.2772848467052647,2.4782691504230994,0.8304872902065038,2.223862162886071,0.38968040316267427,1.440539725083942,2.0094895575597147,3.519328090422182,1.0741531056659621,1.386997023186489,1.7336034032016894,4.284877856584875,0.921213919877601,0.4399910658556326,0.17605640537071826,0.7694775784578332,2.126948852464146,2.9186453985880583,3.1563202216087243,-0.06336561746886496,1.1668896232890849,1.0239488097740959,-0.08253571670394978,1.323695199724403,-0.012113723406894749,2.4200229360227516,-0.3716274432688579,-0.4516158897955774,0.07106818293582719,0.47120976537005077,1.346499619624272,0.6396404187207656],\"type\":\"scatter3d\"}],                        {\"template\":{\"data\":{\"bar\":[{\"error_x\":{\"color\":\"#2a3f5f\"},\"error_y\":{\"color\":\"#2a3f5f\"},\"marker\":{\"line\":{\"color\":\"#E5ECF6\",\"width\":0.5},\"pattern\":{\"fillmode\":\"overlay\",\"size\":10,\"solidity\":0.2}},\"type\":\"bar\"}],\"barpolar\":[{\"marker\":{\"line\":{\"color\":\"#E5ECF6\",\"width\":0.5},\"pattern\":{\"fillmode\":\"overlay\",\"size\":10,\"solidity\":0.2}},\"type\":\"barpolar\"}],\"carpet\":[{\"aaxis\":{\"endlinecolor\":\"#2a3f5f\",\"gridcolor\":\"white\",\"linecolor\":\"white\",\"minorgridcolor\":\"white\",\"startlinecolor\":\"#2a3f5f\"},\"baxis\":{\"endlinecolor\":\"#2a3f5f\",\"gridcolor\":\"white\",\"linecolor\":\"white\",\"minorgridcolor\":\"white\",\"startlinecolor\":\"#2a3f5f\"},\"type\":\"carpet\"}],\"choropleth\":[{\"colorbar\":{\"outlinewidth\":0,\"ticks\":\"\"},\"type\":\"choropleth\"}],\"contour\":[{\"colorbar\":{\"outlinewidth\":0,\"ticks\":\"\"},\"colorscale\":[[0.0,\"#0d0887\"],[0.1111111111111111,\"#46039f\"],[0.2222222222222222,\"#7201a8\"],[0.3333333333333333,\"#9c179e\"],[0.4444444444444444,\"#bd3786\"],[0.5555555555555556,\"#d8576b\"],[0.6666666666666666,\"#ed7953\"],[0.7777777777777778,\"#fb9f3a\"],[0.8888888888888888,\"#fdca26\"],[1.0,\"#f0f921\"]],\"type\":\"contour\"}],\"contourcarpet\":[{\"colorbar\":{\"outlinewidth\":0,\"ticks\":\"\"},\"type\":\"contourcarpet\"}],\"heatmap\":[{\"colorbar\":{\"outlinewidth\":0,\"ticks\":\"\"},\"colorscale\":[[0.0,\"#0d0887\"],[0.1111111111111111,\"#46039f\"],[0.2222222222222222,\"#7201a8\"],[0.3333333333333333,\"#9c179e\"],[0.4444444444444444,\"#bd3786\"],[0.5555555555555556,\"#d8576b\"],[0.6666666666666666,\"#ed7953\"],[0.7777777777777778,\"#fb9f3a\"],[0.8888888888888888,\"#fdca26\"],[1.0,\"#f0f921\"]],\"type\":\"heatmap\"}],\"heatmapgl\":[{\"colorbar\":{\"outlinewidth\":0,\"ticks\":\"\"},\"colorscale\":[[0.0,\"#0d0887\"],[0.1111111111111111,\"#46039f\"],[0.2222222222222222,\"#7201a8\"],[0.3333333333333333,\"#9c179e\"],[0.4444444444444444,\"#bd3786\"],[0.5555555555555556,\"#d8576b\"],[0.6666666666666666,\"#ed7953\"],[0.7777777777777778,\"#fb9f3a\"],[0.8888888888888888,\"#fdca26\"],[1.0,\"#f0f921\"]],\"type\":\"heatmapgl\"}],\"histogram\":[{\"marker\":{\"pattern\":{\"fillmode\":\"overlay\",\"size\":10,\"solidity\":0.2}},\"type\":\"histogram\"}],\"histogram2d\":[{\"colorbar\":{\"outlinewidth\":0,\"ticks\":\"\"},\"colorscale\":[[0.0,\"#0d0887\"],[0.1111111111111111,\"#46039f\"],[0.2222222222222222,\"#7201a8\"],[0.3333333333333333,\"#9c179e\"],[0.4444444444444444,\"#bd3786\"],[0.5555555555555556,\"#d8576b\"],[0.6666666666666666,\"#ed7953\"],[0.7777777777777778,\"#fb9f3a\"],[0.8888888888888888,\"#fdca26\"],[1.0,\"#f0f921\"]],\"type\":\"histogram2d\"}],\"histogram2dcontour\":[{\"colorbar\":{\"outlinewidth\":0,\"ticks\":\"\"},\"colorscale\":[[0.0,\"#0d0887\"],[0.1111111111111111,\"#46039f\"],[0.2222222222222222,\"#7201a8\"],[0.3333333333333333,\"#9c179e\"],[0.4444444444444444,\"#bd3786\"],[0.5555555555555556,\"#d8576b\"],[0.6666666666666666,\"#ed7953\"],[0.7777777777777778,\"#fb9f3a\"],[0.8888888888888888,\"#fdca26\"],[1.0,\"#f0f921\"]],\"type\":\"histogram2dcontour\"}],\"mesh3d\":[{\"colorbar\":{\"outlinewidth\":0,\"ticks\":\"\"},\"type\":\"mesh3d\"}],\"parcoords\":[{\"line\":{\"colorbar\":{\"outlinewidth\":0,\"ticks\":\"\"}},\"type\":\"parcoords\"}],\"pie\":[{\"automargin\":true,\"type\":\"pie\"}],\"scatter\":[{\"marker\":{\"colorbar\":{\"outlinewidth\":0,\"ticks\":\"\"}},\"type\":\"scatter\"}],\"scatter3d\":[{\"line\":{\"colorbar\":{\"outlinewidth\":0,\"ticks\":\"\"}},\"marker\":{\"colorbar\":{\"outlinewidth\":0,\"ticks\":\"\"}},\"type\":\"scatter3d\"}],\"scattercarpet\":[{\"marker\":{\"colorbar\":{\"outlinewidth\":0,\"ticks\":\"\"}},\"type\":\"scattercarpet\"}],\"scattergeo\":[{\"marker\":{\"colorbar\":{\"outlinewidth\":0,\"ticks\":\"\"}},\"type\":\"scattergeo\"}],\"scattergl\":[{\"marker\":{\"colorbar\":{\"outlinewidth\":0,\"ticks\":\"\"}},\"type\":\"scattergl\"}],\"scattermapbox\":[{\"marker\":{\"colorbar\":{\"outlinewidth\":0,\"ticks\":\"\"}},\"type\":\"scattermapbox\"}],\"scatterpolar\":[{\"marker\":{\"colorbar\":{\"outlinewidth\":0,\"ticks\":\"\"}},\"type\":\"scatterpolar\"}],\"scatterpolargl\":[{\"marker\":{\"colorbar\":{\"outlinewidth\":0,\"ticks\":\"\"}},\"type\":\"scatterpolargl\"}],\"scatterternary\":[{\"marker\":{\"colorbar\":{\"outlinewidth\":0,\"ticks\":\"\"}},\"type\":\"scatterternary\"}],\"surface\":[{\"colorbar\":{\"outlinewidth\":0,\"ticks\":\"\"},\"colorscale\":[[0.0,\"#0d0887\"],[0.1111111111111111,\"#46039f\"],[0.2222222222222222,\"#7201a8\"],[0.3333333333333333,\"#9c179e\"],[0.4444444444444444,\"#bd3786\"],[0.5555555555555556,\"#d8576b\"],[0.6666666666666666,\"#ed7953\"],[0.7777777777777778,\"#fb9f3a\"],[0.8888888888888888,\"#fdca26\"],[1.0,\"#f0f921\"]],\"type\":\"surface\"}],\"table\":[{\"cells\":{\"fill\":{\"color\":\"#EBF0F8\"},\"line\":{\"color\":\"white\"}},\"header\":{\"fill\":{\"color\":\"#C8D4E3\"},\"line\":{\"color\":\"white\"}},\"type\":\"table\"}]},\"layout\":{\"annotationdefaults\":{\"arrowcolor\":\"#2a3f5f\",\"arrowhead\":0,\"arrowwidth\":1},\"autotypenumbers\":\"strict\",\"coloraxis\":{\"colorbar\":{\"outlinewidth\":0,\"ticks\":\"\"}},\"colorscale\":{\"diverging\":[[0,\"#8e0152\"],[0.1,\"#c51b7d\"],[0.2,\"#de77ae\"],[0.3,\"#f1b6da\"],[0.4,\"#fde0ef\"],[0.5,\"#f7f7f7\"],[0.6,\"#e6f5d0\"],[0.7,\"#b8e186\"],[0.8,\"#7fbc41\"],[0.9,\"#4d9221\"],[1,\"#276419\"]],\"sequential\":[[0.0,\"#0d0887\"],[0.1111111111111111,\"#46039f\"],[0.2222222222222222,\"#7201a8\"],[0.3333333333333333,\"#9c179e\"],[0.4444444444444444,\"#bd3786\"],[0.5555555555555556,\"#d8576b\"],[0.6666666666666666,\"#ed7953\"],[0.7777777777777778,\"#fb9f3a\"],[0.8888888888888888,\"#fdca26\"],[1.0,\"#f0f921\"]],\"sequentialminus\":[[0.0,\"#0d0887\"],[0.1111111111111111,\"#46039f\"],[0.2222222222222222,\"#7201a8\"],[0.3333333333333333,\"#9c179e\"],[0.4444444444444444,\"#bd3786\"],[0.5555555555555556,\"#d8576b\"],[0.6666666666666666,\"#ed7953\"],[0.7777777777777778,\"#fb9f3a\"],[0.8888888888888888,\"#fdca26\"],[1.0,\"#f0f921\"]]},\"colorway\":[\"#636efa\",\"#EF553B\",\"#00cc96\",\"#ab63fa\",\"#FFA15A\",\"#19d3f3\",\"#FF6692\",\"#B6E880\",\"#FF97FF\",\"#FECB52\"],\"font\":{\"color\":\"#2a3f5f\"},\"geo\":{\"bgcolor\":\"white\",\"lakecolor\":\"white\",\"landcolor\":\"#E5ECF6\",\"showlakes\":true,\"showland\":true,\"subunitcolor\":\"white\"},\"hoverlabel\":{\"align\":\"left\"},\"hovermode\":\"closest\",\"mapbox\":{\"style\":\"light\"},\"paper_bgcolor\":\"white\",\"plot_bgcolor\":\"#E5ECF6\",\"polar\":{\"angularaxis\":{\"gridcolor\":\"white\",\"linecolor\":\"white\",\"ticks\":\"\"},\"bgcolor\":\"#E5ECF6\",\"radialaxis\":{\"gridcolor\":\"white\",\"linecolor\":\"white\",\"ticks\":\"\"}},\"scene\":{\"xaxis\":{\"backgroundcolor\":\"#E5ECF6\",\"gridcolor\":\"white\",\"gridwidth\":2,\"linecolor\":\"white\",\"showbackground\":true,\"ticks\":\"\",\"zerolinecolor\":\"white\"},\"yaxis\":{\"backgroundcolor\":\"#E5ECF6\",\"gridcolor\":\"white\",\"gridwidth\":2,\"linecolor\":\"white\",\"showbackground\":true,\"ticks\":\"\",\"zerolinecolor\":\"white\"},\"zaxis\":{\"backgroundcolor\":\"#E5ECF6\",\"gridcolor\":\"white\",\"gridwidth\":2,\"linecolor\":\"white\",\"showbackground\":true,\"ticks\":\"\",\"zerolinecolor\":\"white\"}},\"shapedefaults\":{\"line\":{\"color\":\"#2a3f5f\"}},\"ternary\":{\"aaxis\":{\"gridcolor\":\"white\",\"linecolor\":\"white\",\"ticks\":\"\"},\"baxis\":{\"gridcolor\":\"white\",\"linecolor\":\"white\",\"ticks\":\"\"},\"bgcolor\":\"#E5ECF6\",\"caxis\":{\"gridcolor\":\"white\",\"linecolor\":\"white\",\"ticks\":\"\"}},\"title\":{\"x\":0.05},\"xaxis\":{\"automargin\":true,\"gridcolor\":\"white\",\"linecolor\":\"white\",\"ticks\":\"\",\"title\":{\"standoff\":15},\"zerolinecolor\":\"white\",\"zerolinewidth\":2},\"yaxis\":{\"automargin\":true,\"gridcolor\":\"white\",\"linecolor\":\"white\",\"ticks\":\"\",\"title\":{\"standoff\":15},\"zerolinecolor\":\"white\",\"zerolinewidth\":2}}},\"scene\":{\"domain\":{\"x\":[0.0,1.0],\"y\":[0.0,1.0]},\"xaxis\":{\"title\":{\"text\":\"pc1\"}},\"yaxis\":{\"title\":{\"text\":\"pc2\"}},\"zaxis\":{\"title\":{\"text\":\"pc3\"}}},\"legend\":{\"title\":{\"text\":\"comp_10\"},\"tracegroupgap\":0},\"title\":{\"text\":\"k-means Clustering after dimensionality reduction\"}},                        {\"responsive\": true}                    ).then(function(){\n",
              "                            \n",
              "var gd = document.getElementById('c0cd2e0b-1009-46c9-995e-c43ae9ace206');\n",
              "var x = new MutationObserver(function (mutations, observer) {{\n",
              "        var display = window.getComputedStyle(gd).display;\n",
              "        if (!display || display === 'none') {{\n",
              "            console.log([gd, 'removed!']);\n",
              "            Plotly.purge(gd);\n",
              "            observer.disconnect();\n",
              "        }}\n",
              "}});\n",
              "\n",
              "// Listen for the removal of the full notebook cells\n",
              "var notebookContainer = gd.closest('#notebook-container');\n",
              "if (notebookContainer) {{\n",
              "    x.observe(notebookContainer, {childList: true});\n",
              "}}\n",
              "\n",
              "// Listen for the clearing of the current output cell\n",
              "var outputEl = gd.closest('.output');\n",
              "if (outputEl) {{\n",
              "    x.observe(outputEl, {childList: true});\n",
              "}}\n",
              "\n",
              "                        })                };                            </script>        </div>\n",
              "</body>\n",
              "</html>"
            ]
          },
          "metadata": {}
        }
      ]
    },
    {
      "cell_type": "markdown",
      "source": [
        "Similar to our analysis regarding SGs there are five clusters in this k-means clustering graph. Also, there does not seem to be as clear of a distinction between the good and bad clusters as with SGs. The blue cluster represents players the new-age centers that are more mobile, better shooters and skilled ball-handlers. The players highlighting this cluster are Demarcus Cousins, Joel Embiid and Anthony Davis. These are all-NBA or all-star level players and universally distnguished as some of the best in their position.\n",
        "\n",
        "However, in the lower green cluster are Dwight Howard's and Deandre Jordan's (for example) best seasons. Both of whom are also talented. This light green cluster at the bottom represents old-school centers that focused on rebounding and defending and were awful shooters. While the orange cluster seems to be a collection of the worst centers, the blue and red seem to be a mixed bag. This is an interesting trend lines where it is difficult for our model to make meaningful clusters toward the center of the graph.  \n",
        "\n",
        "In order to find the cause for these players placement and decide our best center season we must look at what the three principal compenents represent."
      ],
      "metadata": {
        "id": "N9LcOjivK-TL"
      }
    },
    {
      "cell_type": "code",
      "source": [
        "\n",
        "for a in n_pca:\n",
        "  print(f'pc{a+1}')\n",
        "  print(pd.Series(loading_scores_all[a]))\n",
        "  print()\n",
        "  print()\n",
        ""
      ],
      "metadata": {
        "colab": {
          "base_uri": "https://localhost:8080/"
        },
        "outputId": "89dee92c-23d1-480a-8a3b-7be3dc5cf30b",
        "id": "9ddNrtkQeeuo"
      },
      "execution_count": null,
      "outputs": [
        {
          "output_type": "stream",
          "name": "stdout",
          "text": [
            "pc1\n",
            "DRB/G     0.412843\n",
            "TOV/G     0.383845\n",
            "2P/G      0.377329\n",
            "STL/G     0.343585\n",
            "ORB/G     0.338502\n",
            "BLK/G     0.318836\n",
            "PF        0.316714\n",
            "AST/G     0.272959\n",
            "NETRTG    0.109784\n",
            "TS_pct    0.085706\n",
            "dtype: float64\n",
            "\n",
            "\n",
            "pc2\n",
            "two_pt_pct      0.515754\n",
            "eFG%            0.508437\n",
            "TS_pct          0.415557\n",
            "FT%            -0.282496\n",
            "AST/G          -0.259702\n",
            "NETRTG          0.193919\n",
            "TOV/G          -0.176446\n",
            "3P/G           -0.176344\n",
            "three_pt_pct   -0.144809\n",
            "ORB/G           0.121968\n",
            "dtype: float64\n",
            "\n",
            "\n",
            "pc3\n",
            "3P/G            0.537883\n",
            "three_pt_pct    0.428414\n",
            "FT%             0.353201\n",
            "TS_pct          0.296574\n",
            "ORB/G          -0.292706\n",
            "AST/G           0.263875\n",
            "eFG%            0.244928\n",
            "two_pt_pct      0.215895\n",
            "PF             -0.169263\n",
            "NETRTG          0.119988\n",
            "dtype: float64\n",
            "\n",
            "\n"
          ]
        }
      ]
    },
    {
      "cell_type": "markdown",
      "source": [
        "PC1: The first Principal Component shows positives for rebounding, blocking and steals. All of these statistics (as shown in our exploratory analysis) represent the prototypical center. This is a player that defends at a high-level and scores a lot of two-pointers on dunks. This makes sense as some of the players highest in PC1 like Dwight Howard embody this player-mold.\n",
        "\n",
        "PC2: Being higher in this category positively correlates with overall efficiency like True-shooting and Effective Field Goal percentage. However, it negatively correlates with three-point shooting, assists, free-throw percentage etc. This principal component highlights the disadvantages of the average center. Centers usually have bad coordination and are the worse shooting position. Their lacking coordination is also why they are bad at ball-handling and assisting.\n",
        "\n",
        "PC3: This represents the new-age, advante garde center. Here the player excels at three-point shooting volume and efficiency, free-throw percentage and assists per game. Until recently having a center that could run an offense on the perimiter was unheard of. But, the best centers in todays game break that mold."
      ],
      "metadata": {
        "id": "6MIdfJKuMBa0"
      }
    },
    {
      "cell_type": "markdown",
      "source": [
        "Demarcus Cousins' 2018 season will be our best center season from our dataset. This choice, however, is not nearly as clear-cut as the shooting guard position. It comes down to the philosophy of the coach and the needs of the team. Below are his PC values:\n",
        "\n",
        "*   PC1:  6.0\n",
        "*   PC2: -3.0\n",
        "*   PC3: -4.4\n",
        "\n",
        "Cousins' PC3 value of 4.35 is the highest in the dataset and indicates that he is a highly skilled shooter and ball-handler for his position. This reaffirmed by his low PC2 value. While he may be sacrificing some two-point efficiency and rebounding, we feel it's more than acceptable with his elite playmaking potential. However, some coaches that prefer defense and rebounding may want a center like Howard or even Gobert.  "
      ],
      "metadata": {
        "id": "gHaUtoX0Qphu"
      }
    },
    {
      "cell_type": "markdown",
      "source": [
        "Position- Small Forward"
      ],
      "metadata": {
        "id": "t3AKrQEWeeuo"
      }
    },
    {
      "cell_type": "code",
      "source": [
        "#@title Code for Small Forward\n",
        "df=pd.read_csv(\"dfaftercleaning.csv\")\n",
        "#df_pca\n",
        "df_pcas=df[df[\"G\"]>40]\n",
        "df_pcas.columns\n",
        "df_pcas=df_pcas.reset_index()\n",
        "df_pcas.drop(['Unnamed: 0',\"index\"],  axis=1, inplace=True)\n",
        "df_pcas=df_pcas[df_pcas['Pos']=='SF']\n",
        "df_pcas=df_pcas.reset_index()\n",
        "df_pcas.drop(\"index\",axis=1,inplace=True)\n",
        "df_pca_labels=df_pcas[['PLAYER', 'Pos', 'Age', 'Tm', 'G','Year','TEAM', 'WEIGHT', 'COLLEGE', 'COUNTRY', 'DRAFT YEAR',\n",
        "       'DRAFT ROUND', 'DRAFT NUMBER','Height']]\n",
        "df_pca = df_pcas.drop(df_pca_labels.columns,axis=1)\n",
        "from sklearn.preprocessing import StandardScaler\n",
        "scale = StandardScaler()\n",
        "scaled_pca = scale.fit_transform(df_pca)\n",
        "scaled_pca= pd.DataFrame(scaled_pca)\n",
        "scaled_pca\n",
        "scaled_pca.columns = [df_pca[:0]]\n",
        "scaled_pca.head(5)\n",
        "len(scaled_pca.columns)\n",
        "\n",
        "#scaled_pca_SG=scaled_pca_SG.to_numpy()\n",
        "from sklearn.decomposition import PCA\n",
        "pca = PCA(n_components = 10)\n",
        "\n",
        "principle_components = pca.fit_transform(scaled_pca)\n",
        "\n",
        "pca.explained_variance_ratio_.cumsum()\n",
        "#len(principle_components)\n",
        "loading_scores_all = []\n",
        "n_pca=[0,1,2]\n",
        "#print(p)\n",
        "for p in n_pca:\n",
        "  loading_scores = pd.Series(pca.components_[p], index=scaled_pca.columns)\n",
        "  #print(loading_scores)\n",
        "  ## now sort the loading scores based on their magnitude\n",
        "  sorted_loading_scores = loading_scores.abs().sort_values(ascending=False)\n",
        "\n",
        "  # get the names of the top 10 genes\n",
        "  top_10_traits = sorted_loading_scores[0:10].index.values\n",
        "\n",
        "  loading_scores_all.append(loading_scores[top_10_traits].to_dict())\n",
        "\n",
        "pca = pd.DataFrame(principle_components)\n",
        "pca.columns = ['pc1','pc2','pc3','pc4','pc5','pc6','pc7','pc8','pc9','pc10']\n",
        "pca.dropna(inplace=True)\n",
        "df_after_pca = pd.concat([pca, df_pca_labels], axis = 1)\n",
        "#df_after_pca\n",
        "df_after_pca[\"zeroed\"]=0\n",
        "fig = px.scatter(df_after_pca, x= df_after_pca[\"pc1\"], y= df_after_pca[\"zeroed\"] ,hover_data=['PLAYER','Year'])\n",
        "fig.show()\n",
        "\n",
        "X=pca.iloc[:,0:3] # Using the the dataset of Section 1\n",
        "K = range(1,11)  # Apply kmeans 1 to 10\n",
        "kmeans_models = [skc.KMeans(k).fit(X) for k in K]\n",
        "centroids = [m.cluster_centers_ for m in kmeans_models]\n",
        "D_k = [spd.cdist(X, cent, 'euclidean') for cent in centroids]\n",
        "cIdx = [np.argmin(D,axis=1) for D in D_k]\n",
        "dist = [np.min(D,axis=1) for D in D_k]\n",
        "avgWithinSS = [sum(d)/X.shape[0] for d in dist]\n",
        "\n",
        "# plot elbow curve\n",
        "# plt.plot(K, avgWithinSS, 'b*-')\n",
        "# plt.xlabel('Number of clusters');\n",
        "# plt.ylabel('Average within-cluster sum of squares');\n",
        "# plt.title('Elbow for K-Means clustering');\n",
        "\n",
        "df_pc_only=df_after_pca.iloc[:,0:1]\n",
        "#print(df_pc_only)\n",
        "#df_pc_only=clean_dataset(df_pc_only)\n",
        "kmeans_model = skc.KMeans(n_clusters=4,init='k-means++',random_state=42)\n",
        "#kmeans_model = skc.KMeans(n_clusters=5,init='k-means++',random_state=42)\n",
        "\n",
        "kmeans_model.fit(df_pc_only)\n",
        "centroids = kmeans_model.cluster_centers_\n",
        "centroids\n",
        "df_pc_only['cluster_labels_kmeans'] = kmeans_model.labels_\n",
        "df_cluster = pd.concat([df_pc_only, df_pca_labels], axis = 1)\n",
        "\n",
        "print(df_cluster[(df_cluster['PLAYER']==\"LeBron James\") & (df_cluster[\"Year\"]==2017)][\"PLAYER\"])\n",
        "index=171\n",
        "\n",
        "index=171\n",
        "import sklearn as sk\n",
        "import sklearn.cluster as skc\n",
        "\n",
        "labels_dict={1: [],2: [], 3: [], 10: []}\n",
        "pca_comp=[1,2,3,10]\n",
        "finder_constant=0\n",
        "n=4\n",
        "for p in pca_comp:\n",
        "  #print(n)\n",
        "  df_pc_only=df_after_pca.iloc[:,0:p]\n",
        "  kmeans_model = skc.KMeans(n_clusters=n,init='k-means++',random_state=42)\n",
        "  kmeans_model.fit(df_pc_only)\n",
        "  centroids = kmeans_model.cluster_centers_\n",
        "  labels = list(kmeans_model.labels_)\n",
        "  if p==1:\n",
        "    label_top=labels[index]\n",
        "    finder_constant=label_top\n",
        "  else:\n",
        "    label_top_1=labels[index]\n",
        "    changer= {0:0,1:1,2:2,3:3,4:4,5:5}\n",
        "    changer[label_top_1]=label_top\n",
        "    changer[label_top]=label_top_1\n",
        "    #print(changer)\n",
        "    labels= [changer[a] for a in labels]\n",
        "  labels_dict[p] = labels\n",
        "  if p==1:\n",
        "    n=n+1\n",
        "labels_components=pd.DataFrame(labels_dict)\n",
        "labels_components.columns=[\"comp_1\",\"comp_2\",\"comp_3\",\"comp_10\"]\n",
        "df_cluster = pd.concat([df_pc_only,labels_components, df_pca_labels], axis = 1)\n",
        "\n",
        "df_cluster[\"player-year-tm\"] = df_cluster[\"PLAYER\"] + \"-\" + df_cluster[\"Year\"].astype(str) + \"-\" + df_cluster[\"Tm\"]\n",
        "df_cluster['comp_1'] = df_cluster['comp_1'].astype(str)\n",
        "df_cluster['comp_2'] = df_cluster['comp_2'].astype(str)\n",
        "df_cluster['comp_3'] = df_cluster['comp_3'].astype(str)\n",
        "df_cluster['comp_10'] = df_cluster['comp_10'].astype(str)\n",
        "finder_constant = str(finder_constant)\n",
        "comp_1_players=df_cluster[df_cluster[\"comp_1\"]==finder_constant][[\"player-year-tm\"]][\"player-year-tm\"].tolist()\n",
        "comp_2_players=df_cluster[df_cluster[\"comp_2\"]==finder_constant][[\"player-year-tm\"]][\"player-year-tm\"].tolist()\n",
        "comp_3_players=df_cluster[df_cluster[\"comp_3\"]==finder_constant][[\"player-year-tm\"]][\"player-year-tm\"].tolist()\n",
        "comp_10_players=df_cluster[df_cluster[\"comp_10\"]==finder_constant][[\"player-year-tm\"]][\"player-year-tm\"].tolist()"
      ],
      "metadata": {
        "id": "3GJckg7Hefki",
        "colab": {
          "base_uri": "https://localhost:8080/",
          "height": 649
        },
        "cellView": "form",
        "outputId": "8c77af48-c1ca-47a0-a54f-17fdd9b08013"
      },
      "execution_count": null,
      "outputs": [
        {
          "output_type": "stream",
          "name": "stderr",
          "text": [
            "/usr/local/lib/python3.7/dist-packages/sklearn/utils/validation.py:1692: FutureWarning:\n",
            "\n",
            "Feature names only support names that are all strings. Got feature names with dtypes: ['tuple']. An error will be raised in 1.2.\n",
            "\n"
          ]
        },
        {
          "output_type": "display_data",
          "data": {
            "text/html": [
              "<html>\n",
              "<head><meta charset=\"utf-8\" /></head>\n",
              "<body>\n",
              "    <div>            <script src=\"https://cdnjs.cloudflare.com/ajax/libs/mathjax/2.7.5/MathJax.js?config=TeX-AMS-MML_SVG\"></script><script type=\"text/javascript\">if (window.MathJax) {MathJax.Hub.Config({SVG: {font: \"STIX-Web\"}});}</script>                <script type=\"text/javascript\">window.PlotlyConfig = {MathJaxConfig: 'local'};</script>\n",
              "        <script src=\"https://cdn.plot.ly/plotly-2.8.3.min.js\"></script>                <div id=\"b388e7c9-9a48-47e6-82dd-adc1e109bec0\" class=\"plotly-graph-div\" style=\"height:525px; width:100%;\"></div>            <script type=\"text/javascript\">                                    window.PLOTLYENV=window.PLOTLYENV || {};                                    if (document.getElementById(\"b388e7c9-9a48-47e6-82dd-adc1e109bec0\")) {                    Plotly.newPlot(                        \"b388e7c9-9a48-47e6-82dd-adc1e109bec0\",                        [{\"customdata\":[[\"Jae Crowder\",2014],[\"Mike Miller\",2013],[\"Al-Farouq Aminu\",2016],[\"Draymond Green\",2013],[\"Harrison Barnes\",2014],[\"Nicolas Batum\",2013],[\"Mike Dunleavy\",2013],[\"Mikal Bridges\",2019],[\"Shabazz Muhammad\",2016],[\"Jimmy Butler\",2012],[\"Al-Farouq Aminu\",2015],[\"Khris Middleton\",2013],[\"Richard Jefferson\",2013],[\"Jeff Green\",2013],[\"Corey Brewer\",2015],[\"Shabazz Muhammad\",2015],[\"Corey Brewer\",2016],[\"Trevor Ariza\",2014],[\"Alonzo Gee\",2012],[\"Tayshaun Prince\",2012],[\"Solomon Hill\",2014],[\"Corey Brewer\",2017],[\"Luol Deng\",2010],[\"Joe Ingles\",2017],[\"Travis Outlaw\",2010],[\"Corey Brewer\",2012],[\"Shane Battier\",2010],[\"Dillon Brooks\",2018],[\"Darius Miller\",2018],[\"Khris Middleton\",2018],[\"Joe Ingles\",2018],[\"Jared Dudley\",2010],[\"Joe Ingles\",2016],[\"Richard Jefferson\",2010],[\"Kelly Oubre Jr.\",2018],[\"Doug McDermott\",2018],[\"Trevor Ariza\",2016],[\"Michael Kidd-Gilchrist\",2017],[\"Joe Ingles\",2015],[\"Trevor Ariza\",2015],[\"Joe Johnson\",2015],[\"Paul George\",2016],[\"Doug McDermott\",2015],[\"Paul George\",2015],[\"Doug McDermott\",2016],[\"James Jones\",2010],[\"Dorian Finney-Smith\",2019],[\"Kevin Durant\",2013],[\"Kevin Durant\",2012],[\"Justin Jackson\",2019],[\"Steve Novak\",2012],[\"Vince Carter\",2012],[\"Corey Brewer\",2013],[\"Dante Cunningham\",2016],[\"Wesley Johnson\",2016],[\"Gordon Hayward\",2016],[\"Marco Belinelli\",2013],[\"Paul George\",2013],[\"Maurice Harkless\",2013],[\"Al-Farouq Aminu\",2013],[\"Solomon Hill\",2017],[\"Luc Mbah a Moute\",2017],[\"Miles Bridges\",2019],[\"Jae Crowder\",2019],[\"Giannis Antetokounmpo\",2017],[\"Otto Porter Jr.\",2017],[\"Aaron Gordon\",2017],[\"Shawn Marion\",2010],[\"Trevor Ariza\",2017],[\"Robert Covington\",2018],[\"Matt Barnes\",2012],[\"Jeff Green\",2015],[\"Corey Brewer\",2014],[\"Jae Crowder\",2018],[\"Wesley Johnson\",2015],[\"Dante Cunningham\",2015],[\"Gordon Hayward\",2015],[\"Nicolas Batum\",2010],[\"Danny Granger\",2010],[\"Mario Hezonja\",2016],[\"LeBron James\",2010],[\"Evan Fournier\",2015],[\"Evan Fournier\",2016],[\"Paul George\",2018],[\"Wesley Johnson\",2013],[\"Paul George\",2012],[\"Richard Jefferson\",2017],[\"Andre Roberson\",2017],[\"Brandon Ingram\",2017],[\"Kelly Oubre Jr.\",2017],[\"Khris Middleton\",2014],[\"Jared Dudley\",2012],[\"Maurice Harkless\",2016],[\"Kyle Anderson\",2016],[\"Wesley Matthews\",2016],[\"Kevin Durant\",2019],[\"Maurice Harkless\",2015],[\"Wesley Matthews\",2015],[\"Caron Butler\",2014],[\"Wilson Chandler\",2014],[\"Jeff Green\",2014],[\"Kyle Anderson\",2015],[\"Dahntay Jones\",2012],[\"Jaylen Brown\",2017],[\"Chase Budinger\",2010],[\"Kevin Durant\",2010],[\"Caron Butler\",2012],[\"Tayshaun Prince\",2010],[\"Terrence Ross\",2017],[\"Shabazz Muhammad\",2017],[\"Jae Crowder\",2013],[\"Harrison Barnes\",2013],[\"Alan Anderson\",2013],[\"Rondae Hollis-Jefferson\",2017],[\"Joe Johnson\",2017],[\"Josh Jackson\",2018],[\"Maurice Harkless\",2017],[\"Stanley Johnson\",2017],[\"Paul George\",2019],[\"Khris Middleton\",2019],[\"Carmelo Anthony\",2010],[\"Tayshaun Prince\",2015],[\"Doug McDermott\",2019],[\"Andre Iguodala\",2014],[\"Tayshaun Prince\",2016],[\"Gordon Hayward\",2013],[\"Trevor Ariza\",2013],[\"Al-Farouq Aminu\",2012],[\"LeBron James\",2016],[\"Matt Barnes\",2016],[\"Jimmy Butler\",2017],[\"Andre Iguodala\",2017],[\"John Salmons\",2012],[\"Ryan Gomes\",2010],[\"Matt Barnes\",2014],[\"Gordon Hayward\",2014],[\"Wesley Johnson\",2014],[\"Tayshaun Prince\",2013],[\"Shawn Marion\",2013],[\"LeBron James\",2015],[\"Matt Barnes\",2015],[\"Chandler Parsons\",2012],[\"Quincy Pondexter\",2014],[\"Mario Hezonja\",2018],[\"Justin Anderson\",2017],[\"Trevor Ariza\",2010],[\"Rasual Butler\",2014],[\"Otto Porter Jr.\",2015],[\"Thabo Sefolosha\",2015],[\"Kent Bazemore\",2016],[\"Torrey Craig\",2019],[\"Kent Bazemore\",2015],[\"Otto Porter Jr.\",2016],[\"Luol Deng\",2012],[\"Rudy Gay\",2012],[\"Michael Beasley\",2012],[\"Mike Dunleavy\",2012],[\"Paul George\",2017],[\"Thabo Sefolosha\",2016],[\"Nicolas Batum\",2019],[\"Al-Farouq Aminu\",2014],[\"Otto Porter Jr.\",2014],[\"Richard Jefferson\",2014],[\"Carmelo Anthony\",2017],[\"Kyle Korver\",2012],[\"Richard Jefferson\",2016],[\"Kawhi Leonard\",2017],[\"Matt Barnes\",2017],[\"Chandler Parsons\",2013],[\"Wilson Chandler\",2018],[\"Kyle Anderson\",2018],[\"LeBron James\",2017],[\"Wesley Johnson\",2018],[\"Jared Dudley\",2013],[\"Michael Kidd-Gilchrist\",2018],[\"Richard Jefferson\",2015],[\"OG Anunoby\",2018],[\"Jae Crowder\",2015],[\"Terrence Ross\",2015],[\"Dante Cunningham\",2018],[\"Vince Carter\",2017],[\"Kent Bazemore\",2017],[\"Alonzo Gee\",2015],[\"Gordon Hayward\",2017],[\"Rudy Gay\",2013],[\"DeMarre Carroll\",2013],[\"Shane Battier\",2013],[\"JaKarr Sampson\",2015],[\"Nicolas Batum\",2012],[\"Maurice Evans\",2010],[\"Michael Beasley\",2010],[\"Jae Crowder\",2016],[\"Alonzo Gee\",2016],[\"Terrence Ross\",2016],[\"Stanley Johnson\",2016],[\"Kevin Durant\",2016],[\"Carmelo Anthony\",2016],[\"Tyreke Evans\",2013],[\"Gordon Hayward\",2012],[\"Kevin Durant\",2015],[\"Luol Deng\",2014],[\"Alfonzo McKinnie\",2019],[\"Kawhi Leonard\",2016],[\"Shane Battier\",2012],[\"Corey Brewer\",2018],[\"James Ennis III\",2018],[\"Kyle Anderson\",2017],[\"Kawhi Leonard\",2015],[\"Austin Daye\",2010],[\"Jae Crowder\",2017],[\"Carmelo Anthony\",2015],[\"DeMarre Carroll\",2017],[\"Wilson Chandler\",2010],[\"Anthony Parker\",2010],[\"Wilson Chandler\",2017],[\"Danilo Gallinari\",2012],[\"Jake Layman\",2019],[\"Omri Casspi\",2010],[\"Nicolas Batum\",2014],[\"Caris LeVert\",2018],[\"DeMarre Carroll\",2014],[\"Robert Covington\",2014],[\"Rudy Gay\",2016],[\"Chris Johnson\",2015],[\"Chris Johnson\",2016],[\"Nicolas Batum\",2016],[\"Nicolas Batum\",2015],[\"Rudy Gay\",2015],[\"Glenn Robinson III\",2017],[\"Corey Brewer\",2010],[\"Royce O'Neale\",2018],[\"Stanley Johnson\",2018],[\"Lance Stephenson\",2015],[\"Darius Miller\",2019],[\"Trevor Ariza\",2019],[\"LeBron James\",2014],[\"Wesley Matthews\",2019],[\"Darrell Arthur\",2013],[\"Mindaugas Kuzminskas\",2017],[\"Kyle Singler\",2015],[\"Rondae Hollis-Jefferson\",2018],[\"Wes Iwundu\",2019],[\"Kevin Durant\",2018],[\"Justin Jackson\",2018],[\"Andre Iguodala\",2019],[\"Danilo Gallinari\",2019],[\"Luke Babbitt\",2017],[\"Rudy Gay\",2014],[\"Wesley Johnson\",2017],[\"Tobias Harris\",2014],[\"Kyle Singler\",2016],[\"Robert Covington\",2015],[\"Trevor Ariza\",2018],[\"Carlos Delfino\",2012],[\"Robert Covington\",2016],[\"OG Anunoby\",2019],[\"Andre Iguodala\",2010],[\"Corey Maggette\",2010],[\"Omri Casspi\",2014],[\"Robert Covington\",2017],[\"Chase Budinger\",2014],[\"Doug McDermott\",2017],[\"Stanley Johnson\",2019],[\"Harrison Barnes\",2015],[\"Kevin Durant\",2011],[\"Harrison Barnes\",2016],[\"Al-Farouq Aminu\",2011],[\"DeMarre Carroll\",2012],[\"Gordon Hayward\",2011],[\"Chandler Parsons\",2014],[\"Jeremy Evans\",2013],[\"Kawhi Leonard\",2013],[\"Chase Budinger\",2015],[\"Alan Anderson\",2012],[\"Rudy Gay\",2011],[\"Brandon Rush\",2011],[\"Wesley Johnson\",2011],[\"Dahntay Jones\",2011],[\"Mario Hezonja\",2017],[\"Andre Iguodala\",2016],[\"Derrick Brown\",2011],[\"Alonzo Gee\",2013],[\"Omri Casspi\",2011],[\"Andre Iguodala\",2015],[\"Jimmy Butler\",2019],[\"Evan Turner\",2011],[\"Shane Battier\",2011],[\"Arron Afflalo\",2012],[\"Tony Snell\",2016],[\"Andrei Kirilenko\",2010],[\"Quincy Pondexter\",2011],[\"Kawhi Leonard\",2014],[\"Tony Snell\",2015],[\"Andre Iguodala\",2018],[\"James Ennis III\",2017],[\"Luol Deng\",2013],[\"Travis Outlaw\",2013],[\"Andre Iguodala\",2013],[\"Wesley Matthews\",2018],[\"Matt Barnes\",2013],[\"Mike Dunleavy\",2014],[\"Luke Babbitt\",2014],[\"Quincy Acy\",2013],[\"Shawn Marion\",2011],[\"Caron Butler\",2011],[\"Tayshaun Prince\",2011],[\"Richard Jefferson\",2011],[\"Matt Barnes\",2011],[\"Kelly Oubre Jr.\",2016],[\"Rodions Kurucs\",2019],[\"Danilo Gallinari\",2017],[\"Michael Kidd-Gilchrist\",2013],[\"LeBron James\",2011],[\"Wilson Chandler\",2013],[\"Andre Iguodala\",2011],[\"Thabo Sefolosha\",2017],[\"James Johnson\",2011],[\"Danny Granger\",2011],[\"Wes Iwundu\",2018],[\"Reggie Bullock\",2018],[\"Abdel Nader\",2019],[\"Chandler Parsons\",2016],[\"Chandler Parsons\",2015],[\"Cedi Osman\",2018],[\"Gerald Green\",2012],[\"Ronnie Brewer\",2012],[\"Derrick Jones Jr.\",2019],[\"Maurice Harkless\",2019],[\"Jordan Hamilton\",2013],[\"Kawhi Leonard\",2019],[\"Rashard Lewis\",2013],[\"Solomon Hill\",2016],[\"Maurice Harkless\",2018],[\"Rondae Hollis-Jefferson\",2019],[\"Brandon Ingram\",2018],[\"Mike Miller\",2012],[\"Marquis Daniels\",2012],[\"Nicolas Batum\",2011],[\"Corey Brewer\",2011],[\"Quincy Pondexter\",2012],[\"Jamario Moon\",2010],[\"Solomon Hill\",2015],[\"Cartier Martin\",2013],[\"Taurean Prince\",2017],[\"Kawhi Leonard\",2012],[\"Luc Mbah a Moute\",2012],[\"Chase Budinger\",2011],[\"Vince Carter\",2018],[\"Tayshaun Prince\",2014],[\"James Ennis III\",2019],[\"Mario Hezonja\",2019],[\"Shawn Marion\",2014],[\"Evan Fournier\",2018],[\"Quentin Richardson\",2010],[\"James Jones\",2014],[\"Rashard Lewis\",2010],[\"Caris LeVert\",2017],[\"Brian Cardinal\",2010],[\"Richard Jefferson\",2012],[\"Trevor Ariza\",2012],[\"Luol Deng\",2017],[\"Caron Butler\",2013],[\"LeBron James\",2019],[\"Carmelo Anthony\",2011],[\"Joe Johnson\",2018],[\"Michael Beasley\",2013],[\"Mike Dunleavy\",2011],[\"Austin Daye\",2012],[\"Stephen Jackson\",2012],[\"Tobias Harris\",2012],[\"Justin Anderson\",2016],[\"Alonzo Gee\",2014],[\"Luol Deng\",2011],[\"James Johnson\",2012],[\"Carlos Delfino\",2011],[\"Rudy Gay\",2010],[\"Omri Casspi\",2018],[\"Matt Barnes\",2010],[\"Mike Dunleavy\",2017],[\"Danilo Gallinari\",2016],[\"Danilo Gallinari\",2015],[\"Mike Miller\",2014],[\"Cartier Martin\",2010],[\"Dominic McGuire\",2010],[\"Brandon Ingram\",2019],[\"James Johnson\",2013],[\"Troy Brown Jr.\",2019],[\"DeShawn Stevenson\",2011],[\"Anthony Parker\",2011],[\"Anthony Tolliver\",2011],[\"Landry Fields\",2012],[\"Xavier Henry\",2012],[\"Chris Copeland\",2014],[\"Wesley Johnson\",2012],[\"Luke Babbitt\",2018],[\"Lamar Odom\",2011],[\"James Posey\",2010],[\"Carlos Delfino\",2010],[\"Marquis Daniels\",2010],[\"Derrick Brown\",2010],[\"Linas Kleiza\",2011],[\"Chris Douglas-Roberts\",2013],[\"Abdel Nader\",2018],[\"James Jones\",2015],[\"Quentin Richardson\",2011],[\"James Jones\",2016],[\"James Jones\",2017],[\"Justin Anderson\",2019],[\"Luke Babbitt\",2016],[\"Luke Babbitt\",2015],[\"Gerald Green\",2017],[\"Michael Beasley\",2011],[\"Nando De Colo\",2013],[\"Stephen Jackson\",2011],[\"Rasual Butler\",2015],[\"Rasual Butler\",2016],[\"John Salmons\",2011],[\"Glenn Robinson III\",2016],[\"Glenn Robinson III\",2015],[\"Darius Miller\",2013],[\"Robbie Hummel\",2014],[\"Maurice Harkless\",2014],[\"Brian Cardinal\",2011],[\"Solomon Hill\",2019],[\"Chandler Hutchison\",2019],[\"Chris Douglas-Roberts\",2010],[\"Will Barton\",2019],[\"Danilo Gallinari\",2011],[\"Omri Casspi\",2012],[\"Josh Howard\",2011],[\"Shabazz Muhammad\",2018],[\"Kyle Anderson\",2019],[\"Xavier Henry\",2013],[\"Svi Mykhailiuk\",2019],[\"Earl Clark\",2010],[\"Cartier Martin\",2012],[\"Danny Granger\",2013],[\"Chris Copeland\",2013],[\"Chase Budinger\",2013],[\"Trevor Ariza\",2011],[\"Austin Daye\",2011]],\"hovertemplate\":\"pc1=%{x}<br>zeroed=%{y}<br>PLAYER=%{customdata[0]}<br>Year=%{customdata[1]}<extra></extra>\",\"legendgroup\":\"\",\"marker\":{\"color\":\"#636efa\",\"symbol\":\"circle\"},\"mode\":\"markers\",\"name\":\"\",\"orientation\":\"v\",\"showlegend\":false,\"x\":[-0.556843089985154,-0.791096935834645,1.2574022572557084,0.23392348011299435,0.1561842283931816,3.7771731079575352,1.0083065718949031,0.6080238912947918,-1.7703684832053581,-0.035818688079771635,1.262946054268284,1.239243478755261,-0.3232068959549014,1.282770355049056,-1.3706571078442094,-1.7744262788038292,-1.5224520887229784,2.646090394380923,0.2642525458758048,-0.9013264113111316,-0.03487029169445782,-2.1043850569902665,2.281935754322453,0.6351292075760611,-1.3622316023269272,-0.11179459297515044,0.8947112456571872,0.10998142873754815,-0.5094095960885248,3.8061123216225083,2.7898662572241584,0.6975624791535756,-1.7264538249541586,0.48823619154893905,0.6056354790172875,-1.2577753299057592,1.9152904788511877,0.9443441535999825,-1.9190774850199115,1.9867326841283677,0.7558812889778919,4.934075489440328,-2.138684567765322,4.8957119285167625,-1.4389411104928536,-1.8710162633882872,0.13884161240189377,6.766229739406963,6.440934995955211,-1.5526595887083787,-1.290909235936972,1.6282044663472606,0.8628137744864987,-1.3852250417202905,-0.5401011967881749,2.732764505970524,-0.14553059575138935,4.1682192438381325,-0.8195053783967525,0.14152589597765539,-0.246345815113524,-0.7852573355479516,-0.5559252331636267,0.6830204089076345,6.992213484512034,2.9427253517409566,0.6748665793939463,1.578873333628851,1.7292625232946617,3.3567799755802126,1.6728015615335738,-0.026797588924123487,0.7804424813921345,-0.3222247837878166,-0.8552856371356605,-1.4568459465590857,2.7733397428751108,1.8833365058950056,3.2552774984719837,-1.1042150964834632,6.356386371133686,1.2354135900763588,1.4198496353045031,4.593989197443459,0.6036338219558874,4.895897816323934,-1.3646298705936797,0.30085648770761714,-0.9710114279417768,-1.239050685100853,1.3154096602384606,0.4720688278725099,-1.0015673805614353,-1.3099830932617686,0.28420375948731413,5.67353535389498,-1.6068638130986723,0.6465556551618284,-1.9366208433813705,1.4529033745823838,0.2298470493968122,-2.291941741529167,-3.7708703180883516,-1.7220822422200703,-0.654539705665815,4.600914730726556,-0.6198781547016528,-0.1463012939281115,0.15181515728387518,-1.6403308647810912,-1.905757997583897,-0.5907578765152666,-1.7537355924037321,0.2854088171611131,-0.7523647692912419,0.179844048745438,1.4918811324141414,-2.527109845876649,6.33749687848296,3.1828846718859185,4.097128367676004,-3.646722752356472,-1.3319776737853535,0.3759753808531708,-3.7780847079615527,2.9158276286450704,2.636326906508971,0.9641338505584436,5.95098800849752,1.3661794213627168,4.044272512940481,1.2983230616733952,-1.001042773120112,-1.3295982719630033,1.5859359725918638,2.3750739657987303,-0.019281394866499706,-2.737497427348431,1.3770620597540286,5.892407493222272,2.164246280327158,2.3656419436438396,-2.0465802917490246,-0.005687107981868866,-1.4892646302151669,0.9322250923719847,-1.665067415000638,1.1962139960193334,0.05720825975199805,1.7784965725651822,-0.5161806774550101,1.5084894206459385,1.4316592212509704,2.125104057370919,3.0878483057952306,-0.88419065886494,0.6016129928512876,4.74802707608364,0.030940623822945938,1.8410611376776302,-0.7032029561332278,-2.106527398188592,-2.107030274438142,2.5660295948253724,1.7085403818711185,-1.824536335603771,4.539174773018217,0.32298577926142663,2.910256058829574,0.8701599478389929,1.6581841048175097,7.323007472259714,-0.893334796463109,-1.4118503361008474,-1.1699185444164897,-1.7471528437502801,-0.8474645178710734,1.956499586022329,-0.9221081455449278,-1.3703791551277578,-0.35496446109654534,0.5410438722862214,-1.2069791322451047,2.7886275346222456,3.400311664981179,1.7548495042388341,-1.3123300366146822,-2.6628198416299096,3.8464036921262794,-1.84101653367924,2.5816117570886803,2.2063271549502828,-1.0597488315295995,-0.6259081004174143,-0.8482285453671721,6.756481515078833,3.5190047355748932,1.6182368567996122,0.8729917777272085,6.653774851865324,0.8013993744635152,-1.6652960819309568,4.72234778845139,-0.6791450042357585,-1.6347933936833707,-0.7623239793468144,-1.750643220302917,4.446327326315167,-0.84343000052955,2.1303184411240417,3.4081104575237764,-0.21154026711467405,2.2193479501848565,-0.19748694625483446,1.8177704718580658,1.674242736222592,-0.6165156287558369,-0.9312052027163511,2.238779077206944,1.0511884464355747,1.6021721443635126,2.5375333662593453,2.7402816456736763,-2.8976609892329686,-2.8598015937940837,3.422894348672927,3.322543408721776,2.781363767143057,-1.5317586644499497,-1.4012135097065472,-1.2384871296361282,-0.6305726091220537,-1.2634908455917266,-0.722958543502669,1.3586884856435042,6.06937094098672,-0.025463505963823782,-1.2950837579123369,-2.038179797146782,-3.070530390936244,1.5875028111309788,-1.8836964894745576,6.434395472709395,-2.195330660504717,0.5402848172941365,2.4570516654601007,-2.3496037729712813,3.181404300238344,-3.3179642102394817,1.7213267349118424,-3.1460650440921714,2.5441100207770546,1.1569149419639062,-0.23854865163301386,2.3962634404956953,-1.1704897466492532,2.449814819185452,-0.3698610710810216,-0.6170184184064869,3.0644825751722338,-1.7644112278972057,-1.7758349251083427,-1.4705240945467464,0.6739454795266169,5.948190159134062,0.575043169629181,-0.9093896857202165,-1.6436636499138142,0.5507123447071928,1.701407258804894,-0.39874184154411957,3.0089815336253816,-2.8747114057085663,-1.097323616904949,3.2909583275481094,0.16128932483091302,-1.7635874815905188,-2.2563633034636643,-3.3535677308014864,0.7040926716282131,-1.1487371351138078,-2.858506983221242,-1.598422881337559,0.571498156891422,3.042688333705242,-0.38794228913085943,-1.3012802088089068,1.088583663974942,-2.012168794688947,2.373787015779156,-3.2589249632988864,3.894986382332221,-1.793643055057713,-0.017508525390290974,-0.16613708079758774,1.081618199558468,-2.5236533994940595,1.3809408482448087,0.4889436257019696,1.2608076146425304,-0.01750027613308432,-2.3165205423281234,-1.4077743816326533,1.4423629388605035,-0.15559120203596669,-0.3591646974241467,-0.3797843101290942,0.7682866787175443,-3.2100235706007276,-0.2820409556280563,1.27526394112658,-1.1445168446918141,6.412609686424549,1.2930044211514937,2.4728386728641967,-0.09732803506286215,1.1821458004647691,1.876232016315161,-3.238906938564967,-0.06156666864069058,-3.2533352111261427,1.2483988865619529,1.281077322271719,-2.400046471378875,-2.081690542157271,-3.907208739616128,-0.538119872476674,0.74515000775279,-1.8121849640591863,4.451282172487025,-2.0594945379672707,-1.7647953668856293,-0.39153405998678537,-1.07707544082928,2.1631428031550497,-1.4359518623658032,-2.9132067472053578,1.6963381044176629,-1.3634814816814007,-1.7146389895004397,-1.6383453125331462,-2.140262394844474,-2.6695184966965817,-1.737771525802855,1.9573372474634154,-1.459167234395282,-0.8217237123748928,-1.692141472754378,-1.7569056670819494,-0.4759919766826486,-1.1020257665090025,-1.9704211314932938,1.348312143294029,-2.4232759653684552,-2.0657831214828706,1.5301206771083098,-0.8012807276643457,-3.239832517333927,-3.3255385665566797,0.053840356915169946,-1.3426443444373044,-0.02408867887730063,6.265887130215988,3.250576826108791,-2.098768277496281,-1.820001249024883,0.1080991866872662,-3.1289596867058505,-1.7805619096459384,0.36978494270283063,-2.6720479257659027,-3.158968939425077,2.095499712496242,-2.110833439505356,-0.06653080772766051,3.772034308772026,-0.6486711227200896,0.3555682718355465,-2.2827277871731964,0.9580679895125871,1.011939777343232,-3.338044099754969,-3.65813679296257,-4.001530876706046,1.7646158713767366,-0.6115805328864391,-2.781809621679881,-3.9870263113989783,-1.879129886687909,-2.0535759174910506,-2.1305544477981537,-3.978124195258022,-2.148648644844938,-2.294912884046119,-2.4630705011290575,-1.5140188406640889,-2.329256758970287,0.30190478247583713,-1.9915104353554178,-2.3536789845053083,-1.0992830739233455,-2.132412331442817,-4.615153727189977,-3.282772221747401,-2.530206934313969,-3.05565865863471,-3.205872556665114,-3.143136526906287,-2.0525452990726585,-1.7324734317189563,-2.843042087586168,-0.8515945951920396,-2.6581508573831227,-0.22355009281948662,-3.2245199999137415,-2.82655503706164,-1.7787184113572472,-3.63445018307486,-3.462256829202681,-2.569010585534117,-2.2377959974381723,-3.32122541441777,-3.7622461233360576,-2.4149008174524433,-2.4904704711351773,-2.500075239700208,0.06897813244882607,1.1255178268692039,-3.4477160619251475,-2.2114761379834325,-4.103012904573387,1.2859180569694217,-2.0359398062729577,-4.6116014704946675,-4.351195351466317,-2.2376315713481376,-2.4290453357174524,-2.6646473558930315,-2.355315191986724,1.1181688219672545,-3.00123354139793],\"xaxis\":\"x\",\"y\":[0,0,0,0,0,0,0,0,0,0,0,0,0,0,0,0,0,0,0,0,0,0,0,0,0,0,0,0,0,0,0,0,0,0,0,0,0,0,0,0,0,0,0,0,0,0,0,0,0,0,0,0,0,0,0,0,0,0,0,0,0,0,0,0,0,0,0,0,0,0,0,0,0,0,0,0,0,0,0,0,0,0,0,0,0,0,0,0,0,0,0,0,0,0,0,0,0,0,0,0,0,0,0,0,0,0,0,0,0,0,0,0,0,0,0,0,0,0,0,0,0,0,0,0,0,0,0,0,0,0,0,0,0,0,0,0,0,0,0,0,0,0,0,0,0,0,0,0,0,0,0,0,0,0,0,0,0,0,0,0,0,0,0,0,0,0,0,0,0,0,0,0,0,0,0,0,0,0,0,0,0,0,0,0,0,0,0,0,0,0,0,0,0,0,0,0,0,0,0,0,0,0,0,0,0,0,0,0,0,0,0,0,0,0,0,0,0,0,0,0,0,0,0,0,0,0,0,0,0,0,0,0,0,0,0,0,0,0,0,0,0,0,0,0,0,0,0,0,0,0,0,0,0,0,0,0,0,0,0,0,0,0,0,0,0,0,0,0,0,0,0,0,0,0,0,0,0,0,0,0,0,0,0,0,0,0,0,0,0,0,0,0,0,0,0,0,0,0,0,0,0,0,0,0,0,0,0,0,0,0,0,0,0,0,0,0,0,0,0,0,0,0,0,0,0,0,0,0,0,0,0,0,0,0,0,0,0,0,0,0,0,0,0,0,0,0,0,0,0,0,0,0,0,0,0,0,0,0,0,0,0,0,0,0,0,0,0,0,0,0,0,0,0,0,0,0,0,0,0,0,0,0,0,0,0,0,0,0,0,0,0,0,0,0,0,0,0,0,0,0,0,0,0,0,0,0,0,0,0,0,0,0,0,0,0,0,0,0,0,0,0,0,0,0,0,0,0,0,0,0,0,0,0,0,0,0,0,0,0,0,0],\"yaxis\":\"y\",\"type\":\"scatter\"}],                        {\"template\":{\"data\":{\"bar\":[{\"error_x\":{\"color\":\"#2a3f5f\"},\"error_y\":{\"color\":\"#2a3f5f\"},\"marker\":{\"line\":{\"color\":\"#E5ECF6\",\"width\":0.5},\"pattern\":{\"fillmode\":\"overlay\",\"size\":10,\"solidity\":0.2}},\"type\":\"bar\"}],\"barpolar\":[{\"marker\":{\"line\":{\"color\":\"#E5ECF6\",\"width\":0.5},\"pattern\":{\"fillmode\":\"overlay\",\"size\":10,\"solidity\":0.2}},\"type\":\"barpolar\"}],\"carpet\":[{\"aaxis\":{\"endlinecolor\":\"#2a3f5f\",\"gridcolor\":\"white\",\"linecolor\":\"white\",\"minorgridcolor\":\"white\",\"startlinecolor\":\"#2a3f5f\"},\"baxis\":{\"endlinecolor\":\"#2a3f5f\",\"gridcolor\":\"white\",\"linecolor\":\"white\",\"minorgridcolor\":\"white\",\"startlinecolor\":\"#2a3f5f\"},\"type\":\"carpet\"}],\"choropleth\":[{\"colorbar\":{\"outlinewidth\":0,\"ticks\":\"\"},\"type\":\"choropleth\"}],\"contour\":[{\"colorbar\":{\"outlinewidth\":0,\"ticks\":\"\"},\"colorscale\":[[0.0,\"#0d0887\"],[0.1111111111111111,\"#46039f\"],[0.2222222222222222,\"#7201a8\"],[0.3333333333333333,\"#9c179e\"],[0.4444444444444444,\"#bd3786\"],[0.5555555555555556,\"#d8576b\"],[0.6666666666666666,\"#ed7953\"],[0.7777777777777778,\"#fb9f3a\"],[0.8888888888888888,\"#fdca26\"],[1.0,\"#f0f921\"]],\"type\":\"contour\"}],\"contourcarpet\":[{\"colorbar\":{\"outlinewidth\":0,\"ticks\":\"\"},\"type\":\"contourcarpet\"}],\"heatmap\":[{\"colorbar\":{\"outlinewidth\":0,\"ticks\":\"\"},\"colorscale\":[[0.0,\"#0d0887\"],[0.1111111111111111,\"#46039f\"],[0.2222222222222222,\"#7201a8\"],[0.3333333333333333,\"#9c179e\"],[0.4444444444444444,\"#bd3786\"],[0.5555555555555556,\"#d8576b\"],[0.6666666666666666,\"#ed7953\"],[0.7777777777777778,\"#fb9f3a\"],[0.8888888888888888,\"#fdca26\"],[1.0,\"#f0f921\"]],\"type\":\"heatmap\"}],\"heatmapgl\":[{\"colorbar\":{\"outlinewidth\":0,\"ticks\":\"\"},\"colorscale\":[[0.0,\"#0d0887\"],[0.1111111111111111,\"#46039f\"],[0.2222222222222222,\"#7201a8\"],[0.3333333333333333,\"#9c179e\"],[0.4444444444444444,\"#bd3786\"],[0.5555555555555556,\"#d8576b\"],[0.6666666666666666,\"#ed7953\"],[0.7777777777777778,\"#fb9f3a\"],[0.8888888888888888,\"#fdca26\"],[1.0,\"#f0f921\"]],\"type\":\"heatmapgl\"}],\"histogram\":[{\"marker\":{\"pattern\":{\"fillmode\":\"overlay\",\"size\":10,\"solidity\":0.2}},\"type\":\"histogram\"}],\"histogram2d\":[{\"colorbar\":{\"outlinewidth\":0,\"ticks\":\"\"},\"colorscale\":[[0.0,\"#0d0887\"],[0.1111111111111111,\"#46039f\"],[0.2222222222222222,\"#7201a8\"],[0.3333333333333333,\"#9c179e\"],[0.4444444444444444,\"#bd3786\"],[0.5555555555555556,\"#d8576b\"],[0.6666666666666666,\"#ed7953\"],[0.7777777777777778,\"#fb9f3a\"],[0.8888888888888888,\"#fdca26\"],[1.0,\"#f0f921\"]],\"type\":\"histogram2d\"}],\"histogram2dcontour\":[{\"colorbar\":{\"outlinewidth\":0,\"ticks\":\"\"},\"colorscale\":[[0.0,\"#0d0887\"],[0.1111111111111111,\"#46039f\"],[0.2222222222222222,\"#7201a8\"],[0.3333333333333333,\"#9c179e\"],[0.4444444444444444,\"#bd3786\"],[0.5555555555555556,\"#d8576b\"],[0.6666666666666666,\"#ed7953\"],[0.7777777777777778,\"#fb9f3a\"],[0.8888888888888888,\"#fdca26\"],[1.0,\"#f0f921\"]],\"type\":\"histogram2dcontour\"}],\"mesh3d\":[{\"colorbar\":{\"outlinewidth\":0,\"ticks\":\"\"},\"type\":\"mesh3d\"}],\"parcoords\":[{\"line\":{\"colorbar\":{\"outlinewidth\":0,\"ticks\":\"\"}},\"type\":\"parcoords\"}],\"pie\":[{\"automargin\":true,\"type\":\"pie\"}],\"scatter\":[{\"marker\":{\"colorbar\":{\"outlinewidth\":0,\"ticks\":\"\"}},\"type\":\"scatter\"}],\"scatter3d\":[{\"line\":{\"colorbar\":{\"outlinewidth\":0,\"ticks\":\"\"}},\"marker\":{\"colorbar\":{\"outlinewidth\":0,\"ticks\":\"\"}},\"type\":\"scatter3d\"}],\"scattercarpet\":[{\"marker\":{\"colorbar\":{\"outlinewidth\":0,\"ticks\":\"\"}},\"type\":\"scattercarpet\"}],\"scattergeo\":[{\"marker\":{\"colorbar\":{\"outlinewidth\":0,\"ticks\":\"\"}},\"type\":\"scattergeo\"}],\"scattergl\":[{\"marker\":{\"colorbar\":{\"outlinewidth\":0,\"ticks\":\"\"}},\"type\":\"scattergl\"}],\"scattermapbox\":[{\"marker\":{\"colorbar\":{\"outlinewidth\":0,\"ticks\":\"\"}},\"type\":\"scattermapbox\"}],\"scatterpolar\":[{\"marker\":{\"colorbar\":{\"outlinewidth\":0,\"ticks\":\"\"}},\"type\":\"scatterpolar\"}],\"scatterpolargl\":[{\"marker\":{\"colorbar\":{\"outlinewidth\":0,\"ticks\":\"\"}},\"type\":\"scatterpolargl\"}],\"scatterternary\":[{\"marker\":{\"colorbar\":{\"outlinewidth\":0,\"ticks\":\"\"}},\"type\":\"scatterternary\"}],\"surface\":[{\"colorbar\":{\"outlinewidth\":0,\"ticks\":\"\"},\"colorscale\":[[0.0,\"#0d0887\"],[0.1111111111111111,\"#46039f\"],[0.2222222222222222,\"#7201a8\"],[0.3333333333333333,\"#9c179e\"],[0.4444444444444444,\"#bd3786\"],[0.5555555555555556,\"#d8576b\"],[0.6666666666666666,\"#ed7953\"],[0.7777777777777778,\"#fb9f3a\"],[0.8888888888888888,\"#fdca26\"],[1.0,\"#f0f921\"]],\"type\":\"surface\"}],\"table\":[{\"cells\":{\"fill\":{\"color\":\"#EBF0F8\"},\"line\":{\"color\":\"white\"}},\"header\":{\"fill\":{\"color\":\"#C8D4E3\"},\"line\":{\"color\":\"white\"}},\"type\":\"table\"}]},\"layout\":{\"annotationdefaults\":{\"arrowcolor\":\"#2a3f5f\",\"arrowhead\":0,\"arrowwidth\":1},\"autotypenumbers\":\"strict\",\"coloraxis\":{\"colorbar\":{\"outlinewidth\":0,\"ticks\":\"\"}},\"colorscale\":{\"diverging\":[[0,\"#8e0152\"],[0.1,\"#c51b7d\"],[0.2,\"#de77ae\"],[0.3,\"#f1b6da\"],[0.4,\"#fde0ef\"],[0.5,\"#f7f7f7\"],[0.6,\"#e6f5d0\"],[0.7,\"#b8e186\"],[0.8,\"#7fbc41\"],[0.9,\"#4d9221\"],[1,\"#276419\"]],\"sequential\":[[0.0,\"#0d0887\"],[0.1111111111111111,\"#46039f\"],[0.2222222222222222,\"#7201a8\"],[0.3333333333333333,\"#9c179e\"],[0.4444444444444444,\"#bd3786\"],[0.5555555555555556,\"#d8576b\"],[0.6666666666666666,\"#ed7953\"],[0.7777777777777778,\"#fb9f3a\"],[0.8888888888888888,\"#fdca26\"],[1.0,\"#f0f921\"]],\"sequentialminus\":[[0.0,\"#0d0887\"],[0.1111111111111111,\"#46039f\"],[0.2222222222222222,\"#7201a8\"],[0.3333333333333333,\"#9c179e\"],[0.4444444444444444,\"#bd3786\"],[0.5555555555555556,\"#d8576b\"],[0.6666666666666666,\"#ed7953\"],[0.7777777777777778,\"#fb9f3a\"],[0.8888888888888888,\"#fdca26\"],[1.0,\"#f0f921\"]]},\"colorway\":[\"#636efa\",\"#EF553B\",\"#00cc96\",\"#ab63fa\",\"#FFA15A\",\"#19d3f3\",\"#FF6692\",\"#B6E880\",\"#FF97FF\",\"#FECB52\"],\"font\":{\"color\":\"#2a3f5f\"},\"geo\":{\"bgcolor\":\"white\",\"lakecolor\":\"white\",\"landcolor\":\"#E5ECF6\",\"showlakes\":true,\"showland\":true,\"subunitcolor\":\"white\"},\"hoverlabel\":{\"align\":\"left\"},\"hovermode\":\"closest\",\"mapbox\":{\"style\":\"light\"},\"paper_bgcolor\":\"white\",\"plot_bgcolor\":\"#E5ECF6\",\"polar\":{\"angularaxis\":{\"gridcolor\":\"white\",\"linecolor\":\"white\",\"ticks\":\"\"},\"bgcolor\":\"#E5ECF6\",\"radialaxis\":{\"gridcolor\":\"white\",\"linecolor\":\"white\",\"ticks\":\"\"}},\"scene\":{\"xaxis\":{\"backgroundcolor\":\"#E5ECF6\",\"gridcolor\":\"white\",\"gridwidth\":2,\"linecolor\":\"white\",\"showbackground\":true,\"ticks\":\"\",\"zerolinecolor\":\"white\"},\"yaxis\":{\"backgroundcolor\":\"#E5ECF6\",\"gridcolor\":\"white\",\"gridwidth\":2,\"linecolor\":\"white\",\"showbackground\":true,\"ticks\":\"\",\"zerolinecolor\":\"white\"},\"zaxis\":{\"backgroundcolor\":\"#E5ECF6\",\"gridcolor\":\"white\",\"gridwidth\":2,\"linecolor\":\"white\",\"showbackground\":true,\"ticks\":\"\",\"zerolinecolor\":\"white\"}},\"shapedefaults\":{\"line\":{\"color\":\"#2a3f5f\"}},\"ternary\":{\"aaxis\":{\"gridcolor\":\"white\",\"linecolor\":\"white\",\"ticks\":\"\"},\"baxis\":{\"gridcolor\":\"white\",\"linecolor\":\"white\",\"ticks\":\"\"},\"bgcolor\":\"#E5ECF6\",\"caxis\":{\"gridcolor\":\"white\",\"linecolor\":\"white\",\"ticks\":\"\"}},\"title\":{\"x\":0.05},\"xaxis\":{\"automargin\":true,\"gridcolor\":\"white\",\"linecolor\":\"white\",\"ticks\":\"\",\"title\":{\"standoff\":15},\"zerolinecolor\":\"white\",\"zerolinewidth\":2},\"yaxis\":{\"automargin\":true,\"gridcolor\":\"white\",\"linecolor\":\"white\",\"ticks\":\"\",\"title\":{\"standoff\":15},\"zerolinecolor\":\"white\",\"zerolinewidth\":2}}},\"xaxis\":{\"anchor\":\"y\",\"domain\":[0.0,1.0],\"title\":{\"text\":\"pc1\"}},\"yaxis\":{\"anchor\":\"x\",\"domain\":[0.0,1.0],\"title\":{\"text\":\"zeroed\"}},\"legend\":{\"tracegroupgap\":0},\"margin\":{\"t\":60}},                        {\"responsive\": true}                    ).then(function(){\n",
              "                            \n",
              "var gd = document.getElementById('b388e7c9-9a48-47e6-82dd-adc1e109bec0');\n",
              "var x = new MutationObserver(function (mutations, observer) {{\n",
              "        var display = window.getComputedStyle(gd).display;\n",
              "        if (!display || display === 'none') {{\n",
              "            console.log([gd, 'removed!']);\n",
              "            Plotly.purge(gd);\n",
              "            observer.disconnect();\n",
              "        }}\n",
              "}});\n",
              "\n",
              "// Listen for the removal of the full notebook cells\n",
              "var notebookContainer = gd.closest('#notebook-container');\n",
              "if (notebookContainer) {{\n",
              "    x.observe(notebookContainer, {childList: true});\n",
              "}}\n",
              "\n",
              "// Listen for the clearing of the current output cell\n",
              "var outputEl = gd.closest('.output');\n",
              "if (outputEl) {{\n",
              "    x.observe(outputEl, {childList: true});\n",
              "}}\n",
              "\n",
              "                        })                };                            </script>        </div>\n",
              "</body>\n",
              "</html>"
            ]
          },
          "metadata": {}
        },
        {
          "output_type": "stream",
          "name": "stdout",
          "text": [
            "171    LeBron James\n",
            "Name: PLAYER, dtype: object\n"
          ]
        }
      ]
    },
    {
      "cell_type": "markdown",
      "source": [
        "For small forwards LeBron James is at the peak of our graph when looking at one dimension. This is not surprising as he is one of the greatest players of all time. Not far behind, however, are Giannis Antetokounmpo and Kevin Durant. Towards the end of our graph are less known players like Abdel Nader and Earl Clark. Hopefully, the k-means classification along with three dimensions can help differentiate the top tier players.  "
      ],
      "metadata": {
        "id": "106pXhkUY_Qn"
      }
    },
    {
      "cell_type": "markdown",
      "source": [
        "Next we will try to find the no of components which is ideal for k-means clustering similar to process done for other positions"
      ],
      "metadata": {
        "id": "ujj_02YpbCsJ"
      }
    },
    {
      "cell_type": "code",
      "source": [
        "set(comp_1_players) - set(comp_10_players)"
      ],
      "metadata": {
        "colab": {
          "base_uri": "https://localhost:8080/"
        },
        "outputId": "1b3c575b-0220-4303-fc3e-c340310dd28a",
        "id": "GwA6OOS5efwu"
      },
      "execution_count": null,
      "outputs": [
        {
          "output_type": "execute_result",
          "data": {
            "text/plain": [
              "{'Khris Middleton-2018-MIL'}"
            ]
          },
          "metadata": {},
          "execution_count": 359
        }
      ]
    },
    {
      "cell_type": "code",
      "source": [
        "len(set(comp_10_players) - set(comp_1_players))"
      ],
      "metadata": {
        "colab": {
          "base_uri": "https://localhost:8080/"
        },
        "outputId": "88492646-a8f0-4040-82a8-ad539c07ce5d",
        "id": "NgCjUzrvefwu"
      },
      "execution_count": null,
      "outputs": [
        {
          "output_type": "execute_result",
          "data": {
            "text/plain": [
              "22"
            ]
          },
          "metadata": {},
          "execution_count": 360
        }
      ]
    },
    {
      "cell_type": "markdown",
      "source": [
        "We shouldn't clustering on PC1 as it missing the most productive seasons of many small forwards.\n",
        "\n"
      ],
      "metadata": {
        "id": "WW5jODu9efwu"
      }
    },
    {
      "cell_type": "code",
      "source": [
        "set(comp_3_players) - set(comp_10_players)"
      ],
      "metadata": {
        "colab": {
          "base_uri": "https://localhost:8080/"
        },
        "outputId": "99d326a8-230b-4825-fda8-325d5ce71f8c",
        "id": "A_Egcz_Aefwu"
      },
      "execution_count": null,
      "outputs": [
        {
          "output_type": "execute_result",
          "data": {
            "text/plain": [
              "{'Kawhi Leonard-2013-SAS',\n",
              " 'Khris Middleton-2018-MIL',\n",
              " 'Robert Covington-2017-PHI',\n",
              " 'Robert Covington-2018-PHI'}"
            ]
          },
          "metadata": {},
          "execution_count": 361
        }
      ]
    },
    {
      "cell_type": "code",
      "source": [
        "set(comp_10_players) - set(comp_3_players)"
      ],
      "metadata": {
        "colab": {
          "base_uri": "https://localhost:8080/"
        },
        "outputId": "d66164ea-33f5-4515-d6d6-06ae55c0477a",
        "id": "-9txEeNPefwu"
      },
      "execution_count": null,
      "outputs": [
        {
          "output_type": "execute_result",
          "data": {
            "text/plain": [
              "{'Andre Iguodala-2011-PHI',\n",
              " 'Andrei Kirilenko-2010-UTA',\n",
              " 'Brandon Ingram-2018-LAL',\n",
              " 'Luol Deng-2011-CHI',\n",
              " 'Luol Deng-2012-CHI',\n",
              " 'Tyreke Evans-2013-NOP'}"
            ]
          },
          "metadata": {},
          "execution_count": 362
        }
      ]
    },
    {
      "cell_type": "markdown",
      "source": [
        "Here, as we are misclustering only 10 data points we can consider taking the advantage of dimenisionanlity reduction given by 3 PCA alone. Next, we will visualize the clusters formed through"
      ],
      "metadata": {
        "id": "wHTM3a5e4Ex4"
      }
    },
    {
      "cell_type": "code",
      "source": [
        "fig = px.scatter_3d(\n",
        "    df_cluster, x= df_cluster[\"pc1\"], y=df_cluster[\"pc2\"], z=df_cluster[\"pc3\"], color=df_cluster['comp_3'],\n",
        "    title=f'k-means Clustering after dimensionality reduction',\n",
        "    hover_name=df_cluster['player-year-tm']\n",
        ")\n",
        "\n",
        "\n",
        "fig.show()"
      ],
      "metadata": {
        "colab": {
          "base_uri": "https://localhost:8080/",
          "height": 542
        },
        "outputId": "d8789f76-e7de-471e-a893-b1c4a154fb2c",
        "id": "0eh9YUGyefwu"
      },
      "execution_count": null,
      "outputs": [
        {
          "output_type": "display_data",
          "data": {
            "text/html": [
              "<html>\n",
              "<head><meta charset=\"utf-8\" /></head>\n",
              "<body>\n",
              "    <div>            <script src=\"https://cdnjs.cloudflare.com/ajax/libs/mathjax/2.7.5/MathJax.js?config=TeX-AMS-MML_SVG\"></script><script type=\"text/javascript\">if (window.MathJax) {MathJax.Hub.Config({SVG: {font: \"STIX-Web\"}});}</script>                <script type=\"text/javascript\">window.PlotlyConfig = {MathJaxConfig: 'local'};</script>\n",
              "        <script src=\"https://cdn.plot.ly/plotly-2.8.3.min.js\"></script>                <div id=\"40b909d7-5343-4999-857f-fde95c3722fd\" class=\"plotly-graph-div\" style=\"height:525px; width:100%;\"></div>            <script type=\"text/javascript\">                                    window.PLOTLYENV=window.PLOTLYENV || {};                                    if (document.getElementById(\"40b909d7-5343-4999-857f-fde95c3722fd\")) {                    Plotly.newPlot(                        \"40b909d7-5343-4999-857f-fde95c3722fd\",                        [{\"hovertemplate\":\"<b>%{hovertext}</b><br><br>comp_3=4<br>pc1=%{x}<br>pc2=%{y}<br>pc3=%{z}<extra></extra>\",\"hovertext\":[\"Jae Crowder-2014-TOT\",\"Draymond Green-2013-GSW\",\"Harrison Barnes-2014-GSW\",\"Jimmy Butler-2012-CHI\",\"Corey Brewer-2012-DEN\",\"Shane Battier-2010-TOT\",\"Michael Kidd-Gilchrist-2017-CHO\",\"Dorian Finney-Smith-2019-DAL\",\"Corey Brewer-2013-MIN\",\"Dante Cunningham-2016-NOP\",\"Wesley Johnson-2016-LAC\",\"Maurice Harkless-2013-ORL\",\"Al-Farouq Aminu-2013-NOP\",\"Miles Bridges-2019-CHO\",\"Aaron Gordon-2017-ORL\",\"Shawn Marion-2010-DAL\",\"Matt Barnes-2012-LAC\",\"Jeff Green-2015-TOT\",\"Corey Brewer-2014-TOT\",\"Wesley Johnson-2015-LAC\",\"Andre Roberson-2017-OKC\",\"Maurice Harkless-2016-POR\",\"Maurice Harkless-2015-POR\",\"Tayshaun Prince-2010-DET\",\"Rondae Hollis-Jefferson-2017-BRK\",\"Josh Jackson-2018-PHO\",\"Maurice Harkless-2017-POR\",\"Andre Iguodala-2014-GSW\",\"Al-Farouq Aminu-2012-NOH\",\"Andre Iguodala-2017-GSW\",\"Shawn Marion-2013-DAL\",\"Thabo Sefolosha-2015-ATL\",\"Torrey Craig-2019-DEN\",\"Luol Deng-2012-CHI\",\"Thabo Sefolosha-2016-ATL\",\"Al-Farouq Aminu-2014-DAL\",\"Kyle Anderson-2018-SAS\",\"Michael Kidd-Gilchrist-2018-CHO\",\"Dante Cunningham-2018-TOT\",\"Alonzo Gee-2015-NOP\",\"Alonzo Gee-2016-NOP\",\"Tyreke Evans-2013-NOP\",\"Luol Deng-2014-MIA\",\"Rondae Hollis-Jefferson-2018-BRK\",\"Andre Iguodala-2019-GSW\",\"OG Anunoby-2019-TOR\",\"Jeremy Evans-2013-UTA\",\"Andre Iguodala-2016-GSW\",\"Derrick Brown-2011-CHA\",\"Andre Iguodala-2015-GSW\",\"Evan Turner-2011-PHI\",\"Andrei Kirilenko-2010-UTA\",\"Andre Iguodala-2018-GSW\",\"Luol Deng-2013-TOT\",\"Andre Iguodala-2013-GSW\",\"Quincy Acy-2013-TOT\",\"Shawn Marion-2011-DAL\",\"Matt Barnes-2011-LAL\",\"Rodions Kurucs-2019-BRK\",\"Michael Kidd-Gilchrist-2013-CHA\",\"Thabo Sefolosha-2017-ATL\",\"James Johnson-2011-TOR\",\"Derrick Jones Jr.-2019-MIA\",\"Maurice Harkless-2019-POR\",\"Rondae Hollis-Jefferson-2019-BRK\",\"Tobias Harris-2012-TOT\",\"Matt Barnes-2010-LAL\",\"Brandon Ingram-2019-LAL\",\"James Johnson-2013-MEM\",\"Kyle Anderson-2019-MEM\"],\"legendgroup\":\"4\",\"marker\":{\"color\":\"#636efa\",\"symbol\":\"circle\"},\"mode\":\"markers\",\"name\":\"4\",\"scene\":\"scene\",\"showlegend\":true,\"x\":[-0.556843089985154,0.23392348011299435,0.1561842283931816,-0.035818688079771635,-0.11179459297515044,0.8947112456571872,0.9443441535999825,0.13884161240189377,0.8628137744864987,-1.3852250417202905,-0.5401011967881749,-0.8195053783967525,0.14152589597765539,-0.5559252331636267,0.6748665793939463,1.578873333628851,1.6728015615335738,-0.026797588924123487,0.7804424813921345,-0.8552856371356605,0.30085648770761714,-1.0015673805614353,-1.6068638130986723,-0.1463012939281115,0.2854088171611131,0.179844048745438,1.4918811324141414,0.3759753808531708,0.9641338505584436,1.2983230616733952,1.3770620597540286,0.05720825975199805,-0.5161806774550101,2.125104057370919,0.030940623822945938,-0.7032029561332278,1.6581841048175097,-1.1699185444164897,-1.3703791551277578,-1.2069791322451047,-1.0597488315295995,1.6182368567996122,0.8013993744635152,1.5875028111309788,0.5402848172941365,-1.1704897466492532,-0.39874184154411957,0.7040926716282131,-1.1487371351138078,0.571498156891422,-0.38794228913085943,2.373787015779156,-0.017508525390290974,1.081618199558468,1.3809408482448087,-1.4077743816326533,1.4423629388605035,0.7682866787175443,-0.2820409556280563,-1.1445168446918141,-0.09732803506286215,1.1821458004647691,-0.538119872476674,0.74515000775279,-1.07707544082928,0.36978494270283063,0.3555682718355465,1.7646158713767366,-0.6115805328864391,1.2859180569694217],\"y\":[0.11706458636368267,2.670241003975714,0.009687896159744438,0.08955371495152255,0.9390486719353004,-0.07542448035475868,4.111470545495147,1.143645531924335,0.9946777815729781,0.12679541166707406,0.07902132522194316,0.8462397267914131,2.428504882476604,0.00020107638044702012,1.5494812672187974,3.237311434076024,0.1675989346903957,1.1549501953525878,1.2275698227378264,0.41758352770532137,2.5011247081853294,0.8830985706307861,1.8043918491394058,1.1925870289952099,3.0539714773010656,3.3103449626333425,0.666587824542859,-0.9752728803063463,3.678959536141435,-2.2184287261838533,0.9549186878272565,-0.2852061987849222,0.05043178342347858,2.1967600431117766,-0.4927726567126411,2.473447509449422,0.5350775738444309,3.4513695088654543,0.06555936303144001,0.26252280037263437,0.033214674771388925,2.7259637295793198,0.5953607003528036,2.765174103692684,-0.9253500412108226,-0.16435429402208535,2.9314774614723746,-0.8571666993012466,1.0871797602034923,-0.6815652797327411,2.4195188669879806,1.0583787665410613,0.6046431510819055,1.8702912187148149,-0.1302693930017564,0.10964615153340092,2.785399505002345,0.7594184083328203,0.011119893661012601,4.252689879188425,0.7953163125710082,2.81075754893108,1.022388413979247,1.056354683142345,3.9082850053380893,1.384588521907374,-0.30521680177060323,1.1071584041691134,2.6210535220702527,1.5492302459898981],\"z\":[-0.6693621174284715,0.5406069739772618,-0.6170738040798228,-0.8973179976383179,-0.004305074745750796,-1.3534685865735898,-1.4406603460611542,-1.3097201605922437,-0.9799218887460002,-1.1856286329681216,-0.7543607393153953,-0.812402946679086,-1.2990135815394115,-1.2558958803969926,-0.8967560293489832,-2.246043513137365,-1.5504325540470976,0.2654849148120845,-0.1764881025591798,-0.4043816574793428,-4.045277847570996,-2.6612869424084438,-1.9185157569558196,-0.48094822835253687,0.16789171031717004,0.44812056071494466,-2.8297428393021025,-2.292213668700945,-0.8419059112000786,-3.644912696576693,-0.7767079253959088,-2.6806458500015813,-2.0441732843857947,0.2735292777701659,-2.712927145137391,-0.7643165899029403,-2.262889769222226,-2.218986857303194,-2.0699184015975662,-2.1475127047136606,-2.329541231172975,0.6270071299431254,-0.38487822940707367,-0.5108248109024202,-4.147739436183635,-2.208478301735781,-3.8581845804912884,-2.5186163633982974,-2.28799848104539,-2.3627389368335314,0.18056882120809412,-1.1824006700878547,-2.336041046200129,0.6022040546342498,-1.496865979573267,-2.4828391829647165,-0.5176020489264327,-1.3515291604868693,-0.7094654556191382,-1.7800650118133607,-0.1860277463715855,-0.4468419035654994,-3.0131207514851788,-2.867208011430981,-0.2839190427088151,-0.787225620553022,-2.0318272880677846,-0.8610775050752751,-0.24122739134462445,-3.2670771667379874],\"type\":\"scatter3d\"},{\"hovertemplate\":\"<b>%{hovertext}</b><br><br>comp_3=1<br>pc1=%{x}<br>pc2=%{y}<br>pc3=%{z}<extra></extra>\",\"hovertext\":[\"Mike Miller-2013-MEM\",\"Richard Jefferson-2013-UTA\",\"Joe Ingles-2017-UTA\",\"Darius Miller-2018-NOP\",\"Joe Ingles-2016-UTA\",\"Richard Jefferson-2010-SAS\",\"Doug McDermott-2018-TOT\",\"Joe Ingles-2015-UTA\",\"Doug McDermott-2015-CHI\",\"Doug McDermott-2016-CHI\",\"James Jones-2010-MIA\",\"Justin Jackson-2019-TOT\",\"Steve Novak-2012-NYK\",\"Marco Belinelli-2013-SAS\",\"Luc Mbah a Moute-2017-LAC\",\"Mario Hezonja-2016-ORL\",\"Richard Jefferson-2017-CLE\",\"Caron Butler-2014-DET\",\"Chase Budinger-2010-HOU\",\"Caron Butler-2012-LAC\",\"Shabazz Muhammad-2017-MIN\",\"Jae Crowder-2013-DAL\",\"Joe Johnson-2017-UTA\",\"Doug McDermott-2019-IND\",\"Rasual Butler-2014-WAS\",\"Richard Jefferson-2014-DAL\",\"Richard Jefferson-2016-CLE\",\"Jared Dudley-2013-LAC\",\"Richard Jefferson-2015-CLE\",\"OG Anunoby-2018-TOR\",\"Terrence Ross-2015-TOR\",\"Shane Battier-2013-MIA\",\"Terrence Ross-2016-TOR\",\"Alfonzo McKinnie-2019-GSW\",\"Shane Battier-2012-MIA\",\"James Ennis III-2018-TOT\",\"Kyle Anderson-2017-SAS\",\"Jake Layman-2019-POR\",\"Glenn Robinson III-2017-IND\",\"Royce O'Neale-2018-UTA\",\"Darius Miller-2019-NOP\",\"Mindaugas Kuzminskas-2017-NYK\",\"Luke Babbitt-2017-MIA\",\"Omri Casspi-2014-SAC\",\"Chase Budinger-2014-MIN\",\"Doug McDermott-2017-TOT\",\"Brandon Rush-2011-GSW\",\"Dahntay Jones-2011-IND\",\"Shane Battier-2011-MIA\",\"James Ennis III-2017-MEM\",\"Mike Dunleavy-2014-CHI\",\"Luke Babbitt-2014-NOP\",\"Richard Jefferson-2011-TOT\",\"Reggie Bullock-2018-DET\",\"Cedi Osman-2018-CLE\",\"Rashard Lewis-2013-MIA\",\"Solomon Hill-2016-IND\",\"Maurice Harkless-2018-POR\",\"Mike Miller-2012-MIA\",\"Quincy Pondexter-2012-MEM\",\"Jamario Moon-2010-TOT\",\"Cartier Martin-2013-TOT\",\"Chase Budinger-2011-HOU\",\"Vince Carter-2018-SAC\",\"James Ennis III-2019-TOT\",\"James Jones-2014-CLE\",\"Caris LeVert-2017-BRK\",\"Brian Cardinal-2010-DAL\",\"Richard Jefferson-2012-GSW\",\"Mike Dunleavy-2011-MIL\",\"Omri Casspi-2018-GSW\",\"Mike Dunleavy-2017-TOT\",\"Luke Babbitt-2018-TOT\",\"Derrick Brown-2010-TOT\",\"Chris Douglas-Roberts-2013-CHA\",\"James Jones-2015-CLE\",\"James Jones-2016-CLE\",\"James Jones-2017-CLE\",\"Luke Babbitt-2016-NOP\",\"Luke Babbitt-2015-NOP\",\"Gerald Green-2017-BOS\",\"Rasual Butler-2015-SAS\",\"Rasual Butler-2016-SAS\",\"Darius Miller-2013-NOP\",\"Cartier Martin-2012-WAS\",\"Chris Copeland-2013-IND\"],\"legendgroup\":\"1\",\"marker\":{\"color\":\"#EF553B\",\"symbol\":\"circle\"},\"mode\":\"markers\",\"name\":\"1\",\"scene\":\"scene\",\"showlegend\":true,\"x\":[-0.791096935834645,-0.3232068959549014,0.6351292075760611,-0.5094095960885248,-1.7264538249541586,0.48823619154893905,-1.2577753299057592,-1.9190774850199115,-2.138684567765322,-1.4389411104928536,-1.8710162633882872,-1.5526595887083787,-1.290909235936972,-0.14553059575138935,-0.7852573355479516,-1.1042150964834632,-1.3646298705936797,-1.9366208433813705,-0.654539705665815,-0.6198781547016528,-1.6403308647810912,-1.905757997583897,-0.7523647692912419,-1.3319776737853535,-1.665067415000638,-2.107030274438142,-1.824536335603771,-1.4118503361008474,-1.7471528437502801,-0.8474645178710734,-0.9221081455449278,-1.3123300366146822,-0.6259081004174143,-1.6652960819309568,-0.6791450042357585,-0.7623239793468144,-1.750643220302917,-0.6165156287558369,-1.5317586644499497,-1.2384871296361282,-0.722958543502669,-2.038179797146782,-2.3496037729712813,-0.6170184184064869,-1.7644112278972057,-1.7758349251083427,0.16128932483091302,-2.2563633034636643,-1.3012802088089068,-0.16613708079758774,-0.01750027613308432,-2.3165205423281234,-0.3797843101290942,-0.06156666864069058,-2.400046471378875,-2.0594945379672707,-1.7647953668856293,-0.39153405998678537,-1.4359518623658032,-1.7146389895004397,-1.6383453125331462,-2.6695184966965817,-0.8217237123748928,-1.692141472754378,-0.4759919766826486,-2.0657831214828706,-0.8012807276643457,-3.239832517333927,-3.3255385665566797,0.1080991866872662,-0.6486711227200896,-2.2827277871731964,-2.4630705011290575,-2.3536789845053083,-2.132412331442817,-3.282772221747401,-3.05565865863471,-3.205872556665114,-2.0525452990726585,-1.7324734317189563,-2.843042087586168,-3.2245199999137415,-2.82655503706164,-2.569010585534117,-2.2376315713481376,-2.6646473558930315],\"y\":[-3.62039198974764,-1.9584432135702574,-2.9305614172546246,-3.6653588948069658,-2.2781419687139652,-2.2449952738624943,-2.3339628454001966,-1.953697620975741,-1.2879287671346562,-2.271453181544618,-3.076664330469526,-1.546971774496285,-4.692310172470845,-2.3786823283294765,-1.6331350908176365,-1.219387213598017,-1.5671646628146056,-1.355550882608175,-0.508022718244564,-1.4032082022432901,-0.5571908507764378,-0.34631890354352296,-1.7265149981271273,-3.5738358585856274,-1.4569916132724166,-1.671588281204273,-2.1127210224357,-1.1918458072820215,-2.1669648986835384,-2.1361885702696997,-1.6798281881449375,-1.5427911133798273,-2.0887985094183272,-0.7504519403298241,-2.4132887499387636,-0.7874700528223502,-0.5851030293583851,-1.3802033509236669,-1.0388026411494378,-0.986669117164101,-1.8190824908842138,-0.5920413004415068,-2.4158137538910784,-0.7913562374376496,-0.6675447541663824,-1.810703776573554,-2.0931971408639187,-1.1926836086448607,-0.07340594151457301,-0.8344125912113886,-1.9355751438123732,-3.749228772965992,-2.3190120592467034,-3.6275653734589217,-1.930721533999824,-0.9110365805244094,-0.7229450949812144,-1.607868537966253,-3.1268821174081367,-1.3139377384488964,-0.6843653371506921,-1.4943045423193952,-1.6716362588724547,-0.515644342989619,-1.1811036269276205,-3.513390192886779,-0.7606981181985165,-3.295949246586229,-0.9592140816720098,-2.3199511637247534,-2.793350100864292,-2.128598405290032,-2.690389225347128,-1.6363428460224476,-0.8573183544455704,-2.22611619738883,-2.5090361674052315,-3.9883781726289547,-0.9979164797758806,-1.6919874514164654,-1.0596139902557442,-1.0218176735257951,-1.5198724837168966,-0.9492605107903395,-1.611594626994788,-3.5465847806686663],\"z\":[-0.2849257802809741,0.3300500373702811,0.005429258264951535,-0.1580453152295033,-0.8592184755346525,-0.3857781409813776,-0.172269479468717,-0.6146990802423741,1.768307608412512,0.9308846414936092,1.1743288613749547,-0.7487914925095954,1.063594352170339,0.6851106413686956,-2.24219758785553,0.7317101204115818,-1.507132771270881,1.870236191104316,0.47779444258511433,1.1672370574868238,-1.0062127932067906,-0.8813125573032118,0.8353340192566096,-1.2347158870998578,0.7058708863098799,0.03304799071510495,-1.5718615525089081,-0.9068556078263217,-1.6502613488581093,-2.9392328019741876,0.5737333807491143,-1.681960613936019,0.22117034810966477,-3.1562035050627704,1.5083370179048936,-1.0527497321958916,-0.07370118960975364,-3.176873455730544,-1.1186672499587955,0.14832623453601215,0.8878926427776901,-0.2701908555204418,1.0314745209762872,-0.6836917328268717,0.6599691683315679,0.3846527402069135,-0.782441918838804,1.6290110060774896,-1.1057333913981204,-0.7900775968967185,0.592947367431368,-0.5301643031994359,0.28819432631337977,-0.6849869927160694,-2.9230621697149917,-0.07214433977832137,-0.3789586739157425,-1.9819231000653166,-0.8042732155330793,0.3171972340677969,-0.14387801669345848,0.40765288187447757,0.20164406768056897,0.1837844088499309,-2.3952664560358317,-0.19555934478780962,-1.026084310971447,4.85496959133535,-1.089377542977841,-0.3540704326424863,-2.81249628233802,0.2761854221217334,-0.6226422749585141,-2.829085902138929,0.6310151536031475,0.46712869582055144,0.20478916157671087,-1.798127075200569,0.9477904788746052,0.5011012699672308,0.5083325448629941,-2.5851118321034305,-3.0454021961564313,-0.35320311701041357,1.2935426126841199,-2.323707998580279],\"type\":\"scatter3d\"},{\"hovertemplate\":\"<b>%{hovertext}</b><br><br>comp_3=2<br>pc1=%{x}<br>pc2=%{y}<br>pc3=%{z}<extra></extra>\",\"hovertext\":[\"Al-Farouq Aminu-2016-POR\",\"Mike Dunleavy-2013-CHI\",\"Mikal Bridges-2019-PHO\",\"Al-Farouq Aminu-2015-POR\",\"Khris Middleton-2013-MIL\",\"Jeff Green-2013-BOS\",\"Trevor Ariza-2014-HOU\",\"Alonzo Gee-2012-CLE\",\"Solomon Hill-2014-IND\",\"Luol Deng-2010-CHI\",\"Dillon Brooks-2018-MEM\",\"Joe Ingles-2018-UTA\",\"Jared Dudley-2010-PHO\",\"Kelly Oubre Jr.-2018-WAS\",\"Trevor Ariza-2016-HOU\",\"Trevor Ariza-2015-HOU\",\"Joe Johnson-2015-TOT\",\"Vince Carter-2012-DAL\",\"Gordon Hayward-2016-UTA\",\"Solomon Hill-2017-NOP\",\"Jae Crowder-2019-UTA\",\"Otto Porter Jr.-2017-WAS\",\"Trevor Ariza-2017-HOU\",\"Jae Crowder-2018-TOT\",\"Gordon Hayward-2015-UTA\",\"Nicolas Batum-2010-POR\",\"Evan Fournier-2015-ORL\",\"Evan Fournier-2016-ORL\",\"Wesley Johnson-2013-LAL\",\"Khris Middleton-2014-MIL\",\"Jared Dudley-2012-PHO\",\"Wesley Matthews-2016-DAL\",\"Wesley Matthews-2015-DAL\",\"Wilson Chandler-2014-DEN\",\"Jeff Green-2014-TOT\",\"Terrence Ross-2017-TOT\",\"Khris Middleton-2019-MIL\",\"Trevor Ariza-2013-WAS\",\"Matt Barnes-2016-MEM\",\"Matt Barnes-2014-LAC\",\"Gordon Hayward-2014-UTA\",\"Wesley Johnson-2014-LAL\",\"Matt Barnes-2015-MEM\",\"Chandler Parsons-2012-HOU\",\"Mario Hezonja-2018-ORL\",\"Trevor Ariza-2010-NOH\",\"Otto Porter Jr.-2015-WAS\",\"Kent Bazemore-2016-ATL\",\"Kent Bazemore-2015-ATL\",\"Otto Porter Jr.-2016-WAS\",\"Mike Dunleavy-2012-MIL\",\"Nicolas Batum-2019-CHO\",\"Carmelo Anthony-2017-NYK\",\"Kyle Korver-2012-ATL\",\"Matt Barnes-2017-TOT\",\"Chandler Parsons-2013-HOU\",\"Wilson Chandler-2018-DEN\",\"Jae Crowder-2015-BOS\",\"Vince Carter-2017-MEM\",\"Kent Bazemore-2017-ATL\",\"Gordon Hayward-2017-UTA\",\"DeMarre Carroll-2013-ATL\",\"Jae Crowder-2016-BOS\",\"Gordon Hayward-2012-UTA\",\"Jae Crowder-2017-BOS\",\"DeMarre Carroll-2017-TOR\",\"Wilson Chandler-2010-TOT\",\"Anthony Parker-2010-CLE\",\"Wilson Chandler-2017-DEN\",\"Danilo Gallinari-2012-DEN\",\"Nicolas Batum-2014-POR\",\"Caris LeVert-2018-BRK\",\"DeMarre Carroll-2014-ATL\",\"Robert Covington-2014-PHI\",\"Trevor Ariza-2019-TOT\",\"Wesley Matthews-2019-TOT\",\"Danilo Gallinari-2019-LAC\",\"Tobias Harris-2014-ORL\",\"Robert Covington-2015-PHI\",\"Trevor Ariza-2018-HOU\",\"Carlos Delfino-2012-HOU\",\"Robert Covington-2016-PHI\",\"Corey Maggette-2010-MIL\",\"Harrison Barnes-2015-GSW\",\"Harrison Barnes-2016-GSW\",\"Gordon Hayward-2011-UTA\",\"Chandler Parsons-2014-DAL\",\"Arron Afflalo-2012-ORL\",\"Wesley Matthews-2018-DAL\",\"Matt Barnes-2013-LAC\",\"Caron Butler-2011-LAC\",\"Danilo Gallinari-2017-DEN\",\"Wilson Chandler-2013-DEN\",\"Andre Iguodala-2011-PHI\",\"Danny Granger-2011-IND\",\"Chandler Parsons-2016-DAL\",\"Chandler Parsons-2015-DAL\",\"Brandon Ingram-2018-LAL\",\"Nicolas Batum-2011-POR\",\"Kawhi Leonard-2012-SAS\",\"Evan Fournier-2018-ORL\",\"Rashard Lewis-2010-TOT\",\"Trevor Ariza-2012-WAS\",\"Caron Butler-2013-TOT\",\"Luol Deng-2011-CHI\",\"Carlos Delfino-2011-MIL\",\"Danilo Gallinari-2016-DEN\",\"Danilo Gallinari-2015-DEN\",\"Carlos Delfino-2010-MIL\",\"Will Barton-2019-DEN\",\"Danilo Gallinari-2011-DEN\",\"Trevor Ariza-2011-NOH\"],\"legendgroup\":\"2\",\"marker\":{\"color\":\"#00cc96\",\"symbol\":\"circle\"},\"mode\":\"markers\",\"name\":\"2\",\"scene\":\"scene\",\"showlegend\":true,\"x\":[1.2574022572557084,1.0083065718949031,0.6080238912947918,1.262946054268284,1.239243478755261,1.282770355049056,2.646090394380923,0.2642525458758048,-0.03487029169445782,2.281935754322453,0.10998142873754815,2.7898662572241584,0.6975624791535756,0.6056354790172875,1.9152904788511877,1.9867326841283677,0.7558812889778919,1.6282044663472606,2.732764505970524,-0.246345815113524,0.6830204089076345,2.9427253517409566,1.7292625232946617,-0.3222247837878166,2.7733397428751108,1.8833365058950056,1.2354135900763588,1.4198496353045031,0.6036338219558874,1.3154096602384606,0.4720688278725099,0.28420375948731413,0.6465556551618284,1.4529033745823838,0.2298470493968122,0.15181515728387518,3.1828846718859185,2.636326906508971,1.3661794213627168,1.5859359725918638,2.3750739657987303,-0.019281394866499706,2.164246280327158,2.3656419436438396,-0.005687107981868866,0.9322250923719847,1.1962139960193334,1.7784965725651822,1.5084894206459385,1.4316592212509704,0.6016129928512876,1.8410611376776302,2.5660295948253724,1.7085403818711185,0.32298577926142663,2.910256058829574,0.8701599478389929,1.956499586022329,-0.35496446109654534,0.5410438722862214,2.7886275346222456,1.7548495042388341,2.2063271549502828,0.8729917777272085,2.1303184411240417,-0.21154026711467405,2.2193479501848565,-0.19748694625483446,1.8177704718580658,1.674242736222592,2.238779077206944,1.0511884464355747,1.6021721443635126,2.5375333662593453,1.3586884856435042,-0.025463505963823782,2.4570516654601007,1.7213267349118424,2.5441100207770546,1.1569149419639062,-0.23854865163301386,2.3962634404956953,-0.3698610710810216,0.6739454795266169,0.575043169629181,0.5507123447071928,1.701407258804894,1.088583663974942,0.4889436257019696,1.2608076146425304,-0.15559120203596669,1.27526394112658,1.2930044211514937,2.4728386728641967,1.876232016315161,1.2483988865619529,1.281077322271719,2.1631428031550497,1.6963381044176629,1.9573372474634154,1.348312143294029,1.5301206771083098,0.053840356915169946,-0.02408867887730063,2.095499712496242,-0.06653080772766051,0.9580679895125871,1.011939777343232,0.30190478247583713,0.06897813244882607,1.1255178268692039,1.1181688219672545],\"y\":[0.4542373492737862,-1.015644366184059,-0.27028038775623403,0.5417497584823932,-0.8601722147555648,0.3574908997810378,-0.9253344541977909,1.474976522033679,0.529230566933151,1.0197780256813074,0.04207291119229875,-3.5399225348054126,-1.5964131551459173,0.16335582892087117,-0.7453156112771078,-0.7805591016083052,-0.6580305231841713,-1.0883690985952306,0.06262237568037488,-0.041701379015456466,-0.6011662865474225,-2.0972327130126405,-1.1103074245865585,-0.11370725630766175,-0.005028461607552837,-0.9860157818662947,-1.6295397134241574,-1.9519536731105618,1.1225580999228029,-0.7565363126450726,-1.4290277498309003,-1.4326277185999574,-1.9806919054452916,0.6407597574435883,0.6599427041581951,-1.6794960528684113,-1.301530239929824,-0.8352291280659458,1.466368802486859,-1.3811793318310959,0.6245857772952604,0.6698851122261876,0.4133923169085076,-0.5728499759170708,-0.3039779790938638,1.878303612528677,0.13806084305649374,-0.5342005937724634,-0.15551236978640104,-0.23706434410483637,-2.391098368303159,-1.1942182486871684,0.4838791732176382,-4.014907612569969,0.6099837716206105,-0.5321144932632228,0.25977547500282605,0.14868775191989883,-0.9962094508067648,0.9982481713618859,-1.6121617672701518,-0.1536967036741855,-0.26380617524203115,-0.8687837483156121,-2.5163419394612805,-0.24984729737517616,0.9517032333032385,-1.1035371889722863,0.691190903152727,-0.610425581675043,-0.048891763627031654,0.7598676960855985,-1.1133343718195012,-1.6309155897650995,-0.0016826841180198177,-1.2892910895986833,-2.5715114992002936,0.6789863563302178,0.05315702588540287,-2.3684797216127143,-1.7269998890080642,0.24130422048995837,-0.30703596682224926,-1.1599373577373224,-1.0127219399580996,0.25489035835627694,-1.026732546849251,-0.068513703610897,-1.2342847945881494,-0.6540912938583736,-0.4622772315318263,-2.237277764453485,-0.3554437351790432,0.5581441019855881,0.17902154649349936,-1.8143114981207722,-1.7773456357814967,1.2967530098397624,-0.33341805210203684,-0.6961636146480694,-1.7654026571672967,-0.28011867776327154,0.2438214146414641,-1.2300786545605653,0.9197410238258973,-0.5060756065604123,-0.16559528208603153,-0.16017558069944585,-0.9181274654337555,0.3932257259267392,-0.3278314542451407,1.9586403261189071],\"z\":[0.17523972048170006,0.8738117019270537,-0.12871257997035437,0.1934430445349346,1.6033361521733855,1.2905484482155902,1.1179579482453426,1.307629800801916,1.2926921225060257,-0.19078487016214105,0.7641662982481665,0.18930858748069185,-1.3110372252042501,1.3504051989470462,0.9236020884767421,0.8550880310714017,1.5665385338984552,1.0486278048640172,1.3044344740031044,1.2746352901780982,-0.22460690156918592,-1.562384091064184,-0.4231112792564074,0.7178252751901119,1.2531079436820873,-1.1527664886759974,1.31915536308549,1.0819645076008968,1.0476492508841986,1.3493776787085332,-0.3323428035371515,2.1787844777289678,1.735035653059442,0.7304166408228031,1.1329705686204978,0.31084738969612846,1.275682720887071,0.3860968729089777,1.417923088971412,-1.0106244912283433,1.5724076330062549,1.1110830463732104,0.480747318147492,-0.5607955196368527,0.24185647044762357,0.9121736098837848,-0.6827398935871588,0.6121791662670375,0.9350983579085166,-0.9760286200642785,0.5427250690657497,0.06662793261768592,1.7768352320199714,0.4343734499578569,0.9093259399865012,-0.34922951211259334,-0.37924463386661855,0.1728188434338414,0.9155167373109039,0.8498061915648522,0.49448843100901285,-0.9379359807731145,-0.14215257236632486,1.0867021162028134,-0.5110950551617456,0.13627114696780834,0.025378229076716646,1.0671496566486156,-0.5786976304145625,0.8703164596578231,0.5688293878431201,0.7418219263459671,-1.6183383903262307,0.6941208564466063,1.195104389737476,1.7072669167037755,0.8915126177878347,0.321222812264131,1.5630937703723649,0.4420662461494957,1.882779324223713,1.7349068761205884,0.8164090186663094,-0.8650786078533672,-0.7445786565925501,0.2312668373482218,-0.500454710762683,0.9402199556745006,2.0401113618449567,-1.0618584511802265,1.220630702855699,0.708713438896291,0.017276034660618635,-0.37402806018236934,1.5639290513573805,-0.895759535921051,-0.9132633689389945,-0.036333046499207704,-0.1964383748746502,-1.1477842912831941,1.0005102487941002,-0.1369734076468222,1.3098824170329346,1.9652138384485007,0.5209210771581143,1.4722577086458175,1.5246686018423339,1.481343350697073,1.8331982131412472,1.0533351985564448,0.7818505680968907,1.0008226753065292],\"type\":\"scatter3d\"},{\"hovertemplate\":\"<b>%{hovertext}</b><br><br>comp_3=0<br>pc1=%{x}<br>pc2=%{y}<br>pc3=%{z}<extra></extra>\",\"hovertext\":[\"Nicolas Batum-2013-POR\",\"Khris Middleton-2018-MIL\",\"Paul George-2016-IND\",\"Paul George-2015-IND\",\"Kevin Durant-2013-OKC\",\"Kevin Durant-2012-OKC\",\"Paul George-2013-IND\",\"Giannis Antetokounmpo-2017-MIL\",\"Robert Covington-2018-PHI\",\"Danny Granger-2010-IND\",\"LeBron James-2010-MIA\",\"Paul George-2018-OKC\",\"Paul George-2012-IND\",\"Kevin Durant-2019-GSW\",\"Kevin Durant-2010-OKC\",\"Paul George-2019-OKC\",\"Carmelo Anthony-2010-TOT\",\"Gordon Hayward-2013-UTA\",\"LeBron James-2016-CLE\",\"Jimmy Butler-2017-CHI\",\"LeBron James-2015-CLE\",\"Rudy Gay-2012-TOT\",\"Paul George-2017-IND\",\"Kawhi Leonard-2017-SAS\",\"LeBron James-2017-CLE\",\"Rudy Gay-2013-TOT\",\"Nicolas Batum-2012-POR\",\"Michael Beasley-2010-MIN\",\"Kevin Durant-2016-OKC\",\"Carmelo Anthony-2016-NYK\",\"Kevin Durant-2015-OKC\",\"Kawhi Leonard-2016-SAS\",\"Kawhi Leonard-2015-SAS\",\"Carmelo Anthony-2015-NYK\",\"Rudy Gay-2016-SAC\",\"Nicolas Batum-2016-CHO\",\"Nicolas Batum-2015-CHO\",\"Rudy Gay-2015-SAC\",\"LeBron James-2014-CLE\",\"Kevin Durant-2018-GSW\",\"Rudy Gay-2014-SAC\",\"Andre Iguodala-2010-PHI\",\"Robert Covington-2017-PHI\",\"Kevin Durant-2011-OKC\",\"Kawhi Leonard-2013-SAS\",\"Rudy Gay-2011-MEM\",\"Jimmy Butler-2019-TOT\",\"Kawhi Leonard-2014-SAS\",\"LeBron James-2011-MIA\",\"Kawhi Leonard-2019-TOR\",\"LeBron James-2019-LAL\",\"Carmelo Anthony-2011-NYK\",\"Rudy Gay-2010-MEM\"],\"legendgroup\":\"0\",\"marker\":{\"color\":\"#ab63fa\",\"symbol\":\"circle\"},\"mode\":\"markers\",\"name\":\"0\",\"scene\":\"scene\",\"showlegend\":true,\"x\":[3.7771731079575352,3.8061123216225083,4.934075489440328,4.8957119285167625,6.766229739406963,6.440934995955211,4.1682192438381325,6.992213484512034,3.3567799755802126,3.2552774984719837,6.356386371133686,4.593989197443459,4.895897816323934,5.67353535389498,4.600914730726556,6.33749687848296,4.097128367676004,2.9158276286450704,5.95098800849752,4.044272512940481,5.892407493222272,3.0878483057952306,4.74802707608364,4.539174773018217,7.323007472259714,3.400311664981179,3.8464036921262794,2.5816117570886803,6.756481515078833,3.5190047355748932,6.653774851865324,4.72234778845139,4.446327326315167,3.4081104575237764,2.7402816456736763,3.422894348672927,3.322543408721776,2.781363767143057,6.06937094098672,6.434395472709395,3.181404300238344,2.449814819185452,3.0644825751722338,5.948190159134062,3.0089815336253816,3.2909583275481094,3.042688333705242,3.894986382332221,6.412609686424549,4.451282172487025,6.265887130215988,3.250576826108791,3.772034308772026],\"y\":[0.11319558587340138,-0.6077274580033114,0.2004854128691556,0.4491179401759818,-1.347168160945891,-0.5922626315325834,0.11158463154723917,3.299106459761024,-1.1445531120540375,0.41264041463049844,0.7841949926963859,-0.8044305946988058,0.6998918789792017,-1.1723704421170258,0.03597159577730682,-0.7727457585048945,1.3377918320051296,1.3457934380734236,1.2027989208683951,0.9516982730496955,1.2987014673918298,2.299858550766959,-1.0677234168180016,-0.74462756754858,0.16730394990344571,2.3615655186614366,0.1814717311369498,2.319464601037589,-1.42700055758628,1.6832219787905787,-1.3176516190865637,-1.3076620922440703,-0.8648860677948128,1.7946013053421142,1.6613124672380006,-0.05710464898981973,0.14305115043568647,1.5609856978857939,-0.0032650357605130713,-1.6052126162911553,1.3499220467035742,1.578176656418784,1.2963889555220431,-0.08093992874645321,-0.7912075181722776,2.5881616140940578,1.149105173512036,0.5174520251637191,1.1784393482431115,-0.5276966775975548,0.6375951341752721,1.7187236500038436,1.6517461723549682],\"z\":[-0.5250186546755671,1.262416024707489,2.443228421665949,2.5398850454028277,0.04170103067608301,0.1196981988509055,2.153809353305313,-2.0912992194111335,0.6160216444535657,1.6483336310670584,-0.8916664462006239,1.9238036501101874,1.422079022936932,-0.8828505151367164,0.5094320205387156,1.563545108152235,0.8211658208893156,1.2637613683464795,-1.6938887917997794,0.5171498553482773,-1.6202469602884777,1.2843963331461703,1.603536889441258,-0.16649542837681008,-2.0078959810821893,0.5588999192514167,0.7107483368200833,0.5271959887493934,-0.2775595056707699,1.30842190772926,-0.16376885818400988,-0.8946642351143074,-0.550048978316171,1.429541095023705,-0.011954296420831153,1.1269640293351675,1.2624641178121956,-0.07221764788485074,-0.636168932284249,-0.5591617273096748,0.9157221896562736,0.24613563819607256,0.7731078636928637,0.32357237767346414,-1.9957514286867375,-0.38496244180031847,-0.23064247499780105,-1.03332027972926,-1.4568726182918608,-0.4650369439241785,-1.1191348344618075,0.8084969085873034,0.11699507963198455],\"type\":\"scatter3d\"},{\"hovertemplate\":\"<b>%{hovertext}</b><br><br>comp_3=3<br>pc1=%{x}<br>pc2=%{y}<br>pc3=%{z}<extra></extra>\",\"hovertext\":[\"Shabazz Muhammad-2016-MIN\",\"Corey Brewer-2015-HOU\",\"Shabazz Muhammad-2015-MIN\",\"Corey Brewer-2016-HOU\",\"Tayshaun Prince-2012-TOT\",\"Corey Brewer-2017-TOT\",\"Travis Outlaw-2010-NJN\",\"Dante Cunningham-2015-NOP\",\"Brandon Ingram-2017-LAL\",\"Kelly Oubre Jr.-2017-WAS\",\"Kyle Anderson-2016-SAS\",\"Kyle Anderson-2015-SAS\",\"Dahntay Jones-2012-TOT\",\"Jaylen Brown-2017-BOS\",\"Harrison Barnes-2013-GSW\",\"Alan Anderson-2013-BRK\",\"Stanley Johnson-2017-DET\",\"Tayshaun Prince-2015-MIN\",\"Tayshaun Prince-2016-MIN\",\"John Salmons-2012-SAC\",\"Ryan Gomes-2010-LAC\",\"Tayshaun Prince-2013-MEM\",\"Quincy Pondexter-2014-TOT\",\"Justin Anderson-2017-TOT\",\"Michael Beasley-2012-PHO\",\"Otto Porter Jr.-2014-WAS\",\"Wesley Johnson-2018-LAC\",\"JaKarr Sampson-2015-TOT\",\"Maurice Evans-2010-TOT\",\"Stanley Johnson-2016-DET\",\"Corey Brewer-2018-TOT\",\"Austin Daye-2010-DET\",\"Omri Casspi-2010-SAC\",\"Chris Johnson-2015-UTA\",\"Chris Johnson-2016-UTA\",\"Corey Brewer-2010-TOT\",\"Stanley Johnson-2018-DET\",\"Lance Stephenson-2015-TOT\",\"Darrell Arthur-2013-DEN\",\"Kyle Singler-2015-OKC\",\"Wes Iwundu-2019-ORL\",\"Justin Jackson-2018-SAC\",\"Wesley Johnson-2017-LAC\",\"Kyle Singler-2016-OKC\",\"Stanley Johnson-2019-TOT\",\"Al-Farouq Aminu-2011-NOH\",\"DeMarre Carroll-2012-UTA\",\"Chase Budinger-2015-TOT\",\"Alan Anderson-2012-TOR\",\"Wesley Johnson-2011-MIN\",\"Mario Hezonja-2017-ORL\",\"Alonzo Gee-2013-CLE\",\"Omri Casspi-2011-CLE\",\"Tony Snell-2016-CHI\",\"Quincy Pondexter-2011-MEM\",\"Tony Snell-2015-CHI\",\"Travis Outlaw-2013-SAC\",\"Tayshaun Prince-2011-DET\",\"Kelly Oubre Jr.-2016-WAS\",\"Wes Iwundu-2018-ORL\",\"Abdel Nader-2019-OKC\",\"Gerald Green-2012-IND\",\"Ronnie Brewer-2012-TOT\",\"Jordan Hamilton-2013-TOT\",\"Marquis Daniels-2012-MIL\",\"Corey Brewer-2011-DEN\",\"Solomon Hill-2015-IND\",\"Taurean Prince-2017-ATL\",\"Luc Mbah a Moute-2012-MIL\",\"Tayshaun Prince-2014-TOT\",\"Mario Hezonja-2019-NYK\",\"Shawn Marion-2014-CLE\",\"Quentin Richardson-2010-ORL\",\"Luol Deng-2017-LAL\",\"Joe Johnson-2018-TOT\",\"Michael Beasley-2013-MIA\",\"Austin Daye-2012-TOT\",\"Stephen Jackson-2012-SAS\",\"Justin Anderson-2016-DAL\",\"Alonzo Gee-2014-TOT\",\"James Johnson-2012-SAC\",\"Mike Miller-2014-CLE\",\"Cartier Martin-2010-WAS\",\"Dominic McGuire-2010-CHA\",\"Troy Brown Jr.-2019-WAS\",\"DeShawn Stevenson-2011-NJN\",\"Anthony Parker-2011-CLE\",\"Anthony Tolliver-2011-MIN\",\"Landry Fields-2012-TOR\",\"Xavier Henry-2012-NOH\",\"Chris Copeland-2014-IND\",\"Wesley Johnson-2012-PHO\",\"Lamar Odom-2011-DAL\",\"James Posey-2010-IND\",\"Marquis Daniels-2010-BOS\",\"Linas Kleiza-2011-TOR\",\"Abdel Nader-2018-BOS\",\"Quentin Richardson-2011-ORL\",\"Justin Anderson-2019-ATL\",\"Michael Beasley-2011-MIN\",\"Nando De Colo-2013-TOT\",\"Stephen Jackson-2011-TOT\",\"John Salmons-2011-SAC\",\"Glenn Robinson III-2016-IND\",\"Glenn Robinson III-2015-IND\",\"Robbie Hummel-2014-MIN\",\"Maurice Harkless-2014-ORL\",\"Brian Cardinal-2011-DAL\",\"Solomon Hill-2019-NOP\",\"Chandler Hutchison-2019-CHI\",\"Chris Douglas-Roberts-2010-MIL\",\"Omri Casspi-2012-CLE\",\"Josh Howard-2011-UTA\",\"Shabazz Muhammad-2018-TOT\",\"Xavier Henry-2013-LAL\",\"Svi Mykhailiuk-2019-TOT\",\"Earl Clark-2010-TOT\",\"Danny Granger-2013-TOT\",\"Chase Budinger-2013-MIN\",\"Austin Daye-2011-DET\"],\"legendgroup\":\"3\",\"marker\":{\"color\":\"#FFA15A\",\"symbol\":\"circle\"},\"mode\":\"markers\",\"name\":\"3\",\"scene\":\"scene\",\"showlegend\":true,\"x\":[-1.7703684832053581,-1.3706571078442094,-1.7744262788038292,-1.5224520887229784,-0.9013264113111316,-2.1043850569902665,-1.3622316023269272,-1.4568459465590857,-0.9710114279417768,-1.239050685100853,-1.3099830932617686,-2.291941741529167,-3.7708703180883516,-1.7220822422200703,-0.5907578765152666,-1.7537355924037321,-2.527109845876649,-3.646722752356472,-3.7780847079615527,-1.001042773120112,-1.3295982719630033,-2.737497427348431,-2.0465802917490246,-1.4892646302151669,-0.88419065886494,-2.106527398188592,-0.893334796463109,-2.6628198416299096,-1.84101653367924,-0.8482285453671721,-1.6347933936833707,-0.84343000052955,-0.9312052027163511,-2.8976609892329686,-2.8598015937940837,-1.4012135097065472,-0.6305726091220537,-1.2634908455917266,-1.2950837579123369,-3.070530390936244,-1.8836964894745576,-2.195330660504717,-3.3179642102394817,-3.1460650440921714,-1.4705240945467464,-0.9093896857202165,-1.6436636499138142,-2.8747114057085663,-1.097323616904949,-1.7635874815905188,-3.3535677308014864,-2.858506983221242,-1.598422881337559,-2.012168794688947,-3.2589249632988864,-1.793643055057713,-2.5236533994940595,-0.3591646974241467,-3.2100235706007276,-3.238906938564967,-3.2533352111261427,-2.081690542157271,-3.907208739616128,-1.8121849640591863,-2.9132067472053578,-1.3634814816814007,-2.140262394844474,-1.737771525802855,-1.459167234395282,-1.7569056670819494,-1.1020257665090025,-1.9704211314932938,-2.4232759653684552,-1.3426443444373044,-2.098768277496281,-1.820001249024883,-3.1289596867058505,-1.7805619096459384,-2.6720479257659027,-3.158968939425077,-2.110833439505356,-3.338044099754969,-3.65813679296257,-4.001530876706046,-2.781809621679881,-3.9870263113989783,-1.879129886687909,-2.0535759174910506,-2.1305544477981537,-3.978124195258022,-2.148648644844938,-2.294912884046119,-1.5140188406640889,-2.329256758970287,-1.9915104353554178,-1.0992830739233455,-4.615153727189977,-2.530206934313969,-3.143136526906287,-0.8515945951920396,-2.6581508573831227,-0.22355009281948662,-1.7787184113572472,-3.63445018307486,-3.462256829202681,-2.2377959974381723,-3.32122541441777,-3.7622461233360576,-2.4149008174524433,-2.4904704711351773,-2.500075239700208,-3.4477160619251475,-2.2114761379834325,-4.103012904573387,-2.0359398062729577,-4.6116014704946675,-4.351195351466317,-2.4290453357174524,-2.355315191986724,-3.00123354139793],\"y\":[0.6835164221504533,1.133899771434548,0.661987908903085,1.3743553158527042,1.1309362076661316,1.0235282464042006,1.3355513414611044,0.416225423245458,2.332121747277342,0.5918928039226918,-0.11048924357596639,1.351149547232032,1.3698401334380317,-0.11945122187036776,0.7990732564397397,-0.2927015791044875,1.8628447586019241,1.7181231569153708,1.9760464384772554,0.25115722476099017,0.4637474386112486,1.6110045773187254,-0.19664473528066856,0.4363000906121144,1.6704973927202822,1.270095841006148,0.3878074488844025,2.1720945560485427,-0.5341647790516213,1.7616736043877588,0.3552068036147335,0.08073659884919919,0.08384127620152831,0.6175572972558292,0.6845366717748828,2.3683459498728605,1.3404388743292905,0.5273475650457721,1.3913730100268746,0.709794031113061,-0.24048559222173532,-0.21318545664949023,1.6647105581406576,0.8875207003509689,1.0114918454531456,2.8435454015729134,1.4530287915829005,0.562685967370145,-0.21029286649683976,0.9873108086261697,1.4721042255788468,0.8094800370453942,1.0234837291694538,-0.3985167163047264,0.794032088594517,-0.8558294729056615,0.12180032600144955,1.5191300311564329,0.1715761254956105,1.8851936518734156,-0.36700588153079877,-0.04682191819194039,1.8434901260572605,-0.08424746100595007,2.559677285810045,1.6650835975629297,-0.21920199829597864,0.4640485805953483,1.9536489165611528,0.05096107191455672,1.4048052042121075,1.3423897565459488,0.19905717327950417,1.8273141193593763,0.23857855664468444,0.19055751334177065,-0.21579093867407617,1.053856725946709,0.16031368407741292,0.13828321624065656,4.355254302053599,-1.0760743308788976,-0.7178768655913098,6.177843195314738,0.673529793093249,0.6373332796803741,-0.2790936968568022,0.6624818738976762,2.529689187295762,1.0729923729817623,-0.3910086383305114,0.42059626242963444,1.6149947200418118,-0.6417730532504374,1.2767009604843191,0.11865078688714212,1.4889575470674277,-0.4187360443012214,0.04381820977492626,0.8873940342760442,-0.7211960057439031,1.1928079696880225,0.8674455532098069,-0.38373964122245874,-0.44271575634281024,-0.18102815040872078,2.4022735905531447,-0.11118946064663593,0.673668909148783,1.0533398523640354,0.4470561538834696,0.9442997012627291,3.222549864699626,0.8238458524561292,1.2991485551339805,0.6921337067561245,4.702438272596645,1.5855874545923192,-0.7906032029785328,2.4650474491094214],\"z\":[-0.6264892341894717,0.7969398422056502,-0.6287301273920282,0.98566429660541,1.0657127916019251,-0.556027664873015,1.4953151482988272,-1.0507210288575,0.5806604480159907,-0.2788547662864144,-0.555924910588381,0.6404674626440183,1.2352681635601825,-0.5978258589337068,0.8877305267456107,0.8915228406769251,1.404912350736903,-0.5327460363078954,-0.3564377683209496,2.0060172529882245,0.6461762811473122,-0.16448295181526937,0.7428880266992032,-0.24449550583003418,1.198782022529972,0.05977923868564447,0.0995722056176043,-0.4737002991211648,0.7554613741001288,2.1387415555723632,-0.9252065357993563,1.014724926865722,0.2784524326260743,0.5886334152555774,0.5746490750082778,1.0679803225521232,1.5761169960433918,0.9348309474023166,2.0549432463026474,-0.09742633386616578,0.892016772129689,-0.6491636845733061,-0.8279216133838982,0.01161972461630585,1.0436413195112622,0.6210288667673224,-0.6378159731030523,-0.8139174149839414,2.0890454961749394,0.38092500649358163,2.480799780990195,0.5063076644921826,0.044390316245055884,2.5045206641888482,-1.1327017066905367,2.2038632704032115,1.1746814196421234,0.8386053768685952,-0.6536431235293597,-0.20334434025996184,-0.15134301325564958,1.0949865185653949,-0.6657816638921797,1.1818128333699127,1.6819422308489338,-0.24405905794831936,0.06413078721932364,0.8119585675099911,-0.4373447521357704,0.9331180648742744,1.06527548818718,-0.7043091090400114,0.5666119392238007,0.8491275089364229,1.201101421702264,0.15064945386748982,1.384502164998575,0.3332379694612342,-0.6840491408766598,-0.19851772962462896,-0.891923894592658,1.6447098228633839,1.0099607569603815,1.3502256506083046,0.05751984932465158,1.3552331330446636,0.027625078338816486,-1.6058238462338466,-1.492024128809656,0.7819797695425262,0.6547495387271884,0.9273640862021744,-0.19619651898894502,0.5067864092311817,-1.6495761846913373,1.3932163577998506,2.064786271087918,1.5798480792083907,-0.29350096997838804,0.059933582174254055,1.0325563754160398,2.0183864847768156,0.055539169020040344,0.16517908891713715,0.006811342384249705,-0.3960204856738904,-1.7844611222597322,-1.6522015264391647,0.2950274847443525,-1.2723129083558358,1.403021843182969,-0.4045049991095199,1.725911327900891,0.2358935198131481,0.9439460137654424,1.5531874016072207,-1.0727001796094973,3.2528330019463025,1.1416178691190446,2.1522562752828134],\"type\":\"scatter3d\"}],                        {\"template\":{\"data\":{\"bar\":[{\"error_x\":{\"color\":\"#2a3f5f\"},\"error_y\":{\"color\":\"#2a3f5f\"},\"marker\":{\"line\":{\"color\":\"#E5ECF6\",\"width\":0.5},\"pattern\":{\"fillmode\":\"overlay\",\"size\":10,\"solidity\":0.2}},\"type\":\"bar\"}],\"barpolar\":[{\"marker\":{\"line\":{\"color\":\"#E5ECF6\",\"width\":0.5},\"pattern\":{\"fillmode\":\"overlay\",\"size\":10,\"solidity\":0.2}},\"type\":\"barpolar\"}],\"carpet\":[{\"aaxis\":{\"endlinecolor\":\"#2a3f5f\",\"gridcolor\":\"white\",\"linecolor\":\"white\",\"minorgridcolor\":\"white\",\"startlinecolor\":\"#2a3f5f\"},\"baxis\":{\"endlinecolor\":\"#2a3f5f\",\"gridcolor\":\"white\",\"linecolor\":\"white\",\"minorgridcolor\":\"white\",\"startlinecolor\":\"#2a3f5f\"},\"type\":\"carpet\"}],\"choropleth\":[{\"colorbar\":{\"outlinewidth\":0,\"ticks\":\"\"},\"type\":\"choropleth\"}],\"contour\":[{\"colorbar\":{\"outlinewidth\":0,\"ticks\":\"\"},\"colorscale\":[[0.0,\"#0d0887\"],[0.1111111111111111,\"#46039f\"],[0.2222222222222222,\"#7201a8\"],[0.3333333333333333,\"#9c179e\"],[0.4444444444444444,\"#bd3786\"],[0.5555555555555556,\"#d8576b\"],[0.6666666666666666,\"#ed7953\"],[0.7777777777777778,\"#fb9f3a\"],[0.8888888888888888,\"#fdca26\"],[1.0,\"#f0f921\"]],\"type\":\"contour\"}],\"contourcarpet\":[{\"colorbar\":{\"outlinewidth\":0,\"ticks\":\"\"},\"type\":\"contourcarpet\"}],\"heatmap\":[{\"colorbar\":{\"outlinewidth\":0,\"ticks\":\"\"},\"colorscale\":[[0.0,\"#0d0887\"],[0.1111111111111111,\"#46039f\"],[0.2222222222222222,\"#7201a8\"],[0.3333333333333333,\"#9c179e\"],[0.4444444444444444,\"#bd3786\"],[0.5555555555555556,\"#d8576b\"],[0.6666666666666666,\"#ed7953\"],[0.7777777777777778,\"#fb9f3a\"],[0.8888888888888888,\"#fdca26\"],[1.0,\"#f0f921\"]],\"type\":\"heatmap\"}],\"heatmapgl\":[{\"colorbar\":{\"outlinewidth\":0,\"ticks\":\"\"},\"colorscale\":[[0.0,\"#0d0887\"],[0.1111111111111111,\"#46039f\"],[0.2222222222222222,\"#7201a8\"],[0.3333333333333333,\"#9c179e\"],[0.4444444444444444,\"#bd3786\"],[0.5555555555555556,\"#d8576b\"],[0.6666666666666666,\"#ed7953\"],[0.7777777777777778,\"#fb9f3a\"],[0.8888888888888888,\"#fdca26\"],[1.0,\"#f0f921\"]],\"type\":\"heatmapgl\"}],\"histogram\":[{\"marker\":{\"pattern\":{\"fillmode\":\"overlay\",\"size\":10,\"solidity\":0.2}},\"type\":\"histogram\"}],\"histogram2d\":[{\"colorbar\":{\"outlinewidth\":0,\"ticks\":\"\"},\"colorscale\":[[0.0,\"#0d0887\"],[0.1111111111111111,\"#46039f\"],[0.2222222222222222,\"#7201a8\"],[0.3333333333333333,\"#9c179e\"],[0.4444444444444444,\"#bd3786\"],[0.5555555555555556,\"#d8576b\"],[0.6666666666666666,\"#ed7953\"],[0.7777777777777778,\"#fb9f3a\"],[0.8888888888888888,\"#fdca26\"],[1.0,\"#f0f921\"]],\"type\":\"histogram2d\"}],\"histogram2dcontour\":[{\"colorbar\":{\"outlinewidth\":0,\"ticks\":\"\"},\"colorscale\":[[0.0,\"#0d0887\"],[0.1111111111111111,\"#46039f\"],[0.2222222222222222,\"#7201a8\"],[0.3333333333333333,\"#9c179e\"],[0.4444444444444444,\"#bd3786\"],[0.5555555555555556,\"#d8576b\"],[0.6666666666666666,\"#ed7953\"],[0.7777777777777778,\"#fb9f3a\"],[0.8888888888888888,\"#fdca26\"],[1.0,\"#f0f921\"]],\"type\":\"histogram2dcontour\"}],\"mesh3d\":[{\"colorbar\":{\"outlinewidth\":0,\"ticks\":\"\"},\"type\":\"mesh3d\"}],\"parcoords\":[{\"line\":{\"colorbar\":{\"outlinewidth\":0,\"ticks\":\"\"}},\"type\":\"parcoords\"}],\"pie\":[{\"automargin\":true,\"type\":\"pie\"}],\"scatter\":[{\"marker\":{\"colorbar\":{\"outlinewidth\":0,\"ticks\":\"\"}},\"type\":\"scatter\"}],\"scatter3d\":[{\"line\":{\"colorbar\":{\"outlinewidth\":0,\"ticks\":\"\"}},\"marker\":{\"colorbar\":{\"outlinewidth\":0,\"ticks\":\"\"}},\"type\":\"scatter3d\"}],\"scattercarpet\":[{\"marker\":{\"colorbar\":{\"outlinewidth\":0,\"ticks\":\"\"}},\"type\":\"scattercarpet\"}],\"scattergeo\":[{\"marker\":{\"colorbar\":{\"outlinewidth\":0,\"ticks\":\"\"}},\"type\":\"scattergeo\"}],\"scattergl\":[{\"marker\":{\"colorbar\":{\"outlinewidth\":0,\"ticks\":\"\"}},\"type\":\"scattergl\"}],\"scattermapbox\":[{\"marker\":{\"colorbar\":{\"outlinewidth\":0,\"ticks\":\"\"}},\"type\":\"scattermapbox\"}],\"scatterpolar\":[{\"marker\":{\"colorbar\":{\"outlinewidth\":0,\"ticks\":\"\"}},\"type\":\"scatterpolar\"}],\"scatterpolargl\":[{\"marker\":{\"colorbar\":{\"outlinewidth\":0,\"ticks\":\"\"}},\"type\":\"scatterpolargl\"}],\"scatterternary\":[{\"marker\":{\"colorbar\":{\"outlinewidth\":0,\"ticks\":\"\"}},\"type\":\"scatterternary\"}],\"surface\":[{\"colorbar\":{\"outlinewidth\":0,\"ticks\":\"\"},\"colorscale\":[[0.0,\"#0d0887\"],[0.1111111111111111,\"#46039f\"],[0.2222222222222222,\"#7201a8\"],[0.3333333333333333,\"#9c179e\"],[0.4444444444444444,\"#bd3786\"],[0.5555555555555556,\"#d8576b\"],[0.6666666666666666,\"#ed7953\"],[0.7777777777777778,\"#fb9f3a\"],[0.8888888888888888,\"#fdca26\"],[1.0,\"#f0f921\"]],\"type\":\"surface\"}],\"table\":[{\"cells\":{\"fill\":{\"color\":\"#EBF0F8\"},\"line\":{\"color\":\"white\"}},\"header\":{\"fill\":{\"color\":\"#C8D4E3\"},\"line\":{\"color\":\"white\"}},\"type\":\"table\"}]},\"layout\":{\"annotationdefaults\":{\"arrowcolor\":\"#2a3f5f\",\"arrowhead\":0,\"arrowwidth\":1},\"autotypenumbers\":\"strict\",\"coloraxis\":{\"colorbar\":{\"outlinewidth\":0,\"ticks\":\"\"}},\"colorscale\":{\"diverging\":[[0,\"#8e0152\"],[0.1,\"#c51b7d\"],[0.2,\"#de77ae\"],[0.3,\"#f1b6da\"],[0.4,\"#fde0ef\"],[0.5,\"#f7f7f7\"],[0.6,\"#e6f5d0\"],[0.7,\"#b8e186\"],[0.8,\"#7fbc41\"],[0.9,\"#4d9221\"],[1,\"#276419\"]],\"sequential\":[[0.0,\"#0d0887\"],[0.1111111111111111,\"#46039f\"],[0.2222222222222222,\"#7201a8\"],[0.3333333333333333,\"#9c179e\"],[0.4444444444444444,\"#bd3786\"],[0.5555555555555556,\"#d8576b\"],[0.6666666666666666,\"#ed7953\"],[0.7777777777777778,\"#fb9f3a\"],[0.8888888888888888,\"#fdca26\"],[1.0,\"#f0f921\"]],\"sequentialminus\":[[0.0,\"#0d0887\"],[0.1111111111111111,\"#46039f\"],[0.2222222222222222,\"#7201a8\"],[0.3333333333333333,\"#9c179e\"],[0.4444444444444444,\"#bd3786\"],[0.5555555555555556,\"#d8576b\"],[0.6666666666666666,\"#ed7953\"],[0.7777777777777778,\"#fb9f3a\"],[0.8888888888888888,\"#fdca26\"],[1.0,\"#f0f921\"]]},\"colorway\":[\"#636efa\",\"#EF553B\",\"#00cc96\",\"#ab63fa\",\"#FFA15A\",\"#19d3f3\",\"#FF6692\",\"#B6E880\",\"#FF97FF\",\"#FECB52\"],\"font\":{\"color\":\"#2a3f5f\"},\"geo\":{\"bgcolor\":\"white\",\"lakecolor\":\"white\",\"landcolor\":\"#E5ECF6\",\"showlakes\":true,\"showland\":true,\"subunitcolor\":\"white\"},\"hoverlabel\":{\"align\":\"left\"},\"hovermode\":\"closest\",\"mapbox\":{\"style\":\"light\"},\"paper_bgcolor\":\"white\",\"plot_bgcolor\":\"#E5ECF6\",\"polar\":{\"angularaxis\":{\"gridcolor\":\"white\",\"linecolor\":\"white\",\"ticks\":\"\"},\"bgcolor\":\"#E5ECF6\",\"radialaxis\":{\"gridcolor\":\"white\",\"linecolor\":\"white\",\"ticks\":\"\"}},\"scene\":{\"xaxis\":{\"backgroundcolor\":\"#E5ECF6\",\"gridcolor\":\"white\",\"gridwidth\":2,\"linecolor\":\"white\",\"showbackground\":true,\"ticks\":\"\",\"zerolinecolor\":\"white\"},\"yaxis\":{\"backgroundcolor\":\"#E5ECF6\",\"gridcolor\":\"white\",\"gridwidth\":2,\"linecolor\":\"white\",\"showbackground\":true,\"ticks\":\"\",\"zerolinecolor\":\"white\"},\"zaxis\":{\"backgroundcolor\":\"#E5ECF6\",\"gridcolor\":\"white\",\"gridwidth\":2,\"linecolor\":\"white\",\"showbackground\":true,\"ticks\":\"\",\"zerolinecolor\":\"white\"}},\"shapedefaults\":{\"line\":{\"color\":\"#2a3f5f\"}},\"ternary\":{\"aaxis\":{\"gridcolor\":\"white\",\"linecolor\":\"white\",\"ticks\":\"\"},\"baxis\":{\"gridcolor\":\"white\",\"linecolor\":\"white\",\"ticks\":\"\"},\"bgcolor\":\"#E5ECF6\",\"caxis\":{\"gridcolor\":\"white\",\"linecolor\":\"white\",\"ticks\":\"\"}},\"title\":{\"x\":0.05},\"xaxis\":{\"automargin\":true,\"gridcolor\":\"white\",\"linecolor\":\"white\",\"ticks\":\"\",\"title\":{\"standoff\":15},\"zerolinecolor\":\"white\",\"zerolinewidth\":2},\"yaxis\":{\"automargin\":true,\"gridcolor\":\"white\",\"linecolor\":\"white\",\"ticks\":\"\",\"title\":{\"standoff\":15},\"zerolinecolor\":\"white\",\"zerolinewidth\":2}}},\"scene\":{\"domain\":{\"x\":[0.0,1.0],\"y\":[0.0,1.0]},\"xaxis\":{\"title\":{\"text\":\"pc1\"}},\"yaxis\":{\"title\":{\"text\":\"pc2\"}},\"zaxis\":{\"title\":{\"text\":\"pc3\"}}},\"legend\":{\"title\":{\"text\":\"comp_3\"},\"tracegroupgap\":0},\"title\":{\"text\":\"k-means Clustering after dimensionality reduction\"}},                        {\"responsive\": true}                    ).then(function(){\n",
              "                            \n",
              "var gd = document.getElementById('40b909d7-5343-4999-857f-fde95c3722fd');\n",
              "var x = new MutationObserver(function (mutations, observer) {{\n",
              "        var display = window.getComputedStyle(gd).display;\n",
              "        if (!display || display === 'none') {{\n",
              "            console.log([gd, 'removed!']);\n",
              "            Plotly.purge(gd);\n",
              "            observer.disconnect();\n",
              "        }}\n",
              "}});\n",
              "\n",
              "// Listen for the removal of the full notebook cells\n",
              "var notebookContainer = gd.closest('#notebook-container');\n",
              "if (notebookContainer) {{\n",
              "    x.observe(notebookContainer, {childList: true});\n",
              "}}\n",
              "\n",
              "// Listen for the clearing of the current output cell\n",
              "var outputEl = gd.closest('.output');\n",
              "if (outputEl) {{\n",
              "    x.observe(outputEl, {childList: true});\n",
              "}}\n",
              "\n",
              "                        })                };                            </script>        </div>\n",
              "</body>\n",
              "</html>"
            ]
          },
          "metadata": {}
        }
      ]
    },
    {
      "cell_type": "markdown",
      "source": [
        "Similar to our previous k-means analysis we have three dimensions and five clusters. Moreso than any other clustering method we have a clear and distinct group of best players. This is represented by the purple cluster on the right. It contains some of the most iconic players ever such as LeBron James, Kevin Durant and Kawhi Leonard. These players are all significant scoring threats, both from three-point and two-point range.\n",
        "\n",
        "The green cluster that follows the purple contains a combination of players that are competent all-around players without the insane volume/efficiency of the puprle group. Some examples are Gordon Hayward and Khris Middleton. There are also the typical 'three-and-D' players that one might expect to find in abundance at the small-forward position. Below is a blue cluster which has players that are primarily defenders and adequate two-point scorers, but inadequate three-point shooters for the position. The red and orange clusters are very similar but the main difference seems to be that the orange cluster contains worse shooters. We will hone in on what these PCAs represent to fully flesh out and discover the best player at the small-forward position."
      ],
      "metadata": {
        "id": "lwWn_vUpWMwm"
      }
    },
    {
      "cell_type": "code",
      "source": [
        "\n",
        "for a in n_pca:\n",
        "  print(f'pc{a+1}')\n",
        "  print(pd.Series(loading_scores_all[a]))\n",
        "  print()\n",
        "  print()\n",
        ""
      ],
      "metadata": {
        "colab": {
          "base_uri": "https://localhost:8080/"
        },
        "outputId": "a881362b-abff-4e56-ac1c-35c44976acb1",
        "id": "Ankzrs62efwu"
      },
      "execution_count": null,
      "outputs": [
        {
          "output_type": "stream",
          "name": "stdout",
          "text": [
            "pc1\n",
            "DRB/G     0.378383\n",
            "TOV/G     0.366566\n",
            "2P/G      0.348135\n",
            "AST/G     0.345905\n",
            "STL/G     0.312868\n",
            "3P/G      0.268668\n",
            "PF        0.251764\n",
            "BLK/G     0.251476\n",
            "ORB/G     0.209485\n",
            "NETRTG    0.193633\n",
            "dtype: float64\n",
            "\n",
            "\n",
            "pc2\n",
            "three_pt_pct   -0.489387\n",
            "eFG%           -0.453847\n",
            "ORB/G           0.352947\n",
            "TS_pct         -0.351078\n",
            "3P/G           -0.314935\n",
            "BLK/G           0.206989\n",
            "NETRTG         -0.200094\n",
            "FT%            -0.196070\n",
            "2P/G            0.176495\n",
            "TOV/G           0.128623\n",
            "dtype: float64\n",
            "\n",
            "\n",
            "pc3\n",
            "two_pt_pct     -0.608935\n",
            "FT%             0.447317\n",
            "eFG%           -0.322655\n",
            "3P/G            0.284415\n",
            "TS_pct         -0.248009\n",
            "NETRTG         -0.212950\n",
            "ORB/G          -0.212492\n",
            "three_pt_pct    0.162948\n",
            "BLK/G          -0.159257\n",
            "TOV/G           0.155600\n",
            "dtype: float64\n",
            "\n",
            "\n"
          ]
        }
      ]
    },
    {
      "cell_type": "markdown",
      "source": [
        "PC1: The first Principal Component represents a small-forward that is a good defender, rebounder and volume scorer. Furthermore, these small-forwards can orchestrate an offense on every level, as they are also good at assisting. It's no surprise that LeBron is the highest in this category.  \n",
        "\n",
        "PC2: While the second principal component is slightly positvely related with good-defense (positive metric for Blocks Per Game) and high two-point volume (positive metric for two-pointers per game) there is an abundance of negative aspects associated with being high in this component. The most prominent being low efficiency and low three-point volume. Furthermore, it is even associated with low net-rating which means the team typically performs less than optimal with the player on the court.\n",
        "\n",
        "PC3: Similar to PC2 it indicates that being high in this category means low overall efficiency, but in this case it is also balanced with high three point volume and three-point efficiency. Players that don't do much more than shoot threes are probably very high in this category."
      ],
      "metadata": {
        "id": "fOUqMdtNZoE_"
      }
    },
    {
      "cell_type": "markdown",
      "source": [
        "The season and player we're choosing as the best small forward in our dataset is LeBron James' 2017 season. For one, it would be a travesty for our list to not contain a player who is ubiquitously considered one of the greatest players ever in our list. Furthermore, the statistics back-up his world renowned status. LeBron had (far and away) the highest PC1 value with 7.32. Below we will list his principal component values:\n",
        "\n",
        "*   PC1: 7.3\n",
        "*   PC2: 0.2\n",
        "*   PC3:-2.0\n",
        "\n",
        "PC1 was the clearest positive principal component and it indicates that LeBron is an offensive engine that can score, create and defend at a superb level. Also, LeBron is very low in PC2 and PC3, most likely due to his excellent overall efficiency. Many of Kevin Durant's stellar seasons were somewhat close, but in the end, he wasn't able to make it on this list over LeBron's 2017 season."
      ],
      "metadata": {
        "id": "qAajoTwqcnAX"
      }
    },
    {
      "cell_type": "markdown",
      "source": [
        "Point Gaurd"
      ],
      "metadata": {
        "id": "853UTZzwefwu"
      }
    },
    {
      "cell_type": "code",
      "source": [
        "#@title Code for Point Gaurd\n",
        "df=pd.read_csv(\"dfaftercleaning.csv\")\n",
        "#df_pca\n",
        "df_pcas=df[df[\"G\"]>40]\n",
        "df_pcas.columns\n",
        "df_pcas=df_pcas.reset_index()\n",
        "df_pcas.drop(['Unnamed: 0',\"index\"],  axis=1, inplace=True)\n",
        "df_pcas=df_pcas[df_pcas['Pos']=='PG']\n",
        "df_pcas=df_pcas.reset_index()\n",
        "df_pcas.drop(\"index\",axis=1,inplace=True)\n",
        "df_pca_labels=df_pcas[['PLAYER', 'Pos', 'Age', 'Tm', 'G','Year','TEAM', 'WEIGHT', 'COLLEGE', 'COUNTRY', 'DRAFT YEAR',\n",
        "       'DRAFT ROUND', 'DRAFT NUMBER','Height']]\n",
        "df_pca = df_pcas.drop(df_pca_labels.columns,axis=1)\n",
        "df_pca\n",
        "from sklearn.preprocessing import StandardScaler\n",
        "scale = StandardScaler()\n",
        "scaled_pca = scale.fit_transform(df_pca)\n",
        "scaled_pca= pd.DataFrame(scaled_pca)\n",
        "scaled_pca\n",
        "scaled_pca.columns = [df_pca[:0]]\n",
        "scaled_pca.head(5)\n",
        "len(scaled_pca.columns)\n",
        "\n",
        "#scaled_pca_SG=scaled_pca_SG.to_numpy()\n",
        "from sklearn.decomposition import PCA\n",
        "pca = PCA(n_components = 10)\n",
        "\n",
        "principle_components = pca.fit_transform(scaled_pca)\n",
        "\n",
        "pca.explained_variance_ratio_.cumsum()\n",
        "#len(principle_components)\n",
        "loading_scores_all = []\n",
        "n_pca=[0,1,2]\n",
        "#print(p)\n",
        "for p in n_pca:\n",
        "  loading_scores = pd.Series(pca.components_[p], index=scaled_pca.columns)\n",
        "  #print(loading_scores)\n",
        "  ## now sort the loading scores based on their magnitude\n",
        "  sorted_loading_scores = loading_scores.abs().sort_values(ascending=False)\n",
        "\n",
        "  # get the names of the top 10 genes\n",
        "  top_10_traits = sorted_loading_scores[0:10].index.values\n",
        "\n",
        "  loading_scores_all.append(loading_scores[top_10_traits].to_dict())\n",
        "\n",
        "pca = pd.DataFrame(principle_components)\n",
        "pca.columns = ['pc1','pc2','pc3','pc4','pc5','pc6','pc7','pc8','pc9','pc10']\n",
        "pca.dropna(inplace=True)\n",
        "pca\n",
        "df_after_pca = pd.concat([pca, df_pca_labels], axis = 1)\n",
        "#df_after_pca\n",
        "df_after_pca[\"zeroed\"]=0\n",
        "fig = px.scatter(df_after_pca, x= df_after_pca[\"pc1\"], y= df_after_pca[\"zeroed\"] ,hover_data=['PLAYER','Year'])\n",
        "fig.show()\n",
        "\n",
        "X=pca.iloc[:,0:3] # Using the the dataset of Section 1\n",
        "K = range(1,11)  # Apply kmeans 1 to 10\n",
        "kmeans_models = [skc.KMeans(k).fit(X) for k in K]\n",
        "centroids = [m.cluster_centers_ for m in kmeans_models]\n",
        "D_k = [spd.cdist(X, cent, 'euclidean') for cent in centroids]\n",
        "cIdx = [np.argmin(D,axis=1) for D in D_k]\n",
        "dist = [np.min(D,axis=1) for D in D_k]\n",
        "avgWithinSS = [sum(d)/X.shape[0] for d in dist]\n",
        "\n",
        "# plot elbow curve\n",
        "#plt.plot(K, avgWithinSS, 'b*-')\n",
        "#plt.xlabel('Number of clusters');\n",
        "#plt.ylabel('Average within-cluster sum of squares');\n",
        "#plt.title('Elbow for K-Means clustering');\n",
        "df_pc_only=df_after_pca.iloc[:,0:1]\n",
        "#print(df_pc_only)\n",
        "#df_pc_only=clean_dataset(df_pc_only)\n",
        "kmeans_model = skc.KMeans(n_clusters=4,init='k-means++',random_state=42)\n",
        "#kmeans_model = skc.KMeans(n_clusters=5,init='k-means++',random_state=42)\n",
        "\n",
        "kmeans_model.fit(df_pc_only)\n",
        "centroids = kmeans_model.cluster_centers_\n",
        "centroids\n",
        "df_pc_only['cluster_labels_kmeans'] = kmeans_model.labels_\n",
        "df_cluster = pd.concat([df_pc_only, df_pca_labels], axis = 1)\n",
        "\n",
        "print(df_cluster[(df_cluster['PLAYER']==\"James Harden\") & (df_cluster[\"Year\"]==2019)][\"PLAYER\"])\n",
        "index=89\n",
        "index=89\n",
        "import sklearn as sk\n",
        "import sklearn.cluster as skc\n",
        "\n",
        "labels_dict={1: [],2: [], 3: [], 10: []}\n",
        "pca_comp=[1,2,3,10]\n",
        "finder_constant=0\n",
        "n=4\n",
        "for p in pca_comp:\n",
        "  #print(n)\n",
        "  df_pc_only=df_after_pca.iloc[:,0:p]\n",
        "  kmeans_model = skc.KMeans(n_clusters=n,init='k-means++',random_state=42)\n",
        "  kmeans_model.fit(df_pc_only)\n",
        "  centroids = kmeans_model.cluster_centers_\n",
        "  labels = list(kmeans_model.labels_)\n",
        "  if p==1:\n",
        "    label_top=labels[index]\n",
        "    finder_constant=label_top\n",
        "  else:\n",
        "    label_top_1=labels[index]\n",
        "    changer= {0:0,1:1,2:2,3:3,4:4,5:5}\n",
        "    changer[label_top_1]=label_top\n",
        "    changer[label_top]=label_top_1\n",
        "    #print(changer)\n",
        "    labels= [changer[a] for a in labels]\n",
        "  labels_dict[p] = labels\n",
        "  if p==1:\n",
        "    n=n+1\n",
        "labels_components=pd.DataFrame(labels_dict)\n",
        "labels_components.columns=[\"comp_1\",\"comp_2\",\"comp_3\",\"comp_10\"]\n",
        "df_cluster = pd.concat([df_pc_only,labels_components, df_pca_labels], axis = 1)\n",
        "df_cluster[\"player-year-tm\"] = df_cluster[\"PLAYER\"] + \"-\" + df_cluster[\"Year\"].astype(str) + \"-\" + df_cluster[\"Tm\"]\n",
        "df_cluster['comp_1'] = df_cluster['comp_1'].astype(str)\n",
        "df_cluster['comp_2'] = df_cluster['comp_2'].astype(str)\n",
        "df_cluster['comp_3'] = df_cluster['comp_3'].astype(str)\n",
        "df_cluster['comp_10'] = df_cluster['comp_10'].astype(str)\n",
        "finder_constant = str(finder_constant)\n",
        "comp_1_players=df_cluster[df_cluster[\"comp_1\"]==finder_constant][[\"player-year-tm\"]][\"player-year-tm\"].tolist()\n",
        "comp_2_players=df_cluster[df_cluster[\"comp_2\"]==finder_constant][[\"player-year-tm\"]][\"player-year-tm\"].tolist()\n",
        "comp_3_players=df_cluster[df_cluster[\"comp_3\"]==finder_constant][[\"player-year-tm\"]][\"player-year-tm\"].tolist()\n",
        "comp_10_players=df_cluster[df_cluster[\"comp_10\"]==finder_constant][[\"player-year-tm\"]][\"player-year-tm\"].tolist()"
      ],
      "metadata": {
        "id": "YcitfwDVegQ2",
        "colab": {
          "base_uri": "https://localhost:8080/",
          "height": 649
        },
        "cellView": "form",
        "outputId": "66f3437e-c9e0-4bc5-f043-83dd53e2af2a"
      },
      "execution_count": null,
      "outputs": [
        {
          "output_type": "stream",
          "name": "stderr",
          "text": [
            "/usr/local/lib/python3.7/dist-packages/sklearn/utils/validation.py:1692: FutureWarning:\n",
            "\n",
            "Feature names only support names that are all strings. Got feature names with dtypes: ['tuple']. An error will be raised in 1.2.\n",
            "\n"
          ]
        },
        {
          "output_type": "display_data",
          "data": {
            "text/html": [
              "<html>\n",
              "<head><meta charset=\"utf-8\" /></head>\n",
              "<body>\n",
              "    <div>            <script src=\"https://cdnjs.cloudflare.com/ajax/libs/mathjax/2.7.5/MathJax.js?config=TeX-AMS-MML_SVG\"></script><script type=\"text/javascript\">if (window.MathJax) {MathJax.Hub.Config({SVG: {font: \"STIX-Web\"}});}</script>                <script type=\"text/javascript\">window.PlotlyConfig = {MathJaxConfig: 'local'};</script>\n",
              "        <script src=\"https://cdn.plot.ly/plotly-2.8.3.min.js\"></script>                <div id=\"26dfdfb2-9eab-443f-b3cd-58f396b24d90\" class=\"plotly-graph-div\" style=\"height:525px; width:100%;\"></div>            <script type=\"text/javascript\">                                    window.PLOTLYENV=window.PLOTLYENV || {};                                    if (document.getElementById(\"26dfdfb2-9eab-443f-b3cd-58f396b24d90\")) {                    Plotly.newPlot(                        \"26dfdfb2-9eab-443f-b3cd-58f396b24d90\",                        [{\"customdata\":[[\"Ramon Sessions\",2013],[\"Jarrett Jack\",2010],[\"Ricky Rubio\",2013],[\"Langston Galloway\",2016],[\"Aaron Brooks\",2014],[\"Damian Lillard\",2014],[\"Damian Lillard\",2013],[\"Norris Cole\",2013],[\"Ramon Sessions\",2016],[\"D.J. Augustin\",2014],[\"Langston Galloway\",2015],[\"Cory Joseph\",2019],[\"Monte Morris\",2019],[\"Shai Gilgeous-Alexander\",2019],[\"Patty Mills\",2019],[\"Ramon Sessions\",2015],[\"Reggie Jackson\",2019],[\"Jeremy Lin\",2012],[\"Andre Miller\",2012],[\"Nate Robinson\",2012],[\"Elfrid Payton\",2017],[\"Derek Fisher\",2010],[\"Raymond Felton\",2018],[\"Jrue Holiday\",2010],[\"Eric Maynor\",2010],[\"D.J. Augustin\",2010],[\"Chris Paul\",2014],[\"Tyus Jones\",2018],[\"Patty Mills\",2018],[\"Cory Joseph\",2018],[\"Brandon Jennings\",2017],[\"Andre Miller\",2010],[\"J.J. Barea\",2010],[\"Derrick Rose\",2010],[\"Jamal Murray\",2018],[\"Dejounte Murray\",2018],[\"Patty Mills\",2016],[\"Patty Mills\",2015],[\"Ish Smith\",2017],[\"Raul Neto\",2016],[\"James Harden\",2017],[\"Eric Bledsoe\",2014],[\"Andre Miller\",2014],[\"D.J. Augustin\",2019],[\"De'Aaron Fox\",2019],[\"Steve Blake\",2014],[\"Ryan Arcidiacono\",2019],[\"Darren Collison\",2012],[\"Jordan Crawford\",2013],[\"Patty Mills\",2013],[\"Mike Conley\",2010],[\"D'Angelo Russell\",2016],[\"Raymond Felton\",2016],[\"Giannis Antetokounmpo\",2016],[\"Brandon Jennings\",2013],[\"Reggie Jackson\",2013],[\"Jarrett Jack\",2013],[\"Darren Collison\",2013],[\"Mike Conley\",2012],[\"Damian Lillard\",2019],[\"Patty Mills\",2017],[\"Ty Lawson\",2010],[\"Keyon Dooling\",2010],[\"Raymond Felton\",2017],[\"Norris Cole\",2012],[\"Brandon Jennings\",2012],[\"Jerryd Bayless\",2012],[\"Jeff Teague\",2012],[\"Mario Chalmers\",2014],[\"Jarrett Jack\",2014],[\"Stephen Curry\",2014],[\"Raymond Felton\",2015],[\"Cory Joseph\",2017],[\"Spencer Dinwiddie\",2018],[\"Mike Bibby\",2010],[\"Giannis Antetokounmpo\",2015],[\"Chris Paul\",2010],[\"Steve Blake\",2010],[\"Darren Collison\",2010],[\"Reggie Jackson\",2016],[\"Stephen Curry\",2016],[\"Reggie Jackson\",2015],[\"Stephen Curry\",2015],[\"Stephen Curry\",2017],[\"Kyle Lowry\",2013],[\"J.J. Barea\",2013],[\"Cory Joseph\",2014],[\"Patrick Beverley\",2019],[\"Frank Ntilikina\",2018],[\"James Harden\",2019],[\"Shane Larkin\",2016],[\"Kyle Lowry\",2018],[\"Shaun Livingston\",2015],[\"Shane Larkin\",2015],[\"Shaun Livingston\",2014],[\"Shaun Livingston\",2016],[\"Tony Parker\",2010],[\"Stephen Curry\",2012],[\"Jrue Holiday\",2012],[\"Eric Bledsoe\",2019],[\"D.J. Augustin\",2017],[\"Stephen Curry\",2013],[\"Kris Dunn\",2017],[\"Mario Chalmers\",2012],[\"Ish Smith\",2015],[\"Kyle Lowry\",2015],[\"Kyle Lowry\",2016],[\"Jerryd Bayless\",2014],[\"Reggie Jackson\",2014],[\"J.J. Barea\",2014],[\"Eric Bledsoe\",2012],[\"Jerian Grant\",2016],[\"Shane Larkin\",2014],[\"Trey Burke\",2014],[\"Devin Harris\",2014],[\"Austin Rivers\",2014],[\"George Hill\",2013],[\"Shaun Livingston\",2013],[\"Jameer Nelson\",2010],[\"Ricky Rubio\",2015],[\"Matthew Dellavedova\",2017],[\"Shaun Livingston\",2017],[\"D.J. Augustin\",2012],[\"George Hill\",2010],[\"George Hill\",2012],[\"Darren Collison\",2019],[\"Ricky Rubio\",2016],[\"Matthew Dellavedova\",2016],[\"Matthew Dellavedova\",2015],[\"Kyle Lowry\",2010],[\"Raymond Felton\",2010],[\"Ty Lawson\",2014],[\"Kyrie Irving\",2014],[\"Norris Cole\",2014],[\"D.J. Augustin\",2018],[\"Ricky Rubio\",2017],[\"Damian Lillard\",2015],[\"Jamal Murray\",2019],[\"Jameer Nelson\",2017],[\"Damian Lillard\",2017],[\"Brandon Knight\",2012],[\"Damian Lillard\",2016],[\"Jeremy Lin\",2014],[\"Stephen Curry\",2010],[\"J.J. Barea\",2012],[\"J.J. Barea\",2016],[\"Darren Collison\",2016],[\"Chris Paul\",2016],[\"George Hill\",2016],[\"Terry Rozier\",2017],[\"Langston Galloway\",2017],[\"Jerian Grant\",2018],[\"Shabazz Napier\",2018],[\"Eric Bledsoe\",2018],[\"Jeremy Lin\",2019],[\"George Hill\",2015],[\"J.J. Barea\",2015],[\"Chris Paul\",2015],[\"Darren Collison\",2015],[\"Quinn Cook\",2019],[\"De'Aaron Fox\",2018],[\"Damian Lillard\",2018],[\"Elfrid Payton\",2015],[\"Shelvin Mack\",2013],[\"Malcolm Delaney\",2017],[\"Tyler Johnson\",2017],[\"Mario Chalmers\",2013],[\"Kirk Hinrich\",2013],[\"Mike Conley\",2013],[\"Jalen Brunson\",2019],[\"Ty Lawson\",2012],[\"Jordan Farmar\",2010],[\"Shaun Livingston\",2010],[\"Elfrid Payton\",2016],[\"Rajon Rondo\",2015],[\"Brian Roberts\",2013],[\"Brandon Knight\",2013],[\"Rajon Rondo\",2016],[\"Tony Parker\",2016],[\"Brian Roberts\",2014],[\"Jerryd Bayless\",2013],[\"Aaron Brooks\",2013],[\"Chauncey Billups\",2010],[\"Kirk Hinrich\",2010],[\"Tony Parker\",2015],[\"Tyler Johnson\",2018],[\"Kyrie Irving\",2017],[\"Andrew Harrison\",2017],[\"Toney Douglas\",2012],[\"Devin Harris\",2010],[\"Yogi Ferrell\",2019],[\"Jerryd Bayless\",2010],[\"Shaun Livingston\",2018],[\"Patrick Beverley\",2015],[\"Devin Harris\",2018],[\"Patrick Beverley\",2016],[\"Luke Ridnour\",2010],[\"Diante Garrett\",2013],[\"D.J. Augustin\",2013],[\"Jeremy Lin\",2013],[\"Kyrie Irving\",2013],[\"Kyle Lowry\",2014],[\"Mike Conley\",2019],[\"Seth Curry\",2017],[\"Gilbert Arenas\",2010],[\"Mike Conley\",2014],[\"Mario Chalmers\",2010],[\"Reggie Jackson\",2012],[\"Chris Paul\",2012],[\"Ty Lawson\",2017],[\"Rajon Rondo\",2017],[\"Mike Conley\",2017],[\"Shelvin Mack\",2018],[\"Darren Collison\",2018],[\"J.J. Barea\",2018],[\"Austin Rivers\",2013],[\"Aaron Brooks\",2015],[\"Stephen Curry\",2019],[\"Aaron Brooks\",2016],[\"Jameer Nelson\",2013],[\"Tyus Jones\",2019],[\"Devin Harris\",2019],[\"Spencer Dinwiddie\",2019],[\"Rajon Rondo\",2010],[\"Tony Parker\",2014],[\"Tony Parker\",2013],[\"Darren Collison\",2017],[\"Kyle Lowry\",2012],[\"Ray McCallum\",2014],[\"Raymond Felton\",2012],[\"Emmanuel Mudiay\",2016],[\"George Hill\",2018],[\"Kyrie Irving\",2019],[\"Jrue Holiday\",2017],[\"Pablo Prigioni\",2014],[\"Eric Bledsoe\",2017],[\"Dante Exum\",2017],[\"Ty Lawson\",2015],[\"Derrick Rose\",2015],[\"Mario Chalmers\",2018],[\"Derrick Rose\",2016],[\"Shaun Livingston\",2012],[\"Brandon Jennings\",2011],[\"Tony Parker\",2012],[\"Jeff Teague\",2011],[\"Michael Carter-Williams\",2014],[\"Pablo Prigioni\",2013],[\"Jrue Holiday\",2011],[\"Will Bynum\",2012],[\"Kyle Lowry\",2019],[\"Tim Frazier\",2017],[\"Aaron Brooks\",2017],[\"Devin Harris\",2017],[\"Jrue Holiday\",2016],[\"Raymond Felton\",2013],[\"Jrue Holiday\",2015],[\"Eric Maynor\",2012],[\"Ramon Sessions\",2011],[\"Avery Bradley\",2011],[\"Devin Harris\",2016],[\"Carlos Arroyo\",2010],[\"Patty Mills\",2010],[\"Emmanuel Mudiay\",2018],[\"Mario Chalmers\",2011],[\"Trey Burke\",2016],[\"Shaun Livingston\",2019],[\"Devin Harris\",2015],[\"Trey Burke\",2015],[\"Derrick Rose\",2017],[\"Semaj Christon\",2017],[\"Brandon Jennings\",2010],[\"Jameer Nelson\",2014],[\"Brandon Knight\",2014],[\"Tony Parker\",2017],[\"Jerian Grant\",2017],[\"D'Angelo Russell\",2017],[\"Elfrid Payton\",2018],[\"Devin Harris\",2011],[\"Chris Duhon\",2011],[\"John Lucas III\",2012],[\"Derek Fisher\",2011],[\"Ronnie Price\",2015],[\"Mike Conley\",2011],[\"Chris Paul\",2013],[\"D.J. Augustin\",2015],[\"Ty Lawson\",2013],[\"Ronnie Price\",2016],[\"Jarrett Jack\",2018],[\"Frank Jackson\",2019],[\"Chris Paul\",2017],[\"Donald Sloan\",2016],[\"Marcus Smart\",2016],[\"Toney Douglas\",2016],[\"Ty Lawson\",2011],[\"Mario Chalmers\",2015],[\"Toney Douglas\",2015],[\"Donald Sloan\",2015],[\"Marcus Smart\",2015],[\"Luke Ridnour\",2013],[\"Will Bynum\",2010],[\"Raymond Felton\",2011],[\"Darren Collison\",2011],[\"Kirk Hinrich\",2012],[\"Tony Parker\",2011],[\"Chris Paul\",2011],[\"Tyus Jones\",2017],[\"Kyle Lowry\",2017],[\"George Hill\",2019],[\"Jerian Grant\",2019],[\"Jamal Crawford\",2011],[\"Sebastian Telfair\",2011],[\"Kyrie Irving\",2018],[\"Emmanuel Mudiay\",2019],[\"Tim Frazier\",2019],[\"Pablo Prigioni\",2015],[\"Kyrie Irving\",2012],[\"Pablo Prigioni\",2016],[\"Charles Jenkins\",2012],[\"Spencer Dinwiddie\",2017],[\"Sebastian Telfair\",2012],[\"Aaron Brooks\",2010],[\"Nate Robinson\",2010],[\"Tim Frazier\",2018],[\"Steve Blake\",2015],[\"Chris Paul\",2018],[\"Patty Mills\",2012],[\"Trey Burke\",2019],[\"Baron Davis\",2010],[\"Steve Blake\",2016],[\"Tyler Johnson\",2019],[\"Shelvin Mack\",2019],[\"Cameron Payne\",2016],[\"Archie Goodwin\",2016],[\"Archie Goodwin\",2015],[\"Ricky Rubio\",2012],[\"Trey Burke\",2017],[\"Earl Boykins\",2010],[\"Jameer Nelson\",2011],[\"Mike Conley\",2016],[\"Jameer Nelson\",2012],[\"Mike Conley\",2015],[\"Shabazz Napier\",2019],[\"Will Bynum\",2013],[\"Patrick Beverley\",2014],[\"Patrick Beverley\",2013],[\"Andrew Harrison\",2018],[\"Shelvin Mack\",2014],[\"Steve Blake\",2013],[\"Shabazz Napier\",2016],[\"Shelvin Mack\",2017],[\"Emmanuel Mudiay\",2017],[\"Tony Parker\",2018],[\"Shabazz Napier\",2015],[\"Tyler Ennis\",2018],[\"Shane Larkin\",2018],[\"Malcolm Delaney\",2018],[\"Michael Carter-Williams\",2016],[\"Michael Carter-Williams\",2015],[\"Kendall Marshall\",2013],[\"Steve Blake\",2011],[\"Kyrie Irving\",2016],[\"Jonny Flynn\",2010],[\"Shabazz Napier\",2017],[\"Rodrigue Beaubois\",2011],[\"Kyrie Irving\",2015],[\"Tyler Ennis\",2017],[\"Marcelo Huertas\",2016],[\"Rajon Rondo\",2011],[\"Kris Dunn\",2018],[\"Tyreke Evans\",2018],[\"Frank Mason III\",2018],[\"Lonzo Ball\",2018],[\"Shelvin Mack\",2015],[\"Michael Carter-Williams\",2018],[\"Ish Smith\",2012],[\"Reggie Jackson\",2017],[\"Nate Robinson\",2011],[\"Brian Roberts\",2015],[\"Patty Mills\",2014],[\"Toney Douglas\",2013],[\"Tim Frazier\",2015],[\"Stephen Curry\",2018],[\"Chris Duhon\",2010],[\"Acie Law\",2010],[\"Jameer Nelson\",2018],[\"Avery Bradley\",2012],[\"Aaron Holiday\",2019],[\"George Hill\",2011],[\"Jimmer Fredette\",2014],[\"Phil Pressey\",2014],[\"Ramon Sessions\",2017],[\"De'Anthony Melton\",2019],[\"John Lucas III\",2011],[\"George Hill\",2017],[\"Jawun Evans\",2018],[\"Malcolm Brogdon\",2018],[\"Brandon Jennings\",2015],[\"Matthew Dellavedova\",2019],[\"Darius Morris\",2012],[\"D.J. Augustin\",2011],[\"Kyle Lowry\",2011],[\"Lonzo Ball\",2019],[\"Luke Ridnour\",2014],[\"Isaiah Canaan\",2014],[\"Yogi Ferrell\",2017],[\"Devonte' Graham\",2019],[\"Tyler Ennis\",2015],[\"Kirk Hinrich\",2015],[\"Chris Duhon\",2012],[\"Tyler Ennis\",2016],[\"Kris Dunn\",2019],[\"Daniel Gibson\",2012],[\"Jarrett Jack\",2011],[\"Rodrigue Beaubois\",2012],[\"Norris Cole\",2016],[\"Norris Cole\",2015],[\"Reggie Jackson\",2018],[\"Darren Collison\",2014],[\"Steve Blake\",2012],[\"Michael Carter-Williams\",2017],[\"Mike James\",2012],[\"Seth Curry\",2016],[\"Seth Curry\",2015],[\"Nate Robinson\",2013],[\"George Hill\",2014],[\"Eric Bledsoe\",2013],[\"Ronnie Price\",2014],[\"Dante Exum\",2019],[\"John Lucas III\",2013],[\"Kay Felder\",2017],[\"Nate Robinson\",2014],[\"Ray McCallum\",2015],[\"Chris Quinn\",2010],[\"Brian Roberts\",2017],[\"Leandro Barbosa\",2012],[\"T.J. Ford\",2010],[\"J.J. Barea\",2011],[\"Brandon Jennings\",2014],[\"Raul Neto\",2018]],\"hovertemplate\":\"pc1=%{x}<br>zeroed=%{y}<br>PLAYER=%{customdata[0]}<br>Year=%{customdata[1]}<extra></extra>\",\"legendgroup\":\"\",\"marker\":{\"color\":\"#636efa\",\"symbol\":\"circle\"},\"mode\":\"markers\",\"name\":\"\",\"orientation\":\"v\",\"showlegend\":false,\"x\":[-1.3964787107910688,-1.7123053777317403,1.9514041907933821,-0.8413773469872385,-0.16567769735722973,3.4436230080467904,2.120215057781255,-1.3452821679789044,-0.9847722721723717,-1.1432739616550818,-1.059356375070674,-0.5455890659767357,0.14008814942164982,1.2965951274153311,-0.20951111769896677,-1.4518893008049276,0.9964217476348106,2.5064661756874873,0.8038665865526221,0.7288972044466147,2.451158230525204,-1.3203020525849885,-1.9601683553347435,2.6844646312624976,-2.862750719484705,0.36493066285478293,5.034610050798825,-0.8441582441828479,-0.46254111984559587,-0.5873220628610323,-1.7119615099510999,1.9791521312111415,-0.9883065229784647,3.921508799632863,2.6493879866432626,1.1851608622289365,-0.7025592090371052,-0.9482021891792007,-0.5681628472565116,-1.6491611671592912,8.591086961946164,4.16966621023678,-1.5108978800389186,0.9447243349546078,3.3202704601506383,-2.3985624992401537,-0.19952020050103897,0.8569331765732383,-1.0158217626007986,-0.06725430423187852,1.7316719625479369,0.3192641575196793,-0.5265053790144787,5.877380745633903,1.0373707215640826,1.2893267962881934,-0.4474569133802975,0.7125153258953947,2.477622733135353,4.438369228008109,-0.03909680946128881,1.4430307805179012,-2.071328158483521,-1.2307068135160222,-2.3544246108792257,1.7256377169816046,-0.6195464745013868,2.3795547149259795,0.9866299981587763,0.030530135847043387,5.695040177257236,-0.6977338870321649,-0.19190111904095813,0.8267689025433127,-0.3394304951377893,5.938977755195484,3.5544837810896857,-2.861338522826154,0.7176001637150053,2.109950300569027,7.683227129129214,2.0001367774676746,7.517644018215055,5.970775015888986,3.957303397216344,-1.9430325535506874,-0.8993002352071917,2.0471819573680614,-1.7202050283458006,8.713638072921421,-0.7190951811695429,4.007988426805435,-0.41573320760338145,-0.793691677939201,-1.2959806467278454,-0.029326512374768292,2.0961883417966267,4.621958038732878,3.830223863006435,3.991882785797784,-2.878291439494125,5.343446473393942,-2.2506376900408656,1.0059829941043128,0.43912107692896496,4.360431510061144,4.632740888318636,-0.8522863880512381,1.8198455928803008,-2.3176221687068423,0.7622230655371153,-2.853221693611732,-1.0001289826742616,-1.0013280179699668,-0.5221877947233332,-2.129230633304761,1.2214175482657883,0.33219442616685607,1.9124618239769855,1.569927467901368,-1.2204498748073862,-0.8975372611299807,-3.9693414009719525,0.32200030886915015,1.6681076337352385,1.4164307814343209,1.9315584826608505,-0.24375472620587182,-0.6477480769210778,2.8751647081727376,2.6060514243110586,1.60794639160051,2.714130215290557,-1.402788060850737,-0.12393488993817582,2.4113833719294138,3.549710377367185,2.5201008082565073,0.5925443369672014,3.648091557186382,0.4335138197617846,3.433236943695801,1.0347157513292256,4.042761382365496,-0.6765471132595818,-0.7794980516215504,0.9451456059557407,4.580454296469131,1.3181389490327107,-2.5648954120706886,-2.398174048155304,-1.0799360722328284,-0.8827310111402825,4.167494108898944,-0.5216493272186689,1.5475738364452138,-0.6955621531728494,4.716283753509873,0.9579800280418076,-1.6489960603907798,-0.34517276210553377,4.082213345508983,0.8857435912049069,-1.448912905007921,-3.0385239113170077,1.4318933960857811,2.352309595034619,0.08529393961363116,2.131026553015181,-0.7921706928064104,1.9945953762259905,-0.3680910155890699,-1.2823980508824195,1.0349365847442231,4.147398988735622,-1.4738504984808072,1.380563685442397,4.314933492177796,0.5519142739777685,-2.700594982870978,-1.2004843599536383,-0.8304622225240247,1.5556144120761202,0.29141499019617945,0.33560022353683955,0.7150015253731171,3.756400991812139,-2.3326165873474367,-1.6314446235940945,0.3309767422758398,-2.2773597224932733,-0.881765195679382,-1.7339107360330734,1.7233486124147577,-0.96855485748547,1.9210008190208419,1.5688397171903223,-4.151437098706971,-0.43146889361858065,1.2184153694555293,2.75959284576477,3.2612250526732183,2.3362124293185884,1.0080947493026615,0.04194604549356984,1.5870709972671238,-0.8636822525487409,-2.147386702290214,4.1029598705598636,0.0006375357851441078,1.1969442612106556,2.9319625934863622,-1.3593298733708992,1.7392629446024226,0.23057600351748136,-2.612338394783272,-1.7243921858454492,5.98179068819694,-2.038578501004667,0.6788252411547423,-1.5988083647655478,-2.208857547815499,1.2663162244236297,3.5376475459275567,0.33774469578824523,0.9744145907891947,0.500724972058474,2.5572837290827195,-1.6420033006841177,1.2588495143154421,0.22725551790550066,0.4915304469475308,5.527897947790184,3.185273828547677,-0.6169395089251125,3.589897024646173,-1.3739634132958565,-2.0681034790579074,0.5990873184172735,-0.7721165132513211,0.308116096324937,-1.2769853722320503,1.8735672413412046,2.142532902154615,1.3382687305551564,2.528131533035302,0.16530459394110386,1.513235074724542,-1.0694816817300572,4.061122265351824,-0.9370558305281305,-2.746736493070103,-1.7683205111030624,1.9097183047228377,0.8235956487871804,1.9893097344200197,-3.5873921478580737,-0.34849677966413706,-2.1561783729803126,-0.9050014489229714,-2.43862848758816,-3.8299610362989784,-2.104197438216283,1.3946639326654238,-1.6105884772739678,-1.8600046123258906,-0.7161256105369431,-1.8553382937130598,1.1039691543848527,-4.927669496195091,1.2614351676839144,-0.7782671824294288,1.6078296558102625,-1.2104842296116771,-1.5953200267452878,1.250336897072766,2.236272827622602,-0.021071246011533762,-2.3584536935523563,-3.3101740523992658,-2.18050063798647,-1.429712734883655,1.4950090430823821,4.457408040689084,-1.8148613349596547,2.5337788224759707,-1.1552092645711491,-0.9301155190345941,-2.1058552508840758,4.851721264346862,-1.4319757182734187,0.3885028328438911,-0.9072736011190226,2.7628695426834735,0.01787618287583112,-1.0357150490087383,-1.5518834974700777,0.5265870568213982,-2.7022285159920307,-2.0058592528322845,0.761119306649179,-0.05909091573266101,-0.19542259472744575,1.3069097027615844,3.834554829738904,-2.8139536511490304,4.930802064856043,-0.352097721244088,-2.4297111380605836,-0.8320133310036368,-2.1769655035039404,3.7172388694913883,0.49038812617614863,-0.7182788333289563,-1.826987365130983,3.207643038257128,-2.146151653694484,-5.450216907509032,-0.47741308914405933,-2.9165819759168157,-1.4509333597664351,-1.9428649848899686,-2.685380756440953,-2.153258135905197,4.650054033712246,-1.5617347905318855,-1.6958738016415453,1.4064147985370972,-2.3461143937522464,-0.008379389786879582,-2.3976753417035885,-2.7250756567263137,-2.082550386304306,-2.3090193677222914,1.2426000472383707,-3.2366914497622945,-2.9407160625454805,0.964435208529411,0.7328150899266945,1.9924759522793238,0.9276834151835092,-1.4703742091813223,-1.4023065981278602,1.6678667799595122,1.7490968492651684,-0.6909890041850709,-2.8905052416986097,-0.55587483478326,-4.627235302846869,-1.1246889763391121,-0.8669945836035233,-2.488738727002999,-4.328259526473981,-2.905455137761571,-3.226331520238199,-2.4781848453970605,2.4138554076461216,2.2695966721525798,-0.7876484899169857,-2.2070319672577257,2.1232628747551643,-3.0465255640347286,-3.1622810855229337,-0.42258953377165304,2.3516225738194154,-2.935242074092481,-1.9976042164558827,3.0101563948917613,2.2551250568860857,2.772917618382751,-2.1367727413021047,2.83479124298787,-1.1861887529684032,-2.661791412497467,-5.479297802562222,-0.23288581359861568,-0.44742461798972055,-3.7465793531429985,-2.038391129385523,-2.702342223474725,-2.6799610369861346,5.966783149193322,-4.143000314897403,-2.8448436219208406,-2.2409647195674074,-0.33946359798831144,-2.3376886331180513,0.2558349022107515,-3.9165566810686836,-3.937352378602719,-3.618594470897155,-1.1119961562520277,-4.08354494605005,2.017518053244056,-3.5531612425089674,1.1187816591883644,-2.2444430304218046,-2.124869219011051,-3.930090487455822,-0.8560521318827448,2.65020606398693,1.7236028145925093,-3.205028352920961,-1.8898888968766214,-0.7400156795853491,-3.974651767245051,-3.2455674323121495,-3.5306372286825325,-3.0449486061783717,-2.810293759367762,1.2835135385325056,-3.655382954602197,0.993171042667272,-3.602393153632088,-1.1714699912891693,-1.1260980339804192,0.1676138086722162,2.2025659864967557,-0.7223552659642214,-1.7118208713203913,-1.609122530200566,-1.9028519116717781,-4.981038148199645,-0.8938640841009445,2.262814838149004,3.031920329298614,-2.3281275950816998,-2.3191368866646704,-5.090782115974172,-4.512741455582912,-3.2376019672742906,-4.318882645544502,-5.69760933916433,-4.568860516574148,-3.2873417233658104,-2.684746718730782,-0.5479870006016525,0.07899276515078243,-2.401347889092833],\"xaxis\":\"x\",\"y\":[0,0,0,0,0,0,0,0,0,0,0,0,0,0,0,0,0,0,0,0,0,0,0,0,0,0,0,0,0,0,0,0,0,0,0,0,0,0,0,0,0,0,0,0,0,0,0,0,0,0,0,0,0,0,0,0,0,0,0,0,0,0,0,0,0,0,0,0,0,0,0,0,0,0,0,0,0,0,0,0,0,0,0,0,0,0,0,0,0,0,0,0,0,0,0,0,0,0,0,0,0,0,0,0,0,0,0,0,0,0,0,0,0,0,0,0,0,0,0,0,0,0,0,0,0,0,0,0,0,0,0,0,0,0,0,0,0,0,0,0,0,0,0,0,0,0,0,0,0,0,0,0,0,0,0,0,0,0,0,0,0,0,0,0,0,0,0,0,0,0,0,0,0,0,0,0,0,0,0,0,0,0,0,0,0,0,0,0,0,0,0,0,0,0,0,0,0,0,0,0,0,0,0,0,0,0,0,0,0,0,0,0,0,0,0,0,0,0,0,0,0,0,0,0,0,0,0,0,0,0,0,0,0,0,0,0,0,0,0,0,0,0,0,0,0,0,0,0,0,0,0,0,0,0,0,0,0,0,0,0,0,0,0,0,0,0,0,0,0,0,0,0,0,0,0,0,0,0,0,0,0,0,0,0,0,0,0,0,0,0,0,0,0,0,0,0,0,0,0,0,0,0,0,0,0,0,0,0,0,0,0,0,0,0,0,0,0,0,0,0,0,0,0,0,0,0,0,0,0,0,0,0,0,0,0,0,0,0,0,0,0,0,0,0,0,0,0,0,0,0,0,0,0,0,0,0,0,0,0,0,0,0,0,0,0,0,0,0,0,0,0,0,0,0,0,0,0,0,0,0,0,0,0,0,0,0,0,0,0,0,0,0,0,0,0,0,0,0,0,0,0,0,0,0,0,0,0,0,0,0,0,0,0,0,0,0,0,0,0,0,0,0,0,0,0,0,0,0,0,0,0,0,0,0,0,0,0,0,0],\"yaxis\":\"y\",\"type\":\"scatter\"}],                        {\"template\":{\"data\":{\"bar\":[{\"error_x\":{\"color\":\"#2a3f5f\"},\"error_y\":{\"color\":\"#2a3f5f\"},\"marker\":{\"line\":{\"color\":\"#E5ECF6\",\"width\":0.5},\"pattern\":{\"fillmode\":\"overlay\",\"size\":10,\"solidity\":0.2}},\"type\":\"bar\"}],\"barpolar\":[{\"marker\":{\"line\":{\"color\":\"#E5ECF6\",\"width\":0.5},\"pattern\":{\"fillmode\":\"overlay\",\"size\":10,\"solidity\":0.2}},\"type\":\"barpolar\"}],\"carpet\":[{\"aaxis\":{\"endlinecolor\":\"#2a3f5f\",\"gridcolor\":\"white\",\"linecolor\":\"white\",\"minorgridcolor\":\"white\",\"startlinecolor\":\"#2a3f5f\"},\"baxis\":{\"endlinecolor\":\"#2a3f5f\",\"gridcolor\":\"white\",\"linecolor\":\"white\",\"minorgridcolor\":\"white\",\"startlinecolor\":\"#2a3f5f\"},\"type\":\"carpet\"}],\"choropleth\":[{\"colorbar\":{\"outlinewidth\":0,\"ticks\":\"\"},\"type\":\"choropleth\"}],\"contour\":[{\"colorbar\":{\"outlinewidth\":0,\"ticks\":\"\"},\"colorscale\":[[0.0,\"#0d0887\"],[0.1111111111111111,\"#46039f\"],[0.2222222222222222,\"#7201a8\"],[0.3333333333333333,\"#9c179e\"],[0.4444444444444444,\"#bd3786\"],[0.5555555555555556,\"#d8576b\"],[0.6666666666666666,\"#ed7953\"],[0.7777777777777778,\"#fb9f3a\"],[0.8888888888888888,\"#fdca26\"],[1.0,\"#f0f921\"]],\"type\":\"contour\"}],\"contourcarpet\":[{\"colorbar\":{\"outlinewidth\":0,\"ticks\":\"\"},\"type\":\"contourcarpet\"}],\"heatmap\":[{\"colorbar\":{\"outlinewidth\":0,\"ticks\":\"\"},\"colorscale\":[[0.0,\"#0d0887\"],[0.1111111111111111,\"#46039f\"],[0.2222222222222222,\"#7201a8\"],[0.3333333333333333,\"#9c179e\"],[0.4444444444444444,\"#bd3786\"],[0.5555555555555556,\"#d8576b\"],[0.6666666666666666,\"#ed7953\"],[0.7777777777777778,\"#fb9f3a\"],[0.8888888888888888,\"#fdca26\"],[1.0,\"#f0f921\"]],\"type\":\"heatmap\"}],\"heatmapgl\":[{\"colorbar\":{\"outlinewidth\":0,\"ticks\":\"\"},\"colorscale\":[[0.0,\"#0d0887\"],[0.1111111111111111,\"#46039f\"],[0.2222222222222222,\"#7201a8\"],[0.3333333333333333,\"#9c179e\"],[0.4444444444444444,\"#bd3786\"],[0.5555555555555556,\"#d8576b\"],[0.6666666666666666,\"#ed7953\"],[0.7777777777777778,\"#fb9f3a\"],[0.8888888888888888,\"#fdca26\"],[1.0,\"#f0f921\"]],\"type\":\"heatmapgl\"}],\"histogram\":[{\"marker\":{\"pattern\":{\"fillmode\":\"overlay\",\"size\":10,\"solidity\":0.2}},\"type\":\"histogram\"}],\"histogram2d\":[{\"colorbar\":{\"outlinewidth\":0,\"ticks\":\"\"},\"colorscale\":[[0.0,\"#0d0887\"],[0.1111111111111111,\"#46039f\"],[0.2222222222222222,\"#7201a8\"],[0.3333333333333333,\"#9c179e\"],[0.4444444444444444,\"#bd3786\"],[0.5555555555555556,\"#d8576b\"],[0.6666666666666666,\"#ed7953\"],[0.7777777777777778,\"#fb9f3a\"],[0.8888888888888888,\"#fdca26\"],[1.0,\"#f0f921\"]],\"type\":\"histogram2d\"}],\"histogram2dcontour\":[{\"colorbar\":{\"outlinewidth\":0,\"ticks\":\"\"},\"colorscale\":[[0.0,\"#0d0887\"],[0.1111111111111111,\"#46039f\"],[0.2222222222222222,\"#7201a8\"],[0.3333333333333333,\"#9c179e\"],[0.4444444444444444,\"#bd3786\"],[0.5555555555555556,\"#d8576b\"],[0.6666666666666666,\"#ed7953\"],[0.7777777777777778,\"#fb9f3a\"],[0.8888888888888888,\"#fdca26\"],[1.0,\"#f0f921\"]],\"type\":\"histogram2dcontour\"}],\"mesh3d\":[{\"colorbar\":{\"outlinewidth\":0,\"ticks\":\"\"},\"type\":\"mesh3d\"}],\"parcoords\":[{\"line\":{\"colorbar\":{\"outlinewidth\":0,\"ticks\":\"\"}},\"type\":\"parcoords\"}],\"pie\":[{\"automargin\":true,\"type\":\"pie\"}],\"scatter\":[{\"marker\":{\"colorbar\":{\"outlinewidth\":0,\"ticks\":\"\"}},\"type\":\"scatter\"}],\"scatter3d\":[{\"line\":{\"colorbar\":{\"outlinewidth\":0,\"ticks\":\"\"}},\"marker\":{\"colorbar\":{\"outlinewidth\":0,\"ticks\":\"\"}},\"type\":\"scatter3d\"}],\"scattercarpet\":[{\"marker\":{\"colorbar\":{\"outlinewidth\":0,\"ticks\":\"\"}},\"type\":\"scattercarpet\"}],\"scattergeo\":[{\"marker\":{\"colorbar\":{\"outlinewidth\":0,\"ticks\":\"\"}},\"type\":\"scattergeo\"}],\"scattergl\":[{\"marker\":{\"colorbar\":{\"outlinewidth\":0,\"ticks\":\"\"}},\"type\":\"scattergl\"}],\"scattermapbox\":[{\"marker\":{\"colorbar\":{\"outlinewidth\":0,\"ticks\":\"\"}},\"type\":\"scattermapbox\"}],\"scatterpolar\":[{\"marker\":{\"colorbar\":{\"outlinewidth\":0,\"ticks\":\"\"}},\"type\":\"scatterpolar\"}],\"scatterpolargl\":[{\"marker\":{\"colorbar\":{\"outlinewidth\":0,\"ticks\":\"\"}},\"type\":\"scatterpolargl\"}],\"scatterternary\":[{\"marker\":{\"colorbar\":{\"outlinewidth\":0,\"ticks\":\"\"}},\"type\":\"scatterternary\"}],\"surface\":[{\"colorbar\":{\"outlinewidth\":0,\"ticks\":\"\"},\"colorscale\":[[0.0,\"#0d0887\"],[0.1111111111111111,\"#46039f\"],[0.2222222222222222,\"#7201a8\"],[0.3333333333333333,\"#9c179e\"],[0.4444444444444444,\"#bd3786\"],[0.5555555555555556,\"#d8576b\"],[0.6666666666666666,\"#ed7953\"],[0.7777777777777778,\"#fb9f3a\"],[0.8888888888888888,\"#fdca26\"],[1.0,\"#f0f921\"]],\"type\":\"surface\"}],\"table\":[{\"cells\":{\"fill\":{\"color\":\"#EBF0F8\"},\"line\":{\"color\":\"white\"}},\"header\":{\"fill\":{\"color\":\"#C8D4E3\"},\"line\":{\"color\":\"white\"}},\"type\":\"table\"}]},\"layout\":{\"annotationdefaults\":{\"arrowcolor\":\"#2a3f5f\",\"arrowhead\":0,\"arrowwidth\":1},\"autotypenumbers\":\"strict\",\"coloraxis\":{\"colorbar\":{\"outlinewidth\":0,\"ticks\":\"\"}},\"colorscale\":{\"diverging\":[[0,\"#8e0152\"],[0.1,\"#c51b7d\"],[0.2,\"#de77ae\"],[0.3,\"#f1b6da\"],[0.4,\"#fde0ef\"],[0.5,\"#f7f7f7\"],[0.6,\"#e6f5d0\"],[0.7,\"#b8e186\"],[0.8,\"#7fbc41\"],[0.9,\"#4d9221\"],[1,\"#276419\"]],\"sequential\":[[0.0,\"#0d0887\"],[0.1111111111111111,\"#46039f\"],[0.2222222222222222,\"#7201a8\"],[0.3333333333333333,\"#9c179e\"],[0.4444444444444444,\"#bd3786\"],[0.5555555555555556,\"#d8576b\"],[0.6666666666666666,\"#ed7953\"],[0.7777777777777778,\"#fb9f3a\"],[0.8888888888888888,\"#fdca26\"],[1.0,\"#f0f921\"]],\"sequentialminus\":[[0.0,\"#0d0887\"],[0.1111111111111111,\"#46039f\"],[0.2222222222222222,\"#7201a8\"],[0.3333333333333333,\"#9c179e\"],[0.4444444444444444,\"#bd3786\"],[0.5555555555555556,\"#d8576b\"],[0.6666666666666666,\"#ed7953\"],[0.7777777777777778,\"#fb9f3a\"],[0.8888888888888888,\"#fdca26\"],[1.0,\"#f0f921\"]]},\"colorway\":[\"#636efa\",\"#EF553B\",\"#00cc96\",\"#ab63fa\",\"#FFA15A\",\"#19d3f3\",\"#FF6692\",\"#B6E880\",\"#FF97FF\",\"#FECB52\"],\"font\":{\"color\":\"#2a3f5f\"},\"geo\":{\"bgcolor\":\"white\",\"lakecolor\":\"white\",\"landcolor\":\"#E5ECF6\",\"showlakes\":true,\"showland\":true,\"subunitcolor\":\"white\"},\"hoverlabel\":{\"align\":\"left\"},\"hovermode\":\"closest\",\"mapbox\":{\"style\":\"light\"},\"paper_bgcolor\":\"white\",\"plot_bgcolor\":\"#E5ECF6\",\"polar\":{\"angularaxis\":{\"gridcolor\":\"white\",\"linecolor\":\"white\",\"ticks\":\"\"},\"bgcolor\":\"#E5ECF6\",\"radialaxis\":{\"gridcolor\":\"white\",\"linecolor\":\"white\",\"ticks\":\"\"}},\"scene\":{\"xaxis\":{\"backgroundcolor\":\"#E5ECF6\",\"gridcolor\":\"white\",\"gridwidth\":2,\"linecolor\":\"white\",\"showbackground\":true,\"ticks\":\"\",\"zerolinecolor\":\"white\"},\"yaxis\":{\"backgroundcolor\":\"#E5ECF6\",\"gridcolor\":\"white\",\"gridwidth\":2,\"linecolor\":\"white\",\"showbackground\":true,\"ticks\":\"\",\"zerolinecolor\":\"white\"},\"zaxis\":{\"backgroundcolor\":\"#E5ECF6\",\"gridcolor\":\"white\",\"gridwidth\":2,\"linecolor\":\"white\",\"showbackground\":true,\"ticks\":\"\",\"zerolinecolor\":\"white\"}},\"shapedefaults\":{\"line\":{\"color\":\"#2a3f5f\"}},\"ternary\":{\"aaxis\":{\"gridcolor\":\"white\",\"linecolor\":\"white\",\"ticks\":\"\"},\"baxis\":{\"gridcolor\":\"white\",\"linecolor\":\"white\",\"ticks\":\"\"},\"bgcolor\":\"#E5ECF6\",\"caxis\":{\"gridcolor\":\"white\",\"linecolor\":\"white\",\"ticks\":\"\"}},\"title\":{\"x\":0.05},\"xaxis\":{\"automargin\":true,\"gridcolor\":\"white\",\"linecolor\":\"white\",\"ticks\":\"\",\"title\":{\"standoff\":15},\"zerolinecolor\":\"white\",\"zerolinewidth\":2},\"yaxis\":{\"automargin\":true,\"gridcolor\":\"white\",\"linecolor\":\"white\",\"ticks\":\"\",\"title\":{\"standoff\":15},\"zerolinecolor\":\"white\",\"zerolinewidth\":2}}},\"xaxis\":{\"anchor\":\"y\",\"domain\":[0.0,1.0],\"title\":{\"text\":\"pc1\"}},\"yaxis\":{\"anchor\":\"x\",\"domain\":[0.0,1.0],\"title\":{\"text\":\"zeroed\"}},\"legend\":{\"tracegroupgap\":0},\"margin\":{\"t\":60}},                        {\"responsive\": true}                    ).then(function(){\n",
              "                            \n",
              "var gd = document.getElementById('26dfdfb2-9eab-443f-b3cd-58f396b24d90');\n",
              "var x = new MutationObserver(function (mutations, observer) {{\n",
              "        var display = window.getComputedStyle(gd).display;\n",
              "        if (!display || display === 'none') {{\n",
              "            console.log([gd, 'removed!']);\n",
              "            Plotly.purge(gd);\n",
              "            observer.disconnect();\n",
              "        }}\n",
              "}});\n",
              "\n",
              "// Listen for the removal of the full notebook cells\n",
              "var notebookContainer = gd.closest('#notebook-container');\n",
              "if (notebookContainer) {{\n",
              "    x.observe(notebookContainer, {childList: true});\n",
              "}}\n",
              "\n",
              "// Listen for the clearing of the current output cell\n",
              "var outputEl = gd.closest('.output');\n",
              "if (outputEl) {{\n",
              "    x.observe(outputEl, {childList: true});\n",
              "}}\n",
              "\n",
              "                        })                };                            </script>        </div>\n",
              "</body>\n",
              "</html>"
            ]
          },
          "metadata": {}
        },
        {
          "output_type": "stream",
          "name": "stdout",
          "text": [
            "89    James Harden\n",
            "Name: PLAYER, dtype: object\n"
          ]
        }
      ]
    },
    {
      "cell_type": "markdown",
      "source": [
        "Once again James Harden's gaudy offensive statistics seem to seperate him from the pack of point guards. However, Stephen Curry's 2016 season is not far behind. The least productive player is Chris Quinn. In order to make our decision we will once again look towards the k-means clustering and multiple dimensions for more context."
      ],
      "metadata": {
        "id": "Pe6-_fhmchQw"
      }
    },
    {
      "cell_type": "code",
      "source": [
        "set(comp_1_players) - set(comp_10_players)"
      ],
      "metadata": {
        "colab": {
          "base_uri": "https://localhost:8080/"
        },
        "outputId": "9da2a782-3b70-4127-802b-69cfc9c9592d",
        "id": "HzQ_t-1tegaG"
      },
      "execution_count": null,
      "outputs": [
        {
          "output_type": "execute_result",
          "data": {
            "text/plain": [
              "{'Chris Paul-2010-NOH',\n",
              " \"De'Aaron Fox-2019-SAC\",\n",
              " 'Derrick Rose-2010-CHI',\n",
              " 'Eric Bledsoe-2014-PHO',\n",
              " 'Eric Bledsoe-2017-PHO',\n",
              " 'Giannis Antetokounmpo-2015-MIL',\n",
              " 'Giannis Antetokounmpo-2016-MIL',\n",
              " 'Jrue Holiday-2012-PHI',\n",
              " 'Jrue Holiday-2017-NOP',\n",
              " 'Kyle Lowry-2014-TOR',\n",
              " 'Kyrie Irving-2012-CLE',\n",
              " 'Rajon Rondo-2010-BOS',\n",
              " 'Rajon Rondo-2015-SAC',\n",
              " 'Rajon Rondo-2016-SAC'}"
            ]
          },
          "metadata": {},
          "execution_count": 371
        }
      ]
    },
    {
      "cell_type": "markdown",
      "source": [
        "clustering with pca 1 considered these players seasons as most productive   even though they are not."
      ],
      "metadata": {
        "id": "qVufwOfnegaG"
      }
    },
    {
      "cell_type": "code",
      "source": [
        "set(comp_10_players) - set(comp_1_players)"
      ],
      "metadata": {
        "colab": {
          "base_uri": "https://localhost:8080/"
        },
        "outputId": "28635296-880f-467c-a5fd-a4aad79e6a51",
        "id": "EN3tpqgNegaG"
      },
      "execution_count": null,
      "outputs": [
        {
          "output_type": "execute_result",
          "data": {
            "text/plain": [
              "{'Mike Conley-2017-MEM'}"
            ]
          },
          "metadata": {},
          "execution_count": 372
        }
      ]
    },
    {
      "cell_type": "markdown",
      "source": [
        "Only one data point were not included in the cluster with only one principal component, when compared to 10 principal components."
      ],
      "metadata": {
        "id": "0aCYzHAgegaG"
      }
    },
    {
      "cell_type": "code",
      "source": [
        "set(comp_3_players) - set(comp_10_players)"
      ],
      "metadata": {
        "colab": {
          "base_uri": "https://localhost:8080/"
        },
        "outputId": "eb18fc16-5140-4908-bde3-c44e97d8ebe5",
        "id": "N3MvMWLnegaG"
      },
      "execution_count": null,
      "outputs": [
        {
          "output_type": "execute_result",
          "data": {
            "text/plain": [
              "{'Chris Paul-2010-NOH'}"
            ]
          },
          "metadata": {},
          "execution_count": 373
        }
      ]
    },
    {
      "cell_type": "code",
      "source": [
        "set(comp_10_players) - set(comp_3_players)"
      ],
      "metadata": {
        "colab": {
          "base_uri": "https://localhost:8080/"
        },
        "outputId": "dedda16c-b690-464e-eef1-634dd1edd99a",
        "id": "9F93q4O2egaG"
      },
      "execution_count": null,
      "outputs": [
        {
          "output_type": "execute_result",
          "data": {
            "text/plain": [
              "set()"
            ]
          },
          "metadata": {},
          "execution_count": 374
        }
      ]
    },
    {
      "cell_type": "markdown",
      "source": [
        "we can see that clustering done with 3 principal components is identical to that of ten principal components, as clustering formed with 3 principal components includes only one player's season as performing well, when it is not. For this position even forming clusters with only PCA can do a very good job at identifying the most productive point gaurds. We are still choosing three principal components to be most productive. So, we can understand that for point guards we have a clear separation of really good players from the rest in general, as we are able to capture everyone perfectly with just three principal components."
      ],
      "metadata": {
        "id": "2-zyHpbnegaG"
      }
    },
    {
      "cell_type": "code",
      "source": [
        "fig = px.scatter_3d(\n",
        "    df_cluster, x= df_cluster[\"pc1\"], y=df_cluster[\"pc2\"], z=df_cluster[\"pc3\"], color=df_cluster['comp_3'],\n",
        "    title=f'k-means Clustering after dimensionality reduction',\n",
        "    hover_name=df_cluster['player-year-tm']\n",
        ")\n",
        "\n",
        "\n",
        "fig.show()"
      ],
      "metadata": {
        "colab": {
          "base_uri": "https://localhost:8080/",
          "height": 542
        },
        "outputId": "13d949c8-7ea9-42b7-aafb-792758b00ed2",
        "id": "wUrfzTgvegaG"
      },
      "execution_count": null,
      "outputs": [
        {
          "output_type": "display_data",
          "data": {
            "text/html": [
              "<html>\n",
              "<head><meta charset=\"utf-8\" /></head>\n",
              "<body>\n",
              "    <div>            <script src=\"https://cdnjs.cloudflare.com/ajax/libs/mathjax/2.7.5/MathJax.js?config=TeX-AMS-MML_SVG\"></script><script type=\"text/javascript\">if (window.MathJax) {MathJax.Hub.Config({SVG: {font: \"STIX-Web\"}});}</script>                <script type=\"text/javascript\">window.PlotlyConfig = {MathJaxConfig: 'local'};</script>\n",
              "        <script src=\"https://cdn.plot.ly/plotly-2.8.3.min.js\"></script>                <div id=\"40f382a3-4140-488f-92ae-724b7fff2065\" class=\"plotly-graph-div\" style=\"height:525px; width:100%;\"></div>            <script type=\"text/javascript\">                                    window.PLOTLYENV=window.PLOTLYENV || {};                                    if (document.getElementById(\"40f382a3-4140-488f-92ae-724b7fff2065\")) {                    Plotly.newPlot(                        \"40f382a3-4140-488f-92ae-724b7fff2065\",                        [{\"hovertemplate\":\"<b>%{hovertext}</b><br><br>comp_3=0<br>pc1=%{x}<br>pc2=%{y}<br>pc3=%{z}<extra></extra>\",\"hovertext\":[\"Ramon Sessions-2013-TOT\",\"Jarrett Jack-2010-TOT\",\"Langston Galloway-2016-NYK\",\"Aaron Brooks-2014-CHI\",\"Norris Cole-2013-MIA\",\"Ramon Sessions-2016-WAS\",\"D.J. Augustin-2014-TOT\",\"Cory Joseph-2019-IND\",\"Monte Morris-2019-DEN\",\"Patty Mills-2019-SAS\",\"Ramon Sessions-2015-WAS\",\"Derek Fisher-2010-LAL\",\"Raymond Felton-2018-OKC\",\"Tyus Jones-2018-MIN\",\"Patty Mills-2018-SAS\",\"Cory Joseph-2018-IND\",\"J.J. Barea-2010-DAL\",\"Patty Mills-2016-SAS\",\"Patty Mills-2015-SAS\",\"Ish Smith-2017-DET\",\"Raul Neto-2016-UTA\",\"Andre Miller-2014-TOT\",\"Ryan Arcidiacono-2019-CHI\",\"Jordan Crawford-2013-TOT\",\"Patty Mills-2013-SAS\",\"Raymond Felton-2016-DAL\",\"Jarrett Jack-2013-CLE\",\"Patty Mills-2017-SAS\",\"Keyon Dooling-2010-MIL\",\"Raymond Felton-2017-LAC\",\"Jerryd Bayless-2012-MEM\",\"Raymond Felton-2015-DAL\",\"Cory Joseph-2017-TOR\",\"Mike Bibby-2010-TOT\",\"Cory Joseph-2014-SAS\",\"Shane Larkin-2016-BRK\",\"Shaun Livingston-2015-GSW\",\"Shane Larkin-2015-BRK\",\"Shaun Livingston-2014-GSW\",\"Shaun Livingston-2016-GSW\",\"Jerryd Bayless-2014-MIL\",\"J.J. Barea-2014-DAL\",\"Shane Larkin-2014-NYK\",\"Devin Harris-2014-DAL\",\"Matthew Dellavedova-2017-MIL\",\"Shaun Livingston-2017-GSW\",\"George Hill-2010-SAS\",\"Matthew Dellavedova-2016-CLE\",\"Matthew Dellavedova-2015-CLE\",\"Norris Cole-2014-TOT\",\"D.J. Augustin-2018-ORL\",\"J.J. Barea-2012-MIN\",\"J.J. Barea-2016-DAL\",\"Jerian Grant-2018-CHI\",\"Shabazz Napier-2018-POR\",\"Jeremy Lin-2019-TOT\",\"J.J. Barea-2015-DAL\",\"Quinn Cook-2019-GSW\",\"Shelvin Mack-2013-ATL\",\"Jalen Brunson-2019-DAL\",\"Jordan Farmar-2010-NJN\",\"Shaun Livingston-2010-CHA\",\"Brian Roberts-2013-NOP\",\"Brian Roberts-2014-CHO\",\"Jerryd Bayless-2013-TOT\",\"Aaron Brooks-2013-TOT\",\"Toney Douglas-2012-TOT\",\"Yogi Ferrell-2019-SAC\",\"Jerryd Bayless-2010-TOT\",\"Shaun Livingston-2018-GSW\",\"Devin Harris-2018-TOT\",\"D.J. Augustin-2013-TOT\",\"Mario Chalmers-2010-MIA\",\"Reggie Jackson-2012-OKC\",\"Ty Lawson-2017-SAC\",\"Shelvin Mack-2018-ORL\",\"Aaron Brooks-2015-CHI\",\"Aaron Brooks-2016-CHI\",\"Tyus Jones-2019-MIN\",\"Devin Harris-2019-DAL\",\"Pablo Prigioni-2014-TOT\",\"Dante Exum-2017-UTA\",\"Mario Chalmers-2018-MEM\",\"Shaun Livingston-2012-TOT\",\"Pablo Prigioni-2013-NYK\",\"Will Bynum-2012-DET\",\"Tim Frazier-2017-NOP\",\"Aaron Brooks-2017-IND\",\"Devin Harris-2017-DAL\",\"Devin Harris-2016-DAL\",\"Carlos Arroyo-2010-TOT\",\"Trey Burke-2016-UTA\",\"Shaun Livingston-2019-GSW\",\"Devin Harris-2015-DAL\",\"Trey Burke-2015-UTA\",\"Jameer Nelson-2014-TOT\",\"Tony Parker-2017-SAS\",\"Jerian Grant-2017-CHI\",\"Devin Harris-2011-UTA\",\"Chris Duhon-2011-ORL\",\"Ronnie Price-2015-PHO\",\"D.J. Augustin-2015-TOT\",\"Ronnie Price-2016-PHO\",\"Jarrett Jack-2018-NYK\",\"Frank Jackson-2019-NOP\",\"Donald Sloan-2016-BRK\",\"Toney Douglas-2016-NOP\",\"Toney Douglas-2015-NOP\",\"Donald Sloan-2015-BRK\",\"Will Bynum-2010-DET\",\"Tyus Jones-2017-MIN\",\"George Hill-2019-TOT\",\"Jerian Grant-2019-ORL\",\"Jamal Crawford-2011-POR\",\"Tim Frazier-2019-TOT\",\"Pablo Prigioni-2015-LAC\",\"Pablo Prigioni-2016-LAC\",\"Spencer Dinwiddie-2017-BRK\",\"Aaron Brooks-2010-TOT\",\"Nate Robinson-2010-TOT\",\"Steve Blake-2015-DET\",\"Patty Mills-2012-SAS\",\"Trey Burke-2019-TOT\",\"Steve Blake-2016-DET\",\"Tyler Johnson-2019-TOT\",\"Cameron Payne-2016-OKC\",\"Trey Burke-2017-WAS\",\"Shabazz Napier-2019-BRK\",\"Will Bynum-2013-DET\",\"Andrew Harrison-2018-MEM\",\"Shelvin Mack-2014-ATL\",\"Steve Blake-2013-TOT\",\"Shelvin Mack-2017-UTA\",\"Tony Parker-2018-SAS\",\"Steve Blake-2011-LAL\",\"Shabazz Napier-2017-POR\",\"Rodrigue Beaubois-2011-DAL\",\"Tyler Ennis-2017-TOT\",\"Marcelo Huertas-2016-LAL\",\"Shelvin Mack-2015-TOT\",\"Nate Robinson-2011-GSW\",\"Brian Roberts-2015-TOT\",\"Patty Mills-2014-SAS\",\"Toney Douglas-2013-TOT\",\"Acie Law-2010-TOT\",\"Avery Bradley-2012-BOS\",\"Aaron Holiday-2019-IND\",\"George Hill-2011-IND\",\"Matthew Dellavedova-2019-TOT\",\"D.J. Augustin-2011-CHA\",\"Isaiah Canaan-2014-TOT\",\"Yogi Ferrell-2017-TOT\",\"Tyler Ennis-2016-MIL\",\"Steve Blake-2012-LAL\",\"Mike James-2012-DAL\",\"Seth Curry-2016-SAC\",\"Nate Robinson-2013-DEN\",\"Dante Exum-2019-UTA\",\"J.J. Barea-2011-MIN\",\"Raul Neto-2018-UTA\"],\"legendgroup\":\"0\",\"marker\":{\"color\":\"#636efa\",\"symbol\":\"circle\"},\"mode\":\"markers\",\"name\":\"0\",\"scene\":\"scene\",\"showlegend\":true,\"x\":[-1.3964787107910688,-1.7123053777317403,-0.8413773469872385,-0.16567769735722973,-1.3452821679789044,-0.9847722721723717,-1.1432739616550818,-0.5455890659767357,0.14008814942164982,-0.20951111769896677,-1.4518893008049276,-1.3203020525849885,-1.9601683553347435,-0.8441582441828479,-0.46254111984559587,-0.5873220628610323,-0.9883065229784647,-0.7025592090371052,-0.9482021891792007,-0.5681628472565116,-1.6491611671592912,-1.5108978800389186,-0.19952020050103897,-1.0158217626007986,-0.06725430423187852,-0.5265053790144787,-0.4474569133802975,-0.03909680946128881,-2.071328158483521,-1.2307068135160222,-0.6195464745013868,-0.6977338870321649,-0.19190111904095813,-0.3394304951377893,-0.8993002352071917,-0.7190951811695429,-0.41573320760338145,-0.793691677939201,-1.2959806467278454,-0.029326512374768292,-0.8522863880512381,-2.3176221687068423,-1.0001289826742616,-0.5221877947233332,-1.2204498748073862,-0.8975372611299807,0.32200030886915015,-0.24375472620587182,-0.6477480769210778,-1.402788060850737,-0.12393488993817582,-0.6765471132595818,-0.7794980516215504,-1.0799360722328284,-0.8827310111402825,-0.5216493272186689,-0.6955621531728494,-1.6489960603907798,-1.448912905007921,-0.7921706928064104,-0.3680910155890699,-1.2823980508824195,-1.4738504984808072,-2.700594982870978,-1.2004843599536383,-0.8304622225240247,-1.6314446235940945,-2.2773597224932733,-0.881765195679382,-1.7339107360330734,-0.96855485748547,-0.43146889361858065,-0.8636822525487409,-2.147386702290214,0.0006375357851441078,-1.3593298733708992,-1.7243921858454492,-2.038578501004667,-1.5988083647655478,-2.208857547815499,-0.6169395089251125,-1.3739634132958565,-0.7721165132513211,-1.2769853722320503,0.16530459394110386,-1.0694816817300572,-0.9370558305281305,-2.746736493070103,-1.7683205111030624,-0.9050014489229714,-2.43862848758816,-1.6105884772739678,-1.8600046123258906,-0.7161256105369431,-1.8553382937130598,-0.7782671824294288,-1.2104842296116771,-1.5953200267452878,-0.021071246011533762,-2.3584536935523563,-1.429712734883655,-1.8148613349596547,-1.1552092645711491,-0.9301155190345941,-2.1058552508840758,-1.4319757182734187,-0.9072736011190226,-1.0357150490087383,-1.5518834974700777,-2.0058592528322845,-2.8139536511490304,-0.352097721244088,-2.4297111380605836,-0.8320133310036368,-0.7182788333289563,-1.826987365130983,-2.146151653694484,-0.47741308914405933,-1.4509333597664351,-1.9428649848899686,-2.153258135905197,-1.5617347905318855,-1.6958738016415453,-2.3461143937522464,-0.008379389786879582,-2.7250756567263137,-3.2366914497622945,-1.4703742091813223,-1.4023065981278602,-0.6909890041850709,-2.8905052416986097,-0.55587483478326,-1.1246889763391121,-2.488738727002999,-2.2070319672577257,-3.1622810855229337,-0.42258953377165304,-2.935242074092481,-1.9976042164558827,-1.1861887529684032,-0.44742461798972055,-3.7465793531429985,-2.038391129385523,-2.702342223474725,-2.8448436219208406,-0.33946359798831144,-2.3376886331180513,0.2558349022107515,-2.124869219011051,-0.8560521318827448,-1.8898888968766214,-0.7400156795853491,-2.810293759367762,-0.7223552659642214,-1.609122530200566,-1.9028519116717781,-0.8938640841009445,-2.3191368866646704,-0.5479870006016525,-2.401347889092833],\"y\":[0.9528813860260278,-0.2720370028942866,1.0532520678712696,-0.5688683445441521,-0.08369573180866641,-0.8713747314031149,-0.9957235820198416,1.1306813194124457,-2.773311160208654,-2.708832046366315,-0.19895000441708674,-0.2538591171740684,-0.538429351253888,-2.4978974521438815,-2.277204715040515,0.4277120156701076,-0.9483182473847241,-2.349829280860726,-1.9877915430807613,1.7518318582033634,-1.3987120252319665,-0.36328851968862047,-2.2634303524970516,-0.37974080007797484,-3.343179228137689,0.760063206162147,0.11520615042396262,-3.2208359943585956,-0.8068059876804897,0.4682429746610307,-0.4198984770807222,0.9982228657210743,0.049079495802749805,-1.6777900039398261,-0.9536219398871981,0.4655956207389671,-0.10840572091735806,0.5714972828419961,1.813462464632905,-0.6494219881529573,0.2744757327245936,-0.2869522847778143,0.3584579040418664,-1.4677837848372162,-0.268505751073914,-1.4612535320031632,-1.5681052383107565,-1.339782955252502,-0.8050227629880894,0.3777462395401669,-2.9103414930942715,-0.09840376456161597,-1.3969343232104263,0.2856265203169703,-1.2085112633368646,-0.5496136880628206,-1.4457786994738362,-2.553251404446384,-0.8886609645499006,-1.1603503417147798,-0.48251706853542464,0.24802148917130276,-0.8110159379695093,-0.9803274672338977,-0.1966936921193868,-0.4122196755414376,-0.3752991110719107,-2.33841652869486,-0.2067132310413398,0.951442782470113,-1.6357574746799959,-1.556168238686941,-1.3237379592686638,-0.1934272453011366,0.2855089716986241,-0.08588346016369604,-0.7082382681946476,-0.2717978046650565,-0.07285494038314977,-0.3255653057904201,-2.768522767498038,-0.5848344383748476,0.7638965085117337,2.2131548975018642,-4.047744434462795,0.09535416658806506,0.926672020825873,-0.8944803638144286,-1.4035179967254647,-0.9574610622227966,-1.9734862892679044,-0.9729941245028646,0.9522818332748786,-1.1833725081045339,-0.6014114416785682,0.27439158187107,-0.6197278813525526,-2.0642741325880496,-0.6447143729071212,-1.3653864315835673,0.16540634833485335,-1.7117658008163708,-0.25692599351905865,0.5767341051602819,-0.7147834761430366,-0.6302283611039371,-1.054868937273774,-0.7602375933155128,-0.43677467002980547,-0.06902289997463211,-1.1859944656649877,-1.499114567460924,-0.49061816280967974,-0.24939670535150596,-0.6767773501523526,-0.9748845679684831,-0.47942380692314956,-0.5614144341650876,-0.3630408315833183,-1.197806253429524,-1.2742290774146179,-4.337043375374033,-0.9183733105324702,-1.0481052471065126,0.24992113647153802,-0.643765577480387,-1.8346070579796228,-0.7723886332131659,0.6151506166427724,0.5987954016747458,-0.9393557888800679,-0.454514618089536,-0.20802979649255288,0.14493225414039798,-0.6999804818391074,-1.6034090426362364,0.7988123520278351,-1.9355052095352256,-0.32461283294739157,-0.2124655005933666,-0.8802297104552012,-2.0121892034539273,-1.9465634198416562,-0.7016267413775595,-0.34055973260916456,0.8858148447695278,-1.3780176496143568,-1.1202214620397857,-1.3465968615275299,0.2542819706993619,-1.1097956018752058,-0.5792670111050835,-0.49002357443928657,-1.2767465843383772,-1.507047840671062,-3.5023874391933756,-1.4239212055214323,-0.2240949013704925,-0.3382617738776046,-2.4210123107287114],\"z\":[0.3583980022419439,0.21088044768320346,-0.23994591639489124,-0.8062778550103482,-0.47144318563896237,1.2510809487907895,-0.4456666673926587,0.37188475060044934,0.9396636060653952,-0.005550250058290846,0.8254037286252774,-1.477266652157683,-0.029031279391788237,1.3368571373758233,-0.057901634472912154,0.12126750206270984,0.026125508541821767,0.19003359179438614,-0.039813482474410154,1.1133818587280513,-0.3089427279961435,2.8505513128308215,0.7950118592523123,0.012047315325235314,0.4618133224432382,0.46412478757836717,-0.10244414334002606,-0.15869807337842023,-0.5545308648833556,0.7894945084701825,-0.06442822476988691,0.3140100210184634,0.557177132579638,-1.1660518140344236,1.8299983930354058,-0.43898463551729194,3.821142538217955,-0.5059095276693539,4.5441318400036455,4.162440312887209,0.15384785441877677,0.02932543769074033,0.5878100605908863,0.30349979643112746,-1.6078562010582538,2.878408353660185,0.7976426120086765,-1.253805729428257,-1.5886720096775206,0.35144466692019616,-0.26993227352608945,-0.569501178388702,-0.15433695175114961,0.06865414114887744,-0.022288896762078722,1.3086480328989325,-0.12905005347957516,0.8283003746792597,-0.08156795262112151,1.0949592973097972,-1.172917461907303,2.094766439916309,-0.6196181397795658,0.03168154994060923,-0.588091277408657,-1.0580293122392679,-1.3658497589829788,0.6702338317774225,-0.03979961373344355,4.900406015533401,0.5890185267760959,-1.6510360830031021,-0.3858752370549041,2.6555914587891443,0.9772883754525662,0.23188416757755503,-0.0738446543262868,-0.348892928884005,-0.08940663233754798,0.8651522049509587,1.7089456564361847,1.7956532816992241,0.06037087904186026,4.207289890998078,-0.28270168206409946,0.5482567598502422,-0.23205504004701774,-0.32074541454432004,0.6954696073958141,1.6457996616858779,-0.6383049628040204,-0.00484290192029452,5.633310188738265,1.7852137953068474,-0.2415800763738215,-0.19734680729901508,0.6145207137400265,0.5948359430546977,0.05557342962085994,-1.002259496498359,-0.27513063686759703,-0.8151314011759174,-0.005646711626724229,0.028593982426539766,1.2569340201559576,-0.2600607690858403,-1.0819388126626248,-1.2770435000924794,-0.38415767205049306,0.13959975601165364,0.2747733180916212,2.1975408862336185,0.3471081359203641,-0.26762007661552667,0.6539972175399053,1.4883236394244441,1.1718541572620247,0.9082806713682453,-0.3596804084683739,0.5523373802801447,0.06352716574357813,1.9097022185690562,0.40797331363828593,-0.07558957510528738,0.7804981377525747,0.4617016048351592,-0.3199925015992397,0.33126567351499353,-0.05246632789497096,0.7925390624999051,0.3839106680728036,-1.6358916833654613,1.0950151542946274,1.0128604360546032,-0.46632112762333733,-0.07219345824538925,1.3660495582663705,0.06839857303761922,1.0235835286064396,0.5729271118021507,-0.7156763389921081,0.6809411232897504,0.3936358834779346,1.294887426355518,2.789815283090663,0.66874876343228,0.7986553340843735,1.3506401088699922,0.21453905313409669,-1.682511235546085,-1.1121001970551174,-0.9584677783985255,0.6388374800298594,-1.143056116755341,-1.0674574480092007,-0.05407240841269966,-0.050241338569116084,1.0244182837297864,-1.3662456965382233,0.8507352175618041],\"type\":\"scatter3d\"},{\"hovertemplate\":\"<b>%{hovertext}</b><br><br>comp_3=3<br>pc1=%{x}<br>pc2=%{y}<br>pc3=%{z}<extra></extra>\",\"hovertext\":[\"Ricky Rubio-2013-MIN\",\"Elfrid Payton-2017-ORL\",\"Jrue Holiday-2010-PHI\",\"Andre Miller-2010-POR\",\"Derrick Rose-2010-CHI\",\"Dejounte Murray-2018-SAS\",\"Eric Bledsoe-2014-PHO\",\"De'Aaron Fox-2019-SAC\",\"Giannis Antetokounmpo-2016-MIL\",\"Brandon Jennings-2013-DET\",\"Giannis Antetokounmpo-2015-MIL\",\"Jrue Holiday-2012-PHI\",\"Ish Smith-2015-TOT\",\"Eric Bledsoe-2012-LAC\",\"Shaun Livingston-2013-BRK\",\"Ricky Rubio-2015-MIN\",\"Ricky Rubio-2016-MIN\",\"Ricky Rubio-2017-MIN\",\"De'Aaron Fox-2018-SAC\",\"Elfrid Payton-2015-ORL\",\"Elfrid Payton-2016-ORL\",\"Rajon Rondo-2015-SAC\",\"Rajon Rondo-2016-SAC\",\"Rajon Rondo-2017-CHI\",\"Rajon Rondo-2010-BOS\",\"Emmanuel Mudiay-2016-DEN\",\"Jrue Holiday-2017-NOP\",\"Eric Bledsoe-2017-PHO\",\"Derrick Rose-2016-CHI\",\"Michael Carter-Williams-2014-TOT\",\"Raymond Felton-2013-NYK\",\"Derrick Rose-2017-NYK\",\"Brandon Jennings-2010-MIL\",\"Elfrid Payton-2018-TOT\",\"Marcus Smart-2016-BOS\",\"Marcus Smart-2015-BOS\",\"Baron Davis-2010-TOT\",\"Ricky Rubio-2012-MIN\",\"Michael Carter-Williams-2016-MIL\",\"Michael Carter-Williams-2015-MIL\",\"Rajon Rondo-2011-BOS\",\"Kris Dunn-2018-CHI\",\"Lonzo Ball-2018-LAL\",\"Lonzo Ball-2019-LAL\",\"Kris Dunn-2019-CHI\"],\"legendgroup\":\"3\",\"marker\":{\"color\":\"#EF553B\",\"symbol\":\"circle\"},\"mode\":\"markers\",\"name\":\"3\",\"scene\":\"scene\",\"showlegend\":true,\"x\":[1.9514041907933821,2.451158230525204,2.6844646312624976,1.9791521312111415,3.921508799632863,1.1851608622289365,4.16966621023678,3.3202704601506383,5.877380745633903,1.0373707215640826,5.938977755195484,3.830223863006435,0.43912107692896496,0.7622230655371153,0.33219442616685607,1.569927467901368,1.9315584826608505,2.4113833719294138,-0.34517276210553377,0.8857435912049069,1.0349365847442231,4.147398988735622,4.314933492177796,1.1969442612106556,3.5376475459275567,0.22725551790550066,3.185273828547677,3.589897024646173,0.308116096324937,2.528131533035302,0.8235956487871804,1.1039691543848527,1.2614351676839144,2.236272827622602,0.3885028328438911,0.5265870568213982,1.4064147985370972,1.2426000472383707,2.4138554076461216,2.2695966721525798,3.0101563948917613,2.2551250568860857,2.83479124298787,1.7236028145925093,1.2835135385325056],\"y\":[3.1426844418874955,2.634948792113292,1.4330272457285713,2.6641276147133834,1.7946417094601501,3.1728310013124883,1.6847423293663937,1.5320539424361825,4.494097186193483,1.7816921574251348,4.441648451752929,2.5921702737275596,3.0045539910146997,1.819839560713481,1.992834670900037,2.5866017992263943,2.0373148935046683,1.7021406463660549,2.3479370578259577,3.351176421822784,3.1393730976167262,3.571994078189595,3.2836703610413367,3.114362052028355,3.644289141305515,3.75362610344427,1.5126730922820113,1.4348407716836948,1.881802845266188,5.0429272303721895,1.9570780529636684,1.700634284089614,1.758173068903715,2.201645165169332,3.0403829286606214,2.832769564071994,1.5538099788836224,3.4295639227455768,4.013505886690427,4.240633910220452,3.743533780700547,2.939933088825008,5.678644557473813,3.2410190253284865,2.1418483632109444],\"z\":[-2.279403434612631,1.8571732675208157,-0.3548755578941791,2.3212713066881894,0.5048494044411159,1.6337535008302255,0.8554830844025946,0.05468046365343888,4.437189411061378,-2.1247006899302137,4.467557019671891,-0.7699530349656127,-0.9337199913110241,0.6576921937318306,2.777227552689382,-2.435401595461502,-2.0854293639748924,-0.9514649547705664,-0.42869222531010703,-0.09287167054288983,0.04097811376123388,-1.5367403652117844,-1.3505269208750714,-1.4032762502489553,0.8098478184281752,-1.3896623815670393,0.5576121037171535,-0.005332668795763437,0.1719392114499153,-0.1550748851653442,0.08689602216270688,2.1309350639482973,-0.8122169586307412,1.123881723419061,0.41108356211071256,0.543204563065362,-0.3363437198047998,-2.130108913687941,1.5021906910198661,1.3568842752399635,0.029683670665577335,-0.39883684912687184,-0.049336887819044176,0.5238820433124636,-0.7510841405344034],\"type\":\"scatter3d\"},{\"hovertemplate\":\"<b>%{hovertext}</b><br><br>comp_3=1<br>pc1=%{x}<br>pc2=%{y}<br>pc3=%{z}<extra></extra>\",\"hovertext\":[\"Damian Lillard-2014-POR\",\"Chris Paul-2014-LAC\",\"James Harden-2017-HOU\",\"Damian Lillard-2019-POR\",\"Stephen Curry-2014-GSW\",\"Chris Paul-2010-NOH\",\"Stephen Curry-2016-GSW\",\"Stephen Curry-2015-GSW\",\"Stephen Curry-2017-GSW\",\"Kyle Lowry-2013-TOR\",\"James Harden-2019-HOU\",\"Kyle Lowry-2018-TOR\",\"Stephen Curry-2012-GSW\",\"Eric Bledsoe-2019-MIL\",\"Stephen Curry-2013-GSW\",\"Kyle Lowry-2015-TOR\",\"Kyle Lowry-2016-TOR\",\"Damian Lillard-2015-POR\",\"Damian Lillard-2017-POR\",\"Damian Lillard-2016-POR\",\"Stephen Curry-2010-GSW\",\"Chris Paul-2016-LAC\",\"Eric Bledsoe-2018-TOT\",\"Chris Paul-2015-LAC\",\"Damian Lillard-2018-POR\",\"Kyrie Irving-2017-CLE\",\"Chris Paul-2012-LAC\",\"Mike Conley-2017-MEM\",\"Stephen Curry-2019-GSW\",\"Kyrie Irving-2019-BOS\",\"Kyle Lowry-2019-TOR\",\"Chris Paul-2013-LAC\",\"Chris Paul-2017-LAC\",\"Chris Paul-2011-LAC\",\"Kyle Lowry-2017-TOR\",\"Kyrie Irving-2018-BOS\",\"Chris Paul-2018-HOU\",\"Stephen Curry-2018-GSW\"],\"legendgroup\":\"1\",\"marker\":{\"color\":\"#00cc96\",\"symbol\":\"circle\"},\"mode\":\"markers\",\"name\":\"1\",\"scene\":\"scene\",\"showlegend\":true,\"x\":[3.4436230080467904,5.034610050798825,8.591086961946164,4.438369228008109,5.695040177257236,3.5544837810896857,7.683227129129214,7.517644018215055,5.970775015888986,3.957303397216344,8.713638072921421,4.007988426805435,4.621958038732878,3.991882785797784,5.343446473393942,4.360431510061144,4.632740888318636,3.549710377367185,3.648091557186382,3.433236943695801,4.042761382365496,4.580454296469131,4.167494108898944,4.716283753509873,4.082213345508983,3.756400991812139,4.1029598705598636,2.9319625934863622,5.98179068819694,5.527897947790184,4.061122265351824,4.457408040689084,4.851721264346862,3.834554829738904,4.930802064856043,3.7172388694913883,4.650054033712246,5.966783149193322],\"y\":[-0.46949914112184016,-1.1081580257790387,1.2877809938010127,-0.8686357433480584,-2.7464320023395135,-0.04864297730224154,-4.14976582091906,-3.9047129331098427,-2.937604943117869,0.6308472363253582,0.17119796842341853,-1.3667511768388276,-1.7974559717415952,-0.3564010401268138,-1.5726109791483573,0.6108326344036045,0.20780256706472278,-0.3587067117255969,-0.8943542700808993,-0.21939465343185888,-1.0697980612660798,-0.5789702287233283,0.20364958787268045,-0.7732734575029292,-1.0260863684028114,-1.4044367626162657,-0.37658328045864714,-1.8167674905309463,-3.683026068401897,-0.6924256586157904,-0.17994296809290777,-0.3038545985490458,-1.8927001302314486,-0.48104025953656876,-1.6764131493390941,-2.5154262655724042,-1.8941402972240737,-4.301281435017323],\"z\":[-0.036254600860182305,-0.35834499515605905,-0.5809847677201315,0.12106464736022973,-1.0150692215023174,-1.2257875412826573,-0.565669398382636,-0.7213234810462181,-0.4010112658902108,-1.2123600529737046,-0.5930820012722943,-0.7753954496869729,-2.179838674054638,2.3585268236439805,-1.584102804937006,-1.2339068292156374,-0.9779057115721219,-1.1400664952951816,-0.3310049435411181,-1.2260385443614459,-0.9567859721023715,-0.6448111350859648,1.2959983586370647,-0.5219038032097287,0.05969003799633242,0.09760197002246283,0.4850180967221199,-0.3716759558400647,-0.5805170077645608,0.6883402719983742,0.15851717789167172,-0.718140752077998,-0.415130112418637,-0.4064282270536272,-0.24350605239919246,0.5472140310769205,0.1965551010508185,0.47446422300653085],\"type\":\"scatter3d\"},{\"hovertemplate\":\"<b>%{hovertext}</b><br><br>comp_3=4<br>pc1=%{x}<br>pc2=%{y}<br>pc3=%{z}<extra></extra>\",\"hovertext\":[\"Damian Lillard-2013-POR\",\"Shai Gilgeous-Alexander-2019-LAC\",\"Reggie Jackson-2019-DET\",\"Jeremy Lin-2012-HOU\",\"Andre Miller-2012-DEN\",\"Nate Robinson-2012-CHI\",\"D.J. Augustin-2010-CHA\",\"Jamal Murray-2018-DEN\",\"D.J. Augustin-2019-ORL\",\"Darren Collison-2012-DAL\",\"Mike Conley-2010-MEM\",\"D'Angelo Russell-2016-LAL\",\"Reggie Jackson-2013-OKC\",\"Darren Collison-2013-LAC\",\"Mike Conley-2012-MEM\",\"Ty Lawson-2010-DEN\",\"Brandon Jennings-2012-MIL\",\"Jeff Teague-2012-ATL\",\"Mario Chalmers-2014-MIA\",\"Jarrett Jack-2014-BRK\",\"Spencer Dinwiddie-2018-BRK\",\"Darren Collison-2010-IND\",\"Reggie Jackson-2016-DET\",\"Reggie Jackson-2015-DET\",\"Patrick Beverley-2019-LAC\",\"Tony Parker-2010-SAS\",\"Mario Chalmers-2012-MIA\",\"Reggie Jackson-2014-TOT\",\"George Hill-2013-IND\",\"Jameer Nelson-2010-ORL\",\"George Hill-2012-IND\",\"Darren Collison-2019-IND\",\"Kyle Lowry-2010-HOU\",\"Raymond Felton-2010-TOT\",\"Ty Lawson-2014-DEN\",\"Kyrie Irving-2014-CLE\",\"Jamal Murray-2019-DEN\",\"Jameer Nelson-2017-DEN\",\"Brandon Knight-2012-DET\",\"Jeremy Lin-2014-LAL\",\"Darren Collison-2016-SAC\",\"George Hill-2016-IND\",\"George Hill-2015-IND\",\"Darren Collison-2015-SAC\",\"Tyler Johnson-2017-MIA\",\"Mario Chalmers-2013-MIA\",\"Kirk Hinrich-2013-CHI\",\"Mike Conley-2013-MEM\",\"Ty Lawson-2012-DEN\",\"Brandon Knight-2013-MIL\",\"Tony Parker-2016-SAS\",\"Chauncey Billups-2010-TOT\",\"Kirk Hinrich-2010-TOT\",\"Tony Parker-2015-SAS\",\"Tyler Johnson-2018-MIA\",\"Devin Harris-2010-TOT\",\"Patrick Beverley-2015-HOU\",\"Patrick Beverley-2016-HOU\",\"Luke Ridnour-2010-MIN\",\"Jeremy Lin-2013-HOU\",\"Kyrie Irving-2013-CLE\",\"Kyle Lowry-2014-TOR\",\"Mike Conley-2019-MEM\",\"Seth Curry-2017-DAL\",\"Gilbert Arenas-2010-TOT\",\"Mike Conley-2014-MEM\",\"Darren Collison-2018-IND\",\"J.J. Barea-2018-DAL\",\"Jameer Nelson-2013-ORL\",\"Spencer Dinwiddie-2019-BRK\",\"Tony Parker-2014-SAS\",\"Tony Parker-2013-SAS\",\"Darren Collison-2017-SAC\",\"Kyle Lowry-2012-TOR\",\"Raymond Felton-2012-NYK\",\"George Hill-2018-TOT\",\"Derrick Rose-2015-CHI\",\"Brandon Jennings-2011-MIL\",\"Tony Parker-2012-SAS\",\"Jeff Teague-2011-ATL\",\"Jrue Holiday-2011-PHI\",\"Jrue Holiday-2016-NOP\",\"Jrue Holiday-2015-NOP\",\"Ramon Sessions-2011-TOT\",\"Mario Chalmers-2011-MIA\",\"Brandon Knight-2014-TOT\",\"D'Angelo Russell-2017-LAL\",\"Mike Conley-2011-MEM\",\"Ty Lawson-2013-DEN\",\"Ty Lawson-2011-DEN\",\"Mario Chalmers-2015-TOT\",\"Raymond Felton-2011-POR\",\"Darren Collison-2011-IND\",\"Kirk Hinrich-2012-CHI\",\"Tony Parker-2011-SAS\",\"Emmanuel Mudiay-2019-NYK\",\"Kyrie Irving-2012-CLE\",\"Jameer Nelson-2011-ORL\",\"Mike Conley-2016-MEM\",\"Jameer Nelson-2012-ORL\",\"Mike Conley-2015-MEM\",\"Patrick Beverley-2014-HOU\",\"Patrick Beverley-2013-HOU\",\"Kyrie Irving-2016-CLE\",\"Kyrie Irving-2015-CLE\",\"Tyreke Evans-2018-MEM\",\"Reggie Jackson-2017-DET\",\"George Hill-2017-UTA\",\"Malcolm Brogdon-2018-MIL\",\"Kyle Lowry-2011-HOU\",\"Jarrett Jack-2011-NOH\",\"Reggie Jackson-2018-DET\",\"Darren Collison-2014-SAC\",\"George Hill-2014-IND\",\"Eric Bledsoe-2013-PHO\",\"Brandon Jennings-2014-DET\"],\"legendgroup\":\"4\",\"marker\":{\"color\":\"#ab63fa\",\"symbol\":\"circle\"},\"mode\":\"markers\",\"name\":\"4\",\"scene\":\"scene\",\"showlegend\":true,\"x\":[2.120215057781255,1.2965951274153311,0.9964217476348106,2.5064661756874873,0.8038665865526221,0.7288972044466147,0.36493066285478293,2.6493879866432626,0.9447243349546078,0.8569331765732383,1.7316719625479369,0.3192641575196793,1.2893267962881934,0.7125153258953947,2.477622733135353,1.4430307805179012,1.7256377169816046,2.3795547149259795,0.9866299981587763,0.030530135847043387,0.8267689025433127,0.7176001637150053,2.109950300569027,2.0001367774676746,2.0471819573680614,2.0961883417966267,1.0059829941043128,1.8198455928803008,1.2214175482657883,1.9124618239769855,1.6681076337352385,1.4164307814343209,2.8751647081727376,2.6060514243110586,1.60794639160051,2.714130215290557,2.5201008082565073,0.5925443369672014,0.4335138197617846,1.0347157513292256,0.9451456059557407,1.3181389490327107,1.5475738364452138,0.9579800280418076,1.4318933960857811,2.352309595034619,0.08529393961363116,2.131026553015181,1.9945953762259905,1.380563685442397,0.5519142739777685,1.5556144120761202,0.29141499019617945,0.33560022353683955,0.7150015253731171,0.3309767422758398,1.7233486124147577,1.9210008190208419,1.5688397171903223,1.2184153694555293,2.75959284576477,3.2612250526732183,2.3362124293185884,1.0080947493026615,0.04194604549356984,1.5870709972671238,1.7392629446024226,0.23057600351748136,0.6788252411547423,1.2663162244236297,0.33774469578824523,0.9744145907891947,0.500724972058474,2.5572837290827195,1.2588495143154421,0.4915304469475308,0.5990873184172735,1.8735672413412046,2.142532902154615,1.3382687305551564,1.513235074724542,1.9097183047228377,1.9893097344200197,-0.34849677966413706,1.3946639326654238,1.6078296558102625,1.250336897072766,1.4950090430823821,2.5337788224759707,2.7628695426834735,0.01787618287583112,0.761119306649179,-0.05909091573266101,-0.19542259472744575,1.3069097027615844,0.49038812617614863,3.207643038257128,0.964435208529411,0.7328150899266945,1.9924759522793238,0.9276834151835092,1.6678667799595122,1.7490968492651684,2.1232628747551643,2.3516225738194154,2.772917618382751,-0.23288581359861568,2.017518053244056,1.1187816591883644,2.65020606398693,0.993171042667272,0.1676138086722162,2.2025659864967557,2.262814838149004,3.031920329298614,0.07899276515078243],\"y\":[-0.6988653960871561,0.3178148921206086,-1.0738909698225474,0.532332712827435,0.5564090860108888,-0.911663285966727,-0.42809529791386114,-1.037831795966728,-3.074844927572073,-0.712130491241064,0.8409999435005674,1.1198029098423465,-0.4043435574746537,-1.083151552124984,0.28639310211806446,-1.8321932897641093,0.7724203470823154,-0.19251716058749527,0.3947406539640379,0.8815792246430504,0.5082574879267331,0.22124150150039493,0.19304807972142338,0.3607825887217875,0.49238375626854647,-0.5447384375072443,-2.0310397943324903,0.705100095796059,-0.8723090151175509,-0.9826221562860769,-0.7018425141712816,-1.2766252475545785,0.8475669335184594,0.7536883623205184,1.013753659663387,-0.5137075250617277,-0.03333155528063621,-1.0148369745501296,0.9564380434693672,0.31425916324596415,-2.124051769325592,-0.6539954737771109,-0.9648072318359083,-2.1151439775603627,0.8784468366436583,-0.9058847028091993,0.989016489032719,-0.4972384715520968,-0.29993685107930895,0.9767019943925495,-1.272168230945692,-1.897647882066738,-0.49488459109177996,-1.002825123137363,-0.7873868114658535,1.0857845537939388,0.3382707281620708,0.03515018422021503,-1.4813145109173194,-0.2487833568810779,0.8492089309554531,0.7741916896930379,-0.5360561851071057,-3.1780607352823247,1.528937595586598,-0.778518624096016,-2.7929666062254213,-1.4636684914834794,0.04715564172858491,-0.9813842909710698,-1.5704732660395073,-1.4964322749725703,-1.6758035922791101,1.1462445285603804,0.6911028010620281,-1.172332070297715,1.512550214060833,1.1266719962353267,-1.150069738388194,0.6755303692008168,0.9538074704688217,0.46237269031962386,0.37778786624656413,0.2007501578746721,-1.702839289619883,0.1318945409961002,0.8491208400311281,0.030259228017137436,0.7754984340868892,-0.9849643069754633,0.7127401964472218,0.8731142128811329,0.2657553042892706,1.142885165727684,0.4326897032900715,0.7391429029000072,0.31571648213926845,-0.8184313370708882,-0.035297255747791544,0.08610071161125192,-0.2986997766889347,0.6686462189298498,-0.027634955798760987,-0.15746651500561198,-0.49579963422674944,-0.15922936936385243,0.08317145014903841,-2.2350352001971046,-1.8355836447781082,0.419196963398119,0.36701212410727807,0.1551257831188971,-0.7820183713439275,-1.0808553680290673,0.6011811434687647,0.18517910868157175],\"z\":[-1.3218005551410985,1.4067836104448754,-0.5736096640059722,0.0870436018428845,1.3307135684509885,-1.067812308037368,-0.5987987081120847,0.7380457112646963,0.21792253952587132,0.17324285688355065,-0.6912638021045445,-0.9392613849033703,0.1395788992659874,0.5827618910305362,-0.4509032829569491,1.119910005061384,-2.0678220779772687,-0.2405635296936195,0.1594639692245033,0.32180640460818266,-0.4480504229799119,0.23500506993222203,-0.5114594574096606,-0.618399199802221,0.12085138686476728,0.7639213318151177,-0.5352364041405955,0.4075742378935635,1.0583204141811262,-0.9308540031323235,0.5748834570786703,-0.24711992459371365,-0.28938284459439323,-1.1747151908132452,-0.6910134658341556,-0.6825557022612522,0.19237566356802396,-0.14054851669328092,-1.209574948330003,-0.05927608026652824,0.29064004736498333,-0.11449327025996821,0.08074209009253938,0.28285776886394026,0.7012982706382258,0.3654428978962844,-0.5958170910164128,-0.003404749018883917,-0.1534865367728665,-0.20630040989950568,0.4338546743550022,-0.9882293192405394,-0.5634890826867718,0.26663832050615666,0.9937481859703211,-1.180361742563149,0.1705913639233189,0.36393672793371606,-0.7320774538291746,0.5179441425296016,-0.6519092766412294,-0.6781923384271218,-0.15966428382047068,0.39208844782319846,-0.7125874958569538,-0.5384220352892102,0.04219446363071452,-0.25964225822773435,-1.5974978763868435,0.8391526243575189,-0.09342390456763136,1.0348941879662776,-0.14445787898242882,-0.7428059393309149,-0.5809064794475965,0.7323333194592333,0.40181131893187905,-0.37796684417459103,0.97654107489871,1.0678700187820613,-0.347649631106842,-0.0764305094223641,-0.025231387265023865,-1.713691688698441,0.08906939643618528,-1.8296029162512382,-1.2430763395647315,-1.108663974370985,-1.0006607915081993,0.810092012630262,-0.02529343878155331,-0.4931612561099838,-0.05100289059309199,-1.6307793300938538,1.4780327483849407,0.5878609887696367,-0.7553745208567839,-0.5941516448375271,-0.4135822242778193,-1.6532813565534918,-0.24817526027476627,0.1344791664276206,1.0148554139066386,1.044996990950704,1.259929867044773,-0.12261981789454307,-1.0727888887990544,0.7622119553851662,1.1719633000391412,-1.0437014444910508,-0.09257284743253501,0.23060235656465206,0.5560757867834859,1.4587236683474667,0.40713321913771533,-1.6192545454606346],\"type\":\"scatter3d\"},{\"hovertemplate\":\"<b>%{hovertext}</b><br><br>comp_3=2<br>pc1=%{x}<br>pc2=%{y}<br>pc3=%{z}<extra></extra>\",\"hovertext\":[\"Langston Galloway-2015-NYK\",\"Eric Maynor-2010-OKC\",\"Brandon Jennings-2017-TOT\",\"Steve Blake-2014-POR\",\"Norris Cole-2012-MIA\",\"Steve Blake-2010-LAL\",\"J.J. Barea-2013-MIN\",\"Frank Ntilikina-2018-NYK\",\"D.J. Augustin-2017-ORL\",\"Kris Dunn-2017-MIN\",\"Jerian Grant-2016-NYK\",\"Trey Burke-2014-UTA\",\"Austin Rivers-2014-TOT\",\"D.J. Augustin-2012-IND\",\"Terry Rozier-2017-BOS\",\"Langston Galloway-2017-TOT\",\"Malcolm Delaney-2017-ATL\",\"Andrew Harrison-2017-MEM\",\"Diante Garrett-2013-UTA\",\"Austin Rivers-2013-NOP\",\"Ray McCallum-2014-SAC\",\"Ty Lawson-2015-TOT\",\"Eric Maynor-2012-TOT\",\"Avery Bradley-2011-BOS\",\"Patty Mills-2010-POR\",\"Emmanuel Mudiay-2018-TOT\",\"Semaj Christon-2017-OKC\",\"John Lucas III-2012-TOR\",\"Derek Fisher-2011-TOT\",\"Luke Ridnour-2013-TOT\",\"Sebastian Telfair-2011-PHO\",\"Charles Jenkins-2012-TOT\",\"Sebastian Telfair-2012-TOT\",\"Tim Frazier-2018-WAS\",\"Shelvin Mack-2019-TOT\",\"Archie Goodwin-2016-PHO\",\"Archie Goodwin-2015-PHO\",\"Earl Boykins-2010-MIL\",\"Shabazz Napier-2016-ORL\",\"Emmanuel Mudiay-2017-DEN\",\"Shabazz Napier-2015-ORL\",\"Tyler Ennis-2018-LAL\",\"Shane Larkin-2018-BOS\",\"Malcolm Delaney-2018-ATL\",\"Kendall Marshall-2013-LAL\",\"Jonny Flynn-2010-MIN\",\"Frank Mason III-2018-SAC\",\"Michael Carter-Williams-2018-CHO\",\"Ish Smith-2012-TOT\",\"Tim Frazier-2015-TOT\",\"Chris Duhon-2010-ORL\",\"Jameer Nelson-2018-TOT\",\"Jimmer Fredette-2014-NOP\",\"Phil Pressey-2014-BOS\",\"Ramon Sessions-2017-CHO\",\"De'Anthony Melton-2019-PHO\",\"John Lucas III-2011-CHI\",\"Jawun Evans-2018-LAC\",\"Brandon Jennings-2015-TOT\",\"Darius Morris-2012-LAL\",\"Luke Ridnour-2014-ORL\",\"Devonte' Graham-2019-CHO\",\"Tyler Ennis-2015-MIL\",\"Kirk Hinrich-2015-TOT\",\"Chris Duhon-2012-LAL\",\"Daniel Gibson-2012-CLE\",\"Rodrigue Beaubois-2012-DAL\",\"Norris Cole-2016-NOP\",\"Norris Cole-2015-NOP\",\"Michael Carter-Williams-2017-CHI\",\"Seth Curry-2015-SAC\",\"Ronnie Price-2014-LAL\",\"John Lucas III-2013-UTA\",\"Kay Felder-2017-CLE\",\"Nate Robinson-2014-TOT\",\"Ray McCallum-2015-TOT\",\"Chris Quinn-2010-SAS\",\"Brian Roberts-2017-CHO\",\"Leandro Barbosa-2012-BOS\",\"T.J. Ford-2010-IND\"],\"legendgroup\":\"2\",\"marker\":{\"color\":\"#FFA15A\",\"symbol\":\"circle\"},\"mode\":\"markers\",\"name\":\"2\",\"scene\":\"scene\",\"showlegend\":true,\"x\":[-1.059356375070674,-2.862750719484705,-1.7119615099510999,-2.3985624992401537,-2.3544246108792257,-2.861338522826154,-1.9430325535506874,-1.7202050283458006,-2.878291439494125,-2.2506376900408656,-2.853221693611732,-1.0013280179699668,-2.129230633304761,-3.9693414009719525,-2.5648954120706886,-2.398174048155304,-3.0385239113170077,-2.3326165873474367,-4.151437098706971,-2.612338394783272,-1.6420033006841177,-2.0681034790579074,-3.5873921478580737,-2.1561783729803126,-3.8299610362989784,-2.104197438216283,-4.927669496195091,-3.3101740523992658,-2.18050063798647,-2.7022285159920307,-2.1769655035039404,-5.450216907509032,-2.9165819759168157,-2.685380756440953,-2.3976753417035885,-2.082550386304306,-2.3090193677222914,-2.9407160625454805,-4.627235302846869,-0.8669945836035233,-4.328259526473981,-2.905455137761571,-3.226331520238199,-2.4781848453970605,-0.7876484899169857,-3.0465255640347286,-2.1367727413021047,-2.661791412497467,-5.479297802562222,-2.6799610369861346,-4.143000314897403,-2.2409647195674074,-3.9165566810686836,-3.937352378602719,-3.618594470897155,-1.1119961562520277,-4.08354494605005,-3.5531612425089674,-2.2444430304218046,-3.930090487455822,-3.205028352920961,-3.974651767245051,-3.2455674323121495,-3.5306372286825325,-3.0449486061783717,-3.655382954602197,-3.602393153632088,-1.1714699912891693,-1.1260980339804192,-1.7118208713203913,-4.981038148199645,-2.3281275950816998,-5.090782115974172,-4.512741455582912,-3.2376019672742906,-4.318882645544502,-5.69760933916433,-4.568860516574148,-3.2873417233658104,-2.684746718730782],\"y\":[1.3154895630029415,-0.11736025524941585,1.1237616096301,-0.21150870198300903,0.734706791269211,-0.8409492157532327,0.07448666260068579,2.3072128061239536,-0.43551858676464045,3.134472130895717,1.3809733624534481,1.5125216505703625,0.9925764125101879,-0.01539677656271112,0.8450289363442791,-0.8935291024332337,0.9897050240332037,2.2075815849100273,0.7396784749368889,1.5046971988857776,1.3963444082336507,0.6613878661312785,-0.20465083245951057,0.2614426858866731,-0.13362112823964395,1.4347789768915291,3.495936014369585,-1.504271350654535,0.018878664601088398,0.6665935244112214,0.3050105580997856,0.30090712346900006,0.42738187906149333,0.7850508599278313,0.5851315785418444,1.850473277905648,2.139543429081741,-0.8822678374136745,0.6227198965307196,1.7040817635317167,0.17869749963292023,0.6293896342531882,-0.7618914451048698,-0.3257844938006145,1.8968899662319887,1.1928180079007287,0.9946107712332186,3.283966697035658,3.323691950046109,1.0957437155653609,1.0197560809924537,-0.1776669888530512,-0.6664590586933045,1.816051202943113,0.4528404429168133,2.0719051159530357,0.7610362801533328,1.7937488609191157,0.12850441493092546,0.7732132517661003,-0.6221527277678085,0.7093204863863105,0.1807020771358025,-1.3461187576552558,-0.42902285017110214,0.2669836432484747,-0.039022311914092334,1.0874581306052966,1.0058982403401973,3.317910403469753,1.0936383132117906,2.008081756525668,1.3802722851095681,0.9153643609099974,0.6471522376607722,0.11557932108758551,1.222894105878566,-0.88828262312373,-0.9466367195570828,2.5144524905623284],\"z\":[-0.4019203469121627,-0.7701575852730723,-1.2458022252491465,-0.8168793310297576,-0.4104039806382501,-1.8923791486907335,-0.6289447556966551,-1.0635904292113483,-1.1153291576976563,0.04597001133731055,0.9327831077238492,-1.241226872897313,0.6514716668742807,-1.819891789790551,-0.2021895559152817,-1.4532689129157061,0.12009635214334138,-0.7050543470186638,-1.9071153732912536,-0.8009742668770237,0.8348742422677364,-0.3201974682098165,-0.9383596025657157,0.07288389015923746,-0.48712248442538164,-0.6568085136816783,0.4125047362622907,-0.47841356191980816,-0.7276165899399922,-0.3350140561304592,0.40664443359840036,-1.6472313865733428,-1.2865287040996367,-0.014883328878821453,-0.736916394306781,1.4494815596499022,1.2693771837479084,-0.29041907036357084,-1.3881161599218528,-0.7881056436182716,-1.1059609989036174,1.4934021089238705,-0.7146931420754217,-1.203080475026543,-2.6366243630589263,-1.2107250235240983,-0.9341529571778333,0.09361093435294918,-0.6328121365758582,-0.36016341771677207,1.116264961665122,-0.30033149588536706,1.778321625026501,0.4311236621506251,-0.8285678996358816,0.20256491841023697,-2.2879371051436395,-0.7867736207435982,-0.4180050717064783,-0.7224497821429996,0.5386179047680344,-0.28707323792932704,0.2107811176875139,-1.2663401727382966,0.22429814028161568,-1.7031132400983064,0.2767350441630838,-0.7729818039460324,-0.7200789316523855,0.6123675533290629,-2.976485232622874,-1.243399218435094,-0.8826962387589338,-0.22658348758608907,0.26318598450334907,-0.646485461696774,0.09910197255360435,-1.2230892884096627,0.19516371309724487,0.7740596045854358],\"type\":\"scatter3d\"}],                        {\"template\":{\"data\":{\"bar\":[{\"error_x\":{\"color\":\"#2a3f5f\"},\"error_y\":{\"color\":\"#2a3f5f\"},\"marker\":{\"line\":{\"color\":\"#E5ECF6\",\"width\":0.5},\"pattern\":{\"fillmode\":\"overlay\",\"size\":10,\"solidity\":0.2}},\"type\":\"bar\"}],\"barpolar\":[{\"marker\":{\"line\":{\"color\":\"#E5ECF6\",\"width\":0.5},\"pattern\":{\"fillmode\":\"overlay\",\"size\":10,\"solidity\":0.2}},\"type\":\"barpolar\"}],\"carpet\":[{\"aaxis\":{\"endlinecolor\":\"#2a3f5f\",\"gridcolor\":\"white\",\"linecolor\":\"white\",\"minorgridcolor\":\"white\",\"startlinecolor\":\"#2a3f5f\"},\"baxis\":{\"endlinecolor\":\"#2a3f5f\",\"gridcolor\":\"white\",\"linecolor\":\"white\",\"minorgridcolor\":\"white\",\"startlinecolor\":\"#2a3f5f\"},\"type\":\"carpet\"}],\"choropleth\":[{\"colorbar\":{\"outlinewidth\":0,\"ticks\":\"\"},\"type\":\"choropleth\"}],\"contour\":[{\"colorbar\":{\"outlinewidth\":0,\"ticks\":\"\"},\"colorscale\":[[0.0,\"#0d0887\"],[0.1111111111111111,\"#46039f\"],[0.2222222222222222,\"#7201a8\"],[0.3333333333333333,\"#9c179e\"],[0.4444444444444444,\"#bd3786\"],[0.5555555555555556,\"#d8576b\"],[0.6666666666666666,\"#ed7953\"],[0.7777777777777778,\"#fb9f3a\"],[0.8888888888888888,\"#fdca26\"],[1.0,\"#f0f921\"]],\"type\":\"contour\"}],\"contourcarpet\":[{\"colorbar\":{\"outlinewidth\":0,\"ticks\":\"\"},\"type\":\"contourcarpet\"}],\"heatmap\":[{\"colorbar\":{\"outlinewidth\":0,\"ticks\":\"\"},\"colorscale\":[[0.0,\"#0d0887\"],[0.1111111111111111,\"#46039f\"],[0.2222222222222222,\"#7201a8\"],[0.3333333333333333,\"#9c179e\"],[0.4444444444444444,\"#bd3786\"],[0.5555555555555556,\"#d8576b\"],[0.6666666666666666,\"#ed7953\"],[0.7777777777777778,\"#fb9f3a\"],[0.8888888888888888,\"#fdca26\"],[1.0,\"#f0f921\"]],\"type\":\"heatmap\"}],\"heatmapgl\":[{\"colorbar\":{\"outlinewidth\":0,\"ticks\":\"\"},\"colorscale\":[[0.0,\"#0d0887\"],[0.1111111111111111,\"#46039f\"],[0.2222222222222222,\"#7201a8\"],[0.3333333333333333,\"#9c179e\"],[0.4444444444444444,\"#bd3786\"],[0.5555555555555556,\"#d8576b\"],[0.6666666666666666,\"#ed7953\"],[0.7777777777777778,\"#fb9f3a\"],[0.8888888888888888,\"#fdca26\"],[1.0,\"#f0f921\"]],\"type\":\"heatmapgl\"}],\"histogram\":[{\"marker\":{\"pattern\":{\"fillmode\":\"overlay\",\"size\":10,\"solidity\":0.2}},\"type\":\"histogram\"}],\"histogram2d\":[{\"colorbar\":{\"outlinewidth\":0,\"ticks\":\"\"},\"colorscale\":[[0.0,\"#0d0887\"],[0.1111111111111111,\"#46039f\"],[0.2222222222222222,\"#7201a8\"],[0.3333333333333333,\"#9c179e\"],[0.4444444444444444,\"#bd3786\"],[0.5555555555555556,\"#d8576b\"],[0.6666666666666666,\"#ed7953\"],[0.7777777777777778,\"#fb9f3a\"],[0.8888888888888888,\"#fdca26\"],[1.0,\"#f0f921\"]],\"type\":\"histogram2d\"}],\"histogram2dcontour\":[{\"colorbar\":{\"outlinewidth\":0,\"ticks\":\"\"},\"colorscale\":[[0.0,\"#0d0887\"],[0.1111111111111111,\"#46039f\"],[0.2222222222222222,\"#7201a8\"],[0.3333333333333333,\"#9c179e\"],[0.4444444444444444,\"#bd3786\"],[0.5555555555555556,\"#d8576b\"],[0.6666666666666666,\"#ed7953\"],[0.7777777777777778,\"#fb9f3a\"],[0.8888888888888888,\"#fdca26\"],[1.0,\"#f0f921\"]],\"type\":\"histogram2dcontour\"}],\"mesh3d\":[{\"colorbar\":{\"outlinewidth\":0,\"ticks\":\"\"},\"type\":\"mesh3d\"}],\"parcoords\":[{\"line\":{\"colorbar\":{\"outlinewidth\":0,\"ticks\":\"\"}},\"type\":\"parcoords\"}],\"pie\":[{\"automargin\":true,\"type\":\"pie\"}],\"scatter\":[{\"marker\":{\"colorbar\":{\"outlinewidth\":0,\"ticks\":\"\"}},\"type\":\"scatter\"}],\"scatter3d\":[{\"line\":{\"colorbar\":{\"outlinewidth\":0,\"ticks\":\"\"}},\"marker\":{\"colorbar\":{\"outlinewidth\":0,\"ticks\":\"\"}},\"type\":\"scatter3d\"}],\"scattercarpet\":[{\"marker\":{\"colorbar\":{\"outlinewidth\":0,\"ticks\":\"\"}},\"type\":\"scattercarpet\"}],\"scattergeo\":[{\"marker\":{\"colorbar\":{\"outlinewidth\":0,\"ticks\":\"\"}},\"type\":\"scattergeo\"}],\"scattergl\":[{\"marker\":{\"colorbar\":{\"outlinewidth\":0,\"ticks\":\"\"}},\"type\":\"scattergl\"}],\"scattermapbox\":[{\"marker\":{\"colorbar\":{\"outlinewidth\":0,\"ticks\":\"\"}},\"type\":\"scattermapbox\"}],\"scatterpolar\":[{\"marker\":{\"colorbar\":{\"outlinewidth\":0,\"ticks\":\"\"}},\"type\":\"scatterpolar\"}],\"scatterpolargl\":[{\"marker\":{\"colorbar\":{\"outlinewidth\":0,\"ticks\":\"\"}},\"type\":\"scatterpolargl\"}],\"scatterternary\":[{\"marker\":{\"colorbar\":{\"outlinewidth\":0,\"ticks\":\"\"}},\"type\":\"scatterternary\"}],\"surface\":[{\"colorbar\":{\"outlinewidth\":0,\"ticks\":\"\"},\"colorscale\":[[0.0,\"#0d0887\"],[0.1111111111111111,\"#46039f\"],[0.2222222222222222,\"#7201a8\"],[0.3333333333333333,\"#9c179e\"],[0.4444444444444444,\"#bd3786\"],[0.5555555555555556,\"#d8576b\"],[0.6666666666666666,\"#ed7953\"],[0.7777777777777778,\"#fb9f3a\"],[0.8888888888888888,\"#fdca26\"],[1.0,\"#f0f921\"]],\"type\":\"surface\"}],\"table\":[{\"cells\":{\"fill\":{\"color\":\"#EBF0F8\"},\"line\":{\"color\":\"white\"}},\"header\":{\"fill\":{\"color\":\"#C8D4E3\"},\"line\":{\"color\":\"white\"}},\"type\":\"table\"}]},\"layout\":{\"annotationdefaults\":{\"arrowcolor\":\"#2a3f5f\",\"arrowhead\":0,\"arrowwidth\":1},\"autotypenumbers\":\"strict\",\"coloraxis\":{\"colorbar\":{\"outlinewidth\":0,\"ticks\":\"\"}},\"colorscale\":{\"diverging\":[[0,\"#8e0152\"],[0.1,\"#c51b7d\"],[0.2,\"#de77ae\"],[0.3,\"#f1b6da\"],[0.4,\"#fde0ef\"],[0.5,\"#f7f7f7\"],[0.6,\"#e6f5d0\"],[0.7,\"#b8e186\"],[0.8,\"#7fbc41\"],[0.9,\"#4d9221\"],[1,\"#276419\"]],\"sequential\":[[0.0,\"#0d0887\"],[0.1111111111111111,\"#46039f\"],[0.2222222222222222,\"#7201a8\"],[0.3333333333333333,\"#9c179e\"],[0.4444444444444444,\"#bd3786\"],[0.5555555555555556,\"#d8576b\"],[0.6666666666666666,\"#ed7953\"],[0.7777777777777778,\"#fb9f3a\"],[0.8888888888888888,\"#fdca26\"],[1.0,\"#f0f921\"]],\"sequentialminus\":[[0.0,\"#0d0887\"],[0.1111111111111111,\"#46039f\"],[0.2222222222222222,\"#7201a8\"],[0.3333333333333333,\"#9c179e\"],[0.4444444444444444,\"#bd3786\"],[0.5555555555555556,\"#d8576b\"],[0.6666666666666666,\"#ed7953\"],[0.7777777777777778,\"#fb9f3a\"],[0.8888888888888888,\"#fdca26\"],[1.0,\"#f0f921\"]]},\"colorway\":[\"#636efa\",\"#EF553B\",\"#00cc96\",\"#ab63fa\",\"#FFA15A\",\"#19d3f3\",\"#FF6692\",\"#B6E880\",\"#FF97FF\",\"#FECB52\"],\"font\":{\"color\":\"#2a3f5f\"},\"geo\":{\"bgcolor\":\"white\",\"lakecolor\":\"white\",\"landcolor\":\"#E5ECF6\",\"showlakes\":true,\"showland\":true,\"subunitcolor\":\"white\"},\"hoverlabel\":{\"align\":\"left\"},\"hovermode\":\"closest\",\"mapbox\":{\"style\":\"light\"},\"paper_bgcolor\":\"white\",\"plot_bgcolor\":\"#E5ECF6\",\"polar\":{\"angularaxis\":{\"gridcolor\":\"white\",\"linecolor\":\"white\",\"ticks\":\"\"},\"bgcolor\":\"#E5ECF6\",\"radialaxis\":{\"gridcolor\":\"white\",\"linecolor\":\"white\",\"ticks\":\"\"}},\"scene\":{\"xaxis\":{\"backgroundcolor\":\"#E5ECF6\",\"gridcolor\":\"white\",\"gridwidth\":2,\"linecolor\":\"white\",\"showbackground\":true,\"ticks\":\"\",\"zerolinecolor\":\"white\"},\"yaxis\":{\"backgroundcolor\":\"#E5ECF6\",\"gridcolor\":\"white\",\"gridwidth\":2,\"linecolor\":\"white\",\"showbackground\":true,\"ticks\":\"\",\"zerolinecolor\":\"white\"},\"zaxis\":{\"backgroundcolor\":\"#E5ECF6\",\"gridcolor\":\"white\",\"gridwidth\":2,\"linecolor\":\"white\",\"showbackground\":true,\"ticks\":\"\",\"zerolinecolor\":\"white\"}},\"shapedefaults\":{\"line\":{\"color\":\"#2a3f5f\"}},\"ternary\":{\"aaxis\":{\"gridcolor\":\"white\",\"linecolor\":\"white\",\"ticks\":\"\"},\"baxis\":{\"gridcolor\":\"white\",\"linecolor\":\"white\",\"ticks\":\"\"},\"bgcolor\":\"#E5ECF6\",\"caxis\":{\"gridcolor\":\"white\",\"linecolor\":\"white\",\"ticks\":\"\"}},\"title\":{\"x\":0.05},\"xaxis\":{\"automargin\":true,\"gridcolor\":\"white\",\"linecolor\":\"white\",\"ticks\":\"\",\"title\":{\"standoff\":15},\"zerolinecolor\":\"white\",\"zerolinewidth\":2},\"yaxis\":{\"automargin\":true,\"gridcolor\":\"white\",\"linecolor\":\"white\",\"ticks\":\"\",\"title\":{\"standoff\":15},\"zerolinecolor\":\"white\",\"zerolinewidth\":2}}},\"scene\":{\"domain\":{\"x\":[0.0,1.0],\"y\":[0.0,1.0]},\"xaxis\":{\"title\":{\"text\":\"pc1\"}},\"yaxis\":{\"title\":{\"text\":\"pc2\"}},\"zaxis\":{\"title\":{\"text\":\"pc3\"}}},\"legend\":{\"title\":{\"text\":\"comp_3\"},\"tracegroupgap\":0},\"title\":{\"text\":\"k-means Clustering after dimensionality reduction\"}},                        {\"responsive\": true}                    ).then(function(){\n",
              "                            \n",
              "var gd = document.getElementById('40f382a3-4140-488f-92ae-724b7fff2065');\n",
              "var x = new MutationObserver(function (mutations, observer) {{\n",
              "        var display = window.getComputedStyle(gd).display;\n",
              "        if (!display || display === 'none') {{\n",
              "            console.log([gd, 'removed!']);\n",
              "            Plotly.purge(gd);\n",
              "            observer.disconnect();\n",
              "        }}\n",
              "}});\n",
              "\n",
              "// Listen for the removal of the full notebook cells\n",
              "var notebookContainer = gd.closest('#notebook-container');\n",
              "if (notebookContainer) {{\n",
              "    x.observe(notebookContainer, {childList: true});\n",
              "}}\n",
              "\n",
              "// Listen for the clearing of the current output cell\n",
              "var outputEl = gd.closest('.output');\n",
              "if (outputEl) {{\n",
              "    x.observe(outputEl, {childList: true});\n",
              "}}\n",
              "\n",
              "                        })                };                            </script>        </div>\n",
              "</body>\n",
              "</html>"
            ]
          },
          "metadata": {}
        }
      ]
    },
    {
      "cell_type": "markdown",
      "source": [
        "Like our other k-means clustering analysis there are five clusters and three principal components. Once again, the best PGs seem to have a distinct group of players that are above the rest. The green players (just by looking on the names) are point-guards that focus on scoring more than assisting. This includes players such as Steph Curry, James Harden, Chris Paul, Kyrie Irving etc. with expection of Paul, most of these players are primarily prolific scores. It shows how the PG position has evolved overtime.\n",
        "\n",
        "Interestingly the red cluster represents the opposite. The players in that group are typically better defenders, facillitators and finishers at the rim. Some of the standouts of this group are Rajon Rondo and a young Giannis. The purple cluster has a lot of quality point guards that are all-around quality players but they lack the high-ceiling and productivity of the earlrier group. The blue cluster, on the other hand, contains a lot of players that are a good at one thing but nothing else (one-dimensional athletes). One example is Shaun Livingston in the uppermost part of the blue cluster. While he excelled at paint scoring relative to his point guard peers, there was very little else to his game. Finally, the orange cluster represents players who are unproductive or overall negatives.\n",
        "\n",
        "In order to see if our assertions based on previous knowledge of well-known players is correct and to pick the overall best player, we will look at the principal components and what each one represents."
      ],
      "metadata": {
        "id": "KVTcki4hezLm"
      }
    },
    {
      "cell_type": "code",
      "source": [
        "\n",
        "for a in n_pca:\n",
        "  print(f'pc{a+1}')\n",
        "  print(pd.Series(loading_scores_all[a]))\n",
        "  print()\n",
        "  print()\n",
        ""
      ],
      "metadata": {
        "colab": {
          "base_uri": "https://localhost:8080/"
        },
        "outputId": "a2d3861c-7f4a-4e80-f585-59733eed40e3",
        "id": "sqPRFohOegaG"
      },
      "execution_count": null,
      "outputs": [
        {
          "output_type": "stream",
          "name": "stdout",
          "text": [
            "pc1\n",
            "DRB/G     0.346963\n",
            "TOV/G     0.333585\n",
            "AST/G     0.319277\n",
            "STL/G     0.316085\n",
            "2P/G      0.314470\n",
            "PF        0.283182\n",
            "ORB/G     0.279837\n",
            "3P/G      0.266712\n",
            "TS_pct    0.215476\n",
            "eFG%      0.211292\n",
            "dtype: float64\n",
            "\n",
            "\n",
            "pc2\n",
            "eFG%           -0.443483\n",
            "three_pt_pct   -0.351921\n",
            "FT%            -0.344733\n",
            "TS_pct         -0.341074\n",
            "BLK/G           0.282841\n",
            "ORB/G           0.261367\n",
            "3P/G           -0.247533\n",
            "two_pt_pct     -0.237980\n",
            "NETRTG         -0.236645\n",
            "DRB/G           0.178408\n",
            "dtype: float64\n",
            "\n",
            "\n",
            "pc3\n",
            "two_pt_pct      0.547863\n",
            "three_pt_pct   -0.525258\n",
            "3P/G           -0.304556\n",
            "BLK/G           0.300693\n",
            "AST/G          -0.233392\n",
            "TS_pct          0.218334\n",
            "TOV/G          -0.195727\n",
            "eFG%            0.158949\n",
            "STL/G          -0.146944\n",
            "NETRTG          0.146038\n",
            "dtype: float64\n",
            "\n",
            "\n"
          ]
        }
      ]
    },
    {
      "cell_type": "markdown",
      "source": [
        "PC1: In this principle component there a lot of the total volume stats such as two-pointers per game, three pointers per game and assists per game. Similar to other PCs in our previous position graphs, this is a good indicator of a players ability to run an offense. It represents a point guard who can facilitate and score efficiently.\n",
        "\n",
        "PC2: This principal component indicates that being high in it lends towards lower efficiency (in virtually every efficiency stat) and even lower three-point per game volume. The major positive associated with the PC2 is that its positively related to rebounding and defense. This represents some of the players (like Lonzo Ball) in our red cluster that was mentioned earlier.\n",
        "\n",
        "PC3: This final componet shows a positive correlation with eFG%, TS_pct and other efficiency based statistics. It is also positively correlated with net-rating. However, it is a mixed bag of goods as the three-point volume and efficiency is negatively related with this component."
      ],
      "metadata": {
        "id": "TB5nD_HDlFOM"
      }
    },
    {
      "cell_type": "markdown",
      "source": [
        "The player and season we pick for the best at the PG position is Steph Curry's 2016 season. Lets compare him to James Harden who initially jumped off the screen with his 2019 season in Houston.\n",
        "\n",
        "Curry (2016)\n",
        "\n",
        "*   PC1: 7.7\n",
        "*   PC2:-4.1\n",
        "*   PC3:-0.6\n",
        "\n",
        "Harden (2019)\n",
        "\n",
        "*  PC1:  8.7\n",
        "*  PC2:  0.2\n",
        "*  PC3: -4.1\n",
        "\n",
        "Harden had the highest PC1 of 8.7, which indicates that his volume as a creator and scorer was immense. This is somewhat diminished, however, by the fact that his PC2 is .17, which is relatively high amongst the best point guards. This indicates that his volume was accompanied by low-efficiency. Steph Curry on the other hand, had a PC2 of -4 (!!) which means his volume was on incredible efficiency. This makes sense, as Steph Curry's 2016 season is the only unanimous MVP season ever.  \n",
        "\n"
      ],
      "metadata": {
        "id": "vfK2giBsqjxg"
      }
    },
    {
      "cell_type": "markdown",
      "source": [
        "Power Forward"
      ],
      "metadata": {
        "id": "DOP_TlrUegaG"
      }
    },
    {
      "cell_type": "code",
      "source": [
        "#@title Power Forward\n",
        "df=pd.read_csv(\"dfaftercleaning.csv\")\n",
        "#df_pca\n",
        "df_pcas=df[df[\"G\"]>40]\n",
        "df_pcas.columns\n",
        "df_pcas=df_pcas.reset_index()\n",
        "df_pcas.drop(['Unnamed: 0',\"index\"],  axis=1, inplace=True)\n",
        "df_pcas\n",
        "\n",
        "df_pcas=df_pcas[df_pcas['Pos']=='PF']\n",
        "df_pcas=df_pcas.reset_index()\n",
        "df_pcas.drop(\"index\",axis=1,inplace=True)\n",
        "df_pca_labels=df_pcas[['PLAYER', 'Pos', 'Age', 'Tm', 'G','Year','TEAM', 'WEIGHT', 'COLLEGE', 'COUNTRY', 'DRAFT YEAR',\n",
        "       'DRAFT ROUND', 'DRAFT NUMBER','Height']]\n",
        "df_pca = df_pcas.drop(df_pca_labels.columns,axis=1)\n",
        "df_pca\n",
        "from sklearn.preprocessing import StandardScaler\n",
        "scale = StandardScaler()\n",
        "scaled_pca = scale.fit_transform(df_pca)\n",
        "scaled_pca= pd.DataFrame(scaled_pca)\n",
        "scaled_pca\n",
        "scaled_pca.columns = [df_pca[:0]]\n",
        "scaled_pca.head(5)\n",
        "len(scaled_pca.columns)\n",
        "\n",
        "#scaled_pca_SG=scaled_pca_SG.to_numpy()\n",
        "from sklearn.decomposition import PCA\n",
        "pca = PCA(n_components = 10)\n",
        "\n",
        "principle_components = pca.fit_transform(scaled_pca)\n",
        "\n",
        "pca.explained_variance_ratio_.cumsum()\n",
        "#len(principle_components)\n",
        "loading_scores_all = []\n",
        "n_pca=[0,1,2]\n",
        "#print(p)\n",
        "for p in n_pca:\n",
        "  loading_scores = pd.Series(pca.components_[p], index=scaled_pca.columns)\n",
        "  #print(loading_scores)\n",
        "  ## now sort the loading scores based on their magnitude\n",
        "  sorted_loading_scores = loading_scores.abs().sort_values(ascending=False)\n",
        "\n",
        "  # get the names of the top 10 genes\n",
        "  top_10_traits = sorted_loading_scores[0:10].index.values\n",
        "\n",
        "  loading_scores_all.append(loading_scores[top_10_traits].to_dict())\n",
        "\n",
        "pca = pd.DataFrame(principle_components)\n",
        "pca.columns = ['pc1','pc2','pc3','pc4','pc5','pc6','pc7','pc8','pc9','pc10']\n",
        "pca.dropna(inplace=True)\n",
        "pca\n",
        "df_after_pca = pd.concat([pca, df_pca_labels], axis = 1)\n",
        "#df_after_pca\n",
        "df_after_pca[\"zeroed\"]=0\n",
        "fig = px.scatter(df_after_pca, x= df_after_pca[\"pc1\"], y= df_after_pca[\"zeroed\"] ,hover_data=['PLAYER','Year'])\n",
        "fig.show()\n",
        "\n",
        "X=pca.iloc[:,0:3] # Using the the dataset of Section 1\n",
        "K = range(1,11)  # Apply kmeans 1 to 10\n",
        "kmeans_models = [skc.KMeans(k).fit(X) for k in K]\n",
        "centroids = [m.cluster_centers_ for m in kmeans_models]\n",
        "D_k = [spd.cdist(X, cent, 'euclidean') for cent in centroids]\n",
        "cIdx = [np.argmin(D,axis=1) for D in D_k]\n",
        "dist = [np.min(D,axis=1) for D in D_k]\n",
        "avgWithinSS = [sum(d)/X.shape[0] for d in dist]\n",
        "\n",
        "# plot elbow curve\n",
        "# plt.plot(K, avgWithinSS, 'b*-')\n",
        "# plt.xlabel('Number of clusters');\n",
        "# plt.ylabel('Average within-cluster sum of squares');\n",
        "# plt.title('Elbow for K-Means clustering');\n",
        "\n",
        "df_pc_only=df_after_pca.iloc[:,0:1]\n",
        "#print(df_pc_only)\n",
        "#df_pc_only=clean_dataset(df_pc_only)\n",
        "kmeans_model = skc.KMeans(n_clusters=4,init='k-means++',random_state=42)\n",
        "#kmeans_model = skc.KMeans(n_clusters=5,init='k-means++',random_state=42)\n",
        "\n",
        "kmeans_model.fit(df_pc_only)\n",
        "centroids = kmeans_model.cluster_centers_\n",
        "centroids\n",
        "df_pc_only['cluster_labels_kmeans'] = kmeans_model.labels_\n",
        "df_cluster = pd.concat([df_pc_only, df_pca_labels], axis = 1)\n",
        "\n",
        "print(df_cluster[(df_cluster['PLAYER']==\"Giannis Antetokounmpo\") & (df_cluster[\"Year\"]==2019)][\"PLAYER\"])\n",
        "index=200\n",
        "\n",
        "index=200\n",
        "import sklearn as sk\n",
        "import sklearn.cluster as skc\n",
        "\n",
        "labels_dict={1: [],2: [], 3: [], 10: []}\n",
        "pca_comp=[1,2,3,10]\n",
        "finder_constant=0\n",
        "n=4\n",
        "for p in pca_comp:\n",
        "  #print(n)\n",
        "  df_pc_only=df_after_pca.iloc[:,0:p]\n",
        "  kmeans_model = skc.KMeans(n_clusters=n,init='k-means++',random_state=42)\n",
        "  kmeans_model.fit(df_pc_only)\n",
        "  centroids = kmeans_model.cluster_centers_\n",
        "  labels = list(kmeans_model.labels_)\n",
        "  if p==1:\n",
        "    label_top=labels[index]\n",
        "    finder_constant=label_top\n",
        "  else:\n",
        "    label_top_1=labels[index]\n",
        "    changer= {0:0,1:1,2:2,3:3,4:4,5:5}\n",
        "    changer[label_top_1]=label_top\n",
        "    changer[label_top]=label_top_1\n",
        "    #print(changer)\n",
        "    labels= [changer[a] for a in labels]\n",
        "  labels_dict[p] = labels\n",
        "  if p==1:\n",
        "    n=n+1\n",
        "labels_components=pd.DataFrame(labels_dict)\n",
        "labels_components.columns=[\"comp_1\",\"comp_2\",\"comp_3\",\"comp_10\"]\n",
        "df_cluster = pd.concat([df_pc_only,labels_components, df_pca_labels], axis = 1)\n",
        "\n",
        "df_cluster[\"player-year-tm\"] = df_cluster[\"PLAYER\"] + \"-\" + df_cluster[\"Year\"].astype(str) + \"-\" + df_cluster[\"Tm\"]\n",
        "df_cluster['comp_1'] = df_cluster['comp_1'].astype(str)\n",
        "df_cluster['comp_2'] = df_cluster['comp_2'].astype(str)\n",
        "df_cluster['comp_3'] = df_cluster['comp_3'].astype(str)\n",
        "df_cluster['comp_10'] = df_cluster['comp_10'].astype(str)\n",
        "finder_constant = str(finder_constant)\n",
        "comp_1_players=df_cluster[df_cluster[\"comp_1\"]==finder_constant][[\"player-year-tm\"]][\"player-year-tm\"].tolist()\n",
        "comp_2_players=df_cluster[df_cluster[\"comp_2\"]==finder_constant][[\"player-year-tm\"]][\"player-year-tm\"].tolist()\n",
        "comp_3_players=df_cluster[df_cluster[\"comp_3\"]==finder_constant][[\"player-year-tm\"]][\"player-year-tm\"].tolist()\n",
        "comp_10_players=df_cluster[df_cluster[\"comp_10\"]==finder_constant][[\"player-year-tm\"]][\"player-year-tm\"].tolist()"
      ],
      "metadata": {
        "id": "uxCG5U8rehUE",
        "colab": {
          "base_uri": "https://localhost:8080/",
          "height": 649
        },
        "cellView": "form",
        "outputId": "687c7815-b252-4476-e680-ecd730e04029"
      },
      "execution_count": null,
      "outputs": [
        {
          "output_type": "stream",
          "name": "stderr",
          "text": [
            "/usr/local/lib/python3.7/dist-packages/sklearn/utils/validation.py:1692: FutureWarning:\n",
            "\n",
            "Feature names only support names that are all strings. Got feature names with dtypes: ['tuple']. An error will be raised in 1.2.\n",
            "\n"
          ]
        },
        {
          "output_type": "display_data",
          "data": {
            "text/html": [
              "<html>\n",
              "<head><meta charset=\"utf-8\" /></head>\n",
              "<body>\n",
              "    <div>            <script src=\"https://cdnjs.cloudflare.com/ajax/libs/mathjax/2.7.5/MathJax.js?config=TeX-AMS-MML_SVG\"></script><script type=\"text/javascript\">if (window.MathJax) {MathJax.Hub.Config({SVG: {font: \"STIX-Web\"}});}</script>                <script type=\"text/javascript\">window.PlotlyConfig = {MathJaxConfig: 'local'};</script>\n",
              "        <script src=\"https://cdn.plot.ly/plotly-2.8.3.min.js\"></script>                <div id=\"3c378bab-2877-4755-883b-396f9bb16f27\" class=\"plotly-graph-div\" style=\"height:525px; width:100%;\"></div>            <script type=\"text/javascript\">                                    window.PLOTLYENV=window.PLOTLYENV || {};                                    if (document.getElementById(\"3c378bab-2877-4755-883b-396f9bb16f27\")) {                    Plotly.newPlot(                        \"3c378bab-2877-4755-883b-396f9bb16f27\",                        [{\"customdata\":[[\"Greg Monroe\",2013],[\"Taj Gibson\",2013],[\"Luis Scola\",2013],[\"Brandon Bass\",2013],[\"Patrick Patterson\",2018],[\"Joe Ingles\",2019],[\"Tobias Harris\",2019],[\"Markieff Morris\",2012],[\"Markieff Morris\",2014],[\"LeBron James\",2018],[\"Lamar Odom\",2012],[\"Luis Scola\",2012],[\"Tobias Harris\",2017],[\"Gorgui Dieng\",2017],[\"Marquese Chriss\",2017],[\"Lamar Odom\",2010],[\"Brandon Bass\",2014],[\"Serge Ibaka\",2010],[\"Dragan Bender\",2018],[\"Boris Diaw\",2010],[\"Taj Gibson\",2018],[\"Tyler Hansbrough\",2012],[\"Domantas Sabonis\",2017],[\"Dorian Finney-Smith\",2017],[\"Jerami Grant\",2018],[\"Paul Millsap\",2016],[\"Jared Dudley\",2015],[\"Paul Millsap\",2015],[\"Julius Randle\",2015],[\"Julius Randle\",2016],[\"Draymond Green\",2016],[\"Elton Brand\",2010],[\"Jared Dudley\",2016],[\"Draymond Green\",2015],[\"DeJuan Blair\",2010],[\"Tiago Splitter\",2012],[\"Al-Farouq Aminu\",2019],[\"Serge Ibaka\",2013],[\"Boris Diaw\",2014],[\"Carl Landry\",2012],[\"Amir Johnson\",2012],[\"Brandon Bass\",2012],[\"Ryan Anderson\",2012],[\"Patrick Patterson\",2014],[\"Nick Collison\",2013],[\"Markieff Morris\",2013],[\"Dante Cunningham\",2013],[\"LaMarcus Aldridge\",2010],[\"Trey Lyles\",2016],[\"Kenneth Faried\",2013],[\"Dirk Nowitzki\",2013],[\"Mike Scott\",2013],[\"Jerami Grant\",2019],[\"Blake Griffin\",2013],[\"Jerami Grant\",2017],[\"Darrell Arthur\",2010],[\"Dante Cunningham\",2012],[\"Blake Griffin\",2012],[\"Serge Ibaka\",2012],[\"Tobias Harris\",2018],[\"Taj Gibson\",2010],[\"Amir Johnson\",2017],[\"Trevor Booker\",2016],[\"Luc Mbah a Moute\",2010],[\"Amir Johnson\",2016],[\"Frank Kaminsky\",2018],[\"Patrick Patterson\",2016],[\"Trevor Booker\",2015],[\"Amir Johnson\",2015],[\"Patrick Patterson\",2015],[\"Boris Diaw\",2013],[\"Harrison Barnes\",2017],[\"Zach Randolph\",2013],[\"Serge Ibaka\",2017],[\"David Lee\",2012],[\"Carlos Boozer\",2012],[\"Trevor Booker\",2014],[\"Draymond Green\",2014],[\"Paul Millsap\",2012],[\"Aaron Gordon\",2019],[\"JaMychal Green\",2015],[\"Serge Ibaka\",2015],[\"Aaron Gordon\",2015],[\"Serge Ibaka\",2016],[\"Jonas Jerebko\",2016],[\"Aaron Gordon\",2016],[\"JaMychal Green\",2016],[\"Pau Gasol\",2014],[\"Jeff Green\",2018],[\"Jonas Jerebko\",2015],[\"Carmelo Anthony\",2018],[\"Taj Gibson\",2017],[\"DeJuan Blair\",2013],[\"Jonas Jerebko\",2017],[\"Josh McRoberts\",2013],[\"Dante Cunningham\",2010],[\"Harrison Barnes\",2018],[\"Harrison Barnes\",2019],[\"Derrick Favors\",2012],[\"Sam Dekker\",2017],[\"Jerami Grant\",2015],[\"Channing Frye\",2010],[\"Jeff Green\",2019],[\"Kyle Kuzma\",2018],[\"Jerami Grant\",2016],[\"Nemanja Bjelica\",2019],[\"JaMychal Green\",2017],[\"LeBron James\",2013],[\"Amir Johnson\",2013],[\"Kevin Love\",2016],[\"Kevin Love\",2015],[\"Dirk Nowitzki\",2014],[\"Carmelo Anthony\",2013],[\"Kevin Love\",2013],[\"Jabari Parker\",2016],[\"Serge Ibaka\",2018],[\"Kelly Olynyk\",2018],[\"Brandon Bass\",2010],[\"Paul Millsap\",2010],[\"Terrence Jones\",2013],[\"Josh Smith\",2012],[\"Carlos Boozer\",2013],[\"Andrew Nicholson\",2013],[\"Zach Randolph\",2012],[\"Carl Landry\",2010],[\"Luis Scola\",2015],[\"Draymond Green\",2017],[\"James Johnson\",2017],[\"Markieff Morris\",2017],[\"Antawn Jamison\",2012],[\"LeBron James\",2012],[\"Vince Carter\",2019],[\"Boris Diaw\",2015],[\"Luis Scola\",2016],[\"Boris Diaw\",2016],[\"Tobias Harris\",2015],[\"Jabari Parker\",2015],[\"Jeff Green\",2010],[\"Kenneth Faried\",2014],[\"Amir Johnson\",2014],[\"Zach Randolph\",2010],[\"Giannis Antetokounmpo\",2018],[\"Anthony Davis\",2018],[\"Channing Frye\",2014],[\"Kevin Love\",2014],[\"Jonas Jerebko\",2014],[\"Luc Mbah a Moute\",2015],[\"Mike Scott\",2015],[\"Dirk Nowitzki\",2015],[\"Luc Mbah a Moute\",2016],[\"Dirk Nowitzki\",2016],[\"Jon Leuer\",2017],[\"Mike Scott\",2016],[\"Boris Diaw\",2012],[\"Blake Griffin\",2019],[\"Jonathan Isaac\",2019],[\"Luis Scola\",2010],[\"Derrick Favors\",2014],[\"Kris Humphries\",2010],[\"LaMarcus Aldridge\",2012],[\"Paul Millsap\",2013],[\"LaMarcus Aldridge\",2016],[\"Luol Deng\",2016],[\"Tyler Hansbrough\",2014],[\"Glen Davis\",2014],[\"Meyers Leonard\",2017],[\"Julius Randle\",2017],[\"Michael Beasley\",2018],[\"Jonas Jerebko\",2018],[\"John Collins\",2018],[\"Luol Deng\",2015],[\"LaMarcus Aldridge\",2015],[\"Markieff Morris\",2018],[\"Sam Dekker\",2018],[\"Jarell Martin\",2018],[\"Trey Lyles\",2018],[\"DeMarre Carroll\",2018],[\"James Johnson\",2018],[\"Semi Ojeleye\",2018],[\"Taj Gibson\",2015],[\"Boris Diaw\",2017],[\"Andray Blatche\",2013],[\"Zach Randolph\",2017],[\"Jonas Jerebko\",2019],[\"Derrick Favors\",2013],[\"Paul Millsap\",2014],[\"Antonio McDyess\",2010],[\"Dirk Nowitzki\",2010],[\"David Lee\",2010],[\"Al Harrington\",2010],[\"Kevin Love\",2010],[\"Taj Gibson\",2016],[\"Spencer Hawes\",2014],[\"Gordon Hayward\",2019],[\"Matt Bonner\",2014],[\"Trevor Booker\",2013],[\"Jordan Hill\",2013],[\"Josh McRoberts\",2010],[\"Amir Johnson\",2010],[\"Maxi Kleber\",2018],[\"Giannis Antetokounmpo\",2019],[\"Marquese Chriss\",2018],[\"Ryan Anderson\",2017],[\"LaMarcus Aldridge\",2017],[\"Zach Randolph\",2014],[\"LaMarcus Aldridge\",2014],[\"Trey Lyles\",2017],[\"Patrick Patterson\",2012],[\"Maxi Kleber\",2019],[\"Trevor Booker\",2017],[\"Thomas Robinson\",2015],[\"Thomas Robinson\",2016],[\"Omri Casspi\",2013],[\"John Henson\",2013],[\"Thomas Robinson\",2013],[\"Kyle Kuzma\",2019],[\"Tyler Hansbrough\",2010],[\"Paul Millsap\",2019],[\"Taj Gibson\",2019],[\"James Johnson\",2014],[\"Quincy Acy\",2018],[\"Channing Frye\",2015],[\"Darrell Arthur\",2015],[\"Joffrey Lauvergne\",2017],[\"Draymond Green\",2018],[\"Darrell Arthur\",2016],[\"Josh Huestis\",2018],[\"Ivan Johnson\",2012],[\"Paul Millsap\",2017],[\"Jeff Green\",2017],[\"Al-Farouq Aminu\",2018],[\"Omri Casspi\",2015],[\"Dwight Powell\",2015],[\"Rudy Gay\",2019],[\"LaMarcus Aldridge\",2013],[\"Kris Humphries\",2013],[\"David Lee\",2013],[\"Dwight Powell\",2016],[\"Omri Casspi\",2016],[\"Glen Davis\",2013],[\"Lauri Markkanen\",2018],[\"Zach Randolph\",2015],[\"Trevor Booker\",2018],[\"Anthony Davis\",2014],[\"Quincy Acy\",2014],[\"Matt Bonner\",2012],[\"Zach Randolph\",2016],[\"DeMarre Carroll\",2019],[\"Jon Leuer\",2015],[\"Nemanja Bjelica\",2018],[\"Josh McRoberts\",2012],[\"Shawn Marion\",2012],[\"Kenneth Faried\",2016],[\"Anthony Davis\",2013],[\"Kenneth Faried\",2015],[\"Carmelo Anthony\",2012],[\"Jon Leuer\",2016],[\"Blake Griffin\",2014],[\"Luc Mbah a Moute\",2014],[\"Draymond Green\",2019],[\"Ryan Anderson\",2015],[\"Dante Cunningham\",2017],[\"Ryan Anderson\",2018],[\"Brandon Bass\",2016],[\"Ryan Anderson\",2016],[\"Josh Smith\",2011],[\"Matt Bonner\",2010],[\"Carlos Boozer\",2011],[\"Serge Ibaka\",2011],[\"Luis Scola\",2011],[\"Tyler Hansbrough\",2011],[\"Ed Davis\",2011],[\"Brandon Bass\",2015],[\"Nick Collison\",2014],[\"Blake Griffin\",2011],[\"Dante Cunningham\",2014],[\"Pau Gasol\",2011],[\"Jason Maxiell\",2011],[\"Antawn Jamison\",2011],[\"Kris Humphries\",2012],[\"Nemanja Bjelica\",2017],[\"Patrick Patterson\",2017],[\"Taj Gibson\",2012],[\"Kyle O'Quinn\",2015],[\"Kyle O'Quinn\",2016],[\"Lavoy Allen\",2013],[\"Patrick Patterson\",2013],[\"JaMychal Green\",2019],[\"Matt Bonner\",2011],[\"Amir Johnson\",2011],[\"Dominic McGuire\",2011],[\"Dante Cunningham\",2011],[\"Channing Frye\",2011],[\"Jason Thompson\",2011],[\"Jared Dudley\",2017],[\"Bobby Portis\",2017],[\"Tyler Hansbrough\",2013],[\"Luc Mbah a Moute\",2013],[\"Andray Blatche\",2010],[\"Mike Muscala\",2019],[\"Ryan Anderson\",2010],[\"Cheick Diallo\",2019],[\"DeJuan Blair\",2011],[\"Paul Millsap\",2011],[\"Markieff Morris\",2015],[\"Kris Humphries\",2014],[\"Serge Ibaka\",2014],[\"Jonas Jerebko\",2013],[\"Patrick Patterson\",2011],[\"Al Harrington\",2011],[\"Dante Cunningham\",2019],[\"Michael Kidd-Gilchrist\",2019],[\"Trey Lyles\",2019],[\"Yi Jianlian\",2010],[\"Jon Leuer\",2014],[\"Larry Nance Jr.\",2017],[\"Larry Nance Jr.\",2016],[\"Nick Collison\",2011],[\"Luke Babbitt\",2012],[\"Derrick Favors\",2015],[\"Bobby Portis\",2016],[\"Derrick Favors\",2016],[\"Kevin Durant\",2017],[\"Marvin Bagley III\",2019],[\"Udonis Haslem\",2014],[\"Dirk Nowitzki\",2011],[\"Danilo Gallinari\",2010],[\"Ryan Anderson\",2014],[\"Blake Griffin\",2017],[\"DeJuan Blair\",2012],[\"Ryan Anderson\",2011],[\"Lavoy Allen\",2017],[\"Kenneth Faried\",2017],[\"Al-Farouq Aminu\",2017],[\"John Collins\",2019],[\"Meyers Leonard\",2016],[\"Meyers Leonard\",2015],[\"Glen Davis\",2011],[\"Matt Bonner\",2013],[\"Tobias Harris\",2013],[\"Luc Mbah a Moute\",2018],[\"Marreese Speights\",2011],[\"Kevin Love\",2017],[\"Nemanja Bjelica\",2016],[\"Jared Dudley\",2019],[\"Earl Clark\",2012],[\"Quincy Acy\",2016],[\"Darnell Jackson\",2010],[\"Nick Collison\",2015],[\"Nick Collison\",2016],[\"Troy Murphy\",2011],[\"Quincy Acy\",2015],[\"Blake Griffin\",2018],[\"Aaron Gordon\",2018],[\"Markieff Morris\",2019],[\"Darrell Arthur\",2014],[\"Jaren Jackson Jr.\",2019],[\"T.J. Leaf\",2019],[\"Spencer Hawes\",2016],[\"Rudy Gay\",2018],[\"James Johnson\",2016],[\"Spencer Hawes\",2015],[\"James Johnson\",2015],[\"David Lee\",2011],[\"Boris Diaw\",2011],[\"Anthony Bennett\",2014],[\"Chris Singleton\",2012],[\"Andrew Nicholson\",2016],[\"Antawn Jamison\",2010],[\"Andrew Nicholson\",2015],[\"Michael Beasley\",2017],[\"Kris Humphries\",2017],[\"Josh Smith\",2015],[\"LaMarcus Aldridge\",2011],[\"James Johnson\",2019],[\"Rashard Lewis\",2012],[\"JaMychal Green\",2018],[\"Pascal Siakam\",2017],[\"David Lee\",2015],[\"Kevin Love\",2011],[\"Terrence Jones\",2017],[\"Spencer Hawes\",2017],[\"Dirk Nowitzki\",2017],[\"Josh Powell\",2010],[\"Steve Novak\",2013],[\"Steve Novak\",2011],[\"Tyrus Thomas\",2011],[\"Earl Clark\",2013],[\"Lou Amundson\",2014],[\"T.J. Leaf\",2018],[\"Dirk Nowitzki\",2012],[\"Byron Mullens\",2012],[\"Kris Humphries\",2015],[\"Larry Sanders\",2011],[\"Ryan Kelly\",2014],[\"Adreian Payne\",2015],[\"Brandon Bass\",2017],[\"James Michael McAdoo\",2017],[\"Jeff Adrien\",2012],[\"Quincy Miller\",2013],[\"Adreian Payne\",2016],[\"Lauri Markkanen\",2019],[\"Gary Clark\",2019],[\"Richaun Holmes\",2016],[\"Jabari Parker\",2017],[\"Wilson Chandler\",2019],[\"Kyle O'Quinn\",2014],[\"Drew Gooden\",2014],[\"Josh McRoberts\",2011],[\"Trevor Booker\",2011],[\"Terrence Jones\",2015],[\"Terrence Jones\",2016],[\"Derrick Favors\",2017],[\"Jonas Jerebko\",2012],[\"David Lee\",2014],[\"Pau Gasol\",2012],[\"Jon Leuer\",2013],[\"Kenyon Martin\",2010],[\"Thomas Robinson\",2017],[\"Trevor Booker\",2012],[\"Jared Dudley\",2018],[\"Amar'e Stoudemire\",2011],[\"Craig Smith\",2011],[\"Reggie Evans\",2014],[\"Sam Dekker\",2019],[\"Dragan Bender\",2019],[\"Luke Kornet\",2019],[\"Andrei Kirilenko\",2013],[\"Tyler Hansbrough\",2016],[\"Jonah Bolden\",2019],[\"Tyler Hansbrough\",2015],[\"Luc Mbah a Moute\",2011],[\"Marquese Chriss\",2019],[\"Wilson Chandler\",2012],[\"Dragan Bender\",2017],[\"Anthony Randolph\",2013],[\"Jarell Martin\",2019],[\"Jarell Martin\",2017],[\"Josh McRoberts\",2015],[\"Josh McRoberts\",2016],[\"Jared Jeffries\",2010],[\"Kenyon Martin\",2011],[\"Darrell Arthur\",2017],[\"James Michael McAdoo\",2015],[\"James Michael McAdoo\",2016],[\"Carl Landry\",2011],[\"Jon Leuer\",2019]],\"hovertemplate\":\"pc1=%{x}<br>zeroed=%{y}<br>PLAYER=%{customdata[0]}<br>Year=%{customdata[1]}<extra></extra>\",\"legendgroup\":\"\",\"marker\":{\"color\":\"#636efa\",\"symbol\":\"circle\"},\"mode\":\"markers\",\"name\":\"\",\"orientation\":\"v\",\"showlegend\":false,\"x\":[2.512390368363021,1.3978713220028844,-1.2834490046207812,0.14598992681378514,-2.7105311620124297,2.42431970518904,2.29135003832745,-0.26322938908724086,2.441501676139831,7.2189449266861185,-0.9475200698348649,1.4922622559671772,0.485848757099388,2.307423082600585,0.020964073989206886,2.4585782336903277,-0.6305110663830152,1.739180034304167,-1.4181058398108226,1.9253854478438666,1.998564233596376,-1.9078271274000194,-1.7272912601725712,-2.4929887788194196,-0.4374214497553678,4.823564055220663,0.08052549973499756,4.964515736673492,-1.0883675139194318,1.0256547018101818,6.299357163173478,2.5786951084692054,0.14327332217769628,6.084067110193723,1.288123552847668,1.5206513710417129,0.5171565983235746,3.5508877743730007,0.1694670262265003,0.40114081807758845,2.9401147472238467,-0.07873152836843961,0.6914883867181735,-0.04011525891076946,-0.2705175955718253,1.0602393630642613,-1.5627416155634224,3.574806946529249,-2.2916268440581034,2.375742733503951,1.9448484177160026,-1.4528984876029178,1.1127947888169907,5.111681544307736,-1.9402226069295652,-0.5797156898798315,-0.5357110370732068,4.002365394291742,2.8846118505296188,1.0164633223420763,-0.32985312419731433,0.9946547891089947,-0.19770371734707373,-0.4573431581408984,1.6023072988411962,-1.6181938923957613,-0.8099339220982538,-0.2518498270169188,1.5336935938741871,-0.78767065721787,0.5138455782313849,0.3460401148836594,2.770538935505496,1.5403355459552173,4.1452384154748625,2.9448463789171164,-0.6787447185789278,3.236507585955041,2.7933248026417,2.08274469723345,-0.5643798219347592,1.5185141430413585,-0.10453488991829135,1.626459235835451,-2.26626887414556,0.14363820537147878,-0.726412172666785,2.9337093578157254,-0.5271840379424739,-2.128347211120346,0.20125961635748468,0.4366625713117176,-0.38363561949877945,-2.168382377287021,0.38266181226031876,-1.2518277664817894,0.09847659667550933,-0.5680586946711322,1.6603083638013019,-1.6434690444253353,0.08334010935417105,1.3261003940604499,0.3680846561984815,0.8282806996209757,0.06350673029297314,0.9061211454990811,1.1904022224967878,5.9184316427165555,2.3962695478115807,2.087078700517641,2.0840486820900264,0.6188127239386247,4.031327979024888,3.7327749288723777,0.594675273382137,1.1126560061109658,2.151398486542974,0.06956740890975,3.8391614695219527,0.75466253029781,4.017904685340131,1.3681900630631036,-2.3468557846812206,2.480035711784509,0.1653431917659474,-0.8883900199675877,4.904613911385209,2.3347230405988855,1.8769360793688128,-1.6442376384316328,6.1748397988002,-1.8347925883644531,-0.8562284796677587,-0.9333637101221065,-0.59511751122761,1.0005455045300042,0.4905250600890522,0.3427640138931839,1.889532417210862,1.5234127184992858,3.4466209373782974,6.272163347522749,5.92604685829889,-0.7209594703029013,1.8283960342766714,-1.495293763063301,-3.390397120983534,-2.0204980597584172,0.9454301009168526,-2.824672364363592,0.9234021724836292,-0.35469355155991267,-1.8044431457052685,-0.6150205013142768,3.894186702864447,0.13022300797868466,2.4993766156186905,2.389613313339724,1.131835552236959,3.2785743537334215,3.9575900752398083,2.134670164202559,0.37672381041218145,-2.0966953524390184,-2.923152103785212,-2.3789565719682813,2.415927994088851,0.6483601580358709,-1.8968270786729695,1.874437560797279,0.3863963286877848,1.8785896092311307,1.2801266675458092,-2.6095909190270263,-0.7580813906434151,-0.689645068994769,0.48850152300109845,1.9304196043556692,-4.271617329901803,0.8621918997637014,-2.225958297644236,0.626983403928925,0.3152377611805396,-1.1036734137133146,2.7056207356432354,3.6802874354339323,-0.7689281023930206,2.337824773655198,3.5002209633147574,-0.5122135547116214,3.466976451496544,0.7759276088572344,-1.9455613440070738,0.6402613842699498,-3.3110961394192007,-0.8735835050931695,0.41880842939831325,0.6055070344303929,2.006008138224012,-1.5440854919968603,8.251980724628481,-0.18809945912161316,-0.6753781598644494,1.639640730842299,2.6714250896001444,2.5081271663347535,-2.8070207008490162,-0.7170233753040334,-0.23896927006573718,1.4332965244220448,-1.9763760986474064,-2.501810452035954,-1.9507803122387217,1.363748747770776,-2.4828454359336063,1.1783628659647734,-1.1513355186137386,2.0021060062391047,1.2053821155520077,0.5325878767238945,-2.051982458825746,-1.6369888735278886,-0.6711724474439525,-2.5764709074022814,4.626547882449214,-0.565633727968476,-4.3422633049822705,-0.9455225800948642,3.048239953122021,-2.1235766662046545,0.3529108436474292,0.24427078167861954,-1.6656320994371405,1.702594555382111,3.114790800435568,-0.5344441102848287,2.919447283259765,-1.7361638352127742,0.4478879213416663,-0.5884001906918678,0.02651140022948933,1.2469524896691129,-1.0352988609233433,4.726022904923736,-1.5964002061766973,-2.1885947008301585,0.9796696942752964,-1.1837275423969973,-0.773728531117395,-0.7680573481598669,-1.0643918113866522,1.5623907509394128,1.4756605714129472,4.334723818456671,1.4522853189135723,2.828434179190631,-0.5419704877993691,3.8580733007322388,-0.8106001276132057,3.905176475448506,-0.09045938915160218,-1.3637621532627349,-0.7484828188244926,-0.4493255856603623,0.017262123445615146,4.179864913732102,-1.4985806955025698,2.219041472706541,2.1903649542228507,1.7719515142992843,-1.4694276481236273,-0.15503204300031004,-0.7101306096711538,-1.1699738899000416,3.928555205448746,-2.1945623003067385,3.5231937012818584,-1.2383211549207664,0.23470522984839312,-1.690799081002999,-1.162732133352038,-1.2837088194465323,0.09004565838073662,-1.7243524627236273,-1.7536759619797944,-2.0230702014091557,-0.00191268506202491,0.5042519284174264,-2.0372518565777993,1.2510214965828501,-2.0048116478176206,-2.009040545648892,0.3195697132786256,0.24150806474838074,-0.605607048130462,-1.9897404799332803,-1.995395873580311,-3.369476781432027,2.955404212515416,-1.2546307315527372,-0.2345125827930652,-0.3442049665143952,0.4991164874087397,3.8253155751005,0.8414063915297731,-0.9250943878422055,2.332684885873926,-2.7177942312655503,-1.4848415730322095,0.8518636536982523,-2.640603304261767,-1.2030153353205741,-1.6064884518172733,-2.6144825991249525,-2.834819623184361,0.6776644374972045,-0.9174534982947864,0.097285628546139,-3.7745609218746394,2.6244677713420357,-2.006910888157013,2.62139657079818,4.993870117688572,0.948859300495329,-2.51881589304753,1.7678721259612282,-0.004857791580951872,-0.7437025882026221,3.5003055465494497,-1.5541662784861165,1.2707846051090388,-3.0187272942139685,0.5911574864490005,0.05322510302475206,3.2664481786578614,-0.44153743584697497,-0.2719859340951304,-1.1549562221744252,-2.984672531257824,0.23149893214762654,-0.13242742625323192,-0.539416016849235,2.5285574008048,-1.129443625793457,-1.574484919550758,-1.727092320727094,-1.4073824587336758,-4.761079199132226,-2.7399112116559365,-2.7320037519742795,-3.4371568844284393,-1.765012699348654,2.8595840669488313,1.503793436128981,-0.8803873245235415,-1.6294197803862125,1.6453558763089255,-2.878160361061373,-1.592727239308165,0.027904393684109224,-2.044845044732987,-1.8200255758999435,-1.5880950042936461,3.4042747441042556,0.06974299804386051,-3.086554731126478,-2.8561627779070466,-2.008545169544677,0.6878034754690427,-2.613613070241988,-0.9174000233903982,-3.117213657512379,-1.7433412542734288,3.0047020905939923,-1.0510282598460727,-3.6803070210508264,0.4235241899705027,-1.9924059917049235,-0.34027509256113847,3.727475774784647,-0.8077496280005589,-1.673971619974908,-0.22755296051453366,-3.6179498397110277,-3.605475046999653,-2.1287843572154563,-1.7730046554176648,-3.551716386566424,-1.9442796100239288,-4.2329120800017135,1.0183972085380621,-1.1068480621260388,-2.2922192258317504,-2.229152212617726,-2.448354112413683,-4.475782757807327,-2.2765111872241026,-3.2654078455864517,-3.217774885101118,-3.692233118915646,-4.418147713065831,1.2049024921776246,-2.6553003835640965,-1.7561709460351222,1.6550044990079882,-1.226972373593737,-0.9793653576535893,-2.347776314071183,-2.3642317874135537,0.3912245640946132,-1.21449004319352,-1.7648293712282273,-0.09477160024068262,-1.519666801369538,-0.36174069996132097,1.951765100259545,-3.003403383754131,0.352672529952764,-1.88087056897982,-1.639335605147926,-2.6052141710301178,2.003235364722122,-3.0436676376135057,-2.221490394632184,-2.3446424043964127,-1.674697683993934,-2.399320715959623,-1.219106980528312,-4.1262648095972585,-0.9183514577726829,-3.502740279770857,-0.7963113850566393,-3.4440265062725004,-0.3191579872477762,-3.79143366390825,-2.570597529057949,-3.6024837089189616,-3.2717876885116075,-2.508257480344618,-3.1900112741555584,-3.5921833401127357,-1.3897479835479338,-1.8594790716520804,-3.297452382560332,-3.9251483442992954,-0.689472213632286,-2.430454778485348],\"xaxis\":\"x\",\"y\":[0,0,0,0,0,0,0,0,0,0,0,0,0,0,0,0,0,0,0,0,0,0,0,0,0,0,0,0,0,0,0,0,0,0,0,0,0,0,0,0,0,0,0,0,0,0,0,0,0,0,0,0,0,0,0,0,0,0,0,0,0,0,0,0,0,0,0,0,0,0,0,0,0,0,0,0,0,0,0,0,0,0,0,0,0,0,0,0,0,0,0,0,0,0,0,0,0,0,0,0,0,0,0,0,0,0,0,0,0,0,0,0,0,0,0,0,0,0,0,0,0,0,0,0,0,0,0,0,0,0,0,0,0,0,0,0,0,0,0,0,0,0,0,0,0,0,0,0,0,0,0,0,0,0,0,0,0,0,0,0,0,0,0,0,0,0,0,0,0,0,0,0,0,0,0,0,0,0,0,0,0,0,0,0,0,0,0,0,0,0,0,0,0,0,0,0,0,0,0,0,0,0,0,0,0,0,0,0,0,0,0,0,0,0,0,0,0,0,0,0,0,0,0,0,0,0,0,0,0,0,0,0,0,0,0,0,0,0,0,0,0,0,0,0,0,0,0,0,0,0,0,0,0,0,0,0,0,0,0,0,0,0,0,0,0,0,0,0,0,0,0,0,0,0,0,0,0,0,0,0,0,0,0,0,0,0,0,0,0,0,0,0,0,0,0,0,0,0,0,0,0,0,0,0,0,0,0,0,0,0,0,0,0,0,0,0,0,0,0,0,0,0,0,0,0,0,0,0,0,0,0,0,0,0,0,0,0,0,0,0,0,0,0,0,0,0,0,0,0,0,0,0,0,0,0,0,0,0,0,0,0,0,0,0,0,0,0,0,0,0,0,0,0,0,0,0,0,0,0,0,0,0,0,0,0,0,0,0,0,0,0,0,0,0,0,0,0,0,0,0,0,0,0,0,0,0,0,0,0,0,0,0,0,0,0,0,0,0,0,0,0,0,0,0,0,0,0,0,0,0,0,0,0,0,0,0,0,0,0,0,0,0,0,0,0,0,0],\"yaxis\":\"y\",\"type\":\"scatter\"}],                        {\"template\":{\"data\":{\"bar\":[{\"error_x\":{\"color\":\"#2a3f5f\"},\"error_y\":{\"color\":\"#2a3f5f\"},\"marker\":{\"line\":{\"color\":\"#E5ECF6\",\"width\":0.5},\"pattern\":{\"fillmode\":\"overlay\",\"size\":10,\"solidity\":0.2}},\"type\":\"bar\"}],\"barpolar\":[{\"marker\":{\"line\":{\"color\":\"#E5ECF6\",\"width\":0.5},\"pattern\":{\"fillmode\":\"overlay\",\"size\":10,\"solidity\":0.2}},\"type\":\"barpolar\"}],\"carpet\":[{\"aaxis\":{\"endlinecolor\":\"#2a3f5f\",\"gridcolor\":\"white\",\"linecolor\":\"white\",\"minorgridcolor\":\"white\",\"startlinecolor\":\"#2a3f5f\"},\"baxis\":{\"endlinecolor\":\"#2a3f5f\",\"gridcolor\":\"white\",\"linecolor\":\"white\",\"minorgridcolor\":\"white\",\"startlinecolor\":\"#2a3f5f\"},\"type\":\"carpet\"}],\"choropleth\":[{\"colorbar\":{\"outlinewidth\":0,\"ticks\":\"\"},\"type\":\"choropleth\"}],\"contour\":[{\"colorbar\":{\"outlinewidth\":0,\"ticks\":\"\"},\"colorscale\":[[0.0,\"#0d0887\"],[0.1111111111111111,\"#46039f\"],[0.2222222222222222,\"#7201a8\"],[0.3333333333333333,\"#9c179e\"],[0.4444444444444444,\"#bd3786\"],[0.5555555555555556,\"#d8576b\"],[0.6666666666666666,\"#ed7953\"],[0.7777777777777778,\"#fb9f3a\"],[0.8888888888888888,\"#fdca26\"],[1.0,\"#f0f921\"]],\"type\":\"contour\"}],\"contourcarpet\":[{\"colorbar\":{\"outlinewidth\":0,\"ticks\":\"\"},\"type\":\"contourcarpet\"}],\"heatmap\":[{\"colorbar\":{\"outlinewidth\":0,\"ticks\":\"\"},\"colorscale\":[[0.0,\"#0d0887\"],[0.1111111111111111,\"#46039f\"],[0.2222222222222222,\"#7201a8\"],[0.3333333333333333,\"#9c179e\"],[0.4444444444444444,\"#bd3786\"],[0.5555555555555556,\"#d8576b\"],[0.6666666666666666,\"#ed7953\"],[0.7777777777777778,\"#fb9f3a\"],[0.8888888888888888,\"#fdca26\"],[1.0,\"#f0f921\"]],\"type\":\"heatmap\"}],\"heatmapgl\":[{\"colorbar\":{\"outlinewidth\":0,\"ticks\":\"\"},\"colorscale\":[[0.0,\"#0d0887\"],[0.1111111111111111,\"#46039f\"],[0.2222222222222222,\"#7201a8\"],[0.3333333333333333,\"#9c179e\"],[0.4444444444444444,\"#bd3786\"],[0.5555555555555556,\"#d8576b\"],[0.6666666666666666,\"#ed7953\"],[0.7777777777777778,\"#fb9f3a\"],[0.8888888888888888,\"#fdca26\"],[1.0,\"#f0f921\"]],\"type\":\"heatmapgl\"}],\"histogram\":[{\"marker\":{\"pattern\":{\"fillmode\":\"overlay\",\"size\":10,\"solidity\":0.2}},\"type\":\"histogram\"}],\"histogram2d\":[{\"colorbar\":{\"outlinewidth\":0,\"ticks\":\"\"},\"colorscale\":[[0.0,\"#0d0887\"],[0.1111111111111111,\"#46039f\"],[0.2222222222222222,\"#7201a8\"],[0.3333333333333333,\"#9c179e\"],[0.4444444444444444,\"#bd3786\"],[0.5555555555555556,\"#d8576b\"],[0.6666666666666666,\"#ed7953\"],[0.7777777777777778,\"#fb9f3a\"],[0.8888888888888888,\"#fdca26\"],[1.0,\"#f0f921\"]],\"type\":\"histogram2d\"}],\"histogram2dcontour\":[{\"colorbar\":{\"outlinewidth\":0,\"ticks\":\"\"},\"colorscale\":[[0.0,\"#0d0887\"],[0.1111111111111111,\"#46039f\"],[0.2222222222222222,\"#7201a8\"],[0.3333333333333333,\"#9c179e\"],[0.4444444444444444,\"#bd3786\"],[0.5555555555555556,\"#d8576b\"],[0.6666666666666666,\"#ed7953\"],[0.7777777777777778,\"#fb9f3a\"],[0.8888888888888888,\"#fdca26\"],[1.0,\"#f0f921\"]],\"type\":\"histogram2dcontour\"}],\"mesh3d\":[{\"colorbar\":{\"outlinewidth\":0,\"ticks\":\"\"},\"type\":\"mesh3d\"}],\"parcoords\":[{\"line\":{\"colorbar\":{\"outlinewidth\":0,\"ticks\":\"\"}},\"type\":\"parcoords\"}],\"pie\":[{\"automargin\":true,\"type\":\"pie\"}],\"scatter\":[{\"marker\":{\"colorbar\":{\"outlinewidth\":0,\"ticks\":\"\"}},\"type\":\"scatter\"}],\"scatter3d\":[{\"line\":{\"colorbar\":{\"outlinewidth\":0,\"ticks\":\"\"}},\"marker\":{\"colorbar\":{\"outlinewidth\":0,\"ticks\":\"\"}},\"type\":\"scatter3d\"}],\"scattercarpet\":[{\"marker\":{\"colorbar\":{\"outlinewidth\":0,\"ticks\":\"\"}},\"type\":\"scattercarpet\"}],\"scattergeo\":[{\"marker\":{\"colorbar\":{\"outlinewidth\":0,\"ticks\":\"\"}},\"type\":\"scattergeo\"}],\"scattergl\":[{\"marker\":{\"colorbar\":{\"outlinewidth\":0,\"ticks\":\"\"}},\"type\":\"scattergl\"}],\"scattermapbox\":[{\"marker\":{\"colorbar\":{\"outlinewidth\":0,\"ticks\":\"\"}},\"type\":\"scattermapbox\"}],\"scatterpolar\":[{\"marker\":{\"colorbar\":{\"outlinewidth\":0,\"ticks\":\"\"}},\"type\":\"scatterpolar\"}],\"scatterpolargl\":[{\"marker\":{\"colorbar\":{\"outlinewidth\":0,\"ticks\":\"\"}},\"type\":\"scatterpolargl\"}],\"scatterternary\":[{\"marker\":{\"colorbar\":{\"outlinewidth\":0,\"ticks\":\"\"}},\"type\":\"scatterternary\"}],\"surface\":[{\"colorbar\":{\"outlinewidth\":0,\"ticks\":\"\"},\"colorscale\":[[0.0,\"#0d0887\"],[0.1111111111111111,\"#46039f\"],[0.2222222222222222,\"#7201a8\"],[0.3333333333333333,\"#9c179e\"],[0.4444444444444444,\"#bd3786\"],[0.5555555555555556,\"#d8576b\"],[0.6666666666666666,\"#ed7953\"],[0.7777777777777778,\"#fb9f3a\"],[0.8888888888888888,\"#fdca26\"],[1.0,\"#f0f921\"]],\"type\":\"surface\"}],\"table\":[{\"cells\":{\"fill\":{\"color\":\"#EBF0F8\"},\"line\":{\"color\":\"white\"}},\"header\":{\"fill\":{\"color\":\"#C8D4E3\"},\"line\":{\"color\":\"white\"}},\"type\":\"table\"}]},\"layout\":{\"annotationdefaults\":{\"arrowcolor\":\"#2a3f5f\",\"arrowhead\":0,\"arrowwidth\":1},\"autotypenumbers\":\"strict\",\"coloraxis\":{\"colorbar\":{\"outlinewidth\":0,\"ticks\":\"\"}},\"colorscale\":{\"diverging\":[[0,\"#8e0152\"],[0.1,\"#c51b7d\"],[0.2,\"#de77ae\"],[0.3,\"#f1b6da\"],[0.4,\"#fde0ef\"],[0.5,\"#f7f7f7\"],[0.6,\"#e6f5d0\"],[0.7,\"#b8e186\"],[0.8,\"#7fbc41\"],[0.9,\"#4d9221\"],[1,\"#276419\"]],\"sequential\":[[0.0,\"#0d0887\"],[0.1111111111111111,\"#46039f\"],[0.2222222222222222,\"#7201a8\"],[0.3333333333333333,\"#9c179e\"],[0.4444444444444444,\"#bd3786\"],[0.5555555555555556,\"#d8576b\"],[0.6666666666666666,\"#ed7953\"],[0.7777777777777778,\"#fb9f3a\"],[0.8888888888888888,\"#fdca26\"],[1.0,\"#f0f921\"]],\"sequentialminus\":[[0.0,\"#0d0887\"],[0.1111111111111111,\"#46039f\"],[0.2222222222222222,\"#7201a8\"],[0.3333333333333333,\"#9c179e\"],[0.4444444444444444,\"#bd3786\"],[0.5555555555555556,\"#d8576b\"],[0.6666666666666666,\"#ed7953\"],[0.7777777777777778,\"#fb9f3a\"],[0.8888888888888888,\"#fdca26\"],[1.0,\"#f0f921\"]]},\"colorway\":[\"#636efa\",\"#EF553B\",\"#00cc96\",\"#ab63fa\",\"#FFA15A\",\"#19d3f3\",\"#FF6692\",\"#B6E880\",\"#FF97FF\",\"#FECB52\"],\"font\":{\"color\":\"#2a3f5f\"},\"geo\":{\"bgcolor\":\"white\",\"lakecolor\":\"white\",\"landcolor\":\"#E5ECF6\",\"showlakes\":true,\"showland\":true,\"subunitcolor\":\"white\"},\"hoverlabel\":{\"align\":\"left\"},\"hovermode\":\"closest\",\"mapbox\":{\"style\":\"light\"},\"paper_bgcolor\":\"white\",\"plot_bgcolor\":\"#E5ECF6\",\"polar\":{\"angularaxis\":{\"gridcolor\":\"white\",\"linecolor\":\"white\",\"ticks\":\"\"},\"bgcolor\":\"#E5ECF6\",\"radialaxis\":{\"gridcolor\":\"white\",\"linecolor\":\"white\",\"ticks\":\"\"}},\"scene\":{\"xaxis\":{\"backgroundcolor\":\"#E5ECF6\",\"gridcolor\":\"white\",\"gridwidth\":2,\"linecolor\":\"white\",\"showbackground\":true,\"ticks\":\"\",\"zerolinecolor\":\"white\"},\"yaxis\":{\"backgroundcolor\":\"#E5ECF6\",\"gridcolor\":\"white\",\"gridwidth\":2,\"linecolor\":\"white\",\"showbackground\":true,\"ticks\":\"\",\"zerolinecolor\":\"white\"},\"zaxis\":{\"backgroundcolor\":\"#E5ECF6\",\"gridcolor\":\"white\",\"gridwidth\":2,\"linecolor\":\"white\",\"showbackground\":true,\"ticks\":\"\",\"zerolinecolor\":\"white\"}},\"shapedefaults\":{\"line\":{\"color\":\"#2a3f5f\"}},\"ternary\":{\"aaxis\":{\"gridcolor\":\"white\",\"linecolor\":\"white\",\"ticks\":\"\"},\"baxis\":{\"gridcolor\":\"white\",\"linecolor\":\"white\",\"ticks\":\"\"},\"bgcolor\":\"#E5ECF6\",\"caxis\":{\"gridcolor\":\"white\",\"linecolor\":\"white\",\"ticks\":\"\"}},\"title\":{\"x\":0.05},\"xaxis\":{\"automargin\":true,\"gridcolor\":\"white\",\"linecolor\":\"white\",\"ticks\":\"\",\"title\":{\"standoff\":15},\"zerolinecolor\":\"white\",\"zerolinewidth\":2},\"yaxis\":{\"automargin\":true,\"gridcolor\":\"white\",\"linecolor\":\"white\",\"ticks\":\"\",\"title\":{\"standoff\":15},\"zerolinecolor\":\"white\",\"zerolinewidth\":2}}},\"xaxis\":{\"anchor\":\"y\",\"domain\":[0.0,1.0],\"title\":{\"text\":\"pc1\"}},\"yaxis\":{\"anchor\":\"x\",\"domain\":[0.0,1.0],\"title\":{\"text\":\"zeroed\"}},\"legend\":{\"tracegroupgap\":0},\"margin\":{\"t\":60}},                        {\"responsive\": true}                    ).then(function(){\n",
              "                            \n",
              "var gd = document.getElementById('3c378bab-2877-4755-883b-396f9bb16f27');\n",
              "var x = new MutationObserver(function (mutations, observer) {{\n",
              "        var display = window.getComputedStyle(gd).display;\n",
              "        if (!display || display === 'none') {{\n",
              "            console.log([gd, 'removed!']);\n",
              "            Plotly.purge(gd);\n",
              "            observer.disconnect();\n",
              "        }}\n",
              "}});\n",
              "\n",
              "// Listen for the removal of the full notebook cells\n",
              "var notebookContainer = gd.closest('#notebook-container');\n",
              "if (notebookContainer) {{\n",
              "    x.observe(notebookContainer, {childList: true});\n",
              "}}\n",
              "\n",
              "// Listen for the clearing of the current output cell\n",
              "var outputEl = gd.closest('.output');\n",
              "if (outputEl) {{\n",
              "    x.observe(outputEl, {childList: true});\n",
              "}}\n",
              "\n",
              "                        })                };                            </script>        </div>\n",
              "</body>\n",
              "</html>"
            ]
          },
          "metadata": {}
        },
        {
          "output_type": "stream",
          "name": "stdout",
          "text": [
            "200    Giannis Antetokounmpo\n",
            "Name: PLAYER, dtype: object\n"
          ]
        }
      ]
    },
    {
      "cell_type": "markdown",
      "source": [
        "For Power Forwards, the player who is on the right most is Giannis Antetokounmpo."
      ],
      "metadata": {
        "id": "O3msVg_1dUZ9"
      }
    },
    {
      "cell_type": "markdown",
      "source": [
        "Next, we will try to find the principal components on which k-means clustering can be done to get right appropriate clusters"
      ],
      "metadata": {
        "id": "qk1XxKqhdVdZ"
      }
    },
    {
      "cell_type": "code",
      "source": [
        "len(set(comp_1_players) - set(comp_10_players))"
      ],
      "metadata": {
        "colab": {
          "base_uri": "https://localhost:8080/"
        },
        "outputId": "f7328b63-f1d2-4fdb-ae2c-13ad3ed51e13",
        "id": "UGjAH_JZeiCz"
      },
      "execution_count": null,
      "outputs": [
        {
          "output_type": "execute_result",
          "data": {
            "text/plain": [
              "15"
            ]
          },
          "metadata": {},
          "execution_count": 286
        }
      ]
    },
    {
      "cell_type": "markdown",
      "source": [
        "clustering with pca 1 considered 15 data points as most productive Power Forward player seasons even though they are not."
      ],
      "metadata": {
        "id": "uusrdOdpeiC0"
      }
    },
    {
      "cell_type": "code",
      "source": [
        "len(set(comp_10_players) - set(comp_1_players))"
      ],
      "metadata": {
        "colab": {
          "base_uri": "https://localhost:8080/"
        },
        "outputId": "01c1f9de-1603-4027-e244-1351f72e0f4b",
        "id": "_aP3PdzheiDC"
      },
      "execution_count": null,
      "outputs": [
        {
          "output_type": "execute_result",
          "data": {
            "text/plain": [
              "7"
            ]
          },
          "metadata": {},
          "execution_count": 287
        }
      ]
    },
    {
      "cell_type": "markdown",
      "source": [
        "These players seasons were not included in the cluster with only one principal component."
      ],
      "metadata": {
        "id": "O9QnV5K4eiDD"
      }
    },
    {
      "cell_type": "code",
      "source": [
        "len(set(comp_3_players) - set(comp_10_players))"
      ],
      "metadata": {
        "colab": {
          "base_uri": "https://localhost:8080/"
        },
        "outputId": "34aaf1c7-1750-45ed-d229-f18f6c409742",
        "id": "c7dqDgi4eiDE"
      },
      "execution_count": null,
      "outputs": [
        {
          "output_type": "execute_result",
          "data": {
            "text/plain": [
              "32"
            ]
          },
          "metadata": {},
          "execution_count": 284
        }
      ]
    },
    {
      "cell_type": "code",
      "source": [
        "len(set(comp_10_players) - set(comp_3_players))"
      ],
      "metadata": {
        "colab": {
          "base_uri": "https://localhost:8080/"
        },
        "outputId": "5f5ab4f3-1241-4da8-ceaf-94e3dd672f82",
        "id": "Ue403hF9eiDE"
      },
      "execution_count": null,
      "outputs": [
        {
          "output_type": "execute_result",
          "data": {
            "text/plain": [
              "5"
            ]
          },
          "metadata": {},
          "execution_count": 285
        }
      ]
    },
    {
      "cell_type": "markdown",
      "source": [
        "For power forward position, cluster formed with taking three principal components is doing bad in comparision to cluster formed with only one dimension. Overall, both the scenarios are not forming well defined clusters, so we will choose to do clustering with 10 principal components for this position too just like center."
      ],
      "metadata": {
        "id": "n9Yz9g-OHjUf"
      }
    },
    {
      "cell_type": "code",
      "source": [
        "fig = px.scatter_3d(\n",
        "    df_cluster, x= df_cluster[\"pc1\"], y=df_cluster[\"pc2\"], z=df_cluster[\"pc3\"], color=df_cluster['comp_10'],\n",
        "    title=f'k-means Clustering after dimensionality reduction',\n",
        "    hover_name=df_cluster['player-year-tm']\n",
        ")\n",
        "\n",
        "\n",
        "fig.show()"
      ],
      "metadata": {
        "colab": {
          "base_uri": "https://localhost:8080/",
          "height": 542
        },
        "outputId": "54b2ef55-7420-4a4f-dda3-eb9dde5c4583",
        "id": "4wKUmfvTeiDN"
      },
      "execution_count": null,
      "outputs": [
        {
          "output_type": "display_data",
          "data": {
            "text/html": [
              "<html>\n",
              "<head><meta charset=\"utf-8\" /></head>\n",
              "<body>\n",
              "    <div>            <script src=\"https://cdnjs.cloudflare.com/ajax/libs/mathjax/2.7.5/MathJax.js?config=TeX-AMS-MML_SVG\"></script><script type=\"text/javascript\">if (window.MathJax) {MathJax.Hub.Config({SVG: {font: \"STIX-Web\"}});}</script>                <script type=\"text/javascript\">window.PlotlyConfig = {MathJaxConfig: 'local'};</script>\n",
              "        <script src=\"https://cdn.plot.ly/plotly-2.8.3.min.js\"></script>                <div id=\"0d77be47-65dc-4dd6-a1b4-dce8589ae3cb\" class=\"plotly-graph-div\" style=\"height:525px; width:100%;\"></div>            <script type=\"text/javascript\">                                    window.PLOTLYENV=window.PLOTLYENV || {};                                    if (document.getElementById(\"0d77be47-65dc-4dd6-a1b4-dce8589ae3cb\")) {                    Plotly.newPlot(                        \"0d77be47-65dc-4dd6-a1b4-dce8589ae3cb\",                        [{\"hovertemplate\":\"<b>%{hovertext}</b><br><br>comp_10=3<br>pc1=%{x}<br>pc2=%{y}<br>pc3=%{z}<extra></extra>\",\"hovertext\":[\"Greg Monroe-2013-DET\",\"Taj Gibson-2013-CHI\",\"Brandon Bass-2013-BOS\",\"Luis Scola-2012-PHO\",\"Gorgui Dieng-2017-MIN\",\"Lamar Odom-2010-LAL\",\"Serge Ibaka-2010-OKC\",\"Taj Gibson-2018-MIN\",\"Julius Randle-2016-LAL\",\"Elton Brand-2010-PHI\",\"DeJuan Blair-2010-SAS\",\"Tiago Splitter-2012-SAS\",\"Serge Ibaka-2013-OKC\",\"Carl Landry-2012-GSW\",\"Amir Johnson-2012-TOR\",\"Brandon Bass-2012-BOS\",\"Markieff Morris-2013-PHO\",\"LaMarcus Aldridge-2010-POR\",\"Kenneth Faried-2013-DEN\",\"Serge Ibaka-2012-OKC\",\"Trevor Booker-2016-UTA\",\"Amir Johnson-2016-BOS\",\"Trevor Booker-2015-UTA\",\"Amir Johnson-2015-BOS\",\"Zach Randolph-2013-MEM\",\"David Lee-2012-GSW\",\"Carlos Boozer-2012-CHI\",\"Paul Millsap-2012-UTA\",\"Serge Ibaka-2015-OKC\",\"Aaron Gordon-2015-ORL\",\"Serge Ibaka-2016-OKC\",\"Aaron Gordon-2016-ORL\",\"Pau Gasol-2014-CHI\",\"Taj Gibson-2017-TOT\",\"DeJuan Blair-2013-DAL\",\"Derrick Favors-2012-UTA\",\"Amir Johnson-2013-TOR\",\"Jabari Parker-2016-MIL\",\"Brandon Bass-2010-ORL\",\"Terrence Jones-2013-HOU\",\"Carlos Boozer-2013-CHI\",\"Zach Randolph-2012-MEM\",\"Carl Landry-2010-TOT\",\"Jabari Parker-2015-MIL\",\"Kenneth Faried-2014-DEN\",\"Amir Johnson-2014-TOR\",\"Zach Randolph-2010-MEM\",\"Luis Scola-2010-HOU\",\"Derrick Favors-2014-UTA\",\"Kris Humphries-2010-NJN\",\"LaMarcus Aldridge-2012-POR\",\"LaMarcus Aldridge-2016-SAS\",\"Julius Randle-2017-LAL\",\"John Collins-2018-ATL\",\"LaMarcus Aldridge-2015-SAS\",\"Taj Gibson-2015-CHI\",\"Andray Blatche-2013-BRK\",\"Zach Randolph-2017-MEM\",\"Derrick Favors-2013-UTA\",\"David Lee-2010-GSW\",\"Kevin Love-2010-MIN\",\"Taj Gibson-2016-CHI\",\"Jordan Hill-2013-LAL\",\"Amir Johnson-2010-TOR\",\"LaMarcus Aldridge-2017-SAS\",\"Zach Randolph-2014-MEM\",\"LaMarcus Aldridge-2014-POR\",\"Trevor Booker-2017-BRK\",\"John Henson-2013-MIL\",\"Paul Millsap-2019-DEN\",\"Taj Gibson-2019-MIN\",\"LaMarcus Aldridge-2013-POR\",\"David Lee-2013-GSW\",\"Zach Randolph-2015-MEM\",\"Anthony Davis-2014-NOP\",\"Zach Randolph-2016-MEM\",\"Shawn Marion-2012-DAL\",\"Kenneth Faried-2016-DEN\",\"Anthony Davis-2013-NOP\",\"Kenneth Faried-2015-DEN\",\"Carlos Boozer-2011-CHI\",\"Serge Ibaka-2011-OKC\",\"Luis Scola-2011-HOU\",\"Ed Davis-2011-TOR\",\"Blake Griffin-2011-LAC\",\"Pau Gasol-2011-LAL\",\"Taj Gibson-2012-CHI\",\"Amir Johnson-2011-TOR\",\"Jason Thompson-2011-SAC\",\"Andray Blatche-2010-WAS\",\"DeJuan Blair-2011-SAS\",\"Paul Millsap-2011-UTA\",\"Serge Ibaka-2014-OKC\",\"Larry Nance Jr.-2017-LAL\",\"Derrick Favors-2015-UTA\",\"Derrick Favors-2016-UTA\",\"Marvin Bagley III-2019-SAC\",\"Kenneth Faried-2017-DEN\",\"John Collins-2019-ATL\",\"Jaren Jackson Jr.-2019-MEM\",\"David Lee-2011-GSW\",\"LaMarcus Aldridge-2011-POR\",\"JaMychal Green-2018-MEM\",\"David Lee-2015-TOT\",\"Kevin Love-2011-MIN\",\"Trevor Booker-2011-WAS\",\"Pau Gasol-2012-LAL\",\"Kenyon Martin-2010-DEN\",\"Amar'e Stoudemire-2011-NYK\"],\"legendgroup\":\"3\",\"marker\":{\"color\":\"#636efa\",\"symbol\":\"circle\"},\"mode\":\"markers\",\"name\":\"3\",\"scene\":\"scene\",\"showlegend\":true,\"x\":[2.512390368363021,1.3978713220028844,0.14598992681378514,1.4922622559671772,2.307423082600585,2.4585782336903277,1.739180034304167,1.998564233596376,1.0256547018101818,2.5786951084692054,1.288123552847668,1.5206513710417129,3.5508877743730007,0.40114081807758845,2.9401147472238467,-0.07873152836843961,1.0602393630642613,3.574806946529249,2.375742733503951,2.8846118505296188,-0.19770371734707373,1.6023072988411962,-0.2518498270169188,1.5336935938741871,2.770538935505496,4.1452384154748625,2.9448463789171164,2.7933248026417,1.5185141430413585,-0.10453488991829135,1.626459235835451,0.14363820537147878,2.9337093578157254,0.4366625713117176,-0.38363561949877945,1.6603083638013019,2.3962695478115807,0.594675273382137,0.06956740890975,0.75466253029781,1.3681900630631036,2.480035711784509,0.1653431917659474,0.4905250600890522,1.889532417210862,1.5234127184992858,3.4466209373782974,2.4993766156186905,2.389613313339724,1.131835552236959,3.2785743537334215,2.134670164202559,2.415927994088851,1.874437560797279,1.8785896092311307,0.8621918997637014,0.626983403928925,0.3152377611805396,2.7056207356432354,3.5002209633147574,3.466976451496544,0.7759276088572344,0.41880842939831325,2.006008138224012,1.639640730842299,2.6714250896001444,2.5081271663347535,1.4332965244220448,1.363748747770776,2.0021060062391047,1.2053821155520077,3.114790800435568,2.919447283259765,1.2469524896691129,4.726022904923736,0.9796696942752964,1.5623907509394128,1.4756605714129472,4.334723818456671,1.4522853189135723,2.219041472706541,2.1903649542228507,1.7719515142992843,-0.15503204300031004,3.928555205448746,3.5231937012818584,0.09004565838073662,1.2510214965828501,0.24150806474838074,2.955404212515416,0.4991164874087397,3.8253155751005,2.332684885873926,0.6776644374972045,2.6244677713420357,2.62139657079818,0.948859300495329,0.5911574864490005,3.2664481786578614,1.6453558763089255,3.4042747441042556,3.0047020905939923,0.4235241899705027,-0.34027509256113847,3.727475774784647,0.3912245640946132,1.951765100259545,0.352672529952764,2.003235364722122],\"y\":[2.9764366132339743,2.4179495019116195,0.6753335973436735,1.5247034361857887,0.4032854415849637,-0.6767232565122725,1.6707086233858734,-0.6177638844533125,2.9126765070785945,2.54657495966176,1.9291694244858748,-0.45428928041553224,-0.170420753475875,-0.2939323969000445,0.034839778788687825,1.292666107166796,1.1277059953264512,2.059387374702133,1.5160146159537824,0.015024117880955066,0.5221035425880928,-0.6334013859563071,0.5740800036962284,-0.5562598152895373,2.691963709405644,2.0736754434275784,2.2748773175535293,0.9258406722227388,0.1484835409561064,0.6435668877296652,0.08519428475366576,0.2533821954688944,1.365809156480484,0.7614088936632409,1.1276240641529423,2.6709362061357913,-0.40986596217383087,0.7694853012223511,0.8313173825362635,0.3443021911638048,2.6662663920714804,3.014199642048145,1.1674834011966155,0.9248926634578866,1.865849912808233,-1.0933043057167688,2.114996374758699,1.9538062465479513,1.9325714854966354,2.6638329308079123,1.7037810781357199,1.033625559482083,1.2469256152884498,-0.8082930183471444,1.485493355316552,1.6222521940752213,0.6382889461027178,1.8074192030626843,2.4728750820715764,0.9437837157263618,0.7036499004210712,1.6800205691729933,1.5100370404051306,0.2033912064737611,0.5434252724140953,1.5014507779918658,1.0284206097278727,0.28495678697129767,2.5861450442683496,-0.5772843394490359,-0.8857366158478408,2.2566874224397404,1.60595237092582,1.064064058871672,1.8154614958983024,1.4567281364592781,0.5189979010370729,0.2020079695594867,2.081186285561037,0.34639361426674875,1.2701601160870792,1.0656209352728114,1.7223190923246696,1.4985885233837708,2.174315083290297,0.6441137752106831,1.6822263148671879,-0.7927395711114278,1.7717863513820986,2.823882739176078,1.5349271880652724,1.3720193746464142,-0.6105322086775333,-0.11273400795816417,2.1132723010165324,2.1450825125818307,0.4021398999562754,0.9730131251300652,-1.112064321961987,-0.9806279891202138,2.2886174018259124,1.193328241642828,0.6672853580223641,0.6791219120982629,0.27894800456818114,0.10461385769903297,1.1320198889078041,1.1869093327961517,1.2233639299050878],\"z\":[-0.5059928342909651,-0.8168592850733152,0.06871596658435687,0.47076970377008587,-0.13851117274276212,-0.5383399485983773,-3.069746270249847,-2.5987886240108526,1.9042769442707226,-1.1046146141527848,-1.3036587489476645,-2.6649108329761715,-2.1755388179905,-1.1368770648069044,-1.8806281870273829,-0.5329278519345689,0.7429740762965164,-0.5132329516462228,-2.259288195251308,-3.063128340438563,-0.7086105047749697,-3.435731823090441,-0.7001045825042048,-3.4124271882377495,0.4936197426647725,-0.016684653437889076,0.1712934296098046,0.21579220556668158,-0.6857109838704692,-0.3520068423206059,-0.6578720367573617,-0.5597749778178229,0.5796820442674692,-1.0407708228434573,-1.880570067472521,-1.132154421703012,-2.4986291791587494,0.18660933213498263,-1.3503632969341466,-1.8538714094351811,0.7554542944060009,0.19092055869071234,-1.5456460462431405,0.2645388211266126,-1.2246599482633111,-2.3459592958166207,-0.3570881952288458,-0.47688991696190053,-1.506120927352196,-1.4686755622694467,0.03190530345574481,-1.2816999422865145,0.6429648312983439,-2.4954775109514116,-1.0126074191868581,-2.007335078915301,0.21956232187041816,0.826404919272311,-1.579151734189197,0.328912542096266,1.5265757838253777,-2.0215955429034986,-2.368620967665795,-3.2270935537467538,0.42449231742172394,0.9162153784353001,1.2230517149020819,-0.31155696464458005,-2.2573285022924874,-0.11446190020805531,-2.1341082766360446,1.1649230536811275,-0.8078196218224789,0.35438033183387185,-1.6619955325980726,0.547529170947072,0.2714369013150706,-1.91958345830807,-1.2566925442150627,-1.7804610871553903,-0.9405557007457288,-2.9735841446119013,-0.17858312779947952,-1.7569930666772615,-1.5804493686390646,-0.21413904740192247,-1.423588378031797,-2.35479884528612,-2.0494890199114124,1.5206250330125808,-1.6986853384970528,0.09827188875835202,-0.4871674334148437,-1.0579948947676263,-1.4248673447444882,-1.3923268960012245,-0.9374693099662879,-2.5708315034896954,-1.966024682099645,-0.8567941255357,-0.08652631179164355,-0.3218063960854382,0.4057752864449386,-1.4644180914088905,1.7375660084393416,-1.179931825966269,0.6629886499654317,-0.4003876139181905,0.018043116637889413],\"type\":\"scatter3d\"},{\"hovertemplate\":\"<b>%{hovertext}</b><br><br>comp_10=4<br>pc1=%{x}<br>pc2=%{y}<br>pc3=%{z}<extra></extra>\",\"hovertext\":[\"Luis Scola-2013-IND\",\"Markieff Morris-2012-PHO\",\"Lamar Odom-2012-LAC\",\"Tyler Hansbrough-2012-IND\",\"Domantas Sabonis-2017-OKC\",\"Dorian Finney-Smith-2017-DAL\",\"Julius Randle-2015-LAL\",\"Dante Cunningham-2013-MIN\",\"Trey Lyles-2016-UTA\",\"Darrell Arthur-2010-MEM\",\"Dante Cunningham-2012-MIN\",\"Taj Gibson-2010-CHI\",\"Luc Mbah a Moute-2010-MIL\",\"Jonas Jerebko-2016-BOS\",\"JaMychal Green-2016-MEM\",\"Jonas Jerebko-2015-BOS\",\"Dante Cunningham-2010-TOT\",\"Jerami Grant-2015-PHI\",\"Jerami Grant-2016-PHI\",\"Andrew Nicholson-2013-ORL\",\"Luc Mbah a Moute-2015-LAC\",\"Luc Mbah a Moute-2016-LAC\",\"Glen Davis-2014-LAC\",\"Meyers Leonard-2017-POR\",\"Jarell Martin-2018-MEM\",\"Semi Ojeleye-2018-BOS\",\"Boris Diaw-2017-UTA\",\"Antonio McDyess-2010-SAS\",\"Spencer Hawes-2014-LAC\",\"Trevor Booker-2013-WAS\",\"Marquese Chriss-2018-PHO\",\"Trey Lyles-2017-UTA\",\"Thomas Robinson-2015-BRK\",\"Thomas Robinson-2016-BRK\",\"Omri Casspi-2013-HOU\",\"Thomas Robinson-2013-POR\",\"Tyler Hansbrough-2010-IND\",\"Darrell Arthur-2015-DEN\",\"Joffrey Lauvergne-2017-TOT\",\"Josh Huestis-2018-OKC\",\"Jeff Green-2017-ORL\",\"Kris Humphries-2013-BOS\",\"Glen Davis-2013-TOT\",\"Quincy Acy-2014-NYK\",\"Josh McRoberts-2012-TOT\",\"Luc Mbah a Moute-2014-PHI\",\"Tyler Hansbrough-2011-IND\",\"Dante Cunningham-2014-NOP\",\"Jason Maxiell-2011-DET\",\"Kris Humphries-2012-BRK\",\"Kyle O'Quinn-2015-NYK\",\"Kyle O'Quinn-2016-NYK\",\"Lavoy Allen-2013-TOT\",\"Dominic McGuire-2011-GSW\",\"Dante Cunningham-2011-MEM\",\"Tyler Hansbrough-2013-TOR\",\"Luc Mbah a Moute-2013-TOT\",\"Kris Humphries-2014-WAS\",\"Patrick Patterson-2011-HOU\",\"Trey Lyles-2019-DEN\",\"Yi Jianlian-2010-WAS\",\"Jon Leuer-2014-MEM\",\"Bobby Portis-2016-CHI\",\"Udonis Haslem-2014-MIA\",\"Lavoy Allen-2017-IND\",\"Glen Davis-2011-ORL\",\"Marreese Speights-2011-MEM\",\"Earl Clark-2012-LAL\",\"Darnell Jackson-2010-SAC\",\"Nick Collison-2015-OKC\",\"Nick Collison-2016-OKC\",\"Troy Murphy-2011-LAL\",\"Darrell Arthur-2014-DEN\",\"Spencer Hawes-2016-CHO\",\"Spencer Hawes-2015-CHO\",\"Anthony Bennett-2014-MIN\",\"Chris Singleton-2012-WAS\",\"Kris Humphries-2017-ATL\",\"Josh Smith-2015-TOT\",\"Rashard Lewis-2012-MIA\",\"Pascal Siakam-2017-TOR\",\"Terrence Jones-2017-TOT\",\"Josh Powell-2010-ATL\",\"Tyrus Thomas-2011-CHA\",\"Earl Clark-2013-TOT\",\"Lou Amundson-2014-TOT\",\"Byron Mullens-2012-CHA\",\"Kris Humphries-2015-TOT\",\"Larry Sanders-2011-MIL\",\"Ryan Kelly-2014-LAL\",\"Adreian Payne-2015-MIN\",\"Jeff Adrien-2012-CHA\",\"Quincy Miller-2013-DEN\",\"Adreian Payne-2016-MIN\",\"Drew Gooden-2014-WAS\",\"Terrence Jones-2016-HOU\",\"Derrick Favors-2017-UTA\",\"Thomas Robinson-2017-LAL\",\"Trevor Booker-2012-WAS\",\"Reggie Evans-2014-SAC\",\"Tyler Hansbrough-2016-CHO\",\"Luc Mbah a Moute-2011-MIL\",\"Marquese Chriss-2019-TOT\",\"Dragan Bender-2017-PHO\",\"Anthony Randolph-2013-DEN\",\"Jarell Martin-2017-MEM\",\"Josh McRoberts-2015-MIA\",\"Josh McRoberts-2016-MIA\",\"Jared Jeffries-2010-TOT\",\"Kenyon Martin-2011-LAC\",\"Carl Landry-2011-NOH\"],\"legendgroup\":\"4\",\"marker\":{\"color\":\"#EF553B\",\"symbol\":\"circle\"},\"mode\":\"markers\",\"name\":\"4\",\"scene\":\"scene\",\"showlegend\":true,\"x\":[-1.2834490046207812,-0.26322938908724086,-0.9475200698348649,-1.9078271274000194,-1.7272912601725712,-2.4929887788194196,-1.0883675139194318,-1.5627416155634224,-2.2916268440581034,-0.5797156898798315,-0.5357110370732068,-0.32985312419731433,-0.4573431581408984,-2.26626887414556,-0.726412172666785,-2.128347211120346,-1.2518277664817894,0.08334010935417105,0.06350673029297314,-2.3468557846812206,-3.390397120983534,-2.824672364363592,-2.923152103785212,-2.3789565719682813,-0.7580813906434151,-4.271617329901803,-2.225958297644236,-0.7689281023930206,-1.9455613440070738,-0.8735835050931695,-0.18809945912161316,-2.8070207008490162,-1.9763760986474064,-2.501810452035954,-1.9507803122387217,-2.4828454359336063,-1.1513355186137386,-0.6711724474439525,-2.5764709074022814,-4.3422633049822705,-2.1235766662046545,-0.5344441102848287,-0.5884001906918678,-1.5964002061766973,-1.0643918113866522,-0.8106001276132057,-1.4694276481236273,-2.1945623003067385,-1.2383211549207664,-1.690799081002999,-1.7243524627236273,-1.7536759619797944,-2.0230702014091557,-2.0048116478176206,-2.009040545648892,-1.995395873580311,-3.369476781432027,-0.9250943878422055,-1.4848415730322095,-1.6064884518172733,-2.6144825991249525,-2.834819623184361,-2.006910888157013,-2.51881589304753,-3.0187272942139685,-1.1549562221744252,-0.539416016849235,-1.727092320727094,-4.761079199132226,-2.7399112116559365,-2.7320037519742795,-3.4371568844284393,-1.6294197803862125,-1.592727239308165,-1.8200255758999435,-3.086554731126478,-2.8561627779070466,-3.117213657512379,-1.7433412542734288,-3.6803070210508264,-1.9924059917049235,-0.8077496280005589,-3.6179498397110277,-1.7730046554176648,-3.551716386566424,-1.9442796100239288,-1.1068480621260388,-2.2922192258317504,-2.229152212617726,-2.448354112413683,-4.475782757807327,-3.217774885101118,-3.692233118915646,-4.418147713065831,-2.347776314071183,-1.7648293712282273,-0.09477160024068262,-1.88087056897982,-1.639335605147926,-2.221490394632184,-4.1262648095972585,-0.7963113850566393,-3.4440265062725004,-3.79143366390825,-2.570597529057949,-3.2717876885116075,-2.508257480344618,-3.1900112741555584,-3.5921833401127357,-1.3897479835479338,-0.689472213632286],\"y\":[1.297818013859274,1.5554483945600246,3.221045743422219,2.4002808661633623,0.8963513012491512,0.2092874027968495,6.315135966989562,2.5496880373303084,-0.34389328450180867,2.4185899589176967,2.1477229255547665,2.0926916715170747,2.068590072417116,-0.5368819521768589,0.6957043677335449,-0.7724924255380601,1.396442877894034,2.07417373868708,1.952724806415521,-0.12396855619435694,1.057427408758513,0.25939120470203203,1.8771904739628715,-0.7757181466126472,0.6223134456026288,0.8904562352863076,-0.07310534320125443,1.6874485806709834,0.2898840721010965,1.4811736096182322,0.9255048705078627,0.6567938119449843,2.9752866835185428,3.794091336930986,-0.14084023459964778,2.5642616835245957,2.6914819515555406,0.3121193517821261,0.07363436204133599,2.311140455469141,0.25084080249995777,1.5088401798118989,1.4161735308453307,0.21731689991847056,0.22072268993123273,1.3446727324228813,2.5522937470830107,1.933977066106627,2.642058273994608,1.9078580542556185,0.3334104987406933,0.4888579503383547,2.0508949347895444,2.4083254506183525,1.5063300423720452,1.6858713189757846,1.1737842936634737,1.6885845730150375,1.795868972158131,-0.03450156123759451,2.0958157783014735,0.3322156426230052,1.702054448877722,1.1139948091032048,2.091746513831242,2.2238102551184142,2.0036893859271117,1.624015852935832,1.8694345742960443,1.5502132723117679,1.4885301687380705,0.21667053849007656,1.0445554119262515,-0.22567227160184195,0.16397035488899367,1.9302015876117031,2.6065526107302435,0.33562494705027124,1.6809891598689313,-0.0746732253732776,0.6724936176786471,0.8927067130441786,2.193248343338692,1.8946261826500213,0.3553029364200606,3.9095411892730207,1.4802143450547363,-0.01474300322876834,3.3418088473617007,0.19891129850704983,2.259344268533325,2.672223909023277,2.2573811268979007,2.2756960130055512,-0.0626566191801929,0.5846391125028554,1.168355417940799,1.4104218211454762,1.757579541693686,2.780258958590929,-0.439778819044755,0.7967654535574894,1.8447618182476468,1.5447098804165393,0.15703061910501936,1.232120715236467,-0.23659785854363233,1.21393418724786,3.0426369629635364,1.901202526015857,1.069253824046252],\"z\":[0.1998947494300371,1.638188973771673,0.8507875158616542,0.059031648684334755,1.3952434421737967,1.0083237424281035,3.7615688991950043,-0.6280763947576609,0.6995468766912926,-0.3335738941728227,-0.6232400107623618,-0.7910395453758587,-0.46177290444344377,1.014932916142796,0.23249164231666872,0.8786220631281383,-0.4030254350718791,0.5591133823092699,0.40618520107725126,0.6193970173196223,-0.10779735238707236,-0.47988247738179485,-0.30064920989071126,1.5580512131330915,0.6674323089435283,1.3861680692277736,0.4313432696198958,-0.8287600089815099,0.7204540303360492,-2.226809161483413,0.2803350081797933,2.2451811475495904,-0.7641084844006345,-0.33232594441282776,1.0160777030760664,-0.696028000349719,0.20804154548691925,0.9674986597335907,0.27134270686802536,0.6637313547992293,1.8856677667902626,-0.880249892098804,0.9181564755123964,0.27550720833070796,0.29886648522784204,1.9107779133005465,1.0275820216481422,-0.09225659601425507,-1.136399744246476,-0.21927013400140283,-0.41732342791515437,-0.27132210710106536,0.09600739582323514,0.6796328710018169,-1.3905994083004771,-0.9529469396090569,0.47383689023654735,-0.5964182172193132,-0.49021917506223717,0.43362936055214574,0.9520268535212606,-0.19671324722689598,1.1108763513495163,0.24676876099915926,-0.3344488867712973,0.8654418838741564,-0.23846255992193494,1.2910505627838087,0.269162550235051,-0.2791509878542559,-0.3404753754566947,0.7020530828354297,1.1906928269401507,1.8653791665555497,2.091523108320872,1.459884695160267,1.2592665061820896,1.1410142990374168,1.638198237711784,1.1191253344649281,-1.2809680163947366,-0.3157243608387575,0.7469640575504355,1.9795039101231917,1.3798832449775857,0.07514302952676226,2.312180424931752,0.8694020956870909,-0.8150248883221207,3.0789790047707335,2.156819027610605,0.18704940912827864,2.6856400704683363,2.2273792291036156,1.2982190395020865,0.09041064097064433,-0.23193506896236926,-2.235917780214793,-1.5461163920223087,0.26940596434321207,0.6440302619610997,-0.7851721756025755,1.2461176160328762,0.1422274962014701,1.2520260002796566,2.144302746409103,0.7885948130392808,1.7799413666586055,1.1618858771845155,-0.6230198065029428,-0.8904493953461635],\"type\":\"scatter3d\"},{\"hovertemplate\":\"<b>%{hovertext}</b><br><br>comp_10=1<br>pc1=%{x}<br>pc2=%{y}<br>pc3=%{z}<extra></extra>\",\"hovertext\":[\"Patrick Patterson-2018-OKC\",\"Brandon Bass-2014-BOS\",\"Jerami Grant-2018-OKC\",\"Nick Collison-2013-OKC\",\"Mike Scott-2013-ATL\",\"Jerami Grant-2017-TOT\",\"Amir Johnson-2017-BOS\",\"Trevor Booker-2014-UTA\",\"Jeff Green-2018-CLE\",\"Jonas Jerebko-2017-BOS\",\"Sam Dekker-2017-HOU\",\"Antawn Jamison-2012-LAL\",\"Vince Carter-2019-ATL\",\"Boris Diaw-2015-SAS\",\"Boris Diaw-2016-SAS\",\"Jonas Jerebko-2014-TOT\",\"Mike Scott-2015-ATL\",\"Mike Scott-2016-ATL\",\"Boris Diaw-2012-SAS\",\"Tyler Hansbrough-2014-TOR\",\"Jonas Jerebko-2018-UTA\",\"Sam Dekker-2018-LAC\",\"Trey Lyles-2018-DEN\",\"Jonas Jerebko-2019-GSW\",\"Matt Bonner-2014-SAS\",\"Josh McRoberts-2010-IND\",\"Maxi Kleber-2018-DAL\",\"Patrick Patterson-2012-TOT\",\"Maxi Kleber-2019-DAL\",\"James Johnson-2014-TOR\",\"Channing Frye-2015-TOT\",\"Ivan Johnson-2012-ATL\",\"Dwight Powell-2015-DAL\",\"Dwight Powell-2016-DAL\",\"Trevor Booker-2018-TOT\",\"Matt Bonner-2012-SAS\",\"Dante Cunningham-2017-NOP\",\"Brandon Bass-2016-LAL\",\"Matt Bonner-2010-SAS\",\"Brandon Bass-2015-LAL\",\"Nick Collison-2014-OKC\",\"Nemanja Bjelica-2017-MIN\",\"Matt Bonner-2011-SAS\",\"Jared Dudley-2017-PHO\",\"Bobby Portis-2017-CHI\",\"Mike Muscala-2019-TOT\",\"Cheick Diallo-2019-NOP\",\"Jonas Jerebko-2013-DET\",\"Dante Cunningham-2019-SAS\",\"Michael Kidd-Gilchrist-2019-CHO\",\"Larry Nance Jr.-2016-LAL\",\"Nick Collison-2011-OKC\",\"Luke Babbitt-2012-POR\",\"DeJuan Blair-2012-SAS\",\"Matt Bonner-2013-SAS\",\"Luc Mbah a Moute-2018-HOU\",\"Nemanja Bjelica-2016-MIN\",\"Jared Dudley-2019-BRK\",\"Quincy Acy-2016-SAC\",\"Quincy Acy-2015-SAC\",\"T.J. Leaf-2019-IND\",\"James Johnson-2016-TOR\",\"James Johnson-2015-TOR\",\"Andrew Nicholson-2016-ORL\",\"Andrew Nicholson-2015-ORL\",\"Michael Beasley-2017-MIL\",\"Spencer Hawes-2017-TOT\",\"Steve Novak-2013-TOR\",\"Steve Novak-2011-NYK\",\"T.J. Leaf-2018-IND\",\"Brandon Bass-2017-LAC\",\"James Michael McAdoo-2017-GSW\",\"Gary Clark-2019-HOU\",\"Richaun Holmes-2016-PHI\",\"Kyle O'Quinn-2014-ORL\",\"Josh McRoberts-2011-LAL\",\"Terrence Jones-2015-HOU\",\"Jonas Jerebko-2012-DET\",\"David Lee-2014-GSW\",\"Jon Leuer-2013-MEM\",\"Jared Dudley-2018-PHO\",\"Craig Smith-2011-POR\",\"Sam Dekker-2019-TOT\",\"Dragan Bender-2019-PHO\",\"Andrei Kirilenko-2013-BRK\",\"Jonah Bolden-2019-PHI\",\"Tyler Hansbrough-2015-CHO\",\"Jarell Martin-2019-ORL\",\"Darrell Arthur-2017-DEN\",\"James Michael McAdoo-2015-GSW\",\"James Michael McAdoo-2016-GSW\",\"Jon Leuer-2019-DET\"],\"legendgroup\":\"1\",\"marker\":{\"color\":\"#00cc96\",\"symbol\":\"circle\"},\"mode\":\"markers\",\"name\":\"1\",\"scene\":\"scene\",\"showlegend\":true,\"x\":[-2.7105311620124297,-0.6305110663830152,-0.4374214497553678,-0.2705175955718253,-1.4528984876029178,-1.9402226069295652,0.9946547891089947,-0.6787447185789278,-0.5271840379424739,-2.168382377287021,-1.6434690444253353,-1.6442376384316328,-1.8347925883644531,-0.8562284796677587,-0.59511751122761,-1.495293763063301,-2.0204980597584172,-1.8044431457052685,-0.6150205013142768,-2.0966953524390184,-1.8968270786729695,-2.6095909190270263,-0.689645068994769,-1.1036734137133146,-3.3110961394192007,0.6055070344303929,-1.5440854919968603,-0.7170233753040334,-0.23896927006573718,0.5325878767238945,-1.6369888735278886,-0.9455225800948642,-1.6656320994371405,-1.7361638352127742,-1.0352988609233433,-2.1885947008301585,-1.3637621532627349,-0.4493255856603623,-1.4985806955025698,-0.7101306096711538,-1.1699738899000416,-1.162732133352038,-2.0372518565777993,-0.605607048130462,-1.9897404799332803,-1.2546307315527372,-0.3442049665143952,-2.7177942312655503,-2.640603304261767,-1.2030153353205741,-0.9174534982947864,0.097285628546139,-3.7745609218746394,-1.5541662784861165,-2.984672531257824,-0.13242742625323192,-1.129443625793457,-1.574484919550758,-1.4073824587336758,-1.765012699348654,-2.878160361061373,-2.044845044732987,-1.5880950042936461,-2.008545169544677,-2.613613070241988,-0.9174000233903982,-1.673971619974908,-3.605475046999653,-2.1287843572154563,-4.2329120800017135,-2.2765111872241026,-3.2654078455864517,-2.6553003835640965,-1.7561709460351222,-0.9793653576535893,-2.3642317874135537,-1.21449004319352,-1.519666801369538,-0.36174069996132097,-3.003403383754131,-2.6052141710301178,-3.0436676376135057,-2.3446424043964127,-1.674697683993934,-1.219106980528312,-0.9183514577726829,-3.502740279770857,-3.6024837089189616,-1.8594790716520804,-3.297452382560332,-3.9251483442992954,-2.430454778485348],\"y\":[-1.5739731553791123,0.23166400870536583,-1.6451798005649119,-1.6859226777648009,-1.1118145354945295,-0.7491690425633872,-2.4351097533460737,-0.0009751437065620642,-1.6960145090494532,-1.125174560961697,-1.268283212201562,-0.4693406276773111,-1.9975449322963201,-1.67127448390327,-2.2055737879863346,-1.2573972303603642,-1.9937660888102262,-2.3781588670813614,-1.192387673903007,-0.10075624224549873,-2.4840829011010377,-0.6803483728563576,-2.2934271984475414,-2.401361330476096,-2.026847471049519,-1.1421680780178378,-1.751386829188586,-0.41289559336945486,-1.997094541508406,-1.277609852993699,-2.4437416614713707,0.4250212135628477,0.28889232432583506,0.35220162520933884,-0.24957667159026709,-3.5744742795747237,-2.2484119703944767,-0.4381156419963729,-3.2277853250566677,0.11997356253942369,-0.1938465071084525,-0.7652383338200577,-3.7485160098650785,-2.209541789991561,-0.7695593644438183,-2.025884447657838,-2.1762626722542504,-1.2944055164040353,-2.0966338458051235,-0.27558197610174684,0.6122116535417471,-0.9089950366493714,-1.0173059531655424,0.5952768359653013,-2.902086362641675,-2.7586772304714566,-2.143253162257659,-1.6513776092594115,-2.5475395816750015,-1.7380502697567743,-1.6473709935610164,-0.4797378874679636,-1.3622030533731295,-1.9665203305730554,-0.9126272248882831,-1.6641813999280737,-1.2806632532704136,-3.4003270933361236,-6.028793440424691,-1.0809064074665262,-2.509123851026948,-0.28178915275723776,-1.9465953058395318,-0.5063255470633609,-0.362542500915467,-0.8401768039926308,-0.2596016833531889,-0.24687397623389934,0.6421138270955667,-0.6958079301206592,-1.4234733943575706,0.016317623718777655,-0.027712276344299954,-0.45838726709290484,0.11837269663108424,-2.2587509697511514,-1.4792775444952628,-1.6085999535888444,-2.5822746160111003,-1.6773008536620708,-0.8945122178568825,-1.6004542195070979],\"z\":[1.155096615821061,-0.42428652663741956,-2.7535336173618536,-2.6208832894660117,-0.27936501174101697,-0.99473811935614,-2.7854337398802493,-0.9668753847017877,-0.3589020255337992,-0.44721142555944365,-1.6920539027471353,-0.041435348094713886,0.5412650498719436,-0.7655128864805173,-1.1215912962644665,0.353184534638335,-0.2459466323619459,-0.47648115411812575,-0.780228274393687,-1.874535571069604,-0.46426607095030287,-1.8484296032051273,-0.858561295714905,-0.849149843725327,0.07088895800234894,-1.2456287919987663,-2.0265033435078967,-0.2316797686263788,-1.2784208536238115,-2.9601981164280744,-0.02722140293413209,-1.5719918440737253,-1.0236419359356874,-1.0174449671375656,-1.3271235928966252,-1.532741699187699,-1.658922252149129,-2.381451770133494,-0.13602141227695444,-1.9986710480085836,-0.22181745565019864,0.12516899924391003,-0.34311240703388474,-0.47704237026105706,-0.9372780196902754,0.04881236510101812,-3.30096781892621,-0.1840921261143899,-0.3493488801676082,-0.35593994406619484,-1.5394248331895461,-3.432781312480234,1.0989432315717256,-1.674211987728261,-0.535487298076508,-1.2112375116171288,-1.1220344235835218,-0.4348704206544634,-2.5891276950492124,-2.015136028059756,-2.753059624833347,-0.9609500234193674,-1.5258852927161606,-0.6029267382224387,0.017578376959360893,-0.8864894811377935,-0.49639031430906017,1.3365461042257933,-0.9171852297998564,-0.6437094332389017,-2.0654264309936687,-2.17725781921515,-0.7450345070599163,-2.371020306031403,-0.5227948278394727,-0.5838146843075837,-0.3469827084650357,0.21211036184221543,-1.501682110539428,0.482929786550786,0.7549728374574267,-1.4910279316127222,-0.4016930828259672,-2.126910382939868,-1.4603718927876446,-3.7016331001889142,0.05629292247699374,0.04913795383751621,0.9918183639414676,-1.6880840711572238,-1.3892748442804945,-3.2281946381694366],\"type\":\"scatter3d\"},{\"hovertemplate\":\"<b>%{hovertext}</b><br><br>comp_10=2<br>pc1=%{x}<br>pc2=%{y}<br>pc3=%{z}<extra></extra>\",\"hovertext\":[\"Joe Ingles-2019-UTA\",\"Markieff Morris-2014-PHO\",\"LeBron James-2018-CLE\",\"Boris Diaw-2010-CHA\",\"Paul Millsap-2016-ATL\",\"Paul Millsap-2015-ATL\",\"Draymond Green-2016-GSW\",\"Draymond Green-2015-GSW\",\"Blake Griffin-2013-LAC\",\"Blake Griffin-2012-LAC\",\"Draymond Green-2014-GSW\",\"LeBron James-2013-MIA\",\"Carmelo Anthony-2013-NYK\",\"Kevin Love-2013-MIN\",\"Paul Millsap-2010-UTA\",\"Josh Smith-2012-ATL\",\"Draymond Green-2017-GSW\",\"James Johnson-2017-MIA\",\"LeBron James-2012-MIA\",\"Giannis Antetokounmpo-2018-MIL\",\"Anthony Davis-2018-NOP\",\"Blake Griffin-2019-DET\",\"Paul Millsap-2013-ATL\",\"James Johnson-2018-MIA\",\"Paul Millsap-2014-ATL\",\"Giannis Antetokounmpo-2019-MIL\",\"Draymond Green-2018-GSW\",\"Paul Millsap-2017-ATL\",\"Blake Griffin-2014-LAC\",\"Draymond Green-2019-GSW\",\"Josh Smith-2011-ATL\",\"Kevin Durant-2017-GSW\",\"Blake Griffin-2017-LAC\",\"Blake Griffin-2018-TOT\"],\"legendgroup\":\"2\",\"marker\":{\"color\":\"#ab63fa\",\"symbol\":\"circle\"},\"mode\":\"markers\",\"name\":\"2\",\"scene\":\"scene\",\"showlegend\":true,\"x\":[2.42431970518904,2.441501676139831,7.2189449266861185,1.9253854478438666,4.823564055220663,4.964515736673492,6.299357163173478,6.084067110193723,5.111681544307736,4.002365394291742,3.236507585955041,5.9184316427165555,4.031327979024888,3.7327749288723777,3.8391614695219527,4.017904685340131,4.904613911385209,2.3347230405988855,6.1748397988002,6.272163347522749,5.92604685829889,3.894186702864447,3.9575900752398083,1.9304196043556692,3.6802874354339323,8.251980724628481,4.626547882449214,3.048239953122021,3.8580733007322388,3.905176475448506,4.179864913732102,4.993870117688572,3.5003055465494497,2.8595840669488313],\"y\":[-3.0869184665301264,0.1498009493597549,-2.396531171933512,-1.0143440809992552,0.7486537557726027,0.5456866373126659,-1.3849778603251859,-0.9411103309222207,0.7518309076463907,0.9245065678484398,0.1360352117865281,-3.200297308507078,-0.8501780834796168,-0.20933333796469902,0.10203063624979607,1.6433221574130998,0.09003821632283715,-1.0849378838830004,-2.538078830448685,0.14754678928372436,-0.04343905457301426,-1.853694643289213,0.6191872432911567,-1.266203578417332,0.04790476684197088,-1.102852439380718,-0.9733024540547449,0.31563423606880336,-0.06437902217058862,-0.3196462587943467,2.0019529411810537,-3.769077404478892,-0.43650520601884063,-0.9734466335746901],\"z\":[1.777561514081041,1.0133577727247451,1.6398424084616363,0.18629944755864083,0.776062643037872,0.678764445275549,1.2567074979265487,1.5539978005351318,-0.0711291235289677,-0.7216896751619751,1.1992160894637907,0.4046862798901608,2.6707653476212436,3.139096485438699,-0.3909771391671142,0.954117582590449,2.359754715479399,0.3202258576091028,0.7340932944324262,0.23009762888331353,-0.7207354733922172,2.3964622585369133,1.5672246959228482,-0.42059236818267465,1.2208723426733565,-1.0509393542907337,1.5009700400714368,1.806193332385636,0.7900842509802873,1.380345203878331,0.9603914478324217,0.05655099477268024,1.0606109434744064,3.0145242058413806],\"type\":\"scatter3d\"},{\"hovertemplate\":\"<b>%{hovertext}</b><br><br>comp_10=0<br>pc1=%{x}<br>pc2=%{y}<br>pc3=%{z}<extra></extra>\",\"hovertext\":[\"Tobias Harris-2019-TOT\",\"Tobias Harris-2017-DET\",\"Marquese Chriss-2017-PHO\",\"Dragan Bender-2018-PHO\",\"Jared Dudley-2015-WAS\",\"Jared Dudley-2016-WAS\",\"Al-Farouq Aminu-2019-POR\",\"Boris Diaw-2014-SAS\",\"Ryan Anderson-2012-NOH\",\"Patrick Patterson-2014-TOR\",\"Dirk Nowitzki-2013-DAL\",\"Jerami Grant-2019-OKC\",\"Tobias Harris-2018-TOT\",\"Frank Kaminsky-2018-CHO\",\"Patrick Patterson-2016-TOR\",\"Patrick Patterson-2015-TOR\",\"Boris Diaw-2013-SAS\",\"Harrison Barnes-2017-DAL\",\"Serge Ibaka-2017-TOT\",\"Aaron Gordon-2019-ORL\",\"JaMychal Green-2015-MEM\",\"Carmelo Anthony-2018-OKC\",\"Josh McRoberts-2013-CHA\",\"Harrison Barnes-2018-DAL\",\"Harrison Barnes-2019-TOT\",\"Channing Frye-2010-PHO\",\"Jeff Green-2019-WAS\",\"Kyle Kuzma-2018-LAL\",\"Nemanja Bjelica-2019-SAC\",\"JaMychal Green-2017-MEM\",\"Kevin Love-2016-CLE\",\"Kevin Love-2015-CLE\",\"Dirk Nowitzki-2014-DAL\",\"Serge Ibaka-2018-TOR\",\"Kelly Olynyk-2018-MIA\",\"Luis Scola-2015-TOR\",\"Markieff Morris-2017-WAS\",\"Luis Scola-2016-TOR\",\"Tobias Harris-2015-TOT\",\"Jeff Green-2010-TOT\",\"Channing Frye-2014-ORL\",\"Kevin Love-2014-CLE\",\"Dirk Nowitzki-2015-DAL\",\"Dirk Nowitzki-2016-DAL\",\"Jon Leuer-2017-DET\",\"Jonathan Isaac-2019-ORL\",\"Luol Deng-2016-MIA\",\"Michael Beasley-2018-NYK\",\"Luol Deng-2015-MIA\",\"Markieff Morris-2018-WAS\",\"DeMarre Carroll-2018-BRK\",\"Dirk Nowitzki-2010-DAL\",\"Al Harrington-2010-DEN\",\"Gordon Hayward-2019-BOS\",\"Ryan Anderson-2017-HOU\",\"Kyle Kuzma-2019-LAL\",\"Quincy Acy-2018-BRK\",\"Darrell Arthur-2016-DEN\",\"Al-Farouq Aminu-2018-POR\",\"Omri Casspi-2015-SAC\",\"Rudy Gay-2019-SAS\",\"Omri Casspi-2016-SAC\",\"Lauri Markkanen-2018-CHI\",\"DeMarre Carroll-2019-BRK\",\"Jon Leuer-2015-PHO\",\"Nemanja Bjelica-2018-MIN\",\"Carmelo Anthony-2012-NYK\",\"Jon Leuer-2016-PHO\",\"Ryan Anderson-2015-NOP\",\"Ryan Anderson-2018-HOU\",\"Ryan Anderson-2016-NOP\",\"Antawn Jamison-2011-CLE\",\"Patrick Patterson-2017-TOR\",\"Patrick Patterson-2013-TOT\",\"JaMychal Green-2019-TOT\",\"Channing Frye-2011-PHO\",\"Ryan Anderson-2010-ORL\",\"Markieff Morris-2015-TOT\",\"Al Harrington-2011-DEN\",\"Dirk Nowitzki-2011-DAL\",\"Danilo Gallinari-2010-TOT\",\"Ryan Anderson-2014-NOP\",\"Ryan Anderson-2011-ORL\",\"Al-Farouq Aminu-2017-POR\",\"Meyers Leonard-2016-POR\",\"Meyers Leonard-2015-POR\",\"Tobias Harris-2013-ORL\",\"Kevin Love-2017-CLE\",\"Aaron Gordon-2018-ORL\",\"Markieff Morris-2019-TOT\",\"Rudy Gay-2018-SAS\",\"Boris Diaw-2011-TOT\",\"Antawn Jamison-2010-CLE\",\"James Johnson-2019-MIA\",\"Dirk Nowitzki-2017-DAL\",\"Dirk Nowitzki-2012-DAL\",\"Lauri Markkanen-2019-CHI\",\"Jabari Parker-2017-MIL\",\"Wilson Chandler-2019-TOT\",\"Luke Kornet-2019-NYK\",\"Wilson Chandler-2012-DEN\"],\"legendgroup\":\"0\",\"marker\":{\"color\":\"#FFA15A\",\"symbol\":\"circle\"},\"mode\":\"markers\",\"name\":\"0\",\"scene\":\"scene\",\"showlegend\":true,\"x\":[2.29135003832745,0.485848757099388,0.020964073989206886,-1.4181058398108226,0.08052549973499756,0.14327332217769628,0.5171565983235746,0.1694670262265003,0.6914883867181735,-0.04011525891076946,1.9448484177160026,1.1127947888169907,1.0164633223420763,-1.6181938923957613,-0.8099339220982538,-0.78767065721787,0.5138455782313849,0.3460401148836594,1.5403355459552173,2.08274469723345,-0.5643798219347592,0.20125961635748468,0.38266181226031876,0.09847659667550933,-0.5680586946711322,1.3261003940604499,0.3680846561984815,0.8282806996209757,0.9061211454990811,1.1904022224967878,2.087078700517641,2.0840486820900264,0.6188127239386247,1.1126560061109658,2.151398486542974,-0.8883900199675877,1.8769360793688128,-0.9333637101221065,1.0005455045300042,0.3427640138931839,-0.7209594703029013,1.8283960342766714,0.9454301009168526,0.9234021724836292,-0.35469355155991267,0.13022300797868466,0.37672381041218145,0.6483601580358709,0.3863963286877848,1.2801266675458092,0.48850152300109845,2.337824773655198,-0.5122135547116214,0.6402613842699498,-0.6753781598644494,1.1783628659647734,-2.051982458825746,-0.565633727968476,0.3529108436474292,0.24427078167861954,1.702594555382111,0.4478879213416663,0.02651140022948933,-1.1837275423969973,-0.773728531117395,-0.7680573481598669,2.828434179190631,-0.5419704877993691,-0.09045938915160218,-0.7484828188244926,0.017262123445615146,0.23470522984839312,-1.2837088194465323,-0.00191268506202491,0.5042519284174264,0.3195697132786256,-0.2345125827930652,0.8414063915297731,0.8518636536982523,1.7678721259612282,-0.004857791580951872,-0.7437025882026221,1.2707846051090388,0.05322510302475206,-0.44153743584697497,-0.2719859340951304,0.23149893214762654,2.5285574008048,1.503793436128981,-0.8803873245235415,0.027904393684109224,0.06974299804386051,0.6878034754690427,-1.0510282598460727,-0.22755296051453366,1.0183972085380621,1.2049024921776246,1.6550044990079882,-1.226972373593737,-2.399320715959623,-0.3191579872477762],\"y\":[-2.322669810559144,-1.710788674328046,0.4942206690482801,-0.6569183677715803,-2.4733684544953474,-2.6683553512048435,-1.5381773931390508,-1.2471687493890216,-2.017899087325922,-1.6274420192837682,-2.175133800771553,-1.908545474694871,-2.133207249341781,-1.3536737614979326,-1.784112329376979,-1.9473090592022395,-2.0645881404912516,-0.5553833777338822,-1.1669459493971117,-0.4995193826843259,0.1699273511708566,-0.582635605543262,-0.9485496277256766,-0.8095452288502752,-1.74529910004925,-2.3005682641853165,-2.7801252704520385,-1.3010526602353438,-1.9273218749762635,-1.2382486275195095,-1.0851889162023656,-1.117832271103631,-1.9851047578672063,-1.8398830852394827,-2.639706280934511,-0.34712953779871514,-0.19322578916480979,-0.32613014491991144,-0.633649565874338,-0.21557474672828394,-2.082602042262942,-1.4167842956541703,-1.5606175988332847,-1.5144330517147846,-0.912841492471575,-0.547926256533335,-0.841030890164955,-0.5405326615451107,-0.9007766741817532,-1.306897075308258,-1.0331497088864874,-1.7473272898609133,-0.8288610097918319,-2.0228939981027834,-3.128488854806842,-1.2497515180322623,-0.8128125623431344,-0.005942674508734391,-0.6399928132808054,-1.921803835316446,-1.9565412999698912,-2.1908507175527525,-1.4546843985798237,-1.0721766929337557,-0.3089083573752565,-2.3013313632845214,-0.624842447650837,-0.8930158594867158,-0.9081409235194883,-3.019462946276542,-1.124127213107788,1.2447941596435994,-1.6011512351646788,-0.5517381131845567,-1.4388409185746016,-0.9724703669150971,-2.496911750685899,0.7111080717836072,-0.7262275632194705,-1.7480997356569323,-1.3833653830462962,-1.349808248974373,-2.247701933024908,0.4035574542824231,-2.0467313586296685,-2.52907424628566,0.5521340144683069,-1.5056266755923564,-0.4151937104092511,-0.33528862302602863,-0.4409179650694202,0.05638497440403911,-0.07786271320321703,-0.6180521037401379,-1.109101808189954,-1.6640416072990891,-1.2173898830859438,-0.8712968489895644,-1.3268400753913834,-1.2188124064978259,-0.19542521727909445],\"z\":[1.3746045000395017,0.5274900322295615,-0.20472251600269986,1.8446765939596992,-0.07366178776427107,-0.23319368094675016,0.6825587058478128,0.3529071784624568,1.4502728822842914,0.04930859976801217,1.3439237364105052,-1.0264958297758238,1.9625294750470337,1.4667363022491098,0.8986198732576524,0.737592512907208,-0.5920232548367462,1.2699651663483382,0.09287525253909748,1.5232419771098658,-0.20419626915554195,2.4680043973643837,1.0278822819601359,2.030834670579269,2.503645263681667,1.000267454756073,-0.31462987040897755,1.248004270237382,-0.3875104598877542,-0.9157984830851402,2.218186324245967,2.179173668993632,1.1779566141874531,-0.6560547561919069,-0.5001524319259325,0.8414942939360427,1.295973199047498,0.823931973972615,0.9525699429282259,0.8238722274560902,2.2366002951034365,1.6022271765454656,1.6923838982409423,1.72365620677067,-0.16527342542288534,0.37375012773714933,0.7029246522483756,0.1582042444597362,0.6453567745300255,0.46748375877233883,1.9446927674460057,0.6320303074836783,1.3618966980776421,0.6845926360449645,1.5705843585846344,0.97258371906256,2.169270208141857,0.7101660041234105,2.099298860576081,0.14803397637097568,0.48860691686658164,0.03431009341737079,1.6543597573556224,1.5729371900344489,0.5279381747290822,0.19001061046513817,2.5411206368700348,0.08985061760194508,1.9028833397767912,-0.3093582626237305,1.76091376655774,2.1422559372763588,0.8288767585261467,-0.11562555789360168,-0.2194919745085046,1.2864258907550523,0.20170823216957312,1.6528729638821753,0.9849939328556736,1.5722595234006507,1.7589934100031208,1.5441762137283135,0.6905298646174722,1.960746103185616,0.16350496437743586,-0.21810343904697765,0.6372826424646119,2.3987999418096626,1.769829474237909,1.091524148184434,0.16100904665821808,0.6492738011389035,1.794624583682814,1.0037524910980742,2.0107109649809685,1.512970347065393,2.3137180511700035,0.8174632620652794,0.6080509751850779,1.7616845611552405,1.9842719782116123],\"type\":\"scatter3d\"}],                        {\"template\":{\"data\":{\"bar\":[{\"error_x\":{\"color\":\"#2a3f5f\"},\"error_y\":{\"color\":\"#2a3f5f\"},\"marker\":{\"line\":{\"color\":\"#E5ECF6\",\"width\":0.5},\"pattern\":{\"fillmode\":\"overlay\",\"size\":10,\"solidity\":0.2}},\"type\":\"bar\"}],\"barpolar\":[{\"marker\":{\"line\":{\"color\":\"#E5ECF6\",\"width\":0.5},\"pattern\":{\"fillmode\":\"overlay\",\"size\":10,\"solidity\":0.2}},\"type\":\"barpolar\"}],\"carpet\":[{\"aaxis\":{\"endlinecolor\":\"#2a3f5f\",\"gridcolor\":\"white\",\"linecolor\":\"white\",\"minorgridcolor\":\"white\",\"startlinecolor\":\"#2a3f5f\"},\"baxis\":{\"endlinecolor\":\"#2a3f5f\",\"gridcolor\":\"white\",\"linecolor\":\"white\",\"minorgridcolor\":\"white\",\"startlinecolor\":\"#2a3f5f\"},\"type\":\"carpet\"}],\"choropleth\":[{\"colorbar\":{\"outlinewidth\":0,\"ticks\":\"\"},\"type\":\"choropleth\"}],\"contour\":[{\"colorbar\":{\"outlinewidth\":0,\"ticks\":\"\"},\"colorscale\":[[0.0,\"#0d0887\"],[0.1111111111111111,\"#46039f\"],[0.2222222222222222,\"#7201a8\"],[0.3333333333333333,\"#9c179e\"],[0.4444444444444444,\"#bd3786\"],[0.5555555555555556,\"#d8576b\"],[0.6666666666666666,\"#ed7953\"],[0.7777777777777778,\"#fb9f3a\"],[0.8888888888888888,\"#fdca26\"],[1.0,\"#f0f921\"]],\"type\":\"contour\"}],\"contourcarpet\":[{\"colorbar\":{\"outlinewidth\":0,\"ticks\":\"\"},\"type\":\"contourcarpet\"}],\"heatmap\":[{\"colorbar\":{\"outlinewidth\":0,\"ticks\":\"\"},\"colorscale\":[[0.0,\"#0d0887\"],[0.1111111111111111,\"#46039f\"],[0.2222222222222222,\"#7201a8\"],[0.3333333333333333,\"#9c179e\"],[0.4444444444444444,\"#bd3786\"],[0.5555555555555556,\"#d8576b\"],[0.6666666666666666,\"#ed7953\"],[0.7777777777777778,\"#fb9f3a\"],[0.8888888888888888,\"#fdca26\"],[1.0,\"#f0f921\"]],\"type\":\"heatmap\"}],\"heatmapgl\":[{\"colorbar\":{\"outlinewidth\":0,\"ticks\":\"\"},\"colorscale\":[[0.0,\"#0d0887\"],[0.1111111111111111,\"#46039f\"],[0.2222222222222222,\"#7201a8\"],[0.3333333333333333,\"#9c179e\"],[0.4444444444444444,\"#bd3786\"],[0.5555555555555556,\"#d8576b\"],[0.6666666666666666,\"#ed7953\"],[0.7777777777777778,\"#fb9f3a\"],[0.8888888888888888,\"#fdca26\"],[1.0,\"#f0f921\"]],\"type\":\"heatmapgl\"}],\"histogram\":[{\"marker\":{\"pattern\":{\"fillmode\":\"overlay\",\"size\":10,\"solidity\":0.2}},\"type\":\"histogram\"}],\"histogram2d\":[{\"colorbar\":{\"outlinewidth\":0,\"ticks\":\"\"},\"colorscale\":[[0.0,\"#0d0887\"],[0.1111111111111111,\"#46039f\"],[0.2222222222222222,\"#7201a8\"],[0.3333333333333333,\"#9c179e\"],[0.4444444444444444,\"#bd3786\"],[0.5555555555555556,\"#d8576b\"],[0.6666666666666666,\"#ed7953\"],[0.7777777777777778,\"#fb9f3a\"],[0.8888888888888888,\"#fdca26\"],[1.0,\"#f0f921\"]],\"type\":\"histogram2d\"}],\"histogram2dcontour\":[{\"colorbar\":{\"outlinewidth\":0,\"ticks\":\"\"},\"colorscale\":[[0.0,\"#0d0887\"],[0.1111111111111111,\"#46039f\"],[0.2222222222222222,\"#7201a8\"],[0.3333333333333333,\"#9c179e\"],[0.4444444444444444,\"#bd3786\"],[0.5555555555555556,\"#d8576b\"],[0.6666666666666666,\"#ed7953\"],[0.7777777777777778,\"#fb9f3a\"],[0.8888888888888888,\"#fdca26\"],[1.0,\"#f0f921\"]],\"type\":\"histogram2dcontour\"}],\"mesh3d\":[{\"colorbar\":{\"outlinewidth\":0,\"ticks\":\"\"},\"type\":\"mesh3d\"}],\"parcoords\":[{\"line\":{\"colorbar\":{\"outlinewidth\":0,\"ticks\":\"\"}},\"type\":\"parcoords\"}],\"pie\":[{\"automargin\":true,\"type\":\"pie\"}],\"scatter\":[{\"marker\":{\"colorbar\":{\"outlinewidth\":0,\"ticks\":\"\"}},\"type\":\"scatter\"}],\"scatter3d\":[{\"line\":{\"colorbar\":{\"outlinewidth\":0,\"ticks\":\"\"}},\"marker\":{\"colorbar\":{\"outlinewidth\":0,\"ticks\":\"\"}},\"type\":\"scatter3d\"}],\"scattercarpet\":[{\"marker\":{\"colorbar\":{\"outlinewidth\":0,\"ticks\":\"\"}},\"type\":\"scattercarpet\"}],\"scattergeo\":[{\"marker\":{\"colorbar\":{\"outlinewidth\":0,\"ticks\":\"\"}},\"type\":\"scattergeo\"}],\"scattergl\":[{\"marker\":{\"colorbar\":{\"outlinewidth\":0,\"ticks\":\"\"}},\"type\":\"scattergl\"}],\"scattermapbox\":[{\"marker\":{\"colorbar\":{\"outlinewidth\":0,\"ticks\":\"\"}},\"type\":\"scattermapbox\"}],\"scatterpolar\":[{\"marker\":{\"colorbar\":{\"outlinewidth\":0,\"ticks\":\"\"}},\"type\":\"scatterpolar\"}],\"scatterpolargl\":[{\"marker\":{\"colorbar\":{\"outlinewidth\":0,\"ticks\":\"\"}},\"type\":\"scatterpolargl\"}],\"scatterternary\":[{\"marker\":{\"colorbar\":{\"outlinewidth\":0,\"ticks\":\"\"}},\"type\":\"scatterternary\"}],\"surface\":[{\"colorbar\":{\"outlinewidth\":0,\"ticks\":\"\"},\"colorscale\":[[0.0,\"#0d0887\"],[0.1111111111111111,\"#46039f\"],[0.2222222222222222,\"#7201a8\"],[0.3333333333333333,\"#9c179e\"],[0.4444444444444444,\"#bd3786\"],[0.5555555555555556,\"#d8576b\"],[0.6666666666666666,\"#ed7953\"],[0.7777777777777778,\"#fb9f3a\"],[0.8888888888888888,\"#fdca26\"],[1.0,\"#f0f921\"]],\"type\":\"surface\"}],\"table\":[{\"cells\":{\"fill\":{\"color\":\"#EBF0F8\"},\"line\":{\"color\":\"white\"}},\"header\":{\"fill\":{\"color\":\"#C8D4E3\"},\"line\":{\"color\":\"white\"}},\"type\":\"table\"}]},\"layout\":{\"annotationdefaults\":{\"arrowcolor\":\"#2a3f5f\",\"arrowhead\":0,\"arrowwidth\":1},\"autotypenumbers\":\"strict\",\"coloraxis\":{\"colorbar\":{\"outlinewidth\":0,\"ticks\":\"\"}},\"colorscale\":{\"diverging\":[[0,\"#8e0152\"],[0.1,\"#c51b7d\"],[0.2,\"#de77ae\"],[0.3,\"#f1b6da\"],[0.4,\"#fde0ef\"],[0.5,\"#f7f7f7\"],[0.6,\"#e6f5d0\"],[0.7,\"#b8e186\"],[0.8,\"#7fbc41\"],[0.9,\"#4d9221\"],[1,\"#276419\"]],\"sequential\":[[0.0,\"#0d0887\"],[0.1111111111111111,\"#46039f\"],[0.2222222222222222,\"#7201a8\"],[0.3333333333333333,\"#9c179e\"],[0.4444444444444444,\"#bd3786\"],[0.5555555555555556,\"#d8576b\"],[0.6666666666666666,\"#ed7953\"],[0.7777777777777778,\"#fb9f3a\"],[0.8888888888888888,\"#fdca26\"],[1.0,\"#f0f921\"]],\"sequentialminus\":[[0.0,\"#0d0887\"],[0.1111111111111111,\"#46039f\"],[0.2222222222222222,\"#7201a8\"],[0.3333333333333333,\"#9c179e\"],[0.4444444444444444,\"#bd3786\"],[0.5555555555555556,\"#d8576b\"],[0.6666666666666666,\"#ed7953\"],[0.7777777777777778,\"#fb9f3a\"],[0.8888888888888888,\"#fdca26\"],[1.0,\"#f0f921\"]]},\"colorway\":[\"#636efa\",\"#EF553B\",\"#00cc96\",\"#ab63fa\",\"#FFA15A\",\"#19d3f3\",\"#FF6692\",\"#B6E880\",\"#FF97FF\",\"#FECB52\"],\"font\":{\"color\":\"#2a3f5f\"},\"geo\":{\"bgcolor\":\"white\",\"lakecolor\":\"white\",\"landcolor\":\"#E5ECF6\",\"showlakes\":true,\"showland\":true,\"subunitcolor\":\"white\"},\"hoverlabel\":{\"align\":\"left\"},\"hovermode\":\"closest\",\"mapbox\":{\"style\":\"light\"},\"paper_bgcolor\":\"white\",\"plot_bgcolor\":\"#E5ECF6\",\"polar\":{\"angularaxis\":{\"gridcolor\":\"white\",\"linecolor\":\"white\",\"ticks\":\"\"},\"bgcolor\":\"#E5ECF6\",\"radialaxis\":{\"gridcolor\":\"white\",\"linecolor\":\"white\",\"ticks\":\"\"}},\"scene\":{\"xaxis\":{\"backgroundcolor\":\"#E5ECF6\",\"gridcolor\":\"white\",\"gridwidth\":2,\"linecolor\":\"white\",\"showbackground\":true,\"ticks\":\"\",\"zerolinecolor\":\"white\"},\"yaxis\":{\"backgroundcolor\":\"#E5ECF6\",\"gridcolor\":\"white\",\"gridwidth\":2,\"linecolor\":\"white\",\"showbackground\":true,\"ticks\":\"\",\"zerolinecolor\":\"white\"},\"zaxis\":{\"backgroundcolor\":\"#E5ECF6\",\"gridcolor\":\"white\",\"gridwidth\":2,\"linecolor\":\"white\",\"showbackground\":true,\"ticks\":\"\",\"zerolinecolor\":\"white\"}},\"shapedefaults\":{\"line\":{\"color\":\"#2a3f5f\"}},\"ternary\":{\"aaxis\":{\"gridcolor\":\"white\",\"linecolor\":\"white\",\"ticks\":\"\"},\"baxis\":{\"gridcolor\":\"white\",\"linecolor\":\"white\",\"ticks\":\"\"},\"bgcolor\":\"#E5ECF6\",\"caxis\":{\"gridcolor\":\"white\",\"linecolor\":\"white\",\"ticks\":\"\"}},\"title\":{\"x\":0.05},\"xaxis\":{\"automargin\":true,\"gridcolor\":\"white\",\"linecolor\":\"white\",\"ticks\":\"\",\"title\":{\"standoff\":15},\"zerolinecolor\":\"white\",\"zerolinewidth\":2},\"yaxis\":{\"automargin\":true,\"gridcolor\":\"white\",\"linecolor\":\"white\",\"ticks\":\"\",\"title\":{\"standoff\":15},\"zerolinecolor\":\"white\",\"zerolinewidth\":2}}},\"scene\":{\"domain\":{\"x\":[0.0,1.0],\"y\":[0.0,1.0]},\"xaxis\":{\"title\":{\"text\":\"pc1\"}},\"yaxis\":{\"title\":{\"text\":\"pc2\"}},\"zaxis\":{\"title\":{\"text\":\"pc3\"}}},\"legend\":{\"title\":{\"text\":\"comp_10\"},\"tracegroupgap\":0},\"title\":{\"text\":\"k-means Clustering after dimensionality reduction\"}},                        {\"responsive\": true}                    ).then(function(){\n",
              "                            \n",
              "var gd = document.getElementById('0d77be47-65dc-4dd6-a1b4-dce8589ae3cb');\n",
              "var x = new MutationObserver(function (mutations, observer) {{\n",
              "        var display = window.getComputedStyle(gd).display;\n",
              "        if (!display || display === 'none') {{\n",
              "            console.log([gd, 'removed!']);\n",
              "            Plotly.purge(gd);\n",
              "            observer.disconnect();\n",
              "        }}\n",
              "}});\n",
              "\n",
              "// Listen for the removal of the full notebook cells\n",
              "var notebookContainer = gd.closest('#notebook-container');\n",
              "if (notebookContainer) {{\n",
              "    x.observe(notebookContainer, {childList: true});\n",
              "}}\n",
              "\n",
              "// Listen for the clearing of the current output cell\n",
              "var outputEl = gd.closest('.output');\n",
              "if (outputEl) {{\n",
              "    x.observe(outputEl, {childList: true});\n",
              "}}\n",
              "\n",
              "                        })                };                            </script>        </div>\n",
              "</body>\n",
              "</html>"
            ]
          },
          "metadata": {}
        }
      ]
    },
    {
      "cell_type": "markdown",
      "source": [
        "For our final k-means graph there are five clusters and three principal components. The best players seemed to be represented in the purple cluster. Virtually all of the most famous and renowned players at the position exist in the purple cluster including Anthony Davis, Kevin Durant and Giannis Antetokounmpo. The power forward position consists primarily of strong defenders and paint-scorers. With Durant and LeBron being some of the few consistent three-point scorers.\n",
        "\n",
        "The orange cluster contains a lot of 'new-age' power forwards such as kevin love, an older Dirk Nowitzki and Lauri Markannen. Most of this entire cluster has players that are above-average three point shooters for their position. But whether or not they are net-positive defenders or playmakers seems dubious and on a case by case basis. The blue cluster has PFs that are good defenders and maybe paint-scorers, not much else. Both the green and red cluster seem to contain suboptimal players.\n",
        "\n",
        "While we have a general idea of who the best players are in this subset, understanding the principal components will illuminate our choice for best power forward."
      ],
      "metadata": {
        "id": "Z8h4v7IZtFEt"
      }
    },
    {
      "cell_type": "code",
      "source": [
        "\n",
        "for a in n_pca:\n",
        "  print(f'pc{a+1}')\n",
        "  print(pd.Series(loading_scores_all[a]))\n",
        "  print()\n",
        "  print()\n",
        ""
      ],
      "metadata": {
        "colab": {
          "base_uri": "https://localhost:8080/"
        },
        "outputId": "890149d9-a82f-4fba-f561-6c9c4f72a5a3",
        "id": "2kgBJZS1eiDN"
      },
      "execution_count": null,
      "outputs": [
        {
          "output_type": "stream",
          "name": "stdout",
          "text": [
            "pc1\n",
            "TOV/G     0.389657\n",
            "DRB/G     0.382373\n",
            "2P/G      0.372043\n",
            "AST/G     0.327982\n",
            "STL/G     0.325573\n",
            "PF        0.309249\n",
            "ORB/G     0.268657\n",
            "BLK/G     0.239796\n",
            "NETRTG    0.177657\n",
            "TS_pct    0.165650\n",
            "dtype: float64\n",
            "\n",
            "\n",
            "pc2\n",
            "eFG%           -0.422505\n",
            "three_pt_pct   -0.422274\n",
            "3P/G           -0.403785\n",
            "TS_pct         -0.393398\n",
            "ORB/G           0.302250\n",
            "FT%            -0.246366\n",
            "two_pt_pct     -0.234348\n",
            "NETRTG         -0.210160\n",
            "2P/G            0.151488\n",
            "BLK/G           0.122091\n",
            "dtype: float64\n",
            "\n",
            "\n",
            "pc3\n",
            "two_pt_pct     -0.510301\n",
            "3P/G            0.410384\n",
            "eFG%           -0.384313\n",
            "TS_pct         -0.286362\n",
            "three_pt_pct    0.282543\n",
            "FT%             0.242804\n",
            "AST/G           0.222194\n",
            "ORB/G          -0.189675\n",
            "BLK/G          -0.187528\n",
            "TOV/G           0.183386\n",
            "dtype: float64\n",
            "\n",
            "\n"
          ]
        }
      ]
    },
    {
      "cell_type": "markdown",
      "source": [
        "PC1: The first principal component indicates a strong positive relationship with numerous significant statistical cateogries such as rebounding, assisting, blocking, two-pointers per game etc. This profile represents a combination of a point guard and center. Players with a high PC1 are likely big-players that handle the ball and are versatile defenders. Furthermore, they are likely prolific scorers in the paint.\n",
        "\n",
        "PC2: Unlike the first principal component this PC is negatively correlated with a lot of important categories. Most of these are shooting-efficiency based where being high in this component indicates the player is a bad free-throw and three-point shooter. Basically, the antithesis of a player like Kevin Durant and where we would expect someone like Shaquille O'Neal to be (if he was included in this analysis).\n",
        "\n",
        "PC3: Positively associated with three-pointers per game and free-throws per game. However, it is negatively associated with defensive statistics like blocks and rebounds. This archetype represents a player like Kevin Love whose shooting streches the opposing defense but he is limited defensively. These players are known as 'strech bigs' and are seen as a dual-sword as their offensive benefits are mitigated by them being defensive liabilities. Furthermore, while they're three-point shooting is efficient, that does not mean that they are overall efficient as they are prone to take long two-pointers."
      ],
      "metadata": {
        "id": "i6yF2j5dzsMG"
      }
    },
    {
      "cell_type": "markdown",
      "source": [
        "Power Forwards represented one of the most difficult positions to pick the best player and season. It ultimaetly came down to three seasons: LeBron James' 2018 season, Giannis' 2019 season and Kevin Durant's 2017 season. Below I will list their PCA values:\n",
        "\n",
        "  LeBron\n",
        "\n",
        "*   PCA1: 7.2\n",
        "*   PCA2: -2.4\n",
        "*   PCA3: 1.6\n",
        "\n",
        "Giannis\n",
        "*   PCA1: 8.3\n",
        "*   PCA2: -1.1\n",
        "*   PCA3: -1.1\n",
        "\n",
        "Kevin\n",
        "\n",
        "*   PCA1:  5.0\n",
        "*   PCA2: -3.8\n",
        "*   PCA3: .06\n",
        "\n",
        "In the end, we chose Giannis' 2019 season as the greatest power forward season in our dataset. While Kevin's low PCA2 value indicates that he was extremely efficient, he lacked the volume of Giannis and LeBron. Furthermore, while LeBron's PCA3 value indicates he was more efficient than Giannis, we decided to priortize Giannis' elite package of paint scoring with rim protection. For the bigger positions such as Power Forward and Center the significance of denfense is heighneted and we wish to reflect that in our decision. However, all three of these players (and a couple others on the list) would all be credible options.\n"
      ],
      "metadata": {
        "id": "9narjdAQ3GHE"
      }
    }
  ]
}