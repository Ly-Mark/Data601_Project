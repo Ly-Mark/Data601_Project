{
 "cells": [
  {
   "cell_type": "code",
   "execution_count": 43,
   "metadata": {
    "collapsed": true
   },
   "outputs": [
    {
     "name": "stdout",
     "output_type": "stream",
     "text": [
      "1:\"\"\n",
      "2:\"Team\"\n",
      "3:\"2020/21\"\n",
      "4:\"2020/21(*)\"\n"
     ]
    }
   ],
   "source": [
    "import pandas as pd\n",
    "import requests\n",
    "import lxml.html as lh\n",
    "\n",
    "def salary(url,year):\n",
    "    url=url\n",
    "    #Create a handle, page, to handle the contents of the website\n",
    "    page = requests.get(url)\n",
    "\n",
    "    #Store the contents of the website under doc\n",
    "    doc = lh.fromstring(page.content)\n",
    "\n",
    "    #Parse data that are stored between <tr>..</tr> of HTML\n",
    "    tr_elements = doc.xpath('//tr')\n",
    "\n",
    "    col = []\n",
    "    i=0\n",
    "\n",
    "    for t in tr_elements[0]:\n",
    "        i+=1\n",
    "        name=t.text_content()\n",
    "        print ('%d:\"%s\"'%(i,name))\n",
    "        col.append((name,[]))\n",
    "    for j in range(1,len(tr_elements)):\n",
    "        T=tr_elements[j]\n",
    "        if len(T)!=4:\n",
    "            break\n",
    "        i=0\n",
    "        for t in T.iterchildren():\n",
    "            data=t.text_content()\n",
    "            #check if row is empty\n",
    "            if i>0:\n",
    "                try:\n",
    "                    data=int(data)\n",
    "                except:\n",
    "                    pass\n",
    "            col[i][1].append(data)\n",
    "            i+=1\n",
    "\n",
    "    [len(c) for (title,c) in col]\n",
    "\n",
    "\n",
    "\n",
    "    dict = {title:column for (title,column)in col}\n",
    "    df=pd.DataFrame(dict)\n",
    "\n",
    "    team = df['Team'].str.strip('\\n\\t')\n",
    "    rank = df[''].str.strip('\\n\\t.')\n",
    "    salary = df.iloc[:,2].str.strip('\\n\\t$')\n",
    "    salary2 = df.iloc[:,3].str.strip('\\n\\t$')\n",
    "    year = [year]*27\n",
    "\n",
    "    teamSalary = pd.DataFrame({\n",
    "        \"rank\":rank[0:27],\n",
    "        \"team\":team[0:27],\n",
    "        \"salary\": salary[0:27],\n",
    "        \"salary(Inflation)\":salary2[0:27],\n",
    "        \"Year\":year\n",
    "    })\n",
    "    return teamSalary\n",
    "\n",
    "df = salary(\"https://hoopshype.com/salaries/2020-2021/\",2021)\n",
    "df.to_csv(r'D:\\UofC2021\\DATA601\\Project\\Data601_Project\\salary21.csv',index = False)"
   ]
  }
 ],
 "metadata": {
  "kernelspec": {
   "name": "pycharm-e2177b6f",
   "language": "python",
   "display_name": "PyCharm (Homework)"
  },
  "language_info": {
   "codemirror_mode": {
    "name": "ipython",
    "version": 2
   },
   "file_extension": ".py",
   "mimetype": "text/x-python",
   "name": "python",
   "nbconvert_exporter": "python",
   "pygments_lexer": "ipython2",
   "version": "2.7.6"
  }
 },
 "nbformat": 4,
 "nbformat_minor": 0
}